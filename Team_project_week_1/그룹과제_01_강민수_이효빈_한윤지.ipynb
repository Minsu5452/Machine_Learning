{
 "cells": [
  {
   "cell_type": "code",
   "execution_count": 1,
   "metadata": {
    "id": "JyIoVHUv7-uq"
   },
   "outputs": [],
   "source": [
    "#!pip install optuna"
   ]
  },
  {
   "cell_type": "markdown",
   "metadata": {
    "id": "vUcsw8dvIbEF"
   },
   "source": [
    "**필요한 모듈 불러오기**"
   ]
  },
  {
   "cell_type": "code",
   "execution_count": 2,
   "metadata": {
    "id": "imBhC90NFGRM"
   },
   "outputs": [],
   "source": [
    "import numpy as np\n",
    "import pandas as pd\n",
    "import optuna\n",
    "\n",
    "from sklearn import ensemble\n",
    "from sklearn import metrics\n",
    "from sklearn import model_selection\n",
    "from sklearn.linear_model import LogisticRegression\n",
    "from sklearn.neighbors import KNeighborsClassifier"
   ]
  },
  {
   "cell_type": "markdown",
   "metadata": {
    "id": "6LXn7LYhJVE1"
   },
   "source": [
    "**데이터 확인 및 타겟 데이터 분류**"
   ]
  },
  {
   "cell_type": "code",
   "execution_count": 3,
   "metadata": {
    "id": "zSCapJ09JXhY"
   },
   "outputs": [],
   "source": [
    "df = pd.read_csv('loan_train.csv') # 엑셀 데이터 불러오기"
   ]
  },
  {
   "cell_type": "code",
   "execution_count": 4,
   "metadata": {
    "colab": {
     "base_uri": "https://localhost:8080/"
    },
    "id": "DoAwqtZsJj5n",
    "outputId": "d4d39d5f-838f-4d3b-b78c-8fa243a5ea3f"
   },
   "outputs": [
    {
     "name": "stdout",
     "output_type": "stream",
     "text": [
      "<class 'pandas.core.frame.DataFrame'>\n",
      "RangeIndex: 4000 entries, 0 to 3999\n",
      "Data columns (total 12 columns):\n",
      " #   Column              Non-Null Count  Dtype\n",
      "---  ------              --------------  -----\n",
      " 0   ID                  4000 non-null   int64\n",
      " 1   Age                 4000 non-null   int64\n",
      " 2   Experience          4000 non-null   int64\n",
      " 3   ZIP Code            4000 non-null   int64\n",
      " 4   Family              4000 non-null   int64\n",
      " 5   Education           4000 non-null   int64\n",
      " 6   Mortgage            4000 non-null   int64\n",
      " 7   Securities Account  4000 non-null   int64\n",
      " 8   CD Account          4000 non-null   int64\n",
      " 9   Online              4000 non-null   int64\n",
      " 10  CreditCard          4000 non-null   int64\n",
      " 11  Personal Loan       4000 non-null   int64\n",
      "dtypes: int64(12)\n",
      "memory usage: 375.1 KB\n"
     ]
    }
   ],
   "source": [
    "df.info() # 데이터 확인 결과 Feature들의 Dtype은 int형이며 결측값이 없음."
   ]
  },
  {
   "cell_type": "code",
   "execution_count": 5,
   "metadata": {
    "colab": {
     "base_uri": "https://localhost:8080/",
     "height": 287
    },
    "id": "DGTfGY8dKCDA",
    "outputId": "39c9380b-f9fc-426c-9668-020229aaee02"
   },
   "outputs": [
    {
     "data": {
      "text/html": [
       "<div>\n",
       "<style scoped>\n",
       "    .dataframe tbody tr th:only-of-type {\n",
       "        vertical-align: middle;\n",
       "    }\n",
       "\n",
       "    .dataframe tbody tr th {\n",
       "        vertical-align: top;\n",
       "    }\n",
       "\n",
       "    .dataframe thead th {\n",
       "        text-align: right;\n",
       "    }\n",
       "</style>\n",
       "<table border=\"1\" class=\"dataframe\">\n",
       "  <thead>\n",
       "    <tr style=\"text-align: right;\">\n",
       "      <th></th>\n",
       "      <th>ID</th>\n",
       "      <th>Age</th>\n",
       "      <th>Experience</th>\n",
       "      <th>ZIP Code</th>\n",
       "      <th>Family</th>\n",
       "      <th>Education</th>\n",
       "      <th>Mortgage</th>\n",
       "      <th>Securities Account</th>\n",
       "      <th>CD Account</th>\n",
       "      <th>Online</th>\n",
       "      <th>CreditCard</th>\n",
       "      <th>Personal Loan</th>\n",
       "    </tr>\n",
       "  </thead>\n",
       "  <tbody>\n",
       "    <tr>\n",
       "      <th>0</th>\n",
       "      <td>3510</td>\n",
       "      <td>38</td>\n",
       "      <td>12</td>\n",
       "      <td>91330</td>\n",
       "      <td>3</td>\n",
       "      <td>3</td>\n",
       "      <td>0</td>\n",
       "      <td>0</td>\n",
       "      <td>0</td>\n",
       "      <td>0</td>\n",
       "      <td>0</td>\n",
       "      <td>0</td>\n",
       "    </tr>\n",
       "    <tr>\n",
       "      <th>1</th>\n",
       "      <td>1129</td>\n",
       "      <td>30</td>\n",
       "      <td>5</td>\n",
       "      <td>94025</td>\n",
       "      <td>2</td>\n",
       "      <td>2</td>\n",
       "      <td>0</td>\n",
       "      <td>0</td>\n",
       "      <td>0</td>\n",
       "      <td>0</td>\n",
       "      <td>0</td>\n",
       "      <td>1</td>\n",
       "    </tr>\n",
       "    <tr>\n",
       "      <th>2</th>\n",
       "      <td>1637</td>\n",
       "      <td>65</td>\n",
       "      <td>39</td>\n",
       "      <td>92122</td>\n",
       "      <td>4</td>\n",
       "      <td>3</td>\n",
       "      <td>0</td>\n",
       "      <td>0</td>\n",
       "      <td>0</td>\n",
       "      <td>0</td>\n",
       "      <td>1</td>\n",
       "      <td>0</td>\n",
       "    </tr>\n",
       "    <tr>\n",
       "      <th>3</th>\n",
       "      <td>3165</td>\n",
       "      <td>28</td>\n",
       "      <td>4</td>\n",
       "      <td>95136</td>\n",
       "      <td>4</td>\n",
       "      <td>1</td>\n",
       "      <td>0</td>\n",
       "      <td>0</td>\n",
       "      <td>0</td>\n",
       "      <td>1</td>\n",
       "      <td>1</td>\n",
       "      <td>0</td>\n",
       "    </tr>\n",
       "    <tr>\n",
       "      <th>4</th>\n",
       "      <td>3563</td>\n",
       "      <td>32</td>\n",
       "      <td>8</td>\n",
       "      <td>94596</td>\n",
       "      <td>1</td>\n",
       "      <td>3</td>\n",
       "      <td>272</td>\n",
       "      <td>1</td>\n",
       "      <td>1</td>\n",
       "      <td>1</td>\n",
       "      <td>0</td>\n",
       "      <td>1</td>\n",
       "    </tr>\n",
       "  </tbody>\n",
       "</table>\n",
       "</div>"
      ],
      "text/plain": [
       "     ID  Age  Experience  ZIP Code  Family  Education  Mortgage  \\\n",
       "0  3510   38          12     91330       3          3         0   \n",
       "1  1129   30           5     94025       2          2         0   \n",
       "2  1637   65          39     92122       4          3         0   \n",
       "3  3165   28           4     95136       4          1         0   \n",
       "4  3563   32           8     94596       1          3       272   \n",
       "\n",
       "   Securities Account  CD Account  Online  CreditCard  Personal Loan  \n",
       "0                   0           0       0           0              0  \n",
       "1                   0           0       0           0              1  \n",
       "2                   0           0       0           1              0  \n",
       "3                   0           0       1           1              0  \n",
       "4                   1           1       1           0              1  "
      ]
     },
     "execution_count": 5,
     "metadata": {},
     "output_type": "execute_result"
    }
   ],
   "source": [
    "df.head()"
   ]
  },
  {
   "cell_type": "code",
   "execution_count": 6,
   "metadata": {
    "id": "JDbjpSDyKXx2"
   },
   "outputs": [],
   "source": [
    "X = df.drop(['ID','ZIP Code','Personal Loan',], axis = 1).values\n",
    "y = df['Personal Loan'].values # y는 타겟데이터"
   ]
  },
  {
   "cell_type": "markdown",
   "metadata": {
    "id": "uDXIr-rkK2xZ"
   },
   "source": [
    "###**Random Forest**"
   ]
  },
  {
   "cell_type": "markdown",
   "metadata": {
    "id": "WPqFgxi4L1u2"
   },
   "source": [
    "랜덤 포레스트는 여러 개의 결정트리(Decision Tree)를 활용한 배깅 방식의 대표적인 알고리즘"
   ]
  },
  {
   "cell_type": "markdown",
   "metadata": {
    "id": "DS6XKS5aRJ6j"
   },
   "source": [
    "**하이퍼 파라미터 종류 및 설명**  "
   ]
  },
  {
   "cell_type": "markdown",
   "metadata": {
    "id": "eZvs9yOIL7DJ"
   },
   "source": [
    "**n_estimators**  \n",
    "- 결정트리의 갯수를 지정\n",
    "- Default = 10\n",
    "- 무작정 트리 갯수를 늘리면 성능 좋아지는 것 대비 시간이 걸릴 수 있음  \n",
    "\n",
    "**min_samples_split**  \n",
    "- 노드를 분할하기 위한 최소한의 샘플 데이터수\n",
    "→ 과적합을 제어하는데 사용\n",
    "- Default = 2 → 작게 설정할 수록 분할 노드가 많아져 과적합 가능성 증가  \n",
    "\n",
    "**min_samples_leaf**\n",
    "- 리프노드가 되기 위해 필요한 최소한의 샘플 데이터수\n",
    "- min_samples_split과 함께 과적합 제어 용도\n",
    "- 불균형 데이터의 경우 특정 클래스의 데이터가 극도로 작을 수 있으므로 작게 설정 필요  \n",
    "\n",
    "**max_features**  \n",
    "- 최적의 분할을 위해 고려할 최대 feature 개수\n",
    "- Default = 'auto' (결정트리에서는 default가 none이었음)\n",
    "- int형으로 지정 →피처 갯수 / float형으로 지정 →비중\n",
    "- sqrt 또는 auto : 전체 피처 중 √(피처개수) 만큼 선정\n",
    "- log : 전체 피처 중 log2(전체 피처 개수) 만큼 선정  \n",
    "\n",
    "**max_depth**  \n",
    "- 트리의 최대 깊이\n",
    "- default = None\n",
    "→ 완벽하게 클래스 값이 결정될 때 까지 분할\n",
    "또는 데이터 개수가 min_samples_split보다 작아질 때까지 분할\n",
    "- 깊이가 깊어지면 과적합될 수 있으므로 적절히 제어 필요  \n",
    "\n",
    "**max_leaf_nodes**  \n",
    "- 리프노드의 최대 개수  \n"
   ]
  },
  {
   "cell_type": "code",
   "execution_count": 7,
   "metadata": {
    "colab": {
     "base_uri": "https://localhost:8080/",
     "height": 1000
    },
    "id": "Auql2hllPHzb",
    "outputId": "6d3d808d-a6dc-43dc-cdf9-d9e571691051"
   },
   "outputs": [
    {
     "name": "stderr",
     "output_type": "stream",
     "text": [
      "\u001b[32m[I 2022-04-06 18:15:36,705]\u001b[0m A new study created in memory with name: no-name-f8a04075-47e8-4574-be45-dd4fcac9c40b\u001b[0m\n",
      "\u001b[32m[I 2022-04-06 18:15:50,025]\u001b[0m Trial 0 finished with value: 0.7964868206143005 and parameters: {'n_estimators': 1200, 'max_depth': 7, 'min_samples_leaf': 27, 'criterion': 'gini'}. Best is trial 0 with value: 0.7964868206143005.\u001b[0m\n",
      "\u001b[32m[I 2022-04-06 18:15:56,440]\u001b[0m Trial 1 finished with value: 0.8026702613415964 and parameters: {'n_estimators': 1000, 'max_depth': 5, 'min_samples_leaf': 3, 'criterion': 'gini'}. Best is trial 1 with value: 0.8026702613415964.\u001b[0m\n",
      "\u001b[32m[I 2022-04-06 18:15:59,660]\u001b[0m Trial 2 finished with value: 0.7781323354167161 and parameters: {'n_estimators': 550, 'max_depth': 3, 'min_samples_leaf': 7, 'criterion': 'gini'}. Best is trial 1 with value: 0.8026702613415964.\u001b[0m\n",
      "\u001b[32m[I 2022-04-06 18:16:04,697]\u001b[0m Trial 3 finished with value: 0.7431559052036015 and parameters: {'n_estimators': 950, 'max_depth': 1, 'min_samples_leaf': 1, 'criterion': 'entropy'}. Best is trial 1 with value: 0.8026702613415964.\u001b[0m\n",
      "\u001b[32m[I 2022-04-06 18:16:08,366]\u001b[0m Trial 4 finished with value: 0.8061981026812444 and parameters: {'n_estimators': 550, 'max_depth': 6, 'min_samples_leaf': 7, 'criterion': 'gini'}. Best is trial 4 with value: 0.8061981026812444.\u001b[0m\n",
      "\u001b[32m[I 2022-04-06 18:16:12,296]\u001b[0m Trial 5 finished with value: 0.8058364066989876 and parameters: {'n_estimators': 500, 'max_depth': 20, 'min_samples_leaf': 7, 'criterion': 'entropy'}. Best is trial 4 with value: 0.8061981026812444.\u001b[0m\n",
      "\u001b[32m[I 2022-04-06 18:16:23,480]\u001b[0m Trial 6 finished with value: 0.8143588573692631 and parameters: {'n_estimators': 1500, 'max_depth': 9, 'min_samples_leaf': 3, 'criterion': 'gini'}. Best is trial 6 with value: 0.8143588573692631.\u001b[0m\n",
      "\u001b[32m[I 2022-04-06 18:16:31,780]\u001b[0m Trial 7 finished with value: 0.8123434088327643 and parameters: {'n_estimators': 1000, 'max_depth': 13, 'min_samples_leaf': 3, 'criterion': 'entropy'}. Best is trial 6 with value: 0.8143588573692631.\u001b[0m\n",
      "\u001b[32m[I 2022-04-06 18:16:39,127]\u001b[0m Trial 8 finished with value: 0.8061363209299636 and parameters: {'n_estimators': 950, 'max_depth': 17, 'min_samples_leaf': 13, 'criterion': 'entropy'}. Best is trial 6 with value: 0.8143588573692631.\u001b[0m\n",
      "\u001b[32m[I 2022-04-06 18:16:42,221]\u001b[0m Trial 9 finished with value: 0.7881733513719525 and parameters: {'n_estimators': 500, 'max_depth': 4, 'min_samples_leaf': 23, 'criterion': 'gini'}. Best is trial 6 with value: 0.8143588573692631.\u001b[0m\n",
      "\u001b[32m[I 2022-04-06 18:16:50,650]\u001b[0m Trial 10 finished with value: 0.7436049931641293 and parameters: {'n_estimators': 1500, 'max_depth': 1, 'min_samples_leaf': 1, 'criterion': 'gini'}. Best is trial 6 with value: 0.8143588573692631.\u001b[0m\n",
      "\u001b[32m[I 2022-04-06 18:17:00,939]\u001b[0m Trial 11 finished with value: 0.8156078766498556 and parameters: {'n_estimators': 1250, 'max_depth': 11, 'min_samples_leaf': 2, 'criterion': 'entropy'}. Best is trial 11 with value: 0.8156078766498556.\u001b[0m\n",
      "\u001b[32m[I 2022-04-06 18:17:14,179]\u001b[0m Trial 12 finished with value: 0.7994264067892972 and parameters: {'n_estimators': 1500, 'max_depth': 31, 'min_samples_leaf': 2, 'criterion': 'entropy'}. Best is trial 11 with value: 0.8156078766498556.\u001b[0m\n",
      "\u001b[32m[I 2022-04-06 18:17:24,752]\u001b[0m Trial 13 finished with value: 0.8158220328255297 and parameters: {'n_estimators': 1300, 'max_depth': 10, 'min_samples_leaf': 2, 'criterion': 'entropy'}. Best is trial 13 with value: 0.8158220328255297.\u001b[0m\n",
      "\u001b[32m[I 2022-04-06 18:17:31,920]\u001b[0m Trial 14 finished with value: 0.7650483457667784 and parameters: {'n_estimators': 1250, 'max_depth': 2, 'min_samples_leaf': 2, 'criterion': 'entropy'}. Best is trial 13 with value: 0.8158220328255297.\u001b[0m\n",
      "\u001b[32m[I 2022-04-06 18:17:42,025]\u001b[0m Trial 15 finished with value: 0.8164137046327646 and parameters: {'n_estimators': 1250, 'max_depth': 10, 'min_samples_leaf': 1, 'criterion': 'entropy'}. Best is trial 15 with value: 0.8164137046327646.\u001b[0m\n",
      "\u001b[32m[I 2022-04-06 18:17:52,701]\u001b[0m Trial 16 finished with value: 0.786724317505763 and parameters: {'n_estimators': 1150, 'max_depth': 31, 'min_samples_leaf': 1, 'criterion': 'entropy'}. Best is trial 15 with value: 0.8164137046327646.\u001b[0m\n",
      "\u001b[32m[I 2022-04-06 18:18:00,460]\u001b[0m Trial 17 finished with value: 0.7651929764977454 and parameters: {'n_estimators': 1350, 'max_depth': 2, 'min_samples_leaf': 1, 'criterion': 'entropy'}. Best is trial 15 with value: 0.8164137046327646.\u001b[0m\n",
      "\u001b[32m[I 2022-04-06 18:18:07,126]\u001b[0m Trial 18 finished with value: 0.8062565901440057 and parameters: {'n_estimators': 800, 'max_depth': 19, 'min_samples_leaf': 5, 'criterion': 'entropy'}. Best is trial 15 with value: 0.8164137046327646.\u001b[0m\n",
      "\u001b[32m[I 2022-04-06 18:18:17,256]\u001b[0m Trial 19 finished with value: 0.8175360041460189 and parameters: {'n_estimators': 1350, 'max_depth': 8, 'min_samples_leaf': 2, 'criterion': 'entropy'}. Best is trial 19 with value: 0.8175360041460189.\u001b[0m\n",
      "\u001b[32m[I 2022-04-06 18:18:25,293]\u001b[0m Trial 20 finished with value: 0.7645553438290504 and parameters: {'n_estimators': 1400, 'max_depth': 2, 'min_samples_leaf': 4, 'criterion': 'entropy'}. Best is trial 19 with value: 0.8175360041460189.\u001b[0m\n",
      "\u001b[32m[I 2022-04-06 18:18:35,375]\u001b[0m Trial 21 finished with value: 0.8175360041460189 and parameters: {'n_estimators': 1350, 'max_depth': 8, 'min_samples_leaf': 2, 'criterion': 'entropy'}. Best is trial 19 with value: 0.8175360041460189.\u001b[0m\n",
      "\u001b[32m[I 2022-04-06 18:18:44,020]\u001b[0m Trial 22 finished with value: 0.8175696042435974 and parameters: {'n_estimators': 1150, 'max_depth': 8, 'min_samples_leaf': 2, 'criterion': 'entropy'}. Best is trial 22 with value: 0.8175696042435974.\u001b[0m\n",
      "\u001b[32m[I 2022-04-06 18:18:51,743]\u001b[0m Trial 23 finished with value: 0.8003010162336868 and parameters: {'n_estimators': 1150, 'max_depth': 4, 'min_samples_leaf': 2, 'criterion': 'entropy'}. Best is trial 22 with value: 0.8175696042435974.\u001b[0m\n",
      "\u001b[32m[I 2022-04-06 18:19:01,942]\u001b[0m Trial 24 finished with value: 0.8152840378247941 and parameters: {'n_estimators': 1400, 'max_depth': 7, 'min_samples_leaf': 4, 'criterion': 'entropy'}. Best is trial 22 with value: 0.8175696042435974.\u001b[0m\n",
      "\u001b[32m[I 2022-04-06 18:19:11,160]\u001b[0m Trial 25 finished with value: 0.8099009997157574 and parameters: {'n_estimators': 1100, 'max_depth': 14, 'min_samples_leaf': 3, 'criterion': 'entropy'}. Best is trial 22 with value: 0.8175696042435974.\u001b[0m\n",
      "\u001b[32m[I 2022-04-06 18:19:19,608]\u001b[0m Trial 26 finished with value: 0.7838982779593833 and parameters: {'n_estimators': 1400, 'max_depth': 3, 'min_samples_leaf': 5, 'criterion': 'entropy'}. Best is trial 22 with value: 0.8175696042435974.\u001b[0m\n",
      "\u001b[32m[I 2022-04-06 18:19:27,858]\u001b[0m Trial 27 finished with value: 0.8177023168137796 and parameters: {'n_estimators': 1100, 'max_depth': 8, 'min_samples_leaf': 2, 'criterion': 'entropy'}. Best is trial 27 with value: 0.8177023168137796.\u001b[0m\n",
      "\u001b[32m[I 2022-04-06 18:19:33,151]\u001b[0m Trial 28 finished with value: 0.8041475515862626 and parameters: {'n_estimators': 800, 'max_depth': 5, 'min_samples_leaf': 14, 'criterion': 'entropy'}. Best is trial 27 with value: 0.8177023168137796.\u001b[0m\n",
      "\u001b[32m[I 2022-04-06 18:19:40,790]\u001b[0m Trial 29 finished with value: 0.8090105466605152 and parameters: {'n_estimators': 1100, 'max_depth': 6, 'min_samples_leaf': 11, 'criterion': 'entropy'}. Best is trial 27 with value: 0.8177023168137796.\u001b[0m\n",
      "\u001b[32m[I 2022-04-06 18:19:47,386]\u001b[0m Trial 30 finished with value: 0.7844026901971214 and parameters: {'n_estimators': 1100, 'max_depth': 3, 'min_samples_leaf': 3, 'criterion': 'entropy'}. Best is trial 27 with value: 0.8177023168137796.\u001b[0m\n",
      "\u001b[32m[I 2022-04-06 18:19:57,173]\u001b[0m Trial 31 finished with value: 0.8178250543937595 and parameters: {'n_estimators': 1200, 'max_depth': 8, 'min_samples_leaf': 2, 'criterion': 'entropy'}. Best is trial 31 with value: 0.8178250543937595.\u001b[0m\n",
      "\u001b[32m[I 2022-04-06 18:20:06,080]\u001b[0m Trial 32 finished with value: 0.815720044053052 and parameters: {'n_estimators': 1200, 'max_depth': 7, 'min_samples_leaf': 2, 'criterion': 'entropy'}. Best is trial 31 with value: 0.8178250543937595.\u001b[0m\n",
      "\u001b[32m[I 2022-04-06 18:20:14,782]\u001b[0m Trial 33 finished with value: 0.8113894899929497 and parameters: {'n_estimators': 1050, 'max_depth': 13, 'min_samples_leaf': 4, 'criterion': 'entropy'}. Best is trial 31 with value: 0.8178250543937595.\u001b[0m\n"
     ]
    },
    {
     "name": "stderr",
     "output_type": "stream",
     "text": [
      "\u001b[32m[I 2022-04-06 18:20:20,311]\u001b[0m Trial 34 finished with value: 0.8034264659371063 and parameters: {'n_estimators': 850, 'max_depth': 5, 'min_samples_leaf': 3, 'criterion': 'gini'}. Best is trial 31 with value: 0.8178250543937595.\u001b[0m\n",
      "\u001b[32m[I 2022-04-06 18:20:29,164]\u001b[0m Trial 35 finished with value: 0.816151741511758 and parameters: {'n_estimators': 1200, 'max_depth': 8, 'min_samples_leaf': 5, 'criterion': 'entropy'}. Best is trial 31 with value: 0.8178250543937595.\u001b[0m\n",
      "\u001b[32m[I 2022-04-06 18:20:35,462]\u001b[0m Trial 36 finished with value: 0.7942578476512895 and parameters: {'n_estimators': 900, 'max_depth': 24, 'min_samples_leaf': 31, 'criterion': 'gini'}. Best is trial 31 with value: 0.8178250543937595.\u001b[0m\n",
      "\u001b[32m[I 2022-04-06 18:20:40,023]\u001b[0m Trial 37 finished with value: 0.8147211504315202 and parameters: {'n_estimators': 650, 'max_depth': 6, 'min_samples_leaf': 2, 'criterion': 'entropy'}. Best is trial 31 with value: 0.8178250543937595.\u001b[0m\n",
      "\u001b[32m[I 2022-04-06 18:20:49,731]\u001b[0m Trial 38 finished with value: 0.8128500388195367 and parameters: {'n_estimators': 1150, 'max_depth': 12, 'min_samples_leaf': 3, 'criterion': 'entropy'}. Best is trial 31 with value: 0.8178250543937595.\u001b[0m\n",
      "\u001b[32m[I 2022-04-06 18:20:57,806]\u001b[0m Trial 39 finished with value: 0.8029498731550058 and parameters: {'n_estimators': 1000, 'max_depth': 16, 'min_samples_leaf': 6, 'criterion': 'gini'}. Best is trial 31 with value: 0.8178250543937595.\u001b[0m\n",
      "\u001b[32m[I 2022-04-06 18:21:06,127]\u001b[0m Trial 40 finished with value: 0.7974079514375699 and parameters: {'n_estimators': 1300, 'max_depth': 4, 'min_samples_leaf': 10, 'criterion': 'entropy'}. Best is trial 31 with value: 0.8178250543937595.\u001b[0m\n",
      "\u001b[32m[I 2022-04-06 18:21:16,505]\u001b[0m Trial 41 finished with value: 0.8177344421988405 and parameters: {'n_estimators': 1350, 'max_depth': 9, 'min_samples_leaf': 2, 'criterion': 'entropy'}. Best is trial 31 with value: 0.8178250543937595.\u001b[0m\n",
      "\u001b[32m[I 2022-04-06 18:21:26,538]\u001b[0m Trial 42 finished with value: 0.817532453854145 and parameters: {'n_estimators': 1300, 'max_depth': 9, 'min_samples_leaf': 3, 'criterion': 'entropy'}. Best is trial 31 with value: 0.8178250543937595.\u001b[0m\n",
      "\u001b[32m[I 2022-04-06 18:21:37,474]\u001b[0m Trial 43 finished with value: 0.817681272306406 and parameters: {'n_estimators': 1450, 'max_depth': 8, 'min_samples_leaf': 1, 'criterion': 'entropy'}. Best is trial 31 with value: 0.8178250543937595.\u001b[0m\n",
      "\u001b[32m[I 2022-04-06 18:21:47,175]\u001b[0m Trial 44 finished with value: 0.8076722745295207 and parameters: {'n_estimators': 1450, 'max_depth': 5, 'min_samples_leaf': 1, 'criterion': 'entropy'}. Best is trial 31 with value: 0.8178250543937595.\u001b[0m\n",
      "\u001b[32m[I 2022-04-06 18:21:57,404]\u001b[0m Trial 45 finished with value: 0.8143300307124631 and parameters: {'n_estimators': 1450, 'max_depth': 6, 'min_samples_leaf': 1, 'criterion': 'entropy'}. Best is trial 31 with value: 0.8178250543937595.\u001b[0m\n",
      "\u001b[32m[I 2022-04-06 18:22:06,294]\u001b[0m Trial 46 finished with value: 0.8031106520108905 and parameters: {'n_estimators': 1050, 'max_depth': 15, 'min_samples_leaf': 3, 'criterion': 'gini'}. Best is trial 31 with value: 0.8178250543937595.\u001b[0m\n",
      "\u001b[32m[I 2022-04-06 18:22:16,845]\u001b[0m Trial 47 finished with value: 0.811711969473494 and parameters: {'n_estimators': 1250, 'max_depth': 11, 'min_samples_leaf': 8, 'criterion': 'entropy'}. Best is trial 31 with value: 0.8178250543937595.\u001b[0m\n",
      "\u001b[32m[I 2022-04-06 18:22:22,854]\u001b[0m Trial 48 finished with value: 0.7839799759686171 and parameters: {'n_estimators': 950, 'max_depth': 3, 'min_samples_leaf': 4, 'criterion': 'entropy'}. Best is trial 31 with value: 0.8178250543937595.\u001b[0m\n",
      "\u001b[32m[I 2022-04-06 18:22:32,807]\u001b[0m Trial 49 finished with value: 0.8173816556687207 and parameters: {'n_estimators': 1200, 'max_depth': 9, 'min_samples_leaf': 2, 'criterion': 'entropy'}. Best is trial 31 with value: 0.8178250543937595.\u001b[0m\n",
      "\u001b[32m[I 2022-04-06 18:22:44,404]\u001b[0m Trial 50 finished with value: 0.8019286601672606 and parameters: {'n_estimators': 1450, 'max_depth': 23, 'min_samples_leaf': 20, 'criterion': 'entropy'}. Best is trial 31 with value: 0.8178250543937595.\u001b[0m\n",
      "\u001b[32m[I 2022-04-06 18:22:55,202]\u001b[0m Trial 51 finished with value: 0.8158174226758483 and parameters: {'n_estimators': 1350, 'max_depth': 7, 'min_samples_leaf': 2, 'criterion': 'entropy'}. Best is trial 31 with value: 0.8178250543937595.\u001b[0m\n",
      "\u001b[32m[I 2022-04-06 18:23:06,765]\u001b[0m Trial 52 finished with value: 0.8175942028296838 and parameters: {'n_estimators': 1300, 'max_depth': 8, 'min_samples_leaf': 2, 'criterion': 'entropy'}. Best is trial 31 with value: 0.8178250543937595.\u001b[0m\n",
      "\u001b[32m[I 2022-04-06 18:23:17,145]\u001b[0m Trial 53 finished with value: 0.8164137046327646 and parameters: {'n_estimators': 1250, 'max_depth': 10, 'min_samples_leaf': 1, 'criterion': 'entropy'}. Best is trial 31 with value: 0.8178250543937595.\u001b[0m\n",
      "\u001b[32m[I 2022-04-06 18:23:28,157]\u001b[0m Trial 54 finished with value: 0.8126229065186898 and parameters: {'n_estimators': 1300, 'max_depth': 12, 'min_samples_leaf': 3, 'criterion': 'entropy'}. Best is trial 31 with value: 0.8178250543937595.\u001b[0m\n",
      "\u001b[32m[I 2022-04-06 18:23:35,698]\u001b[0m Trial 55 finished with value: 0.8138871552893605 and parameters: {'n_estimators': 1050, 'max_depth': 6, 'min_samples_leaf': 2, 'criterion': 'entropy'}. Best is trial 31 with value: 0.8178250543937595.\u001b[0m\n",
      "\u001b[32m[I 2022-04-06 18:23:44,964]\u001b[0m Trial 56 finished with value: 0.8004300316087688 and parameters: {'n_estimators': 1150, 'max_depth': 18, 'min_samples_leaf': 4, 'criterion': 'gini'}. Best is trial 31 with value: 0.8178250543937595.\u001b[0m\n",
      "\u001b[32m[I 2022-04-06 18:23:56,320]\u001b[0m Trial 57 finished with value: 0.8161405837220705 and parameters: {'n_estimators': 1500, 'max_depth': 8, 'min_samples_leaf': 5, 'criterion': 'entropy'}. Best is trial 31 with value: 0.8178250543937595.\u001b[0m\n",
      "\u001b[32m[I 2022-04-06 18:24:06,214]\u001b[0m Trial 58 finished with value: 0.8158115086784236 and parameters: {'n_estimators': 1200, 'max_depth': 10, 'min_samples_leaf': 2, 'criterion': 'entropy'}. Best is trial 31 with value: 0.8178250543937595.\u001b[0m\n",
      "\u001b[32m[I 2022-04-06 18:24:17,204]\u001b[0m Trial 59 finished with value: 0.8166416319738703 and parameters: {'n_estimators': 1400, 'max_depth': 7, 'min_samples_leaf': 1, 'criterion': 'entropy'}. Best is trial 31 with value: 0.8178250543937595.\u001b[0m\n",
      "\u001b[32m[I 2022-04-06 18:24:27,965]\u001b[0m Trial 60 finished with value: 0.8151340826027257 and parameters: {'n_estimators': 1300, 'max_depth': 9, 'min_samples_leaf': 6, 'criterion': 'entropy'}. Best is trial 31 with value: 0.8178250543937595.\u001b[0m\n",
      "\u001b[32m[I 2022-04-06 18:24:38,878]\u001b[0m Trial 61 finished with value: 0.8175360041460189 and parameters: {'n_estimators': 1350, 'max_depth': 8, 'min_samples_leaf': 2, 'criterion': 'entropy'}. Best is trial 31 with value: 0.8178250543937595.\u001b[0m\n",
      "\u001b[32m[I 2022-04-06 18:24:51,108]\u001b[0m Trial 62 finished with value: 0.8154341676984757 and parameters: {'n_estimators': 1350, 'max_depth': 11, 'min_samples_leaf': 2, 'criterion': 'entropy'}. Best is trial 31 with value: 0.8178250543937595.\u001b[0m\n",
      "\u001b[32m[I 2022-04-06 18:25:00,639]\u001b[0m Trial 63 finished with value: 0.8074035266993468 and parameters: {'n_estimators': 1250, 'max_depth': 5, 'min_samples_leaf': 3, 'criterion': 'entropy'}. Best is trial 31 with value: 0.8178250543937595.\u001b[0m\n",
      "\u001b[32m[I 2022-04-06 18:25:12,428]\u001b[0m Trial 64 finished with value: 0.8155781187571842 and parameters: {'n_estimators': 1450, 'max_depth': 7, 'min_samples_leaf': 2, 'criterion': 'entropy'}. Best is trial 31 with value: 0.8178250543937595.\u001b[0m\n",
      "\u001b[32m[I 2022-04-06 18:25:24,743]\u001b[0m Trial 65 finished with value: 0.8119706319728206 and parameters: {'n_estimators': 1400, 'max_depth': 13, 'min_samples_leaf': 3, 'criterion': 'entropy'}. Best is trial 31 with value: 0.8178250543937595.\u001b[0m\n",
      "\u001b[32m[I 2022-04-06 18:25:33,033]\u001b[0m Trial 66 finished with value: 0.8177023168137796 and parameters: {'n_estimators': 1100, 'max_depth': 8, 'min_samples_leaf': 2, 'criterion': 'entropy'}. Best is trial 31 with value: 0.8178250543937595.\u001b[0m\n",
      "\u001b[32m[I 2022-04-06 18:25:40,919]\u001b[0m Trial 67 finished with value: 0.8133874751962716 and parameters: {'n_estimators': 1100, 'max_depth': 6, 'min_samples_leaf': 4, 'criterion': 'entropy'}. Best is trial 31 with value: 0.8178250543937595.\u001b[0m\n"
     ]
    },
    {
     "name": "stderr",
     "output_type": "stream",
     "text": [
      "\u001b[32m[I 2022-04-06 18:25:50,553]\u001b[0m Trial 68 finished with value: 0.8162504353428133 and parameters: {'n_estimators': 1150, 'max_depth': 10, 'min_samples_leaf': 1, 'criterion': 'entropy'}. Best is trial 31 with value: 0.8178250543937595.\u001b[0m\n",
      "\u001b[32m[I 2022-04-06 18:25:57,772]\u001b[0m Trial 69 finished with value: 0.7953693973087924 and parameters: {'n_estimators': 1050, 'max_depth': 4, 'min_samples_leaf': 17, 'criterion': 'entropy'}. Best is trial 31 with value: 0.8178250543937595.\u001b[0m\n"
     ]
    },
    {
     "name": "stdout",
     "output_type": "stream",
     "text": [
      "FrozenTrial(number=31, values=[0.8178250543937595], datetime_start=datetime.datetime(2022, 4, 6, 18, 19, 47, 387791), datetime_complete=datetime.datetime(2022, 4, 6, 18, 19, 57, 173714), params={'n_estimators': 1200, 'max_depth': 8, 'min_samples_leaf': 2, 'criterion': 'entropy'}, distributions={'n_estimators': IntUniformDistribution(high=1500, low=500, step=50), 'max_depth': IntLogUniformDistribution(high=32, low=1, step=1), 'min_samples_leaf': IntLogUniformDistribution(high=32, low=1, step=1), 'criterion': CategoricalDistribution(choices=('gini', 'entropy'))}, user_attrs={}, system_attrs={}, intermediate_values={}, trial_id=31, state=TrialState.COMPLETE, value=None)\n"
     ]
    }
   ],
   "source": [
    "def rf_objective(trial):\n",
    "       \n",
    "    rf_n_estimators = trial.suggest_int(\"n_estimators\", 500, 1500, step=50)\n",
    "    rf_max_depth = trial.suggest_int(\"max_depth\", 1, 32, log=True)\n",
    "    rf_min_samples_leaf = trial.suggest_int('min_samples_leaf', 1, 32, log = True)\n",
    "    rf_criterion = trial.suggest_categorical(\"criterion\", [\"gini\", \"entropy\"])\n",
    "\n",
    "    classifier_obj = ensemble.RandomForestClassifier(n_estimators=rf_n_estimators,\n",
    "                                                     max_depth=rf_max_depth,\n",
    "                                                     min_samples_leaf=rf_min_samples_leaf,\n",
    "                                                     criterion=rf_criterion,\n",
    "                                                     n_jobs=-1,\n",
    "                                                     random_state=0)\n",
    "\n",
    "    score = model_selection.cross_val_score(classifier_obj, X, y, cv=5, n_jobs=-1, scoring = 'roc_auc')\n",
    "    roc_auc = score.mean()\n",
    "    return roc_auc\n",
    "\n",
    "\n",
    "rf_study = optuna.create_study(direction=\"maximize\")\n",
    "rf_study.optimize(rf_objective, n_trials=70)\n",
    "print(rf_study.best_trial)"
   ]
  },
  {
   "cell_type": "markdown",
   "metadata": {
    "id": "lQw68x5DQhBs"
   },
   "source": [
    "###**Logistic Regression**"
   ]
  },
  {
   "cell_type": "markdown",
   "metadata": {
    "id": "i2hjd2RVQuuQ"
   },
   "source": [
    "- 0 또는 1로 분류하는 분류추정기 0.5 이상은 1, 미만은 0\n",
    "- 시그모이드 함수 형태로 이진분류함. "
   ]
  },
  {
   "cell_type": "markdown",
   "metadata": {
    "id": "XgeX7dhjQzmP"
   },
   "source": [
    "**하이퍼 파라미터 종류 및 설명**"
   ]
  },
  {
   "cell_type": "markdown",
   "metadata": {
    "id": "A99krnhNQ2uv"
   },
   "source": [
    "- solver : 알고리즘\n",
    "- penalty : 규제의 유형 설정:과적합을 줄이기 위함\n",
    "\n",
    "       - 'newton-cg'   -   ['l2', 'none']\n",
    "       - 'lbfgs'       -   ['l2', 'none']\n",
    "       - 'liblinear'   -   ['l1', 'l2']\n",
    "       - 'sag'         -   ['l2', 'none']\n",
    "       - 'saga'        -   ['elasticnet', 'l1', 'l2', 'none']\n",
    "       \n",
    "    > solver 방식에 따라 정해짐\n",
    "- C : 규제 강도 조절하는 alpha값의 역수\n",
    "    > 1(기본값), 적을 수록 규제가 강하다\n",
    "- max_iter : 경사하강법 반복횟수 \n",
    "    > 기본값 100\n",
    "- penalty : 규제에 사용 된 기준을 지정 (l1, l2, elasticnet, none) – default : l2\n",
    "- dual : 이중 또는 초기 공식\n",
    "- tol : 정밀도\n",
    "- C : 규제 강도\n",
    "- fit_intercept : 모형에 상수항 (절편)이 있는가 없는가를 결정하는 인수 (default : True)\n",
    "- intercept_scaling : 정규화 효과 정도\n",
    "- class_weight : 클래스의 가중치\n",
    "- random_state : 난수 seed 설정\n",
    "- solver : 최적화 문제에 사용하는 알고리즘\n",
    "- max_iter : 계산에 사용할 작업 수\n",
    "- multi_class : 다중 분류 시에 (ovr, multinomial, auto)로 설정\n",
    "- verbose : 동작 과정에 대한 출력 메시지\n",
    "- warm_start : 이전 모델을 초기화로 적합하게 사용할 것인지 여부\n",
    "- n_jobs : 병렬 처리 할 때 사용되는 CPU 코어 수\n",
    "- l1_ratio : L1 규제의 비율(Elastic-Net 믹싱 파라미터 경우에만 사용)"
   ]
  },
  {
   "cell_type": "code",
   "execution_count": 8,
   "metadata": {
    "id": "mTMfPabGQTlJ"
   },
   "outputs": [
    {
     "name": "stderr",
     "output_type": "stream",
     "text": [
      "\u001b[32m[I 2022-04-06 18:25:57,797]\u001b[0m A new study created in memory with name: no-name-0e817fea-2d85-4bba-94e1-d6950ecaf34f\u001b[0m\n",
      "\u001b[32m[I 2022-04-06 18:25:57,876]\u001b[0m Trial 0 finished with value: 0.5462210417962582 and parameters: {'solver': 'saga', 'penalty': 'l2', 'C': 6.0533870377979175, 'max_iter': 259, 'tol': 0.37733999058455314}. Best is trial 0 with value: 0.5462210417962582.\u001b[0m\n",
      "\u001b[32m[I 2022-04-06 18:25:57,921]\u001b[0m Trial 1 finished with value: 0.5100628192340945 and parameters: {'solver': 'sag', 'penalty': 'l2', 'C': 4.372347004848705, 'max_iter': 1829, 'tol': 0.6353264549487759}. Best is trial 0 with value: 0.5462210417962582.\u001b[0m\n",
      "\u001b[32m[I 2022-04-06 18:25:58,187]\u001b[0m Trial 2 finished with value: 0.7681191748267949 and parameters: {'solver': 'lbfgs', 'penalty': 'l2', 'C': 2.046241135911315, 'max_iter': 1887, 'tol': 0.9319013541170434}. Best is trial 2 with value: 0.7681191748267949.\u001b[0m\n",
      "\u001b[32m[I 2022-04-06 18:25:58,232]\u001b[0m Trial 3 finished with value: 0.545356919283491 and parameters: {'solver': 'sag', 'penalty': 'none', 'C': 4.781854157274142, 'max_iter': 1013, 'tol': 0.14377529875678094}. Best is trial 2 with value: 0.7681191748267949.\u001b[0m\n",
      "\u001b[32m[I 2022-04-06 18:25:58,657]\u001b[0m Trial 4 finished with value: 0.7667370627904712 and parameters: {'solver': 'lbfgs', 'penalty': 'l2', 'C': 3.481334823932347, 'max_iter': 1215, 'tol': 0.2980499230655931}. Best is trial 2 with value: 0.7681191748267949.\u001b[0m\n",
      "\u001b[32m[I 2022-04-06 18:25:58,698]\u001b[0m Trial 5 finished with value: 0.5100628192340945 and parameters: {'solver': 'sag', 'penalty': 'none', 'C': 14.56255143583745, 'max_iter': 65, 'tol': 0.5387634848744125}. Best is trial 2 with value: 0.7681191748267949.\u001b[0m\n",
      "\u001b[32m[I 2022-04-06 18:25:58,736]\u001b[0m Trial 6 finished with value: 0.5100628192340945 and parameters: {'solver': 'sag', 'penalty': 'l2', 'C': 4.975738721643189, 'max_iter': 469, 'tol': 0.8710167792863577}. Best is trial 2 with value: 0.7681191748267949.\u001b[0m\n",
      "\u001b[32m[I 2022-04-06 18:25:59,231]\u001b[0m Trial 7 finished with value: 0.7667598007982332 and parameters: {'solver': 'lbfgs', 'penalty': 'none', 'C': 4.374485931440406, 'max_iter': 1183, 'tol': 0.530003665299311}. Best is trial 2 with value: 0.7681191748267949.\u001b[0m\n",
      "\u001b[32m[I 2022-04-06 18:25:59,274]\u001b[0m Trial 8 finished with value: 0.5462210417962582 and parameters: {'solver': 'saga', 'penalty': 'none', 'C': 3.3838704374966095, 'max_iter': 1888, 'tol': 0.9773823410117823}. Best is trial 2 with value: 0.7681191748267949.\u001b[0m\n",
      "\u001b[32m[I 2022-04-06 18:25:59,314]\u001b[0m Trial 9 finished with value: 0.5100628192340945 and parameters: {'solver': 'sag', 'penalty': 'none', 'C': 11.269090503002516, 'max_iter': 1426, 'tol': 0.9016690947165056}. Best is trial 2 with value: 0.7681191748267949.\u001b[0m\n",
      "\u001b[32m[I 2022-04-06 18:25:59,462]\u001b[0m Trial 10 finished with value: 0.7385396431073745 and parameters: {'solver': 'newton-cg', 'penalty': 'l2', 'C': 0.03165419886012, 'max_iter': 650, 'tol': 0.7508612540178426}. Best is trial 2 with value: 0.7681191748267949.\u001b[0m\n",
      "\u001b[32m[I 2022-04-06 18:25:59,981]\u001b[0m Trial 11 finished with value: 0.7667379921329236 and parameters: {'solver': 'lbfgs', 'penalty': 'none', 'C': 0.4729422212004646, 'max_iter': 1574, 'tol': 0.04703618622837308}. Best is trial 2 with value: 0.7681191748267949.\u001b[0m\n",
      "\u001b[32m[I 2022-04-06 18:26:00,413]\u001b[0m Trial 12 finished with value: 0.76735244229734 and parameters: {'solver': 'lbfgs', 'penalty': 'l2', 'C': 8.51281457741698, 'max_iter': 868, 'tol': 0.6925115103229319}. Best is trial 2 with value: 0.7681191748267949.\u001b[0m\n",
      "\u001b[32m[I 2022-04-06 18:26:00,846]\u001b[0m Trial 13 finished with value: 0.767165292549561 and parameters: {'solver': 'lbfgs', 'penalty': 'l2', 'C': 9.875794024785666, 'max_iter': 826, 'tol': 0.7780715844823407}. Best is trial 2 with value: 0.7681191748267949.\u001b[0m\n",
      "\u001b[32m[I 2022-04-06 18:26:01,293]\u001b[0m Trial 14 finished with value: 0.767150837925032 and parameters: {'solver': 'lbfgs', 'penalty': 'l2', 'C': 8.829699999881493, 'max_iter': 1568, 'tol': 0.7214019472043461}. Best is trial 2 with value: 0.7681191748267949.\u001b[0m\n",
      "\u001b[32m[I 2022-04-06 18:26:01,471]\u001b[0m Trial 15 finished with value: 0.7678252206229208 and parameters: {'solver': 'newton-cg', 'penalty': 'l2', 'C': 7.407410417344574, 'max_iter': 872, 'tol': 0.9983465118657688}. Best is trial 2 with value: 0.7681191748267949.\u001b[0m\n",
      "\u001b[32m[I 2022-04-06 18:26:01,647]\u001b[0m Trial 16 finished with value: 0.7681297834595785 and parameters: {'solver': 'newton-cg', 'penalty': 'l2', 'C': 1.6565360146337644, 'max_iter': 602, 'tol': 0.986325189909029}. Best is trial 16 with value: 0.7681297834595785.\u001b[0m\n",
      "\u001b[32m[I 2022-04-06 18:26:01,817]\u001b[0m Trial 17 finished with value: 0.7676918744101574 and parameters: {'solver': 'newton-cg', 'penalty': 'l2', 'C': 1.9993290211923294, 'max_iter': 510, 'tol': 0.8825817540904611}. Best is trial 16 with value: 0.7681297834595785.\u001b[0m\n",
      "\u001b[32m[I 2022-04-06 18:26:02,013]\u001b[0m Trial 18 finished with value: 0.7673478359344971 and parameters: {'solver': 'newton-cg', 'penalty': 'l2', 'C': 1.873699526518625, 'max_iter': 368, 'tol': 0.38153370469558656}. Best is trial 16 with value: 0.7681297834595785.\u001b[0m\n",
      "\u001b[32m[I 2022-04-06 18:26:02,181]\u001b[0m Trial 19 finished with value: 0.7676954247020314 and parameters: {'solver': 'newton-cg', 'penalty': 'l2', 'C': 2.0452305988442787, 'max_iter': 1995, 'tol': 0.8240197124774004}. Best is trial 16 with value: 0.7681297834595785.\u001b[0m\n",
      "\u001b[32m[I 2022-04-06 18:26:02,230]\u001b[0m Trial 20 finished with value: 0.5462210417962582 and parameters: {'solver': 'saga', 'penalty': 'l2', 'C': 13.819890362577123, 'max_iter': 1249, 'tol': 0.6365995548308538}. Best is trial 16 with value: 0.7681297834595785.\u001b[0m\n",
      "\u001b[32m[I 2022-04-06 18:26:02,407]\u001b[0m Trial 21 finished with value: 0.7678541721148177 and parameters: {'solver': 'newton-cg', 'penalty': 'l2', 'C': 6.7702594058915455, 'max_iter': 680, 'tol': 0.9983321502307881}. Best is trial 16 with value: 0.7681297834595785.\u001b[0m\n",
      "\u001b[32m[I 2022-04-06 18:26:02,585]\u001b[0m Trial 22 finished with value: 0.7678905621331726 and parameters: {'solver': 'newton-cg', 'penalty': 'l2', 'C': 6.603494532200859, 'max_iter': 637, 'tol': 0.9488447001916331}. Best is trial 16 with value: 0.7681297834595785.\u001b[0m\n",
      "\u001b[32m[I 2022-04-06 18:26:02,760]\u001b[0m Trial 23 finished with value: 0.7678590338281122 and parameters: {'solver': 'newton-cg', 'penalty': 'l2', 'C': 1.2554086145691654, 'max_iter': 718, 'tol': 0.9229437163742947}. Best is trial 16 with value: 0.7681297834595785.\u001b[0m\n",
      "\u001b[32m[I 2022-04-06 18:26:02,934]\u001b[0m Trial 24 finished with value: 0.7678444505816475 and parameters: {'solver': 'newton-cg', 'penalty': 'l2', 'C': 11.35088010142702, 'max_iter': 212, 'tol': 0.8263698923202989}. Best is trial 16 with value: 0.7681297834595785.\u001b[0m\n",
      "\u001b[32m[I 2022-04-06 18:26:03,109]\u001b[0m Trial 25 finished with value: 0.7677900978897285 and parameters: {'solver': 'newton-cg', 'penalty': 'l2', 'C': 2.8432092924759065, 'max_iter': 561, 'tol': 0.9250058963928316}. Best is trial 16 with value: 0.7681297834595785.\u001b[0m\n",
      "\u001b[32m[I 2022-04-06 18:26:03,292]\u001b[0m Trial 26 finished with value: 0.7673556968893429 and parameters: {'solver': 'newton-cg', 'penalty': 'l2', 'C': 5.944979397904663, 'max_iter': 1014, 'tol': 0.6334123050952837}. Best is trial 16 with value: 0.7681297834595785.\u001b[0m\n",
      "\u001b[33m[W 2022-04-06 18:26:03,653]\u001b[0m Trial 27 failed, because the objective function returned nan.\u001b[0m\n",
      "\u001b[33m[W 2022-04-06 18:26:04,035]\u001b[0m Trial 28 failed, because the objective function returned nan.\u001b[0m\n",
      "\u001b[33m[W 2022-04-06 18:26:04,390]\u001b[0m Trial 29 failed, because the objective function returned nan.\u001b[0m\n",
      "\u001b[33m[W 2022-04-06 18:26:04,768]\u001b[0m Trial 30 failed, because the objective function returned nan.\u001b[0m\n",
      "\u001b[32m[I 2022-04-06 18:26:05,104]\u001b[0m Trial 31 finished with value: 0.7671357496579219 and parameters: {'solver': 'lbfgs', 'penalty': 'l2', 'C': 2.9088898705112314, 'max_iter': 348, 'tol': 0.8161318096767477}. Best is trial 16 with value: 0.7681297834595785.\u001b[0m\n",
      "\u001b[32m[I 2022-04-06 18:26:05,153]\u001b[0m Trial 32 finished with value: 0.5462210417962582 and parameters: {'solver': 'saga', 'penalty': 'l2', 'C': 5.799570866271267, 'max_iter': 1652, 'tol': 0.9317647971951053}. Best is trial 16 with value: 0.7681297834595785.\u001b[0m\n",
      "\u001b[32m[I 2022-04-06 18:26:05,203]\u001b[0m Trial 33 finished with value: 0.5462138567268324 and parameters: {'solver': 'saga', 'penalty': 'l2', 'C': 0.6990075732311709, 'max_iter': 157, 'tol': 0.3927574316793826}. Best is trial 16 with value: 0.7681297834595785.\u001b[0m\n"
     ]
    },
    {
     "name": "stderr",
     "output_type": "stream",
     "text": [
      "\u001b[32m[I 2022-04-06 18:26:05,393]\u001b[0m Trial 34 finished with value: 0.7670694769117985 and parameters: {'solver': 'newton-cg', 'penalty': 'l2', 'C': 12.291077665819614, 'max_iter': 1373, 'tol': 0.2939289081923317}. Best is trial 16 with value: 0.7681297834595785.\u001b[0m\n",
      "\u001b[32m[I 2022-04-06 18:26:05,578]\u001b[0m Trial 35 finished with value: 0.7678084003994222 and parameters: {'solver': 'newton-cg', 'penalty': 'l2', 'C': 1.2912349157996577, 'max_iter': 721, 'tol': 0.9248374421737604}. Best is trial 16 with value: 0.7681297834595785.\u001b[0m\n",
      "\u001b[32m[I 2022-04-06 18:26:05,754]\u001b[0m Trial 36 finished with value: 0.767960554142525 and parameters: {'solver': 'newton-cg', 'penalty': 'l2', 'C': 1.166468273612872, 'max_iter': 780, 'tol': 0.8551063188353494}. Best is trial 16 with value: 0.7681297834595785.\u001b[0m\n",
      "\u001b[32m[I 2022-04-06 18:26:05,926]\u001b[0m Trial 37 finished with value: 0.7677721352161642 and parameters: {'solver': 'newton-cg', 'penalty': 'l2', 'C': 2.7302643938070323, 'max_iter': 1088, 'tol': 0.8619688647396451}. Best is trial 16 with value: 0.7681297834595785.\u001b[0m\n",
      "\u001b[32m[I 2022-04-06 18:26:06,094]\u001b[0m Trial 38 finished with value: 0.7678690914105728 and parameters: {'solver': 'newton-cg', 'penalty': 'l2', 'C': 4.06874248397462, 'max_iter': 947, 'tol': 0.9554332918219784}. Best is trial 16 with value: 0.7681297834595785.\u001b[0m\n",
      "\u001b[33m[W 2022-04-06 18:26:06,446]\u001b[0m Trial 39 failed, because the objective function returned nan.\u001b[0m\n",
      "\u001b[33m[W 2022-04-06 18:26:06,789]\u001b[0m Trial 40 failed, because the objective function returned nan.\u001b[0m\n",
      "\u001b[33m[W 2022-04-06 18:26:07,127]\u001b[0m Trial 41 failed, because the objective function returned nan.\u001b[0m\n",
      "\u001b[32m[I 2022-04-06 18:26:07,537]\u001b[0m Trial 42 finished with value: 0.7672655033359724 and parameters: {'solver': 'lbfgs', 'penalty': 'l2', 'C': 5.073718719919153, 'max_iter': 797, 'tol': 0.7851612148530508}. Best is trial 16 with value: 0.7681297834595785.\u001b[0m\n",
      "\u001b[32m[I 2022-04-06 18:26:07,591]\u001b[0m Trial 43 finished with value: 0.5100628192340945 and parameters: {'solver': 'sag', 'penalty': 'none', 'C': 0.8820529367576833, 'max_iter': 391, 'tol': 0.671142272920773}. Best is trial 16 with value: 0.7681297834595785.\u001b[0m\n",
      "\u001b[32m[I 2022-04-06 18:26:07,796]\u001b[0m Trial 44 finished with value: 0.7671221821330065 and parameters: {'solver': 'newton-cg', 'penalty': 'l2', 'C': 3.9177723897938934, 'max_iter': 607, 'tol': 0.4618192906620149}. Best is trial 16 with value: 0.7681297834595785.\u001b[0m\n",
      "\u001b[32m[I 2022-04-06 18:26:08,383]\u001b[0m Trial 45 finished with value: 0.7667669858676589 and parameters: {'solver': 'lbfgs', 'penalty': 'none', 'C': 1.977042351604724, 'max_iter': 1069, 'tol': 0.5808239088195244}. Best is trial 16 with value: 0.7681297834595785.\u001b[0m\n",
      "\u001b[32m[I 2022-04-06 18:26:08,435]\u001b[0m Trial 46 finished with value: 0.5100628192340945 and parameters: {'solver': 'sag', 'penalty': 'l2', 'C': 4.999246448989924, 'max_iter': 462, 'tol': 0.8736023726535392}. Best is trial 16 with value: 0.7681297834595785.\u001b[0m\n",
      "\u001b[32m[I 2022-04-06 18:26:08,640]\u001b[0m Trial 47 finished with value: 0.7678449997385515 and parameters: {'solver': 'newton-cg', 'penalty': 'none', 'C': 3.005495549269502, 'max_iter': 53, 'tol': 0.8476048961300566}. Best is trial 16 with value: 0.7681297834595785.\u001b[0m\n",
      "\u001b[32m[I 2022-04-06 18:26:08,816]\u001b[0m Trial 48 finished with value: 0.767879953500389 and parameters: {'solver': 'newton-cg', 'penalty': 'l2', 'C': 3.853508896985911, 'max_iter': 936, 'tol': 0.9623555945101544}. Best is trial 16 with value: 0.7681297834595785.\u001b[0m\n",
      "\u001b[32m[I 2022-04-06 18:26:09,014]\u001b[0m Trial 49 finished with value: 0.7677465650447866 and parameters: {'solver': 'newton-cg', 'penalty': 'l2', 'C': 3.933596753580996, 'max_iter': 942, 'tol': 0.9651071480591091}. Best is trial 16 with value: 0.7681297834595785.\u001b[0m\n",
      "\u001b[32m[I 2022-04-06 18:26:09,170]\u001b[0m Trial 50 finished with value: 0.7271344973111852 and parameters: {'solver': 'newton-cg', 'penalty': 'l2', 'C': 0.02108766775067239, 'max_iter': 776, 'tol': 0.9620175012727159}. Best is trial 16 with value: 0.7681297834595785.\u001b[0m\n",
      "\u001b[32m[I 2022-04-06 18:26:09,366]\u001b[0m Trial 51 finished with value: 0.7671735778262135 and parameters: {'solver': 'newton-cg', 'penalty': 'l2', 'C': 1.425854608805031, 'max_iter': 1193, 'tol': 0.7615246100305548}. Best is trial 16 with value: 0.7681297834595785.\u001b[0m\n",
      "\u001b[32m[I 2022-04-06 18:26:09,763]\u001b[0m Trial 52 finished with value: 0.7672297469601987 and parameters: {'solver': 'lbfgs', 'penalty': 'l2', 'C': 6.82849678920131, 'max_iter': 1786, 'tol': 0.8973223022189386}. Best is trial 16 with value: 0.7681297834595785.\u001b[0m\n",
      "\u001b[32m[I 2022-04-06 18:26:09,818]\u001b[0m Trial 53 finished with value: 0.5551348675360424 and parameters: {'solver': 'sag', 'penalty': 'l2', 'C': 2.3291984735289493, 'max_iter': 572, 'tol': 0.2276634888435728}. Best is trial 16 with value: 0.7681297834595785.\u001b[0m\n",
      "\u001b[32m[I 2022-04-06 18:26:09,871]\u001b[0m Trial 54 finished with value: 0.5462210417962582 and parameters: {'solver': 'saga', 'penalty': 'none', 'C': 8.036096078346873, 'max_iter': 1131, 'tol': 0.9989643816522189}. Best is trial 16 with value: 0.7681297834595785.\u001b[0m\n",
      "\u001b[32m[I 2022-04-06 18:26:10,059]\u001b[0m Trial 55 finished with value: 0.7678433522678404 and parameters: {'solver': 'newton-cg', 'penalty': 'l2', 'C': 3.700199925487532, 'max_iter': 932, 'tol': 0.8033051281535418}. Best is trial 16 with value: 0.7681297834595785.\u001b[0m\n",
      "\u001b[32m[I 2022-04-06 18:26:10,438]\u001b[0m Trial 56 finished with value: 0.7657125605415616 and parameters: {'solver': 'lbfgs', 'penalty': 'l2', 'C': 0.5698737254935056, 'max_iter': 1294, 'tol': 0.7201162033306214}. Best is trial 16 with value: 0.7681297834595785.\u001b[0m\n",
      "\u001b[32m[I 2022-04-06 18:26:10,656]\u001b[0m Trial 57 finished with value: 0.7671024433667955 and parameters: {'solver': 'newton-cg', 'penalty': 'l2', 'C': 9.360819301713153, 'max_iter': 493, 'tol': 0.00896743466394162}. Best is trial 16 with value: 0.7681297834595785.\u001b[0m\n",
      "\u001b[32m[I 2022-04-06 18:26:10,828]\u001b[0m Trial 58 finished with value: 0.7678870118412984 and parameters: {'solver': 'newton-cg', 'penalty': 'l2', 'C': 4.657563387174356, 'max_iter': 935, 'tol': 0.9548942295323699}. Best is trial 16 with value: 0.7681297834595785.\u001b[0m\n",
      "\u001b[32m[I 2022-04-06 18:26:10,998]\u001b[0m Trial 59 finished with value: 0.7678258965083409 and parameters: {'solver': 'newton-cg', 'penalty': 'l2', 'C': 4.526037968322564, 'max_iter': 897, 'tol': 0.8853899699286545}. Best is trial 16 with value: 0.7681297834595785.\u001b[0m\n",
      "\u001b[32m[I 2022-04-06 18:26:11,236]\u001b[0m Trial 60 finished with value: 0.767854594543205 and parameters: {'solver': 'newton-cg', 'penalty': 'l2', 'C': 5.190208151897963, 'max_iter': 759, 'tol': 0.9438021655152928}. Best is trial 16 with value: 0.7681297834595785.\u001b[0m\n",
      "\u001b[32m[I 2022-04-06 18:26:11,430]\u001b[0m Trial 61 finished with value: 0.7678721347883819 and parameters: {'solver': 'newton-cg', 'penalty': 'l2', 'C': 3.3101097748174624, 'max_iter': 645, 'tol': 0.9690301989027493}. Best is trial 16 with value: 0.7681297834595785.\u001b[0m\n",
      "\u001b[32m[I 2022-04-06 18:26:11,665]\u001b[0m Trial 62 finished with value: 0.7678468603168758 and parameters: {'solver': 'newton-cg', 'penalty': 'l2', 'C': 6.623487820770244, 'max_iter': 849, 'tol': 0.8497593210196618}. Best is trial 16 with value: 0.7681297834595785.\u001b[0m\n",
      "\u001b[32m[I 2022-04-06 18:26:11,988]\u001b[0m Trial 63 finished with value: 0.7682423348351622 and parameters: {'solver': 'lbfgs', 'penalty': 'l2', 'C': 2.453331928122071, 'max_iter': 998, 'tol': 0.9113979831472538}. Best is trial 63 with value: 0.7682423348351622.\u001b[0m\n",
      "\u001b[32m[I 2022-04-06 18:26:12,276]\u001b[0m Trial 64 finished with value: 0.7682279646963107 and parameters: {'solver': 'lbfgs', 'penalty': 'l2', 'C': 2.367189049427254, 'max_iter': 1034, 'tol': 0.9036651028093695}. Best is trial 63 with value: 0.7682423348351622.\u001b[0m\n",
      "\u001b[32m[I 2022-04-06 18:26:12,641]\u001b[0m Trial 65 finished with value: 0.7682632967502775 and parameters: {'solver': 'lbfgs', 'penalty': 'none', 'C': 2.4762454661112283, 'max_iter': 1531, 'tol': 0.898813503242077}. Best is trial 65 with value: 0.7682632967502775.\u001b[0m\n",
      "\u001b[32m[I 2022-04-06 18:26:13,156]\u001b[0m Trial 66 finished with value: 0.7674765316481598 and parameters: {'solver': 'lbfgs', 'penalty': 'none', 'C': 2.355454941085536, 'max_iter': 1770, 'tol': 0.7423132734406127}. Best is trial 65 with value: 0.7682632967502775.\u001b[0m\n"
     ]
    },
    {
     "name": "stderr",
     "output_type": "stream",
     "text": [
      "\u001b[32m[I 2022-04-06 18:26:13,476]\u001b[0m Trial 67 finished with value: 0.7682632967502775 and parameters: {'solver': 'lbfgs', 'penalty': 'none', 'C': 1.5817055462056797, 'max_iter': 1473, 'tol': 0.8892875061242701}. Best is trial 65 with value: 0.7682632967502775.\u001b[0m\n",
      "\u001b[32m[I 2022-04-06 18:26:13,822]\u001b[0m Trial 68 finished with value: 0.7682632967502775 and parameters: {'solver': 'lbfgs', 'penalty': 'none', 'C': 1.7671772554820309, 'max_iter': 1481, 'tol': 0.9033947383767297}. Best is trial 65 with value: 0.7682632967502775.\u001b[0m\n",
      "\u001b[32m[I 2022-04-06 18:26:14,180]\u001b[0m Trial 69 finished with value: 0.7682632967502775 and parameters: {'solver': 'lbfgs', 'penalty': 'none', 'C': 1.6025519369415917, 'max_iter': 1527, 'tol': 0.9083207267118852}. Best is trial 65 with value: 0.7682632967502775.\u001b[0m\n",
      "\u001b[32m[I 2022-04-06 18:26:14,519]\u001b[0m Trial 70 finished with value: 0.7682632967502775 and parameters: {'solver': 'lbfgs', 'penalty': 'none', 'C': 1.631947927770026, 'max_iter': 1453, 'tol': 0.9042528191666961}. Best is trial 65 with value: 0.7682632967502775.\u001b[0m\n",
      "\u001b[32m[I 2022-04-06 18:26:14,878]\u001b[0m Trial 71 finished with value: 0.7682632967502775 and parameters: {'solver': 'lbfgs', 'penalty': 'none', 'C': 2.432876891111751, 'max_iter': 1497, 'tol': 0.906924638477745}. Best is trial 65 with value: 0.7682632967502775.\u001b[0m\n",
      "\u001b[32m[I 2022-04-06 18:26:15,350]\u001b[0m Trial 72 finished with value: 0.7674765316481598 and parameters: {'solver': 'lbfgs', 'penalty': 'none', 'C': 1.795567815188097, 'max_iter': 1509, 'tol': 0.7997167369053262}. Best is trial 65 with value: 0.7682632967502775.\u001b[0m\n",
      "\u001b[32m[I 2022-04-06 18:26:15,818]\u001b[0m Trial 73 finished with value: 0.7683926279999407 and parameters: {'solver': 'lbfgs', 'penalty': 'none', 'C': 0.3595544920908258, 'max_iter': 1656, 'tol': 0.8303852448559972}. Best is trial 73 with value: 0.7683926279999407.\u001b[0m\n",
      "\u001b[32m[I 2022-04-06 18:26:16,295]\u001b[0m Trial 74 finished with value: 0.7683926279999407 and parameters: {'solver': 'lbfgs', 'penalty': 'none', 'C': 0.25016952609332055, 'max_iter': 1661, 'tol': 0.8245740241920408}. Best is trial 73 with value: 0.7683926279999407.\u001b[0m\n",
      "\u001b[32m[I 2022-04-06 18:26:16,792]\u001b[0m Trial 75 finished with value: 0.7683926279999407 and parameters: {'solver': 'lbfgs', 'penalty': 'none', 'C': 0.30305547710547875, 'max_iter': 1671, 'tol': 0.8339980401248377}. Best is trial 73 with value: 0.7683926279999407.\u001b[0m\n",
      "\u001b[32m[I 2022-04-06 18:26:17,140]\u001b[0m Trial 76 finished with value: 0.7683926279999407 and parameters: {'solver': 'lbfgs', 'penalty': 'none', 'C': 0.30234050111225574, 'max_iter': 1650, 'tol': 0.8288426561572116}. Best is trial 73 with value: 0.7683926279999407.\u001b[0m\n",
      "\u001b[32m[I 2022-04-06 18:26:17,699]\u001b[0m Trial 77 finished with value: 0.7670454274826157 and parameters: {'solver': 'lbfgs', 'penalty': 'none', 'C': 0.382378764989175, 'max_iter': 1669, 'tol': 0.7036548385019727}. Best is trial 73 with value: 0.7683926279999407.\u001b[0m\n",
      "\u001b[32m[I 2022-04-06 18:26:18,333]\u001b[0m Trial 78 finished with value: 0.7674765316481598 and parameters: {'solver': 'lbfgs', 'penalty': 'none', 'C': 0.9410373384434614, 'max_iter': 1643, 'tol': 0.775053543035054}. Best is trial 73 with value: 0.7683926279999407.\u001b[0m\n",
      "\u001b[32m[I 2022-04-06 18:26:18,801]\u001b[0m Trial 79 finished with value: 0.7683926279999407 and parameters: {'solver': 'lbfgs', 'penalty': 'none', 'C': 0.05996260260069419, 'max_iter': 1414, 'tol': 0.8267310025663039}. Best is trial 73 with value: 0.7683926279999407.\u001b[0m\n",
      "\u001b[32m[I 2022-04-06 18:26:19,294]\u001b[0m Trial 80 finished with value: 0.7683926279999407 and parameters: {'solver': 'lbfgs', 'penalty': 'none', 'C': 0.23534416996474272, 'max_iter': 1720, 'tol': 0.8235600858203094}. Best is trial 73 with value: 0.7683926279999407.\u001b[0m\n",
      "\u001b[32m[I 2022-04-06 18:26:19,708]\u001b[0m Trial 81 finished with value: 0.7683926279999407 and parameters: {'solver': 'lbfgs', 'penalty': 'none', 'C': 0.22682945092303153, 'max_iter': 1893, 'tol': 0.8243110269600902}. Best is trial 73 with value: 0.7683926279999407.\u001b[0m\n",
      "\u001b[32m[I 2022-04-06 18:26:20,261]\u001b[0m Trial 82 finished with value: 0.7669412439759427 and parameters: {'solver': 'lbfgs', 'penalty': 'none', 'C': 0.36548420497795603, 'max_iter': 1914, 'tol': 0.6589354776322834}. Best is trial 73 with value: 0.7683926279999407.\u001b[0m\n",
      "\u001b[32m[I 2022-04-06 18:26:20,613]\u001b[0m Trial 83 finished with value: 0.7683926279999407 and parameters: {'solver': 'lbfgs', 'penalty': 'none', 'C': 0.03135624805528692, 'max_iter': 1722, 'tol': 0.8234247722358926}. Best is trial 73 with value: 0.7683926279999407.\u001b[0m\n",
      "\u001b[32m[I 2022-04-06 18:26:21,035]\u001b[0m Trial 84 finished with value: 0.7683926279999407 and parameters: {'solver': 'lbfgs', 'penalty': 'none', 'C': 0.08093334372295316, 'max_iter': 1701, 'tol': 0.8282945885325907}. Best is trial 73 with value: 0.7683926279999407.\u001b[0m\n",
      "\u001b[32m[I 2022-04-06 18:26:21,549]\u001b[0m Trial 85 finished with value: 0.7674765316481598 and parameters: {'solver': 'lbfgs', 'penalty': 'none', 'C': 0.018474608892487084, 'max_iter': 1744, 'tol': 0.7501083861334477}. Best is trial 73 with value: 0.7683926279999407.\u001b[0m\n",
      "\u001b[32m[I 2022-04-06 18:26:21,916]\u001b[0m Trial 86 finished with value: 0.7683926279999407 and parameters: {'solver': 'lbfgs', 'penalty': 'none', 'C': 0.8921303921054313, 'max_iter': 1845, 'tol': 0.8053871600923886}. Best is trial 73 with value: 0.7683926279999407.\u001b[0m\n",
      "\u001b[32m[I 2022-04-06 18:26:22,432]\u001b[0m Trial 87 finished with value: 0.7674765316481598 and parameters: {'solver': 'lbfgs', 'penalty': 'none', 'C': 0.932746854669373, 'max_iter': 1863, 'tol': 0.7830818283081712}. Best is trial 73 with value: 0.7683926279999407.\u001b[0m\n",
      "\u001b[32m[I 2022-04-06 18:26:22,850]\u001b[0m Trial 88 finished with value: 0.7683926279999407 and parameters: {'solver': 'lbfgs', 'penalty': 'none', 'C': 0.7049779545436206, 'max_iter': 1984, 'tol': 0.8192389774674961}. Best is trial 73 with value: 0.7683926279999407.\u001b[0m\n",
      "\u001b[32m[I 2022-04-06 18:26:23,312]\u001b[0m Trial 89 finished with value: 0.7683926279999407 and parameters: {'solver': 'lbfgs', 'penalty': 'none', 'C': 0.7316918832781283, 'max_iter': 1938, 'tol': 0.8394050881263448}. Best is trial 73 with value: 0.7683926279999407.\u001b[0m\n",
      "\u001b[32m[I 2022-04-06 18:26:24,067]\u001b[0m Trial 90 finished with value: 0.7670454274826157 and parameters: {'solver': 'lbfgs', 'penalty': 'none', 'C': 1.2089198337363292, 'max_iter': 1714, 'tol': 0.733786090157244}. Best is trial 73 with value: 0.7683926279999407.\u001b[0m\n",
      "\u001b[32m[I 2022-04-06 18:26:24,768]\u001b[0m Trial 91 finished with value: 0.7674765316481598 and parameters: {'solver': 'lbfgs', 'penalty': 'none', 'C': 0.6524234690061015, 'max_iter': 1999, 'tol': 0.7972555878738378}. Best is trial 73 with value: 0.7683926279999407.\u001b[0m\n",
      "\u001b[32m[I 2022-04-06 18:26:25,210]\u001b[0m Trial 92 finished with value: 0.7683926279999407 and parameters: {'solver': 'lbfgs', 'penalty': 'none', 'C': 0.8639811588979806, 'max_iter': 1944, 'tol': 0.8604724638563737}. Best is trial 73 with value: 0.7683926279999407.\u001b[0m\n",
      "\u001b[32m[I 2022-04-06 18:26:25,591]\u001b[0m Trial 93 finished with value: 0.7683926279999407 and parameters: {'solver': 'lbfgs', 'penalty': 'none', 'C': 0.35172376618498236, 'max_iter': 1596, 'tol': 0.8670064157594208}. Best is trial 73 with value: 0.7683926279999407.\u001b[0m\n",
      "\u001b[32m[I 2022-04-06 18:26:26,000]\u001b[0m Trial 94 finished with value: 0.7683926279999407 and parameters: {'solver': 'lbfgs', 'penalty': 'none', 'C': 1.2286049600107356, 'max_iter': 1844, 'tol': 0.8573008928307688}. Best is trial 73 with value: 0.7683926279999407.\u001b[0m\n",
      "\u001b[32m[I 2022-04-06 18:26:26,054]\u001b[0m Trial 95 finished with value: 0.5462210417962582 and parameters: {'solver': 'saga', 'penalty': 'none', 'C': 0.3713066341790623, 'max_iter': 1587, 'tol': 0.7711854299850636}. Best is trial 73 with value: 0.7683926279999407.\u001b[0m\n",
      "\u001b[32m[I 2022-04-06 18:26:26,613]\u001b[0m Trial 96 finished with value: 0.7667669858676589 and parameters: {'solver': 'lbfgs', 'penalty': 'none', 'C': 1.1869685961119953, 'max_iter': 1813, 'tol': 0.5854704763952426}. Best is trial 73 with value: 0.7683926279999407.\u001b[0m\n",
      "\u001b[32m[I 2022-04-06 18:26:26,672]\u001b[0m Trial 97 finished with value: 0.5100628192340945 and parameters: {'solver': 'sag', 'penalty': 'none', 'C': 0.03498920547125678, 'max_iter': 1410, 'tol': 0.8256431828501783}. Best is trial 73 with value: 0.7683926279999407.\u001b[0m\n"
     ]
    },
    {
     "name": "stderr",
     "output_type": "stream",
     "text": [
      "\u001b[32m[I 2022-04-06 18:26:27,154]\u001b[0m Trial 98 finished with value: 0.7683926279999407 and parameters: {'solver': 'lbfgs', 'penalty': 'none', 'C': 0.7665866924782854, 'max_iter': 1619, 'tol': 0.8461280512838271}. Best is trial 73 with value: 0.7683926279999407.\u001b[0m\n",
      "\u001b[32m[I 2022-04-06 18:26:27,633]\u001b[0m Trial 99 finished with value: 0.7683926279999407 and parameters: {'solver': 'lbfgs', 'penalty': 'none', 'C': 0.273459307848602, 'max_iter': 1710, 'tol': 0.8338333420556034}. Best is trial 73 with value: 0.7683926279999407.\u001b[0m\n"
     ]
    },
    {
     "name": "stdout",
     "output_type": "stream",
     "text": [
      "FrozenTrial(number=73, values=[0.7683926279999407], datetime_start=datetime.datetime(2022, 4, 6, 18, 26, 15, 350114), datetime_complete=datetime.datetime(2022, 4, 6, 18, 26, 15, 817669), params={'solver': 'lbfgs', 'penalty': 'none', 'C': 0.3595544920908258, 'max_iter': 1656, 'tol': 0.8303852448559972}, distributions={'solver': CategoricalDistribution(choices=('newton-cg', 'lbfgs', 'saga', 'sag')), 'penalty': CategoricalDistribution(choices=('l2', 'none')), 'C': UniformDistribution(high=15.0, low=0.01), 'max_iter': IntUniformDistribution(high=2000, low=50, step=1), 'tol': UniformDistribution(high=1.0, low=0.0001)}, user_attrs={}, system_attrs={}, intermediate_values={}, trial_id=73, state=TrialState.COMPLETE, value=None)\n"
     ]
    }
   ],
   "source": [
    "def lr_objective(trial):\n",
    "    \n",
    "    lr_solver = trial.suggest_categorical('solver', ['newton-cg', 'lbfgs','saga','sag'])\n",
    "    lr_penalty = trial.suggest_categorical('penalty', ['l2', 'none'])\n",
    "    lr_C = trial.suggest_float(\"C\", 0.01, 15)\n",
    "    lr_max_iter = trial.suggest_int('max_iter', 50, 2000)\n",
    "    lr_tol = trial.suggest_float('tol', 1e-4, 1)\n",
    "    \n",
    "    regression_obj = LogisticRegression(solver = lr_solver,\n",
    "                                        penalty = lr_penalty,\n",
    "                                        C = lr_C,\n",
    "                                        n_jobs = -1,\n",
    "                                        random_state = 0,\n",
    "                                        max_iter = lr_max_iter,\n",
    "                                        tol = lr_tol)\n",
    "    \n",
    "    score = model_selection.cross_val_score(regression_obj, X, y, cv = 5, n_jobs = -1, scoring = 'roc_auc')\n",
    "    roc_auc = score.mean()\n",
    "    return roc_auc\n",
    "\n",
    "lr_study = optuna.create_study(direction = 'maximize')\n",
    "lr_study.optimize(lr_objective, n_trials = 100)\n",
    "print(lr_study.best_trial)"
   ]
  },
  {
   "cell_type": "markdown",
   "metadata": {
    "id": "CncS5RzRTo6Z"
   },
   "source": [
    "###**k-NN**"
   ]
  },
  {
   "cell_type": "markdown",
   "metadata": {
    "id": "uWMZh4VATwO_"
   },
   "source": [
    "- 거리기반 분류분석 모델\n",
    "- 데이터로부터 거리가 가까운 'k'개의 다른 데이터의 레이블을 참조하여 분류하는 알고리즘"
   ]
  },
  {
   "cell_type": "markdown",
   "metadata": {
    "id": "BW2XbtoOT0nS"
   },
   "source": [
    "**하이퍼 파라미터 종류 및 설명**"
   ]
  },
  {
   "cell_type": "markdown",
   "metadata": {
    "id": "dLTR8GPvUQ1q"
   },
   "source": [
    "- Distance (거리) : 유클리디안 거리, 맨하탄 거리 두가지를 일반적으로 많이씀\n",
    "- 이웃수 : n_neighbors = K  \n",
    "K가 작을 수록 모델이 복잡해져 과적합이 일어나고 너무 크면 단순해져 성능이 나빠진다.  \n",
    "n_neighbors는 Feature수의 제곱근 정도를 지정할 때 성능이 좋은 것으로 알려져 있다."
   ]
  },
  {
   "cell_type": "code",
   "execution_count": 9,
   "metadata": {
    "id": "EtJlEA39VcRh"
   },
   "outputs": [
    {
     "name": "stderr",
     "output_type": "stream",
     "text": [
      "\u001b[32m[I 2022-04-06 18:26:27,658]\u001b[0m A new study created in memory with name: no-name-2654aefd-333f-4517-8e42-7aab37d5e2b0\u001b[0m\n",
      "\u001b[32m[I 2022-04-06 18:26:27,792]\u001b[0m Trial 0 finished with value: 0.660302765152501 and parameters: {'n_neighbors': 79, 'weights': 'uniform', 'metric': 'manhattan'}. Best is trial 0 with value: 0.660302765152501.\u001b[0m\n",
      "\u001b[32m[I 2022-04-06 18:26:27,916]\u001b[0m Trial 1 finished with value: 0.6663259793147513 and parameters: {'n_neighbors': 76, 'weights': 'distance', 'metric': 'minkowski'}. Best is trial 1 with value: 0.6663259793147513.\u001b[0m\n",
      "\u001b[32m[I 2022-04-06 18:26:28,047]\u001b[0m Trial 2 finished with value: 0.6661684969999018 and parameters: {'n_neighbors': 110, 'weights': 'uniform', 'metric': 'manhattan'}. Best is trial 1 with value: 0.6663259793147513.\u001b[0m\n",
      "\u001b[32m[I 2022-04-06 18:26:28,150]\u001b[0m Trial 3 finished with value: 0.6463236313049945 and parameters: {'n_neighbors': 64, 'weights': 'uniform', 'metric': 'euclidean'}. Best is trial 1 with value: 0.6663259793147513.\u001b[0m\n",
      "\u001b[32m[I 2022-04-06 18:26:28,246]\u001b[0m Trial 4 finished with value: 0.6466752063405323 and parameters: {'n_neighbors': 80, 'weights': 'uniform', 'metric': 'euclidean'}. Best is trial 1 with value: 0.6663259793147513.\u001b[0m\n",
      "\u001b[32m[I 2022-04-06 18:26:28,368]\u001b[0m Trial 5 finished with value: 0.6821499699032505 and parameters: {'n_neighbors': 121, 'weights': 'distance', 'metric': 'manhattan'}. Best is trial 5 with value: 0.6821499699032505.\u001b[0m\n",
      "\u001b[32m[I 2022-04-06 18:26:28,478]\u001b[0m Trial 6 finished with value: 0.6728008907326284 and parameters: {'n_neighbors': 83, 'weights': 'distance', 'metric': 'manhattan'}. Best is trial 5 with value: 0.6821499699032505.\u001b[0m\n",
      "\u001b[32m[I 2022-04-06 18:26:28,611]\u001b[0m Trial 7 finished with value: 0.6598976718680124 and parameters: {'n_neighbors': 140, 'weights': 'uniform', 'metric': 'manhattan'}. Best is trial 5 with value: 0.6821499699032505.\u001b[0m\n",
      "\u001b[32m[I 2022-04-06 18:26:28,715]\u001b[0m Trial 8 finished with value: 0.6565929721214658 and parameters: {'n_neighbors': 55, 'weights': 'uniform', 'metric': 'manhattan'}. Best is trial 5 with value: 0.6821499699032505.\u001b[0m\n",
      "\u001b[32m[I 2022-04-06 18:26:28,819]\u001b[0m Trial 9 finished with value: 0.6623505880913513 and parameters: {'n_neighbors': 55, 'weights': 'distance', 'metric': 'euclidean'}. Best is trial 5 with value: 0.6821499699032505.\u001b[0m\n",
      "\u001b[32m[I 2022-04-06 18:26:28,948]\u001b[0m Trial 10 finished with value: 0.6695516492716794 and parameters: {'n_neighbors': 117, 'weights': 'distance', 'metric': 'minkowski'}. Best is trial 5 with value: 0.6821499699032505.\u001b[0m\n",
      "\u001b[32m[I 2022-04-06 18:26:29,074]\u001b[0m Trial 11 finished with value: 0.6802595324863466 and parameters: {'n_neighbors': 131, 'weights': 'distance', 'metric': 'manhattan'}. Best is trial 5 with value: 0.6821499699032505.\u001b[0m\n",
      "\u001b[32m[I 2022-04-06 18:26:29,208]\u001b[0m Trial 12 finished with value: 0.6817468034014733 and parameters: {'n_neighbors': 145, 'weights': 'distance', 'metric': 'manhattan'}. Best is trial 5 with value: 0.6821499699032505.\u001b[0m\n",
      "\u001b[32m[I 2022-04-06 18:26:29,368]\u001b[0m Trial 13 finished with value: 0.6824601529308808 and parameters: {'n_neighbors': 146, 'weights': 'distance', 'metric': 'manhattan'}. Best is trial 13 with value: 0.6824601529308808.\u001b[0m\n",
      "\u001b[32m[I 2022-04-06 18:26:29,505]\u001b[0m Trial 14 finished with value: 0.6689305247387409 and parameters: {'n_neighbors': 126, 'weights': 'distance', 'metric': 'minkowski'}. Best is trial 13 with value: 0.6824601529308808.\u001b[0m\n",
      "\u001b[32m[I 2022-04-06 18:26:29,629]\u001b[0m Trial 15 finished with value: 0.6773450247160172 and parameters: {'n_neighbors': 100, 'weights': 'distance', 'metric': 'manhattan'}. Best is trial 13 with value: 0.6824601529308808.\u001b[0m\n",
      "\u001b[32m[I 2022-04-06 18:26:29,784]\u001b[0m Trial 16 finished with value: 0.681350272812218 and parameters: {'n_neighbors': 149, 'weights': 'distance', 'metric': 'manhattan'}. Best is trial 13 with value: 0.6824601529308808.\u001b[0m\n",
      "\u001b[32m[I 2022-04-06 18:26:29,900]\u001b[0m Trial 17 finished with value: 0.6789246820252905 and parameters: {'n_neighbors': 105, 'weights': 'distance', 'metric': 'manhattan'}. Best is trial 13 with value: 0.6824601529308808.\u001b[0m\n",
      "\u001b[32m[I 2022-04-06 18:26:30,046]\u001b[0m Trial 18 finished with value: 0.6684790462709852 and parameters: {'n_neighbors': 131, 'weights': 'distance', 'metric': 'euclidean'}. Best is trial 13 with value: 0.6824601529308808.\u001b[0m\n",
      "\u001b[32m[I 2022-04-06 18:26:30,176]\u001b[0m Trial 19 finished with value: 0.6692716370980114 and parameters: {'n_neighbors': 96, 'weights': 'distance', 'metric': 'minkowski'}. Best is trial 13 with value: 0.6824601529308808.\u001b[0m\n",
      "\u001b[32m[I 2022-04-06 18:26:30,300]\u001b[0m Trial 20 finished with value: 0.6830800139654956 and parameters: {'n_neighbors': 120, 'weights': 'distance', 'metric': 'manhattan'}. Best is trial 20 with value: 0.6830800139654956.\u001b[0m\n",
      "\u001b[32m[I 2022-04-06 18:26:30,450]\u001b[0m Trial 21 finished with value: 0.6830800139654956 and parameters: {'n_neighbors': 120, 'weights': 'distance', 'metric': 'manhattan'}. Best is trial 20 with value: 0.6830800139654956.\u001b[0m\n",
      "\u001b[32m[I 2022-04-06 18:26:30,605]\u001b[0m Trial 22 finished with value: 0.6805899208448334 and parameters: {'n_neighbors': 139, 'weights': 'distance', 'metric': 'manhattan'}. Best is trial 20 with value: 0.6830800139654956.\u001b[0m\n",
      "\u001b[32m[I 2022-04-06 18:26:30,756]\u001b[0m Trial 23 finished with value: 0.6817709373163334 and parameters: {'n_neighbors': 115, 'weights': 'distance', 'metric': 'manhattan'}. Best is trial 20 with value: 0.6830800139654956.\u001b[0m\n",
      "\u001b[32m[I 2022-04-06 18:26:30,892]\u001b[0m Trial 24 finished with value: 0.6753163409170551 and parameters: {'n_neighbors': 92, 'weights': 'distance', 'metric': 'manhattan'}. Best is trial 20 with value: 0.6830800139654956.\u001b[0m\n",
      "\u001b[32m[I 2022-04-06 18:26:31,048]\u001b[0m Trial 25 finished with value: 0.6799103000349398 and parameters: {'n_neighbors': 136, 'weights': 'distance', 'metric': 'manhattan'}. Best is trial 20 with value: 0.6830800139654956.\u001b[0m\n",
      "\u001b[32m[I 2022-04-06 18:26:31,204]\u001b[0m Trial 26 finished with value: 0.6820016161222155 and parameters: {'n_neighbors': 124, 'weights': 'distance', 'metric': 'manhattan'}. Best is trial 20 with value: 0.6830800139654956.\u001b[0m\n",
      "\u001b[32m[I 2022-04-06 18:26:31,344]\u001b[0m Trial 27 finished with value: 0.6706334612112202 and parameters: {'n_neighbors': 108, 'weights': 'distance', 'metric': 'euclidean'}. Best is trial 20 with value: 0.6830800139654956.\u001b[0m\n",
      "\u001b[32m[I 2022-04-06 18:26:31,498]\u001b[0m Trial 28 finished with value: 0.6812092289357057 and parameters: {'n_neighbors': 130, 'weights': 'distance', 'metric': 'manhattan'}. Best is trial 20 with value: 0.6830800139654956.\u001b[0m\n",
      "\u001b[32m[I 2022-04-06 18:26:31,672]\u001b[0m Trial 29 finished with value: 0.640912324510255 and parameters: {'n_neighbors': 150, 'weights': 'uniform', 'metric': 'minkowski'}. Best is trial 20 with value: 0.6830800139654956.\u001b[0m\n",
      "\u001b[32m[I 2022-04-06 18:26:31,814]\u001b[0m Trial 30 finished with value: 0.6817709373163334 and parameters: {'n_neighbors': 115, 'weights': 'distance', 'metric': 'manhattan'}. Best is trial 20 with value: 0.6830800139654956.\u001b[0m\n",
      "\u001b[32m[I 2022-04-06 18:26:31,937]\u001b[0m Trial 31 finished with value: 0.6821499699032505 and parameters: {'n_neighbors': 121, 'weights': 'distance', 'metric': 'manhattan'}. Best is trial 20 with value: 0.6830800139654956.\u001b[0m\n",
      "\u001b[32m[I 2022-04-06 18:26:32,063]\u001b[0m Trial 32 finished with value: 0.6830800139654956 and parameters: {'n_neighbors': 120, 'weights': 'distance', 'metric': 'manhattan'}. Best is trial 20 with value: 0.6830800139654956.\u001b[0m\n",
      "\u001b[32m[I 2022-04-06 18:26:32,189]\u001b[0m Trial 33 finished with value: 0.67439096942204 and parameters: {'n_neighbors': 90, 'weights': 'distance', 'metric': 'manhattan'}. Best is trial 20 with value: 0.6830800139654956.\u001b[0m\n",
      "\u001b[32m[I 2022-04-06 18:26:32,323]\u001b[0m Trial 34 finished with value: 0.6801773332433058 and parameters: {'n_neighbors': 111, 'weights': 'distance', 'metric': 'manhattan'}. Best is trial 20 with value: 0.6830800139654956.\u001b[0m\n",
      "\u001b[32m[I 2022-04-06 18:26:32,440]\u001b[0m Trial 35 finished with value: 0.6641364479744849 and parameters: {'n_neighbors': 105, 'weights': 'uniform', 'metric': 'manhattan'}. Best is trial 20 with value: 0.6830800139654956.\u001b[0m\n",
      "\u001b[32m[I 2022-04-06 18:26:32,544]\u001b[0m Trial 36 finished with value: 0.6731188694574268 and parameters: {'n_neighbors': 69, 'weights': 'distance', 'metric': 'manhattan'}. Best is trial 20 with value: 0.6830800139654956.\u001b[0m\n"
     ]
    },
    {
     "name": "stderr",
     "output_type": "stream",
     "text": [
      "\u001b[32m[I 2022-04-06 18:26:32,667]\u001b[0m Trial 37 finished with value: 0.6392069445800959 and parameters: {'n_neighbors': 135, 'weights': 'uniform', 'metric': 'euclidean'}. Best is trial 20 with value: 0.6830800139654956.\u001b[0m\n",
      "\u001b[32m[I 2022-04-06 18:26:32,815]\u001b[0m Trial 38 finished with value: 0.6699965321763324 and parameters: {'n_neighbors': 144, 'weights': 'distance', 'metric': 'minkowski'}. Best is trial 20 with value: 0.6830800139654956.\u001b[0m\n",
      "\u001b[32m[I 2022-04-06 18:26:32,963]\u001b[0m Trial 39 finished with value: 0.6811820554298751 and parameters: {'n_neighbors': 127, 'weights': 'distance', 'metric': 'manhattan'}. Best is trial 20 with value: 0.6830800139654956.\u001b[0m\n",
      "\u001b[32m[I 2022-04-06 18:26:33,108]\u001b[0m Trial 40 finished with value: 0.666938593515295 and parameters: {'n_neighbors': 120, 'weights': 'uniform', 'metric': 'manhattan'}. Best is trial 20 with value: 0.6830800139654956.\u001b[0m\n",
      "\u001b[32m[I 2022-04-06 18:26:33,223]\u001b[0m Trial 41 finished with value: 0.6810310037874185 and parameters: {'n_neighbors': 112, 'weights': 'distance', 'metric': 'manhattan'}. Best is trial 20 with value: 0.6830800139654956.\u001b[0m\n",
      "\u001b[32m[I 2022-04-06 18:26:33,339]\u001b[0m Trial 42 finished with value: 0.6814602051317994 and parameters: {'n_neighbors': 119, 'weights': 'distance', 'metric': 'manhattan'}. Best is trial 20 with value: 0.6830800139654956.\u001b[0m\n",
      "\u001b[32m[I 2022-04-06 18:26:33,461]\u001b[0m Trial 43 finished with value: 0.6821002197873355 and parameters: {'n_neighbors': 125, 'weights': 'distance', 'metric': 'manhattan'}. Best is trial 20 with value: 0.6830800139654956.\u001b[0m\n",
      "\u001b[32m[I 2022-04-06 18:26:33,593]\u001b[0m Trial 44 finished with value: 0.6821499699032505 and parameters: {'n_neighbors': 121, 'weights': 'distance', 'metric': 'manhattan'}. Best is trial 20 with value: 0.6830800139654956.\u001b[0m\n",
      "\u001b[32m[I 2022-04-06 18:26:33,726]\u001b[0m Trial 45 finished with value: 0.6772751228726005 and parameters: {'n_neighbors': 102, 'weights': 'distance', 'metric': 'manhattan'}. Best is trial 20 with value: 0.6830800139654956.\u001b[0m\n",
      "\u001b[32m[I 2022-04-06 18:26:33,848]\u001b[0m Trial 46 finished with value: 0.6675822278010279 and parameters: {'n_neighbors': 133, 'weights': 'distance', 'metric': 'euclidean'}. Best is trial 20 with value: 0.6830800139654956.\u001b[0m\n",
      "\u001b[32m[I 2022-04-06 18:26:33,978]\u001b[0m Trial 47 finished with value: 0.680784679983845 and parameters: {'n_neighbors': 141, 'weights': 'distance', 'metric': 'manhattan'}. Best is trial 20 with value: 0.6830800139654956.\u001b[0m\n",
      "\u001b[32m[I 2022-04-06 18:26:34,099]\u001b[0m Trial 48 finished with value: 0.6610853828827442 and parameters: {'n_neighbors': 108, 'weights': 'uniform', 'metric': 'manhattan'}. Best is trial 20 with value: 0.6830800139654956.\u001b[0m\n",
      "\u001b[32m[I 2022-04-06 18:26:34,243]\u001b[0m Trial 49 finished with value: 0.6691543602047461 and parameters: {'n_neighbors': 129, 'weights': 'distance', 'metric': 'minkowski'}. Best is trial 20 with value: 0.6830800139654956.\u001b[0m\n",
      "\u001b[32m[I 2022-04-06 18:26:34,363]\u001b[0m Trial 50 finished with value: 0.6728008907326284 and parameters: {'n_neighbors': 83, 'weights': 'distance', 'metric': 'manhattan'}. Best is trial 20 with value: 0.6830800139654956.\u001b[0m\n",
      "\u001b[32m[I 2022-04-06 18:26:34,485]\u001b[0m Trial 51 finished with value: 0.6828091117505455 and parameters: {'n_neighbors': 122, 'weights': 'distance', 'metric': 'manhattan'}. Best is trial 20 with value: 0.6830800139654956.\u001b[0m\n",
      "\u001b[32m[I 2022-04-06 18:26:34,606]\u001b[0m Trial 52 finished with value: 0.6835759029107099 and parameters: {'n_neighbors': 123, 'weights': 'distance', 'metric': 'manhattan'}. Best is trial 52 with value: 0.6835759029107099.\u001b[0m\n",
      "\u001b[32m[I 2022-04-06 18:26:34,721]\u001b[0m Trial 53 finished with value: 0.682238075276232 and parameters: {'n_neighbors': 114, 'weights': 'distance', 'metric': 'manhattan'}. Best is trial 52 with value: 0.6835759029107099.\u001b[0m\n",
      "\u001b[32m[I 2022-04-06 18:26:34,840]\u001b[0m Trial 54 finished with value: 0.6820016161222155 and parameters: {'n_neighbors': 124, 'weights': 'distance', 'metric': 'manhattan'}. Best is trial 52 with value: 0.6835759029107099.\u001b[0m\n",
      "\u001b[32m[I 2022-04-06 18:26:34,966]\u001b[0m Trial 55 finished with value: 0.680285740087144 and parameters: {'n_neighbors': 138, 'weights': 'distance', 'metric': 'manhattan'}. Best is trial 52 with value: 0.6835759029107099.\u001b[0m\n",
      "\u001b[32m[I 2022-04-06 18:26:35,098]\u001b[0m Trial 56 finished with value: 0.6824601529308808 and parameters: {'n_neighbors': 146, 'weights': 'distance', 'metric': 'manhattan'}. Best is trial 52 with value: 0.6835759029107099.\u001b[0m\n",
      "\u001b[32m[I 2022-04-06 18:26:35,228]\u001b[0m Trial 57 finished with value: 0.682820379880878 and parameters: {'n_neighbors': 117, 'weights': 'distance', 'metric': 'manhattan'}. Best is trial 52 with value: 0.6835759029107099.\u001b[0m\n",
      "\u001b[32m[I 2022-04-06 18:26:35,359]\u001b[0m Trial 58 finished with value: 0.6695516492716794 and parameters: {'n_neighbors': 117, 'weights': 'distance', 'metric': 'euclidean'}. Best is trial 52 with value: 0.6835759029107099.\u001b[0m\n",
      "\u001b[32m[I 2022-04-06 18:26:35,494]\u001b[0m Trial 59 finished with value: 0.6835759029107099 and parameters: {'n_neighbors': 123, 'weights': 'distance', 'metric': 'manhattan'}. Best is trial 52 with value: 0.6835759029107099.\u001b[0m\n",
      "\u001b[32m[I 2022-04-06 18:26:35,644]\u001b[0m Trial 60 finished with value: 0.6810346751275509 and parameters: {'n_neighbors': 128, 'weights': 'distance', 'metric': 'manhattan'}. Best is trial 52 with value: 0.6835759029107099.\u001b[0m\n",
      "\u001b[32m[I 2022-04-06 18:26:35,784]\u001b[0m Trial 61 finished with value: 0.6814602051317994 and parameters: {'n_neighbors': 119, 'weights': 'distance', 'metric': 'manhattan'}. Best is trial 52 with value: 0.6835759029107099.\u001b[0m\n",
      "\u001b[32m[I 2022-04-06 18:26:35,930]\u001b[0m Trial 62 finished with value: 0.6820016161222155 and parameters: {'n_neighbors': 124, 'weights': 'distance', 'metric': 'manhattan'}. Best is trial 52 with value: 0.6835759029107099.\u001b[0m\n",
      "\u001b[32m[I 2022-04-06 18:26:36,067]\u001b[0m Trial 63 finished with value: 0.6819714452682534 and parameters: {'n_neighbors': 113, 'weights': 'distance', 'metric': 'manhattan'}. Best is trial 52 with value: 0.6835759029107099.\u001b[0m\n",
      "\u001b[32m[I 2022-04-06 18:26:36,226]\u001b[0m Trial 64 finished with value: 0.6813635849866815 and parameters: {'n_neighbors': 132, 'weights': 'distance', 'metric': 'manhattan'}. Best is trial 52 with value: 0.6835759029107099.\u001b[0m\n",
      "\u001b[32m[I 2022-04-06 18:26:36,365]\u001b[0m Trial 65 finished with value: 0.6695516492716794 and parameters: {'n_neighbors': 117, 'weights': 'distance', 'metric': 'minkowski'}. Best is trial 52 with value: 0.6835759029107099.\u001b[0m\n",
      "\u001b[32m[I 2022-04-06 18:26:36,511]\u001b[0m Trial 66 finished with value: 0.6788199052254555 and parameters: {'n_neighbors': 109, 'weights': 'distance', 'metric': 'manhattan'}. Best is trial 52 with value: 0.6835759029107099.\u001b[0m\n",
      "\u001b[32m[I 2022-04-06 18:26:36,657]\u001b[0m Trial 67 finished with value: 0.6660795322756938 and parameters: {'n_neighbors': 122, 'weights': 'uniform', 'metric': 'manhattan'}. Best is trial 52 with value: 0.6835759029107099.\u001b[0m\n",
      "\u001b[32m[I 2022-04-06 18:26:36,805]\u001b[0m Trial 68 finished with value: 0.6789246820252905 and parameters: {'n_neighbors': 105, 'weights': 'distance', 'metric': 'manhattan'}. Best is trial 52 with value: 0.6835759029107099.\u001b[0m\n",
      "\u001b[32m[I 2022-04-06 18:26:36,946]\u001b[0m Trial 69 finished with value: 0.6826499677643396 and parameters: {'n_neighbors': 116, 'weights': 'distance', 'metric': 'manhattan'}. Best is trial 52 with value: 0.6835759029107099.\u001b[0m\n",
      "\u001b[32m[I 2022-04-06 18:26:37,057]\u001b[0m Trial 70 finished with value: 0.662983731658623 and parameters: {'n_neighbors': 50, 'weights': 'distance', 'metric': 'euclidean'}. Best is trial 52 with value: 0.6835759029107099.\u001b[0m\n",
      "\u001b[32m[I 2022-04-06 18:26:37,203]\u001b[0m Trial 71 finished with value: 0.682820379880878 and parameters: {'n_neighbors': 117, 'weights': 'distance', 'metric': 'manhattan'}. Best is trial 52 with value: 0.6835759029107099.\u001b[0m\n",
      "\u001b[32m[I 2022-04-06 18:26:37,339]\u001b[0m Trial 72 finished with value: 0.6821002197873355 and parameters: {'n_neighbors': 125, 'weights': 'distance', 'metric': 'manhattan'}. Best is trial 52 with value: 0.6835759029107099.\u001b[0m\n",
      "\u001b[32m[I 2022-04-06 18:26:37,467]\u001b[0m Trial 73 finished with value: 0.6828091117505455 and parameters: {'n_neighbors': 122, 'weights': 'distance', 'metric': 'manhattan'}. Best is trial 52 with value: 0.6835759029107099.\u001b[0m\n"
     ]
    },
    {
     "name": "stderr",
     "output_type": "stream",
     "text": [
      "\u001b[32m[I 2022-04-06 18:26:37,605]\u001b[0m Trial 74 finished with value: 0.6801773332433058 and parameters: {'n_neighbors': 111, 'weights': 'distance', 'metric': 'manhattan'}. Best is trial 52 with value: 0.6835759029107099.\u001b[0m\n",
      "\u001b[32m[I 2022-04-06 18:26:37,738]\u001b[0m Trial 75 finished with value: 0.6810346751275509 and parameters: {'n_neighbors': 128, 'weights': 'distance', 'metric': 'manhattan'}. Best is trial 52 with value: 0.6835759029107099.\u001b[0m\n",
      "\u001b[32m[I 2022-04-06 18:26:37,871]\u001b[0m Trial 76 finished with value: 0.6816202620725867 and parameters: {'n_neighbors': 118, 'weights': 'distance', 'metric': 'manhattan'}. Best is trial 52 with value: 0.6835759029107099.\u001b[0m\n",
      "\u001b[32m[I 2022-04-06 18:26:38,010]\u001b[0m Trial 77 finished with value: 0.6781389124700123 and parameters: {'n_neighbors': 99, 'weights': 'distance', 'metric': 'manhattan'}. Best is trial 52 with value: 0.6835759029107099.\u001b[0m\n",
      "\u001b[32m[I 2022-04-06 18:26:38,146]\u001b[0m Trial 78 finished with value: 0.6384680441073111 and parameters: {'n_neighbors': 133, 'weights': 'uniform', 'metric': 'minkowski'}. Best is trial 52 with value: 0.6835759029107099.\u001b[0m\n",
      "\u001b[32m[I 2022-04-06 18:26:38,265]\u001b[0m Trial 79 finished with value: 0.6817709373163334 and parameters: {'n_neighbors': 115, 'weights': 'distance', 'metric': 'manhattan'}. Best is trial 52 with value: 0.6835759029107099.\u001b[0m\n",
      "\u001b[32m[I 2022-04-06 18:26:38,395]\u001b[0m Trial 80 finished with value: 0.6799103000349398 and parameters: {'n_neighbors': 136, 'weights': 'distance', 'metric': 'manhattan'}. Best is trial 52 with value: 0.6835759029107099.\u001b[0m\n",
      "\u001b[32m[I 2022-04-06 18:26:38,524]\u001b[0m Trial 81 finished with value: 0.6820016161222155 and parameters: {'n_neighbors': 124, 'weights': 'distance', 'metric': 'manhattan'}. Best is trial 52 with value: 0.6835759029107099.\u001b[0m\n",
      "\u001b[32m[I 2022-04-06 18:26:38,657]\u001b[0m Trial 82 finished with value: 0.6828091117505455 and parameters: {'n_neighbors': 122, 'weights': 'distance', 'metric': 'manhattan'}. Best is trial 52 with value: 0.6835759029107099.\u001b[0m\n",
      "\u001b[32m[I 2022-04-06 18:26:38,817]\u001b[0m Trial 83 finished with value: 0.6821499699032505 and parameters: {'n_neighbors': 121, 'weights': 'distance', 'metric': 'manhattan'}. Best is trial 52 with value: 0.6835759029107099.\u001b[0m\n",
      "\u001b[32m[I 2022-04-06 18:26:38,941]\u001b[0m Trial 84 finished with value: 0.678797971725049 and parameters: {'n_neighbors': 107, 'weights': 'distance', 'metric': 'manhattan'}. Best is trial 52 with value: 0.6835759029107099.\u001b[0m\n",
      "\u001b[32m[I 2022-04-06 18:26:39,077]\u001b[0m Trial 85 finished with value: 0.6811820554298751 and parameters: {'n_neighbors': 127, 'weights': 'distance', 'metric': 'manhattan'}. Best is trial 52 with value: 0.6835759029107099.\u001b[0m\n",
      "\u001b[32m[I 2022-04-06 18:26:39,213]\u001b[0m Trial 86 finished with value: 0.6812092289357057 and parameters: {'n_neighbors': 130, 'weights': 'distance', 'metric': 'manhattan'}. Best is trial 52 with value: 0.6835759029107099.\u001b[0m\n",
      "\u001b[32m[I 2022-04-06 18:26:39,331]\u001b[0m Trial 87 finished with value: 0.6819714452682534 and parameters: {'n_neighbors': 113, 'weights': 'distance', 'metric': 'manhattan'}. Best is trial 52 with value: 0.6835759029107099.\u001b[0m\n",
      "\u001b[32m[I 2022-04-06 18:26:39,452]\u001b[0m Trial 88 finished with value: 0.6681753320779416 and parameters: {'n_neighbors': 122, 'weights': 'distance', 'metric': 'euclidean'}. Best is trial 52 with value: 0.6835759029107099.\u001b[0m\n",
      "\u001b[32m[I 2022-04-06 18:26:39,577]\u001b[0m Trial 89 finished with value: 0.6814602051317994 and parameters: {'n_neighbors': 119, 'weights': 'distance', 'metric': 'manhattan'}. Best is trial 52 with value: 0.6835759029107099.\u001b[0m\n",
      "\u001b[32m[I 2022-04-06 18:26:39,699]\u001b[0m Trial 90 finished with value: 0.6686034329212892 and parameters: {'n_neighbors': 126, 'weights': 'uniform', 'metric': 'manhattan'}. Best is trial 52 with value: 0.6835759029107099.\u001b[0m\n",
      "\u001b[32m[I 2022-04-06 18:26:39,823]\u001b[0m Trial 91 finished with value: 0.6828091117505455 and parameters: {'n_neighbors': 122, 'weights': 'distance', 'metric': 'manhattan'}. Best is trial 52 with value: 0.6835759029107099.\u001b[0m\n",
      "\u001b[32m[I 2022-04-06 18:26:39,948]\u001b[0m Trial 92 finished with value: 0.682820379880878 and parameters: {'n_neighbors': 117, 'weights': 'distance', 'metric': 'manhattan'}. Best is trial 52 with value: 0.6835759029107099.\u001b[0m\n",
      "\u001b[32m[I 2022-04-06 18:26:40,070]\u001b[0m Trial 93 finished with value: 0.6826499677643396 and parameters: {'n_neighbors': 116, 'weights': 'distance', 'metric': 'manhattan'}. Best is trial 52 with value: 0.6835759029107099.\u001b[0m\n",
      "\u001b[32m[I 2022-04-06 18:26:40,189]\u001b[0m Trial 94 finished with value: 0.6801773332433058 and parameters: {'n_neighbors': 111, 'weights': 'distance', 'metric': 'manhattan'}. Best is trial 52 with value: 0.6835759029107099.\u001b[0m\n",
      "\u001b[32m[I 2022-04-06 18:26:40,315]\u001b[0m Trial 95 finished with value: 0.6830800139654956 and parameters: {'n_neighbors': 120, 'weights': 'distance', 'metric': 'manhattan'}. Best is trial 52 with value: 0.6835759029107099.\u001b[0m\n",
      "\u001b[32m[I 2022-04-06 18:26:40,438]\u001b[0m Trial 96 finished with value: 0.6816202620725867 and parameters: {'n_neighbors': 118, 'weights': 'distance', 'metric': 'manhattan'}. Best is trial 52 with value: 0.6835759029107099.\u001b[0m\n",
      "\u001b[32m[I 2022-04-06 18:26:40,569]\u001b[0m Trial 97 finished with value: 0.6706127124037181 and parameters: {'n_neighbors': 113, 'weights': 'distance', 'metric': 'minkowski'}. Best is trial 52 with value: 0.6835759029107099.\u001b[0m\n",
      "\u001b[32m[I 2022-04-06 18:26:40,687]\u001b[0m Trial 98 finished with value: 0.6830800139654956 and parameters: {'n_neighbors': 120, 'weights': 'distance', 'metric': 'manhattan'}. Best is trial 52 with value: 0.6835759029107099.\u001b[0m\n",
      "\u001b[32m[I 2022-04-06 18:26:40,814]\u001b[0m Trial 99 finished with value: 0.6783164068890086 and parameters: {'n_neighbors': 103, 'weights': 'distance', 'metric': 'manhattan'}. Best is trial 52 with value: 0.6835759029107099.\u001b[0m\n"
     ]
    },
    {
     "name": "stdout",
     "output_type": "stream",
     "text": [
      "FrozenTrial(number=52, values=[0.6835759029107099], datetime_start=datetime.datetime(2022, 4, 6, 18, 26, 34, 486621), datetime_complete=datetime.datetime(2022, 4, 6, 18, 26, 34, 606299), params={'n_neighbors': 123, 'weights': 'distance', 'metric': 'manhattan'}, distributions={'n_neighbors': IntUniformDistribution(high=150, low=50, step=1), 'weights': CategoricalDistribution(choices=('uniform', 'distance')), 'metric': CategoricalDistribution(choices=('euclidean', 'manhattan', 'minkowski'))}, user_attrs={}, system_attrs={}, intermediate_values={}, trial_id=52, state=TrialState.COMPLETE, value=None)\n"
     ]
    }
   ],
   "source": [
    "def kNN_objective(trial):\n",
    "    \n",
    "    kNN_n_neighbors = trial.suggest_int(\"n_neighbors\", 50, 150)\n",
    "    kNN_weights = trial.suggest_categorical(\"weights\", ['uniform', 'distance'])\n",
    "    kNN_metric = trial.suggest_categorical(\"metric\", ['euclidean', 'manhattan', 'minkowski'])\n",
    "    \n",
    "    kNN_obj = KNeighborsClassifier(n_neighbors=kNN_n_neighbors,\n",
    "                                   weights=kNN_weights,\n",
    "                                   metric=kNN_metric)\n",
    "        \n",
    "\n",
    "    score = model_selection.cross_val_score(kNN_obj, X, y, cv = 5, n_jobs = -1, scoring = 'roc_auc')\n",
    "    roc_auc = score.mean()\n",
    "    return roc_auc\n",
    "\n",
    "kNN_study = optuna.create_study(direction=\"maximize\")\n",
    "kNN_study.optimize(kNN_objective, n_trials=100)\n",
    "print(kNN_study.best_trial)"
   ]
  },
  {
   "cell_type": "markdown",
   "metadata": {
    "id": "9Zix7RbEZC4x"
   },
   "source": [
    "###**Tuning한 각 모델의 Best score**"
   ]
  },
  {
   "cell_type": "code",
   "execution_count": 10,
   "metadata": {
    "id": "MDIj5ERnZOti"
   },
   "outputs": [
    {
     "name": "stdout",
     "output_type": "stream",
     "text": [
      "Random Forest Best score : 0.8178250543937595\n",
      "Logistic Regression Best score : 0.7683926279999407\n",
      "k-NN Best score : 0.6835759029107099\n"
     ]
    }
   ],
   "source": [
    "print('Random Forest Best score :', rf_study.best_value)\n",
    "print('Logistic Regression Best score :', lr_study.best_value)\n",
    "print('k-NN Best score :', kNN_study.best_value)"
   ]
  }
 ],
 "metadata": {
  "accelerator": "TPU",
  "colab": {
   "collapsed_sections": [],
   "name": "그룹과제-01-강민수-이효빈-한윤지.ipynb",
   "provenance": []
  },
  "kernelspec": {
   "display_name": "Python 3",
   "language": "python",
   "name": "python3"
  },
  "language_info": {
   "codemirror_mode": {
    "name": "ipython",
    "version": 3
   },
   "file_extension": ".py",
   "mimetype": "text/x-python",
   "name": "python",
   "nbconvert_exporter": "python",
   "pygments_lexer": "ipython3",
   "version": "3.8.5"
  }
 },
 "nbformat": 4,
 "nbformat_minor": 1
}
