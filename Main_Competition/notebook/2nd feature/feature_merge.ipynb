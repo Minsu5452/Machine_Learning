{
 "cells": [
  {
   "cell_type": "code",
   "execution_count": 1,
   "id": "4e00a2f9",
   "metadata": {},
   "outputs": [],
   "source": [
    "import pandas as pd"
   ]
  },
  {
   "cell_type": "code",
   "execution_count": 3,
   "id": "5c4152ad",
   "metadata": {},
   "outputs": [],
   "source": [
    "a = pd.read_csv('ALL_scale.csv')\n",
    "b = pd.read_csv('ALL_scale_te.csv')\n",
    "c = pd.read_csv('2.2nd_feature_0612.csv')\n",
    "d = pd.read_csv('2.2nd_feature_te_0612')\n",
    "e = pd.read_csv('3.3rd_feature_0612.csv')\n",
    "f = pd.read_csv('3.3rd_feature_te_0612.csv')\n",
    "g = pd.read_csv('4.min_1st_feature_0612.csv')\n",
    "h = pd.read_csv('4.min_1st_feature_te_0612.csv')\n",
    "i = pd.read_csv('3.3rd_feature_0612.csv')\n",
    "j = pd.read_csv('3.3rd_feature_te_0612.csv')"
   ]
  },
  {
   "cell_type": "code",
   "execution_count": 16,
   "id": "00c555c0",
   "metadata": {},
   "outputs": [],
   "source": [
    "i = i.iloc[:,1:]\n",
    "j = j.iloc[:,1:]"
   ]
  },
  {
   "cell_type": "code",
   "execution_count": 17,
   "id": "17b3b1b9",
   "metadata": {},
   "outputs": [],
   "source": [
    "train = pd.concat([e,a,c,g,i],axis=1)\n",
    "test = pd.concat([f,b,d,h,j],axis=1)"
   ]
  },
  {
   "cell_type": "code",
   "execution_count": 20,
   "id": "f5eeb7ac",
   "metadata": {},
   "outputs": [
    {
     "data": {
      "text/plain": [
       "0"
      ]
     },
     "execution_count": 20,
     "metadata": {},
     "output_type": "execute_result"
    }
   ],
   "source": [
    "train.isnull().sum().sum()"
   ]
  },
  {
   "cell_type": "code",
   "execution_count": 21,
   "id": "b0cd7dbe",
   "metadata": {},
   "outputs": [
    {
     "data": {
      "text/plain": [
       "0"
      ]
     },
     "execution_count": 21,
     "metadata": {},
     "output_type": "execute_result"
    }
   ],
   "source": [
    "test.isnull().sum().sum()"
   ]
  },
  {
   "cell_type": "code",
   "execution_count": 22,
   "id": "c1cee5af",
   "metadata": {},
   "outputs": [],
   "source": [
    "train.to_csv('snd_scaling_sum_0612',index=False)\n",
    "test.to_csv('snd_scaling_sum_te_0612',index=False)"
   ]
  },
  {
   "cell_type": "code",
   "execution_count": null,
   "id": "237739dd",
   "metadata": {},
   "outputs": [],
   "source": []
  }
 ],
 "metadata": {
  "kernelspec": {
   "display_name": "Python 3 (ipykernel)",
   "language": "python",
   "name": "python3"
  },
  "language_info": {
   "codemirror_mode": {
    "name": "ipython",
    "version": 3
   },
   "file_extension": ".py",
   "mimetype": "text/x-python",
   "name": "python",
   "nbconvert_exporter": "python",
   "pygments_lexer": "ipython3",
   "version": "3.9.7"
  }
 },
 "nbformat": 4,
 "nbformat_minor": 5
}
