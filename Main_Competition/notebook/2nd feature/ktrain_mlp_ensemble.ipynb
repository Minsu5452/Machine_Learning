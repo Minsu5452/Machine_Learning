{
 "cells": [
  {
   "cell_type": "markdown",
   "metadata": {},
   "source": [
    "<font color=\"#CC3D3D\"><p>\n",
    "# DNN Modeling with ktrain & seed ensemble"
   ]
  },
  {
   "cell_type": "markdown",
   "metadata": {},
   "source": [
    "- ktrain 패키지는 주피터노트북을 restart하지 않고 loop로 반복해서 모델을 만들어 앙상블하면 원하는 성능이 나오지 않음\n",
    "- 아래 코드는 이러한 문제를 해결한 것임."
   ]
  },
  {
   "cell_type": "markdown",
   "metadata": {},
   "source": [
    "**소스코드 저장**"
   ]
  },
  {
   "cell_type": "code",
   "execution_count": 35,
   "metadata": {},
   "outputs": [],
   "source": [
    "import ktrain\n",
    "from ktrain import tabular  # tabular data에 적용\n",
    "import pandas as pd\n",
    "import numpy as np"
   ]
  },
  {
   "cell_type": "code",
   "execution_count": 36,
   "metadata": {},
   "outputs": [
    {
     "name": "stdout",
     "output_type": "stream",
     "text": [
      "Overwriting ktrain_mlp.py\n"
     ]
    }
   ],
   "source": [
    "%%writefile ktrain_mlp.py\n",
    "### Imports\n",
    "import ktrain\n",
    "from ktrain import tabular  # tabular data에 적용\n",
    "import pandas as pd\n",
    "import numpy as np\n",
    "\n",
    "### Read data\n",
    "# 1st round 1등팀 피처 사용\n",
    "X_train = pd.read_csv('snd_sum_shap_0612.csv')\n",
    "X_test = pd.read_csv('snd_sum_shap_te_0612.csv')\n",
    "y_train = pd.read_csv('y_train.csv').group\n",
    "IDtest = pd.read_csv('X_test.csv', encoding= 'cp949').custid.unique()\n",
    "# 아래 tabular_from_df()에서는 target 필드까지 들어간 데이터프레임을 요구\n",
    "train_df = pd.concat([X_train, pd.DataFrame(y_train)], axis=1)\n",
    "\n",
    "### Preprocessing\n",
    "# Scaling, Imputation, train/valid 분할 등의 전처리를 수행하고 나중에 사용할 trn, val, preproc를 반환.\n",
    "# validation data의 비율(현재 20%)은 val_pct로 지정\n",
    "trn, val, preproc = tabular.tabular_from_df(train_df, label_columns=['group'], val_pct=0.2, random_state=42)\n",
    "\n",
    "### Modeling\n",
    "# MLP를 사용하여 모델링 (tabular data는 MLP만 지원). 배치 사이즈는 성능에 지대한 영향을 미침.\n",
    "model = tabular.tabular_classifier('mlp', trn)\n",
    "learner = ktrain.get_learner(model, train_data=trn, val_data=val, batch_size=512)\n",
    "# Model Fitting: 학습율(lr)과 에포크(epochs)가 성능에 지대한 영향을 미침.\n",
    "hist = learner.fit_onecycle(lr=5e-3, epochs=3, checkpoint_folder='output')\n",
    "\n",
    "### Prediction\n",
    "predictor = ktrain.get_predictor(learner.model, preproc, batch_size=4096)\n",
    "pred = predictor.predict(X_test, return_proba=True)    \n",
    "t = pd.Timestamp.now()\n",
    "fname = f\"submissions/ktrain_mlp_submission_{t.month:02}{t.day:02}{t.hour:02}{t.minute:02}{t.second:02}.csv\"\n",
    "pred = pd.DataFrame(pred)\n",
    "pred.columns = ['F20','F30','F40','F50','M20','M30','M40','M50']\n",
    "submissions = pd.concat([pd.Series(IDtest, name=\"ID\"), pred] ,axis=1)\n",
    "submissions.to_csv(fname, index=False)\n",
    "print(\"'{}' is ready to submit.\" .format(fname))"
   ]
  },
  {
   "cell_type": "markdown",
   "metadata": {},
   "source": [
    "**소스코드 실행**"
   ]
  },
  {
   "cell_type": "code",
   "execution_count": 37,
   "metadata": {},
   "outputs": [
    {
     "name": "stderr",
     "output_type": "stream",
     "text": [
      "100%|█████████████████████████████████████████████████████████████████████████████████| 10/10 [47:54<00:00, 287.48s/it]\n"
     ]
    }
   ],
   "source": [
    "import subprocess\n",
    "from tqdm import tqdm\n",
    "\n",
    "N = 10\n",
    "for i in tqdm(range(N)):\n",
    "    subprocess.run(['python', 'ktrain_mlp.py'])"
   ]
  },
  {
   "cell_type": "markdown",
   "metadata": {},
   "source": [
    "<font color=\"#CC3D3D\"><p>\n",
    "# End"
   ]
  }
 ],
 "metadata": {
  "kernelspec": {
   "display_name": "Python 3 (ipykernel)",
   "language": "python",
   "name": "python3"
  },
  "language_info": {
   "codemirror_mode": {
    "name": "ipython",
    "version": 3
   },
   "file_extension": ".py",
   "mimetype": "text/x-python",
   "name": "python",
   "nbconvert_exporter": "python",
   "pygments_lexer": "ipython3",
   "version": "3.9.7"
  }
 },
 "nbformat": 4,
 "nbformat_minor": 4
}
