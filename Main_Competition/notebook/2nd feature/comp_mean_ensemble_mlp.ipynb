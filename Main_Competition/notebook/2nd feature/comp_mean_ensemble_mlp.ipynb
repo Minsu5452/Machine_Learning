{
 "cells": [
  {
   "cell_type": "markdown",
   "metadata": {},
   "source": [
    "## Creating mean ensembles from submission files"
   ]
  },
  {
   "cell_type": "code",
   "execution_count": 1,
   "metadata": {},
   "outputs": [
    {
     "name": "stderr",
     "output_type": "stream",
     "text": [
      "C:\\Users\\yuns\\AppData\\Local\\Temp/ipykernel_9624/1162446234.py:24: FutureWarning: Passing 'suffixes' which cause duplicate columns {'F40_x', 'M50_x', 'M40_x', 'F50_x', 'M20_x', 'F30_x', 'F20_x', 'M30_x'} in the result is deprecated and will raise a MergeError in a future version.\n",
      "  slist = pd.merge(slist, s, on=\"ID\")\n",
      "C:\\Users\\yuns\\AppData\\Local\\Temp/ipykernel_9624/1162446234.py:24: FutureWarning: Passing 'suffixes' which cause duplicate columns {'F40_x', 'M50_x', 'M40_x', 'F50_x', 'M20_x', 'F30_x', 'F20_x', 'M30_x'} in the result is deprecated and will raise a MergeError in a future version.\n",
      "  slist = pd.merge(slist, s, on=\"ID\")\n",
      "C:\\Users\\yuns\\AppData\\Local\\Temp/ipykernel_9624/1162446234.py:24: FutureWarning: Passing 'suffixes' which cause duplicate columns {'F40_x', 'M50_x', 'M40_x', 'F50_x', 'M20_x', 'F30_x', 'F20_x', 'M30_x'} in the result is deprecated and will raise a MergeError in a future version.\n",
      "  slist = pd.merge(slist, s, on=\"ID\")\n",
      "C:\\Users\\yuns\\AppData\\Local\\Temp/ipykernel_9624/1162446234.py:24: FutureWarning: Passing 'suffixes' which cause duplicate columns {'F40_x', 'M50_x', 'M40_x', 'F50_x', 'M20_x', 'F30_x', 'F20_x', 'M30_x'} in the result is deprecated and will raise a MergeError in a future version.\n",
      "  slist = pd.merge(slist, s, on=\"ID\")\n",
      "C:\\Users\\yuns\\AppData\\Local\\Temp/ipykernel_9624/1162446234.py:24: FutureWarning: Passing 'suffixes' which cause duplicate columns {'F40_x', 'M50_x', 'M40_x', 'F50_x', 'M20_x', 'F30_x', 'F20_x', 'M30_x'} in the result is deprecated and will raise a MergeError in a future version.\n",
      "  slist = pd.merge(slist, s, on=\"ID\")\n",
      "C:\\Users\\yuns\\AppData\\Local\\Temp/ipykernel_9624/1162446234.py:24: FutureWarning: Passing 'suffixes' which cause duplicate columns {'F40_x', 'M50_x', 'M40_x', 'F50_x', 'M20_x', 'F30_x', 'F20_x', 'M30_x'} in the result is deprecated and will raise a MergeError in a future version.\n",
      "  slist = pd.merge(slist, s, on=\"ID\")\n",
      "C:\\Users\\yuns\\AppData\\Local\\Temp/ipykernel_9624/1162446234.py:24: FutureWarning: Passing 'suffixes' which cause duplicate columns {'F40_x', 'M50_x', 'M40_x', 'F50_x', 'M20_x', 'F30_x', 'F20_x', 'M30_x'} in the result is deprecated and will raise a MergeError in a future version.\n",
      "  slist = pd.merge(slist, s, on=\"ID\")\n",
      "C:\\Users\\yuns\\AppData\\Local\\Temp/ipykernel_9624/1162446234.py:24: FutureWarning: Passing 'suffixes' which cause duplicate columns {'F40_x', 'M50_x', 'M40_x', 'F50_x', 'M20_x', 'F30_x', 'F20_x', 'M30_x'} in the result is deprecated and will raise a MergeError in a future version.\n",
      "  slist = pd.merge(slist, s, on=\"ID\")\n",
      "C:\\Users\\yuns\\AppData\\Local\\Temp/ipykernel_9624/1162446234.py:24: FutureWarning: Passing 'suffixes' which cause duplicate columns {'F40_x', 'M50_x', 'M40_x', 'F50_x', 'M20_x', 'F30_x', 'F20_x', 'M30_x'} in the result is deprecated and will raise a MergeError in a future version.\n",
      "  slist = pd.merge(slist, s, on=\"ID\")\n",
      "C:\\Users\\yuns\\AppData\\Local\\Temp/ipykernel_9624/1162446234.py:24: FutureWarning: Passing 'suffixes' which cause duplicate columns {'F40_x', 'M50_x', 'M40_x', 'F50_x', 'M20_x', 'F30_x', 'F20_x', 'M30_x'} in the result is deprecated and will raise a MergeError in a future version.\n",
      "  slist = pd.merge(slist, s, on=\"ID\")\n",
      "C:\\Users\\yuns\\AppData\\Local\\Temp/ipykernel_9624/1162446234.py:24: FutureWarning: Passing 'suffixes' which cause duplicate columns {'F40_x', 'M50_x', 'M40_x', 'F50_x', 'M20_x', 'F30_x', 'F20_x', 'M30_x'} in the result is deprecated and will raise a MergeError in a future version.\n",
      "  slist = pd.merge(slist, s, on=\"ID\")\n",
      "C:\\Users\\yuns\\AppData\\Local\\Temp/ipykernel_9624/1162446234.py:24: FutureWarning: Passing 'suffixes' which cause duplicate columns {'F40_x', 'M50_x', 'M40_x', 'F50_x', 'M20_x', 'F30_x', 'F20_x', 'M30_x'} in the result is deprecated and will raise a MergeError in a future version.\n",
      "  slist = pd.merge(slist, s, on=\"ID\")\n",
      "C:\\Users\\yuns\\AppData\\Local\\Temp/ipykernel_9624/1162446234.py:24: FutureWarning: Passing 'suffixes' which cause duplicate columns {'F40_x', 'M50_x', 'M40_x', 'F50_x', 'M20_x', 'F30_x', 'F20_x', 'M30_x'} in the result is deprecated and will raise a MergeError in a future version.\n",
      "  slist = pd.merge(slist, s, on=\"ID\")\n",
      "C:\\Users\\yuns\\AppData\\Local\\Temp/ipykernel_9624/1162446234.py:24: FutureWarning: Passing 'suffixes' which cause duplicate columns {'F40_x', 'M50_x', 'M40_x', 'F50_x', 'M20_x', 'F30_x', 'F20_x', 'M30_x'} in the result is deprecated and will raise a MergeError in a future version.\n",
      "  slist = pd.merge(slist, s, on=\"ID\")\n",
      "C:\\Users\\yuns\\AppData\\Local\\Temp/ipykernel_9624/1162446234.py:24: FutureWarning: Passing 'suffixes' which cause duplicate columns {'F40_x', 'M50_x', 'M40_x', 'F50_x', 'M20_x', 'F30_x', 'F20_x', 'M30_x'} in the result is deprecated and will raise a MergeError in a future version.\n",
      "  slist = pd.merge(slist, s, on=\"ID\")\n"
     ]
    },
    {
     "name": "stdout",
     "output_type": "stream",
     "text": [
      "'p0.05mean_submission_0616_00_mlps.csv' is ready to submit.\n"
     ]
    }
   ],
   "source": [
    "# 사용법: \n",
    "# 1) 스크립트를 실행하기 전에 submissions 폴더를 먼저 만듭니다. \n",
    "# 2) 앙상블할 submission 화일을 submissions 폴더에 저장합니다.\n",
    "# 3) 실행하면 현재 폴더에 앙상블한 submission 화일이 생성됩니다.\n",
    "\n",
    "import pandas as pd\n",
    "import numpy as np\n",
    "import os\n",
    "\n",
    "# 아래 폴더가 있다는 가정 하에 수행\n",
    "folder = 'submissions'\n",
    "nf = 0\n",
    "for f in os.listdir(folder):\n",
    "    ext = os.path.splitext(f)[-1]\n",
    "    if ext == '.csv': \n",
    "        s = pd.read_csv(folder+\"/\"+f)\n",
    "    else: \n",
    "        continue\n",
    "    if len(s.columns) !=9:\n",
    "        continue\n",
    "    if nf == 0: \n",
    "        slist = s\n",
    "    else: \n",
    "        slist = pd.merge(slist, s, on=\"ID\")\n",
    "    nf += 1\n",
    "\n",
    "p = 0.05    # 이 값에 따라 성능이 달라짐 (p=1: 산술평균, p>1: 멱평균)\n",
    "if nf >= 2:\n",
    "    preds = []\n",
    "    for i in range(8):\n",
    "        pred = 0\n",
    "        for j in range(nf):\n",
    "            pred = pred + slist.iloc[:,j*8+i+1]**p \n",
    "        pred = pred / nf    \n",
    "        pred = pred**(1/p)\n",
    "        preds.append(pred)    \n",
    "    preds = pd.DataFrame(preds).T\n",
    "    t = pd.Timestamp.now()\n",
    "    fname = f\"p{p}mean_submission_{t.month:02}{t.day:02}_{t.hour:02}_mlps.csv\"\n",
    "    preds.columns = ['F20','F30','F40','F50','M20','M30','M40','M50']\n",
    "    pd.concat([pd.Series(slist.ID, name=\"ID\"), preds] ,axis=1).to_csv(fname, index=False)\n",
    "    print(f\"'{fname}' is ready to submit.\")"
   ]
  },
  {
   "cell_type": "code",
   "execution_count": null,
   "metadata": {},
   "outputs": [],
   "source": [
    "# p0.05mlpsubmission0616_1.4141 으로 이름 변경"
   ]
  },
  {
   "cell_type": "markdown",
   "metadata": {},
   "source": [
    "## End"
   ]
  }
 ],
 "metadata": {
  "kernelspec": {
   "display_name": "Python 3 (ipykernel)",
   "language": "python",
   "name": "python3"
  },
  "language_info": {
   "codemirror_mode": {
    "name": "ipython",
    "version": 3
   },
   "file_extension": ".py",
   "mimetype": "text/x-python",
   "name": "python",
   "nbconvert_exporter": "python",
   "pygments_lexer": "ipython3",
   "version": "3.9.7"
  }
 },
 "nbformat": 4,
 "nbformat_minor": 4
}
