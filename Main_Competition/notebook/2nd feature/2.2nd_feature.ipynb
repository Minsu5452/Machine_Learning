{
 "cells": [
  {
   "cell_type": "code",
   "execution_count": 11,
   "metadata": {},
   "outputs": [],
   "source": [
    "import lightgbm as lgb\n",
    "import numpy as np\n",
    "import pandas as pd\n",
    "from pprint import pprint\n",
    "from sklearn.metrics import log_loss\n",
    "from sklearn.model_selection import StratifiedKFold\n",
    "import seaborn as sns\n",
    "from tensorflow import keras\n",
    "import tensorflow as tf\n",
    "import warnings\n",
    "from tqdm import tqdm, tqdm_notebook\n",
    "from sklearn.model_selection import cross_val_score\n",
    "\n",
    "from sklearn.feature_selection import RFE\n",
    "from sklearn.feature_selection import SelectPercentile\n",
    "import matplotlib.pyplot as plt\n",
    "import matplotlib.font_manager as fm\n",
    "plt.rc('font', family=fm.FontProperties(fname=\"c:/Windows/Fonts/malgun.ttf\").get_name()) # for Windows OS user\n",
    "import datetime\n",
    "import os"
   ]
  },
  {
   "cell_type": "code",
   "execution_count": 12,
   "metadata": {},
   "outputs": [],
   "source": [
    "from sklearn.model_selection import train_test_split\n",
    "from sklearn.metrics import mean_squared_error\n",
    "from xgboost import XGBRegressor\n",
    "from lightgbm import LGBMRegressor\n",
    "from sklearn.ensemble import GradientBoostingRegressor\n",
    "from catboost import CatBoostRegressor\n",
    "from sklearn.linear_model import Ridge\n",
    "from sklearn.linear_model import BayesianRidge\n",
    "from tensorflow import keras\n",
    "from scipy.stats.mstats import gmean\n",
    "from sklearn.ensemble import RandomForestRegressor\n",
    "from sklearn.model_selection import RandomizedSearchCV\n",
    "import sys, warnings\n",
    "if not sys.warnoptions: warnings.simplefilter(\"ignore\")\n",
    "    "
   ]
  },
  {
   "cell_type": "code",
   "execution_count": 13,
   "metadata": {},
   "outputs": [],
   "source": [
    "# 학습용과 평가용(제출용) 데이터를 읽어들인다.\n",
    "trn = pd.read_csv('X_train.csv', encoding='cp949')\n",
    "tst = pd.read_csv('X_test.csv', encoding='cp949')\n",
    "\n",
    "# 학습용 정답 데이터를 읽는다.\n",
    "y = pd.read_csv('y_train.csv', encoding='cp949')"
   ]
  },
  {
   "cell_type": "code",
   "execution_count": 14,
   "metadata": {},
   "outputs": [],
   "source": [
    "IDtrain = trn.custid.unique()\n",
    "IDtest = tst.custid.unique()\n",
    "data = pd.concat([trn, tst], axis=0)"
   ]
  },
  {
   "cell_type": "code",
   "execution_count": 15,
   "metadata": {},
   "outputs": [
    {
     "data": {
      "text/plain": [
       "array([30001, 30002, 30003, ..., 49992, 49993, 49994], dtype=int64)"
      ]
     },
     "execution_count": 15,
     "metadata": {},
     "output_type": "execute_result"
    }
   ],
   "source": [
    "IDtest"
   ]
  },
  {
   "cell_type": "markdown",
   "metadata": {},
   "source": [
    "날짜 데이터"
   ]
  },
  {
   "cell_type": "code",
   "execution_count": 16,
   "metadata": {},
   "outputs": [],
   "source": [
    "data['sales_year']=data['sales_month'].apply(lambda x: 2018 if x >12 else 2017)"
   ]
  },
  {
   "cell_type": "code",
   "execution_count": 17,
   "metadata": {},
   "outputs": [],
   "source": [
    "# 월 정리\n",
    "data['sales_month']=data['sales_month'].apply(lambda x: x-12 if x >12 else x)"
   ]
  },
  {
   "cell_type": "code",
   "execution_count": 18,
   "metadata": {},
   "outputs": [],
   "source": [
    "# 주말\n",
    "data['weekend'] = data['sales_dayofweek'].apply(lambda x: 1 if (x=='토' or x=='일') else 0)"
   ]
  },
  {
   "cell_type": "code",
   "execution_count": 19,
   "metadata": {},
   "outputs": [],
   "source": [
    "data['sales_year']=data['sales_year'].astype('str')\n",
    "data['sales_month']=data['sales_month'].astype('str')\n",
    "data['sales_day']=data['sales_day'].astype('str')"
   ]
  },
  {
   "cell_type": "code",
   "execution_count": 20,
   "metadata": {},
   "outputs": [],
   "source": [
    "data['date_time']=data['sales_year']+'-'+data['sales_month']+'-'+data['sales_day']"
   ]
  },
  {
   "cell_type": "code",
   "execution_count": 21,
   "metadata": {},
   "outputs": [],
   "source": [
    "data['sales_year']=data['sales_year'].astype('int')\n",
    "data['sales_month']=data['sales_month'].astype('int')\n",
    "data['sales_day']=data['sales_day'].astype('int')"
   ]
  },
  {
   "cell_type": "code",
   "execution_count": 22,
   "metadata": {},
   "outputs": [],
   "source": [
    "data['date_time'] = pd.to_datetime(data['date_time'])"
   ]
  },
  {
   "cell_type": "code",
   "execution_count": 23,
   "metadata": {},
   "outputs": [],
   "source": [
    "a=data.groupby(['custid'])['date_time'].diff()"
   ]
  },
  {
   "cell_type": "code",
   "execution_count": 24,
   "metadata": {},
   "outputs": [],
   "source": [
    "a=a.reset_index().set_index(data.custid)"
   ]
  },
  {
   "cell_type": "code",
   "execution_count": 25,
   "metadata": {},
   "outputs": [],
   "source": [
    "a=a.reset_index()"
   ]
  },
  {
   "cell_type": "code",
   "execution_count": 26,
   "metadata": {},
   "outputs": [],
   "source": [
    "a.set_index('index',inplace=True)"
   ]
  },
  {
   "cell_type": "code",
   "execution_count": 27,
   "metadata": {},
   "outputs": [],
   "source": [
    "data['date_time_diff']=a.date_time"
   ]
  },
  {
   "cell_type": "code",
   "execution_count": 28,
   "metadata": {},
   "outputs": [],
   "source": [
    "dtdt=data.groupby(['custid','date_time'])['date_time_diff'].sum().reset_index()"
   ]
  },
  {
   "cell_type": "code",
   "execution_count": 29,
   "metadata": {},
   "outputs": [],
   "source": [
    "dtdt.date_time_diff=dtdt.date_time_diff.astype('str')"
   ]
  },
  {
   "cell_type": "code",
   "execution_count": 30,
   "metadata": {},
   "outputs": [],
   "source": [
    "dtdt.date_time_diff=dtdt.date_time_diff.apply(lambda x: x.split(' ')[0])"
   ]
  },
  {
   "cell_type": "code",
   "execution_count": 31,
   "metadata": {},
   "outputs": [],
   "source": [
    "dtdt.date_time_diff=dtdt.date_time_diff.astype('int')"
   ]
  },
  {
   "cell_type": "code",
   "execution_count": 32,
   "metadata": {},
   "outputs": [],
   "source": [
    "dtdt_mean=dtdt.groupby('custid')['date_time_diff'].mean().reset_index()"
   ]
  },
  {
   "cell_type": "markdown",
   "metadata": {},
   "source": [
    "# 쇼핑시간"
   ]
  },
  {
   "cell_type": "code",
   "execution_count": 33,
   "metadata": {},
   "outputs": [
    {
     "data": {
      "text/html": [
       "<div>\n",
       "<style scoped>\n",
       "    .dataframe tbody tr th:only-of-type {\n",
       "        vertical-align: middle;\n",
       "    }\n",
       "\n",
       "    .dataframe tbody tr th {\n",
       "        vertical-align: top;\n",
       "    }\n",
       "\n",
       "    .dataframe thead th {\n",
       "        text-align: right;\n",
       "    }\n",
       "</style>\n",
       "<table border=\"1\" class=\"dataframe\">\n",
       "  <thead>\n",
       "    <tr style=\"text-align: right;\">\n",
       "      <th></th>\n",
       "      <th>custid</th>\n",
       "      <th>date_time_diff</th>\n",
       "    </tr>\n",
       "  </thead>\n",
       "  <tbody>\n",
       "    <tr>\n",
       "      <th>0</th>\n",
       "      <td>0</td>\n",
       "      <td>41.142857</td>\n",
       "    </tr>\n",
       "    <tr>\n",
       "      <th>1</th>\n",
       "      <td>2</td>\n",
       "      <td>18.428571</td>\n",
       "    </tr>\n",
       "    <tr>\n",
       "      <th>2</th>\n",
       "      <td>3</td>\n",
       "      <td>25.461538</td>\n",
       "    </tr>\n",
       "    <tr>\n",
       "      <th>3</th>\n",
       "      <td>4</td>\n",
       "      <td>1.500000</td>\n",
       "    </tr>\n",
       "    <tr>\n",
       "      <th>4</th>\n",
       "      <td>5</td>\n",
       "      <td>15.333333</td>\n",
       "    </tr>\n",
       "    <tr>\n",
       "      <th>...</th>\n",
       "      <td>...</td>\n",
       "      <td>...</td>\n",
       "    </tr>\n",
       "    <tr>\n",
       "      <th>35962</th>\n",
       "      <td>49988</td>\n",
       "      <td>28.000000</td>\n",
       "    </tr>\n",
       "    <tr>\n",
       "      <th>35963</th>\n",
       "      <td>49990</td>\n",
       "      <td>0.000000</td>\n",
       "    </tr>\n",
       "    <tr>\n",
       "      <th>35964</th>\n",
       "      <td>49992</td>\n",
       "      <td>142.000000</td>\n",
       "    </tr>\n",
       "    <tr>\n",
       "      <th>35965</th>\n",
       "      <td>49993</td>\n",
       "      <td>0.000000</td>\n",
       "    </tr>\n",
       "    <tr>\n",
       "      <th>35966</th>\n",
       "      <td>49994</td>\n",
       "      <td>0.500000</td>\n",
       "    </tr>\n",
       "  </tbody>\n",
       "</table>\n",
       "<p>35967 rows × 2 columns</p>\n",
       "</div>"
      ],
      "text/plain": [
       "       custid  date_time_diff\n",
       "0           0       41.142857\n",
       "1           2       18.428571\n",
       "2           3       25.461538\n",
       "3           4        1.500000\n",
       "4           5       15.333333\n",
       "...       ...             ...\n",
       "35962   49988       28.000000\n",
       "35963   49990        0.000000\n",
       "35964   49992      142.000000\n",
       "35965   49993        0.000000\n",
       "35966   49994        0.500000\n",
       "\n",
       "[35967 rows x 2 columns]"
      ]
     },
     "execution_count": 33,
     "metadata": {},
     "output_type": "execute_result"
    }
   ],
   "source": [
    "dtdt_mean"
   ]
  },
  {
   "cell_type": "code",
   "execution_count": 34,
   "metadata": {},
   "outputs": [],
   "source": [
    "ab=data.groupby(['custid','sales_day','sales_month'])['sales_time'].agg([('sales_time_min', 'min')]).reset_index()"
   ]
  },
  {
   "cell_type": "code",
   "execution_count": 35,
   "metadata": {},
   "outputs": [],
   "source": [
    "abc=data.groupby(['custid','sales_day','sales_month'])['sales_time'].agg([('sales_time_max', 'max')]).reset_index()"
   ]
  },
  {
   "cell_type": "code",
   "execution_count": 36,
   "metadata": {},
   "outputs": [],
   "source": [
    "ab['time_min']=ab['sales_time_min'].apply(lambda x: int(str(x)[:2]) if len(str(x)) == 4 else int(str(x)[:1]))\n",
    "ab['minute_min']=ab['sales_time_min'].apply(lambda x: int(str(x)[2:]) if len(str(x)) == 4 else int(str(x)[1:]))"
   ]
  },
  {
   "cell_type": "code",
   "execution_count": 37,
   "metadata": {},
   "outputs": [],
   "source": [
    "ab['time_max']=abc['sales_time_max'].apply(lambda x: int(str(x)[:2]) if len(str(x)) == 4 else int(str(x)[:1]))\n",
    "ab['minute_max']=abc['sales_time_max'].apply(lambda x: int(str(x)[2:]) if len(str(x)) == 4 else int(str(x)[1:]))"
   ]
  },
  {
   "cell_type": "code",
   "execution_count": 38,
   "metadata": {},
   "outputs": [],
   "source": [
    "ab['shop_time']=(ab['time_max']-ab['time_min'])*60+(ab['minute_max']-ab['minute_min'])"
   ]
  },
  {
   "cell_type": "code",
   "execution_count": 39,
   "metadata": {},
   "outputs": [],
   "source": [
    "shop_time=ab.groupby('custid')['shop_time'].mean().reset_index()"
   ]
  },
  {
   "cell_type": "code",
   "execution_count": null,
   "metadata": {},
   "outputs": [],
   "source": []
  },
  {
   "cell_type": "markdown",
   "metadata": {},
   "source": [
    "### word2vec"
   ]
  },
  {
   "cell_type": "code",
   "execution_count": 40,
   "metadata": {},
   "outputs": [],
   "source": [
    "# income_occyp_type, income_age_type, edu_occyp_type, edu_income_type, family_income_type\n",
    "\n",
    "import random\n",
    "\n",
    "trn2=trn.reset_index().drop('index',axis=1).copy()\n",
    "trn2=trn2.reset_index()\n",
    "trn2['goodcd']=trn2['goodcd'].astype('str')\n",
    "train_data=list(trn2.groupby('custid')['goodcd'].unique())"
   ]
  },
  {
   "cell_type": "code",
   "execution_count": 41,
   "metadata": {},
   "outputs": [],
   "source": [
    "def oversample(x, n):\n",
    "    lst = []\n",
    "    for i in x:\n",
    "        tmp = []\n",
    "        for j in range(n):\n",
    "            random.shuffle(i)\n",
    "            tmp += list(i)\n",
    "            lst.append(tmp)\n",
    "    return lst"
   ]
  },
  {
   "cell_type": "code",
   "execution_count": 42,
   "metadata": {},
   "outputs": [],
   "source": [
    "w2v_input = oversample(train_data, 5)"
   ]
  },
  {
   "cell_type": "code",
   "execution_count": 43,
   "metadata": {},
   "outputs": [],
   "source": [
    "from gensim.models import word2vec\n",
    "\n",
    "w2v = word2vec.Word2Vec(sentences = w2v_input, vector_size = 100, window = 3, min_count = 1, sg = 1)"
   ]
  },
  {
   "cell_type": "code",
   "execution_count": 44,
   "metadata": {},
   "outputs": [
    {
     "name": "stderr",
     "output_type": "stream",
     "text": [
      "100%|█████████████████████████████████████████████████████████████████████████| 21587/21587 [00:01<00:00, 15635.28it/s]\n"
     ]
    }
   ],
   "source": [
    "train_mean_vector = []\n",
    "for words in tqdm(train_data):\n",
    "    tmp = np.zeros(100)\n",
    "    cnt = 0\n",
    "    for word in words:\n",
    "        try:\n",
    "            tmp += w2v.wv[word]\n",
    "            cnt += 1\n",
    "        except:\n",
    "            pass\n",
    "    tmp /= cnt\n",
    "    train_mean_vector.append(tmp)\n",
    "train_mean_vector = np.array(train_mean_vector)"
   ]
  },
  {
   "cell_type": "code",
   "execution_count": 45,
   "metadata": {},
   "outputs": [
    {
     "data": {
      "text/html": [
       "<div>\n",
       "<style scoped>\n",
       "    .dataframe tbody tr th:only-of-type {\n",
       "        vertical-align: middle;\n",
       "    }\n",
       "\n",
       "    .dataframe tbody tr th {\n",
       "        vertical-align: top;\n",
       "    }\n",
       "\n",
       "    .dataframe thead th {\n",
       "        text-align: right;\n",
       "    }\n",
       "</style>\n",
       "<table border=\"1\" class=\"dataframe\">\n",
       "  <thead>\n",
       "    <tr style=\"text-align: right;\">\n",
       "      <th></th>\n",
       "      <th>0</th>\n",
       "      <th>1</th>\n",
       "      <th>2</th>\n",
       "      <th>3</th>\n",
       "      <th>4</th>\n",
       "      <th>5</th>\n",
       "      <th>6</th>\n",
       "      <th>7</th>\n",
       "      <th>8</th>\n",
       "      <th>9</th>\n",
       "      <th>...</th>\n",
       "      <th>90</th>\n",
       "      <th>91</th>\n",
       "      <th>92</th>\n",
       "      <th>93</th>\n",
       "      <th>94</th>\n",
       "      <th>95</th>\n",
       "      <th>96</th>\n",
       "      <th>97</th>\n",
       "      <th>98</th>\n",
       "      <th>99</th>\n",
       "    </tr>\n",
       "  </thead>\n",
       "  <tbody>\n",
       "    <tr>\n",
       "      <th>0</th>\n",
       "      <td>-0.061542</td>\n",
       "      <td>0.056873</td>\n",
       "      <td>0.088633</td>\n",
       "      <td>-0.110187</td>\n",
       "      <td>0.010319</td>\n",
       "      <td>-0.077438</td>\n",
       "      <td>0.204967</td>\n",
       "      <td>0.183569</td>\n",
       "      <td>0.014509</td>\n",
       "      <td>-0.092617</td>\n",
       "      <td>...</td>\n",
       "      <td>0.070798</td>\n",
       "      <td>0.025625</td>\n",
       "      <td>0.058644</td>\n",
       "      <td>-0.255308</td>\n",
       "      <td>-0.078397</td>\n",
       "      <td>-0.032968</td>\n",
       "      <td>0.098925</td>\n",
       "      <td>-0.103489</td>\n",
       "      <td>0.137099</td>\n",
       "      <td>-0.204718</td>\n",
       "    </tr>\n",
       "    <tr>\n",
       "      <th>1</th>\n",
       "      <td>0.016118</td>\n",
       "      <td>0.218577</td>\n",
       "      <td>-0.020153</td>\n",
       "      <td>0.187573</td>\n",
       "      <td>0.152344</td>\n",
       "      <td>-0.182511</td>\n",
       "      <td>-0.095017</td>\n",
       "      <td>0.268245</td>\n",
       "      <td>0.077921</td>\n",
       "      <td>-0.162361</td>\n",
       "      <td>...</td>\n",
       "      <td>0.089718</td>\n",
       "      <td>0.017023</td>\n",
       "      <td>0.004338</td>\n",
       "      <td>-0.448536</td>\n",
       "      <td>-0.009264</td>\n",
       "      <td>-0.198337</td>\n",
       "      <td>0.127382</td>\n",
       "      <td>-0.066545</td>\n",
       "      <td>0.031457</td>\n",
       "      <td>0.138095</td>\n",
       "    </tr>\n",
       "    <tr>\n",
       "      <th>2</th>\n",
       "      <td>-0.255369</td>\n",
       "      <td>0.218157</td>\n",
       "      <td>-0.062035</td>\n",
       "      <td>0.139190</td>\n",
       "      <td>0.045286</td>\n",
       "      <td>0.021811</td>\n",
       "      <td>-0.012492</td>\n",
       "      <td>0.294170</td>\n",
       "      <td>0.007780</td>\n",
       "      <td>0.081570</td>\n",
       "      <td>...</td>\n",
       "      <td>0.112953</td>\n",
       "      <td>-0.037676</td>\n",
       "      <td>-0.002447</td>\n",
       "      <td>-0.299069</td>\n",
       "      <td>-0.098315</td>\n",
       "      <td>0.108659</td>\n",
       "      <td>0.083755</td>\n",
       "      <td>-0.067097</td>\n",
       "      <td>0.213432</td>\n",
       "      <td>0.078868</td>\n",
       "    </tr>\n",
       "    <tr>\n",
       "      <th>3</th>\n",
       "      <td>-0.146511</td>\n",
       "      <td>-0.182469</td>\n",
       "      <td>-0.042544</td>\n",
       "      <td>0.019734</td>\n",
       "      <td>0.164819</td>\n",
       "      <td>-0.295148</td>\n",
       "      <td>0.095127</td>\n",
       "      <td>0.102150</td>\n",
       "      <td>-0.174055</td>\n",
       "      <td>-0.172746</td>\n",
       "      <td>...</td>\n",
       "      <td>0.642603</td>\n",
       "      <td>-0.225270</td>\n",
       "      <td>-0.217359</td>\n",
       "      <td>-0.331290</td>\n",
       "      <td>0.005355</td>\n",
       "      <td>0.241408</td>\n",
       "      <td>0.404333</td>\n",
       "      <td>-0.541870</td>\n",
       "      <td>-0.025808</td>\n",
       "      <td>-0.193828</td>\n",
       "    </tr>\n",
       "    <tr>\n",
       "      <th>4</th>\n",
       "      <td>-0.253609</td>\n",
       "      <td>0.185963</td>\n",
       "      <td>-0.004582</td>\n",
       "      <td>0.016257</td>\n",
       "      <td>-0.073511</td>\n",
       "      <td>0.002255</td>\n",
       "      <td>0.106225</td>\n",
       "      <td>0.225060</td>\n",
       "      <td>-0.091049</td>\n",
       "      <td>-0.102035</td>\n",
       "      <td>...</td>\n",
       "      <td>0.120553</td>\n",
       "      <td>0.054224</td>\n",
       "      <td>-0.115468</td>\n",
       "      <td>-0.143754</td>\n",
       "      <td>-0.183742</td>\n",
       "      <td>0.004837</td>\n",
       "      <td>0.081039</td>\n",
       "      <td>-0.017392</td>\n",
       "      <td>0.130946</td>\n",
       "      <td>-0.160380</td>\n",
       "    </tr>\n",
       "    <tr>\n",
       "      <th>...</th>\n",
       "      <td>...</td>\n",
       "      <td>...</td>\n",
       "      <td>...</td>\n",
       "      <td>...</td>\n",
       "      <td>...</td>\n",
       "      <td>...</td>\n",
       "      <td>...</td>\n",
       "      <td>...</td>\n",
       "      <td>...</td>\n",
       "      <td>...</td>\n",
       "      <td>...</td>\n",
       "      <td>...</td>\n",
       "      <td>...</td>\n",
       "      <td>...</td>\n",
       "      <td>...</td>\n",
       "      <td>...</td>\n",
       "      <td>...</td>\n",
       "      <td>...</td>\n",
       "      <td>...</td>\n",
       "      <td>...</td>\n",
       "      <td>...</td>\n",
       "    </tr>\n",
       "    <tr>\n",
       "      <th>21582</th>\n",
       "      <td>0.038952</td>\n",
       "      <td>0.158030</td>\n",
       "      <td>-0.018494</td>\n",
       "      <td>0.029227</td>\n",
       "      <td>0.110629</td>\n",
       "      <td>-0.085440</td>\n",
       "      <td>0.031798</td>\n",
       "      <td>0.331952</td>\n",
       "      <td>-0.061453</td>\n",
       "      <td>-0.094627</td>\n",
       "      <td>...</td>\n",
       "      <td>0.144935</td>\n",
       "      <td>0.105126</td>\n",
       "      <td>0.078305</td>\n",
       "      <td>-0.174782</td>\n",
       "      <td>0.005704</td>\n",
       "      <td>0.007209</td>\n",
       "      <td>0.105265</td>\n",
       "      <td>-0.244889</td>\n",
       "      <td>0.199799</td>\n",
       "      <td>-0.219074</td>\n",
       "    </tr>\n",
       "    <tr>\n",
       "      <th>21583</th>\n",
       "      <td>-0.006507</td>\n",
       "      <td>0.136995</td>\n",
       "      <td>-0.149236</td>\n",
       "      <td>0.002044</td>\n",
       "      <td>0.153614</td>\n",
       "      <td>-0.044837</td>\n",
       "      <td>0.153875</td>\n",
       "      <td>0.296153</td>\n",
       "      <td>-0.047018</td>\n",
       "      <td>-0.185537</td>\n",
       "      <td>...</td>\n",
       "      <td>0.062877</td>\n",
       "      <td>0.037913</td>\n",
       "      <td>0.050434</td>\n",
       "      <td>-0.154289</td>\n",
       "      <td>0.093573</td>\n",
       "      <td>-0.018004</td>\n",
       "      <td>0.282097</td>\n",
       "      <td>0.026103</td>\n",
       "      <td>0.176460</td>\n",
       "      <td>0.068016</td>\n",
       "    </tr>\n",
       "    <tr>\n",
       "      <th>21584</th>\n",
       "      <td>-0.170812</td>\n",
       "      <td>0.180552</td>\n",
       "      <td>0.038717</td>\n",
       "      <td>0.137382</td>\n",
       "      <td>-0.135571</td>\n",
       "      <td>-0.107863</td>\n",
       "      <td>0.021959</td>\n",
       "      <td>0.352930</td>\n",
       "      <td>0.044536</td>\n",
       "      <td>-0.074014</td>\n",
       "      <td>...</td>\n",
       "      <td>0.081747</td>\n",
       "      <td>0.177766</td>\n",
       "      <td>0.186964</td>\n",
       "      <td>-0.216684</td>\n",
       "      <td>-0.105557</td>\n",
       "      <td>0.200159</td>\n",
       "      <td>0.293047</td>\n",
       "      <td>-0.049944</td>\n",
       "      <td>0.018963</td>\n",
       "      <td>-0.077992</td>\n",
       "    </tr>\n",
       "    <tr>\n",
       "      <th>21585</th>\n",
       "      <td>-0.092500</td>\n",
       "      <td>0.175067</td>\n",
       "      <td>-0.063254</td>\n",
       "      <td>-0.092458</td>\n",
       "      <td>-0.008215</td>\n",
       "      <td>-0.052605</td>\n",
       "      <td>0.119415</td>\n",
       "      <td>0.315698</td>\n",
       "      <td>0.046452</td>\n",
       "      <td>-0.107578</td>\n",
       "      <td>...</td>\n",
       "      <td>0.194209</td>\n",
       "      <td>-0.006328</td>\n",
       "      <td>-0.052689</td>\n",
       "      <td>-0.088868</td>\n",
       "      <td>0.096413</td>\n",
       "      <td>0.091933</td>\n",
       "      <td>0.323266</td>\n",
       "      <td>-0.196742</td>\n",
       "      <td>0.170948</td>\n",
       "      <td>0.097792</td>\n",
       "    </tr>\n",
       "    <tr>\n",
       "      <th>21586</th>\n",
       "      <td>-0.205560</td>\n",
       "      <td>0.059884</td>\n",
       "      <td>0.062691</td>\n",
       "      <td>-0.056325</td>\n",
       "      <td>-0.354661</td>\n",
       "      <td>0.065867</td>\n",
       "      <td>0.325565</td>\n",
       "      <td>0.349464</td>\n",
       "      <td>-0.161020</td>\n",
       "      <td>-0.238123</td>\n",
       "      <td>...</td>\n",
       "      <td>-0.036616</td>\n",
       "      <td>-0.018452</td>\n",
       "      <td>-0.036732</td>\n",
       "      <td>-0.042880</td>\n",
       "      <td>0.035625</td>\n",
       "      <td>-0.072739</td>\n",
       "      <td>0.249998</td>\n",
       "      <td>0.220054</td>\n",
       "      <td>0.117894</td>\n",
       "      <td>-0.251152</td>\n",
       "    </tr>\n",
       "  </tbody>\n",
       "</table>\n",
       "<p>21587 rows × 100 columns</p>\n",
       "</div>"
      ],
      "text/plain": [
       "             0         1         2         3         4         5         6   \\\n",
       "0     -0.061542  0.056873  0.088633 -0.110187  0.010319 -0.077438  0.204967   \n",
       "1      0.016118  0.218577 -0.020153  0.187573  0.152344 -0.182511 -0.095017   \n",
       "2     -0.255369  0.218157 -0.062035  0.139190  0.045286  0.021811 -0.012492   \n",
       "3     -0.146511 -0.182469 -0.042544  0.019734  0.164819 -0.295148  0.095127   \n",
       "4     -0.253609  0.185963 -0.004582  0.016257 -0.073511  0.002255  0.106225   \n",
       "...         ...       ...       ...       ...       ...       ...       ...   \n",
       "21582  0.038952  0.158030 -0.018494  0.029227  0.110629 -0.085440  0.031798   \n",
       "21583 -0.006507  0.136995 -0.149236  0.002044  0.153614 -0.044837  0.153875   \n",
       "21584 -0.170812  0.180552  0.038717  0.137382 -0.135571 -0.107863  0.021959   \n",
       "21585 -0.092500  0.175067 -0.063254 -0.092458 -0.008215 -0.052605  0.119415   \n",
       "21586 -0.205560  0.059884  0.062691 -0.056325 -0.354661  0.065867  0.325565   \n",
       "\n",
       "             7         8         9   ...        90        91        92  \\\n",
       "0      0.183569  0.014509 -0.092617  ...  0.070798  0.025625  0.058644   \n",
       "1      0.268245  0.077921 -0.162361  ...  0.089718  0.017023  0.004338   \n",
       "2      0.294170  0.007780  0.081570  ...  0.112953 -0.037676 -0.002447   \n",
       "3      0.102150 -0.174055 -0.172746  ...  0.642603 -0.225270 -0.217359   \n",
       "4      0.225060 -0.091049 -0.102035  ...  0.120553  0.054224 -0.115468   \n",
       "...         ...       ...       ...  ...       ...       ...       ...   \n",
       "21582  0.331952 -0.061453 -0.094627  ...  0.144935  0.105126  0.078305   \n",
       "21583  0.296153 -0.047018 -0.185537  ...  0.062877  0.037913  0.050434   \n",
       "21584  0.352930  0.044536 -0.074014  ...  0.081747  0.177766  0.186964   \n",
       "21585  0.315698  0.046452 -0.107578  ...  0.194209 -0.006328 -0.052689   \n",
       "21586  0.349464 -0.161020 -0.238123  ... -0.036616 -0.018452 -0.036732   \n",
       "\n",
       "             93        94        95        96        97        98        99  \n",
       "0     -0.255308 -0.078397 -0.032968  0.098925 -0.103489  0.137099 -0.204718  \n",
       "1     -0.448536 -0.009264 -0.198337  0.127382 -0.066545  0.031457  0.138095  \n",
       "2     -0.299069 -0.098315  0.108659  0.083755 -0.067097  0.213432  0.078868  \n",
       "3     -0.331290  0.005355  0.241408  0.404333 -0.541870 -0.025808 -0.193828  \n",
       "4     -0.143754 -0.183742  0.004837  0.081039 -0.017392  0.130946 -0.160380  \n",
       "...         ...       ...       ...       ...       ...       ...       ...  \n",
       "21582 -0.174782  0.005704  0.007209  0.105265 -0.244889  0.199799 -0.219074  \n",
       "21583 -0.154289  0.093573 -0.018004  0.282097  0.026103  0.176460  0.068016  \n",
       "21584 -0.216684 -0.105557  0.200159  0.293047 -0.049944  0.018963 -0.077992  \n",
       "21585 -0.088868  0.096413  0.091933  0.323266 -0.196742  0.170948  0.097792  \n",
       "21586 -0.042880  0.035625 -0.072739  0.249998  0.220054  0.117894 -0.251152  \n",
       "\n",
       "[21587 rows x 100 columns]"
      ]
     },
     "execution_count": 45,
     "metadata": {},
     "output_type": "execute_result"
    }
   ],
   "source": [
    "train_mean_vector = pd.DataFrame(train_mean_vector)\n",
    "train_mean_vector"
   ]
  },
  {
   "cell_type": "code",
   "execution_count": 46,
   "metadata": {},
   "outputs": [],
   "source": [
    "# income_occyp_type, income_age_type, edu_occyp_type, edu_income_type, family_income_type\n",
    "\n",
    "import random\n",
    "\n",
    "tst2=tst.reset_index().drop('index',axis=1).copy()\n",
    "tst2=tst2.reset_index()\n",
    "tst2['goodcd']=tst2['goodcd'].astype('str')\n",
    "test_data=list(tst2.groupby('custid')['goodcd'].unique())"
   ]
  },
  {
   "cell_type": "code",
   "execution_count": 47,
   "metadata": {},
   "outputs": [
    {
     "name": "stderr",
     "output_type": "stream",
     "text": [
      "100%|█████████████████████████████████████████████████████████████████████████| 14380/14380 [00:00<00:00, 15793.63it/s]\n"
     ]
    }
   ],
   "source": [
    "test_mean_vector = []\n",
    "for words in tqdm(test_data):\n",
    "    tmp = np.zeros(100)\n",
    "    cnt = 0\n",
    "    for word in words:\n",
    "        try:\n",
    "            tmp += w2v.wv[word]\n",
    "            cnt += 1\n",
    "        except:\n",
    "            pass\n",
    "    tmp /= cnt\n",
    "    test_mean_vector.append(tmp)\n",
    "test_mean_vector = np.array(test_mean_vector)"
   ]
  },
  {
   "cell_type": "code",
   "execution_count": 48,
   "metadata": {},
   "outputs": [
    {
     "data": {
      "text/html": [
       "<div>\n",
       "<style scoped>\n",
       "    .dataframe tbody tr th:only-of-type {\n",
       "        vertical-align: middle;\n",
       "    }\n",
       "\n",
       "    .dataframe tbody tr th {\n",
       "        vertical-align: top;\n",
       "    }\n",
       "\n",
       "    .dataframe thead th {\n",
       "        text-align: right;\n",
       "    }\n",
       "</style>\n",
       "<table border=\"1\" class=\"dataframe\">\n",
       "  <thead>\n",
       "    <tr style=\"text-align: right;\">\n",
       "      <th></th>\n",
       "      <th>0</th>\n",
       "      <th>1</th>\n",
       "      <th>2</th>\n",
       "      <th>3</th>\n",
       "      <th>4</th>\n",
       "      <th>5</th>\n",
       "      <th>6</th>\n",
       "      <th>7</th>\n",
       "      <th>8</th>\n",
       "      <th>9</th>\n",
       "      <th>...</th>\n",
       "      <th>90</th>\n",
       "      <th>91</th>\n",
       "      <th>92</th>\n",
       "      <th>93</th>\n",
       "      <th>94</th>\n",
       "      <th>95</th>\n",
       "      <th>96</th>\n",
       "      <th>97</th>\n",
       "      <th>98</th>\n",
       "      <th>99</th>\n",
       "    </tr>\n",
       "  </thead>\n",
       "  <tbody>\n",
       "    <tr>\n",
       "      <th>0</th>\n",
       "      <td>-0.132930</td>\n",
       "      <td>0.155734</td>\n",
       "      <td>0.151646</td>\n",
       "      <td>0.068456</td>\n",
       "      <td>-0.003697</td>\n",
       "      <td>0.029520</td>\n",
       "      <td>0.062507</td>\n",
       "      <td>0.306939</td>\n",
       "      <td>-0.029330</td>\n",
       "      <td>-0.108594</td>\n",
       "      <td>...</td>\n",
       "      <td>0.094814</td>\n",
       "      <td>0.101818</td>\n",
       "      <td>-0.091067</td>\n",
       "      <td>-0.241184</td>\n",
       "      <td>-0.226995</td>\n",
       "      <td>-0.113442</td>\n",
       "      <td>0.063421</td>\n",
       "      <td>0.013044</td>\n",
       "      <td>0.245279</td>\n",
       "      <td>-0.126025</td>\n",
       "    </tr>\n",
       "    <tr>\n",
       "      <th>1</th>\n",
       "      <td>-0.088401</td>\n",
       "      <td>0.128908</td>\n",
       "      <td>-0.018629</td>\n",
       "      <td>0.100338</td>\n",
       "      <td>-0.011866</td>\n",
       "      <td>-0.049685</td>\n",
       "      <td>0.047318</td>\n",
       "      <td>0.276287</td>\n",
       "      <td>-0.005998</td>\n",
       "      <td>-0.084904</td>\n",
       "      <td>...</td>\n",
       "      <td>0.144259</td>\n",
       "      <td>0.092630</td>\n",
       "      <td>-0.031617</td>\n",
       "      <td>-0.163453</td>\n",
       "      <td>-0.072596</td>\n",
       "      <td>0.079954</td>\n",
       "      <td>0.152019</td>\n",
       "      <td>-0.090272</td>\n",
       "      <td>0.199531</td>\n",
       "      <td>-0.066211</td>\n",
       "    </tr>\n",
       "    <tr>\n",
       "      <th>2</th>\n",
       "      <td>-0.267335</td>\n",
       "      <td>0.228172</td>\n",
       "      <td>0.019315</td>\n",
       "      <td>-0.132455</td>\n",
       "      <td>-0.063226</td>\n",
       "      <td>0.364643</td>\n",
       "      <td>0.143861</td>\n",
       "      <td>0.386225</td>\n",
       "      <td>-0.090614</td>\n",
       "      <td>-0.156111</td>\n",
       "      <td>...</td>\n",
       "      <td>0.342110</td>\n",
       "      <td>0.007563</td>\n",
       "      <td>-0.049062</td>\n",
       "      <td>-0.197961</td>\n",
       "      <td>0.085084</td>\n",
       "      <td>-0.012924</td>\n",
       "      <td>0.153711</td>\n",
       "      <td>0.174028</td>\n",
       "      <td>0.130789</td>\n",
       "      <td>0.029266</td>\n",
       "    </tr>\n",
       "    <tr>\n",
       "      <th>3</th>\n",
       "      <td>-0.019369</td>\n",
       "      <td>0.204129</td>\n",
       "      <td>0.041491</td>\n",
       "      <td>0.009992</td>\n",
       "      <td>-0.136156</td>\n",
       "      <td>-0.041238</td>\n",
       "      <td>0.185946</td>\n",
       "      <td>0.397358</td>\n",
       "      <td>0.007071</td>\n",
       "      <td>-0.109215</td>\n",
       "      <td>...</td>\n",
       "      <td>0.051666</td>\n",
       "      <td>-0.045467</td>\n",
       "      <td>0.057830</td>\n",
       "      <td>-0.152573</td>\n",
       "      <td>0.187562</td>\n",
       "      <td>-0.174977</td>\n",
       "      <td>0.091271</td>\n",
       "      <td>-0.044189</td>\n",
       "      <td>0.130247</td>\n",
       "      <td>-0.099189</td>\n",
       "    </tr>\n",
       "    <tr>\n",
       "      <th>4</th>\n",
       "      <td>-0.315853</td>\n",
       "      <td>0.271953</td>\n",
       "      <td>-0.079658</td>\n",
       "      <td>-0.128518</td>\n",
       "      <td>-0.017075</td>\n",
       "      <td>0.165995</td>\n",
       "      <td>0.259495</td>\n",
       "      <td>0.355456</td>\n",
       "      <td>0.113665</td>\n",
       "      <td>-0.324010</td>\n",
       "      <td>...</td>\n",
       "      <td>0.217618</td>\n",
       "      <td>-0.102182</td>\n",
       "      <td>0.079764</td>\n",
       "      <td>-0.071714</td>\n",
       "      <td>0.030500</td>\n",
       "      <td>0.010211</td>\n",
       "      <td>0.135265</td>\n",
       "      <td>0.039706</td>\n",
       "      <td>0.010439</td>\n",
       "      <td>-0.083185</td>\n",
       "    </tr>\n",
       "    <tr>\n",
       "      <th>...</th>\n",
       "      <td>...</td>\n",
       "      <td>...</td>\n",
       "      <td>...</td>\n",
       "      <td>...</td>\n",
       "      <td>...</td>\n",
       "      <td>...</td>\n",
       "      <td>...</td>\n",
       "      <td>...</td>\n",
       "      <td>...</td>\n",
       "      <td>...</td>\n",
       "      <td>...</td>\n",
       "      <td>...</td>\n",
       "      <td>...</td>\n",
       "      <td>...</td>\n",
       "      <td>...</td>\n",
       "      <td>...</td>\n",
       "      <td>...</td>\n",
       "      <td>...</td>\n",
       "      <td>...</td>\n",
       "      <td>...</td>\n",
       "      <td>...</td>\n",
       "    </tr>\n",
       "    <tr>\n",
       "      <th>14375</th>\n",
       "      <td>-0.130912</td>\n",
       "      <td>0.259859</td>\n",
       "      <td>0.064655</td>\n",
       "      <td>-0.042632</td>\n",
       "      <td>-0.106299</td>\n",
       "      <td>0.156177</td>\n",
       "      <td>-0.074448</td>\n",
       "      <td>0.284330</td>\n",
       "      <td>-0.098886</td>\n",
       "      <td>-0.292375</td>\n",
       "      <td>...</td>\n",
       "      <td>0.204193</td>\n",
       "      <td>0.321694</td>\n",
       "      <td>-0.156073</td>\n",
       "      <td>-0.047712</td>\n",
       "      <td>-0.197576</td>\n",
       "      <td>0.056773</td>\n",
       "      <td>-0.133331</td>\n",
       "      <td>-0.099340</td>\n",
       "      <td>0.150410</td>\n",
       "      <td>-0.081173</td>\n",
       "    </tr>\n",
       "    <tr>\n",
       "      <th>14376</th>\n",
       "      <td>-0.267657</td>\n",
       "      <td>0.182745</td>\n",
       "      <td>-0.002856</td>\n",
       "      <td>0.107635</td>\n",
       "      <td>-0.025713</td>\n",
       "      <td>-0.139545</td>\n",
       "      <td>0.266818</td>\n",
       "      <td>0.387936</td>\n",
       "      <td>0.036856</td>\n",
       "      <td>-0.273038</td>\n",
       "      <td>...</td>\n",
       "      <td>0.079278</td>\n",
       "      <td>0.009070</td>\n",
       "      <td>0.081375</td>\n",
       "      <td>-0.105646</td>\n",
       "      <td>0.007727</td>\n",
       "      <td>-0.100705</td>\n",
       "      <td>0.101752</td>\n",
       "      <td>0.094941</td>\n",
       "      <td>0.066065</td>\n",
       "      <td>-0.021121</td>\n",
       "    </tr>\n",
       "    <tr>\n",
       "      <th>14377</th>\n",
       "      <td>-0.025629</td>\n",
       "      <td>0.126905</td>\n",
       "      <td>0.038476</td>\n",
       "      <td>-0.160173</td>\n",
       "      <td>0.031174</td>\n",
       "      <td>-0.297837</td>\n",
       "      <td>-0.084994</td>\n",
       "      <td>0.143794</td>\n",
       "      <td>-0.142578</td>\n",
       "      <td>-0.042474</td>\n",
       "      <td>...</td>\n",
       "      <td>0.157538</td>\n",
       "      <td>0.065261</td>\n",
       "      <td>-0.075927</td>\n",
       "      <td>-0.296062</td>\n",
       "      <td>-0.267985</td>\n",
       "      <td>0.077667</td>\n",
       "      <td>0.160068</td>\n",
       "      <td>0.034527</td>\n",
       "      <td>0.141176</td>\n",
       "      <td>-0.216591</td>\n",
       "    </tr>\n",
       "    <tr>\n",
       "      <th>14378</th>\n",
       "      <td>-0.661867</td>\n",
       "      <td>0.023487</td>\n",
       "      <td>0.162321</td>\n",
       "      <td>-0.021873</td>\n",
       "      <td>-0.142295</td>\n",
       "      <td>0.216998</td>\n",
       "      <td>0.022104</td>\n",
       "      <td>0.288725</td>\n",
       "      <td>0.051792</td>\n",
       "      <td>-0.222829</td>\n",
       "      <td>...</td>\n",
       "      <td>0.198817</td>\n",
       "      <td>0.047374</td>\n",
       "      <td>-0.052840</td>\n",
       "      <td>-0.155514</td>\n",
       "      <td>-0.032686</td>\n",
       "      <td>0.121621</td>\n",
       "      <td>0.046995</td>\n",
       "      <td>0.130970</td>\n",
       "      <td>0.102449</td>\n",
       "      <td>-0.044051</td>\n",
       "    </tr>\n",
       "    <tr>\n",
       "      <th>14379</th>\n",
       "      <td>-0.279257</td>\n",
       "      <td>-0.204408</td>\n",
       "      <td>-0.201394</td>\n",
       "      <td>-0.022995</td>\n",
       "      <td>-0.304377</td>\n",
       "      <td>0.201526</td>\n",
       "      <td>0.481820</td>\n",
       "      <td>0.353973</td>\n",
       "      <td>-0.003996</td>\n",
       "      <td>0.101596</td>\n",
       "      <td>...</td>\n",
       "      <td>0.004666</td>\n",
       "      <td>0.068152</td>\n",
       "      <td>0.141755</td>\n",
       "      <td>-0.305577</td>\n",
       "      <td>-0.210832</td>\n",
       "      <td>-0.000011</td>\n",
       "      <td>0.294776</td>\n",
       "      <td>-0.317566</td>\n",
       "      <td>0.215456</td>\n",
       "      <td>-0.170229</td>\n",
       "    </tr>\n",
       "  </tbody>\n",
       "</table>\n",
       "<p>14380 rows × 100 columns</p>\n",
       "</div>"
      ],
      "text/plain": [
       "             0         1         2         3         4         5         6   \\\n",
       "0     -0.132930  0.155734  0.151646  0.068456 -0.003697  0.029520  0.062507   \n",
       "1     -0.088401  0.128908 -0.018629  0.100338 -0.011866 -0.049685  0.047318   \n",
       "2     -0.267335  0.228172  0.019315 -0.132455 -0.063226  0.364643  0.143861   \n",
       "3     -0.019369  0.204129  0.041491  0.009992 -0.136156 -0.041238  0.185946   \n",
       "4     -0.315853  0.271953 -0.079658 -0.128518 -0.017075  0.165995  0.259495   \n",
       "...         ...       ...       ...       ...       ...       ...       ...   \n",
       "14375 -0.130912  0.259859  0.064655 -0.042632 -0.106299  0.156177 -0.074448   \n",
       "14376 -0.267657  0.182745 -0.002856  0.107635 -0.025713 -0.139545  0.266818   \n",
       "14377 -0.025629  0.126905  0.038476 -0.160173  0.031174 -0.297837 -0.084994   \n",
       "14378 -0.661867  0.023487  0.162321 -0.021873 -0.142295  0.216998  0.022104   \n",
       "14379 -0.279257 -0.204408 -0.201394 -0.022995 -0.304377  0.201526  0.481820   \n",
       "\n",
       "             7         8         9   ...        90        91        92  \\\n",
       "0      0.306939 -0.029330 -0.108594  ...  0.094814  0.101818 -0.091067   \n",
       "1      0.276287 -0.005998 -0.084904  ...  0.144259  0.092630 -0.031617   \n",
       "2      0.386225 -0.090614 -0.156111  ...  0.342110  0.007563 -0.049062   \n",
       "3      0.397358  0.007071 -0.109215  ...  0.051666 -0.045467  0.057830   \n",
       "4      0.355456  0.113665 -0.324010  ...  0.217618 -0.102182  0.079764   \n",
       "...         ...       ...       ...  ...       ...       ...       ...   \n",
       "14375  0.284330 -0.098886 -0.292375  ...  0.204193  0.321694 -0.156073   \n",
       "14376  0.387936  0.036856 -0.273038  ...  0.079278  0.009070  0.081375   \n",
       "14377  0.143794 -0.142578 -0.042474  ...  0.157538  0.065261 -0.075927   \n",
       "14378  0.288725  0.051792 -0.222829  ...  0.198817  0.047374 -0.052840   \n",
       "14379  0.353973 -0.003996  0.101596  ...  0.004666  0.068152  0.141755   \n",
       "\n",
       "             93        94        95        96        97        98        99  \n",
       "0     -0.241184 -0.226995 -0.113442  0.063421  0.013044  0.245279 -0.126025  \n",
       "1     -0.163453 -0.072596  0.079954  0.152019 -0.090272  0.199531 -0.066211  \n",
       "2     -0.197961  0.085084 -0.012924  0.153711  0.174028  0.130789  0.029266  \n",
       "3     -0.152573  0.187562 -0.174977  0.091271 -0.044189  0.130247 -0.099189  \n",
       "4     -0.071714  0.030500  0.010211  0.135265  0.039706  0.010439 -0.083185  \n",
       "...         ...       ...       ...       ...       ...       ...       ...  \n",
       "14375 -0.047712 -0.197576  0.056773 -0.133331 -0.099340  0.150410 -0.081173  \n",
       "14376 -0.105646  0.007727 -0.100705  0.101752  0.094941  0.066065 -0.021121  \n",
       "14377 -0.296062 -0.267985  0.077667  0.160068  0.034527  0.141176 -0.216591  \n",
       "14378 -0.155514 -0.032686  0.121621  0.046995  0.130970  0.102449 -0.044051  \n",
       "14379 -0.305577 -0.210832 -0.000011  0.294776 -0.317566  0.215456 -0.170229  \n",
       "\n",
       "[14380 rows x 100 columns]"
      ]
     },
     "execution_count": 48,
     "metadata": {},
     "output_type": "execute_result"
    }
   ],
   "source": [
    "test_mean_vector = pd.DataFrame(test_mean_vector)\n",
    "test_mean_vector"
   ]
  },
  {
   "cell_type": "code",
   "execution_count": null,
   "metadata": {},
   "outputs": [],
   "source": []
  },
  {
   "cell_type": "code",
   "execution_count": 49,
   "metadata": {},
   "outputs": [],
   "source": [
    "# income_occyp_type, income_age_type, edu_occyp_type, edu_income_type, family_income_type\n",
    "\n",
    "import random\n",
    "\n",
    "trn2=trn.reset_index().drop('index',axis=1).copy()\n",
    "trn2=trn2.reset_index()\n",
    "train_data=list(trn2.groupby('custid')['brd_nm'].unique())"
   ]
  },
  {
   "cell_type": "code",
   "execution_count": 50,
   "metadata": {},
   "outputs": [],
   "source": [
    "def oversample(x, n):\n",
    "    lst = []\n",
    "    for i in x:\n",
    "        tmp = []\n",
    "        for j in range(n):\n",
    "            random.shuffle(i)\n",
    "            tmp += list(i)\n",
    "            lst.append(tmp)\n",
    "    return lst"
   ]
  },
  {
   "cell_type": "code",
   "execution_count": 51,
   "metadata": {},
   "outputs": [],
   "source": [
    "w2v_input = oversample(train_data, 5)"
   ]
  },
  {
   "cell_type": "code",
   "execution_count": 52,
   "metadata": {},
   "outputs": [],
   "source": [
    "from gensim.models import word2vec\n",
    "\n",
    "w2v = word2vec.Word2Vec(sentences = w2v_input, vector_size = 100, window = 3, min_count = 1, sg = 1)"
   ]
  },
  {
   "cell_type": "code",
   "execution_count": 53,
   "metadata": {},
   "outputs": [
    {
     "name": "stderr",
     "output_type": "stream",
     "text": [
      "100%|█████████████████████████████████████████████████████████████████████████| 21587/21587 [00:01<00:00, 18009.12it/s]\n"
     ]
    }
   ],
   "source": [
    "train_mean_vector_2 = []\n",
    "for words in tqdm(train_data):\n",
    "    tmp = np.zeros(100)\n",
    "    cnt = 0\n",
    "    for word in words:\n",
    "        try:\n",
    "            tmp += w2v.wv[word]\n",
    "            cnt += 1\n",
    "        except:\n",
    "            pass\n",
    "    tmp /= cnt\n",
    "    train_mean_vector_2.append(tmp)\n",
    "train_mean_vector_2 = np.array(train_mean_vector_2)"
   ]
  },
  {
   "cell_type": "code",
   "execution_count": 54,
   "metadata": {},
   "outputs": [
    {
     "data": {
      "text/html": [
       "<div>\n",
       "<style scoped>\n",
       "    .dataframe tbody tr th:only-of-type {\n",
       "        vertical-align: middle;\n",
       "    }\n",
       "\n",
       "    .dataframe tbody tr th {\n",
       "        vertical-align: top;\n",
       "    }\n",
       "\n",
       "    .dataframe thead th {\n",
       "        text-align: right;\n",
       "    }\n",
       "</style>\n",
       "<table border=\"1\" class=\"dataframe\">\n",
       "  <thead>\n",
       "    <tr style=\"text-align: right;\">\n",
       "      <th></th>\n",
       "      <th>0</th>\n",
       "      <th>1</th>\n",
       "      <th>2</th>\n",
       "      <th>3</th>\n",
       "      <th>4</th>\n",
       "      <th>5</th>\n",
       "      <th>6</th>\n",
       "      <th>7</th>\n",
       "      <th>8</th>\n",
       "      <th>9</th>\n",
       "      <th>...</th>\n",
       "      <th>90</th>\n",
       "      <th>91</th>\n",
       "      <th>92</th>\n",
       "      <th>93</th>\n",
       "      <th>94</th>\n",
       "      <th>95</th>\n",
       "      <th>96</th>\n",
       "      <th>97</th>\n",
       "      <th>98</th>\n",
       "      <th>99</th>\n",
       "    </tr>\n",
       "  </thead>\n",
       "  <tbody>\n",
       "    <tr>\n",
       "      <th>0</th>\n",
       "      <td>0.120581</td>\n",
       "      <td>-0.168126</td>\n",
       "      <td>-0.093358</td>\n",
       "      <td>0.130806</td>\n",
       "      <td>-0.115939</td>\n",
       "      <td>-0.310098</td>\n",
       "      <td>0.031862</td>\n",
       "      <td>-0.007990</td>\n",
       "      <td>-0.103392</td>\n",
       "      <td>-0.266050</td>\n",
       "      <td>...</td>\n",
       "      <td>-0.165226</td>\n",
       "      <td>0.226791</td>\n",
       "      <td>0.023077</td>\n",
       "      <td>0.197462</td>\n",
       "      <td>0.159934</td>\n",
       "      <td>0.134166</td>\n",
       "      <td>-0.084717</td>\n",
       "      <td>0.058027</td>\n",
       "      <td>0.233149</td>\n",
       "      <td>0.146704</td>\n",
       "    </tr>\n",
       "    <tr>\n",
       "      <th>1</th>\n",
       "      <td>0.016066</td>\n",
       "      <td>-0.175732</td>\n",
       "      <td>-0.060114</td>\n",
       "      <td>0.039251</td>\n",
       "      <td>-0.101751</td>\n",
       "      <td>-0.212600</td>\n",
       "      <td>-0.026284</td>\n",
       "      <td>-0.178640</td>\n",
       "      <td>-0.092970</td>\n",
       "      <td>-0.138123</td>\n",
       "      <td>...</td>\n",
       "      <td>-0.212440</td>\n",
       "      <td>0.137763</td>\n",
       "      <td>-0.042228</td>\n",
       "      <td>0.076557</td>\n",
       "      <td>0.097435</td>\n",
       "      <td>0.117673</td>\n",
       "      <td>-0.081022</td>\n",
       "      <td>0.041562</td>\n",
       "      <td>0.235905</td>\n",
       "      <td>0.100596</td>\n",
       "    </tr>\n",
       "    <tr>\n",
       "      <th>2</th>\n",
       "      <td>-0.123167</td>\n",
       "      <td>-0.187222</td>\n",
       "      <td>-0.063106</td>\n",
       "      <td>0.032984</td>\n",
       "      <td>-0.149452</td>\n",
       "      <td>-0.086457</td>\n",
       "      <td>-0.035880</td>\n",
       "      <td>-0.056020</td>\n",
       "      <td>-0.162613</td>\n",
       "      <td>-0.107509</td>\n",
       "      <td>...</td>\n",
       "      <td>-0.185209</td>\n",
       "      <td>0.162313</td>\n",
       "      <td>-0.024075</td>\n",
       "      <td>0.080504</td>\n",
       "      <td>0.102624</td>\n",
       "      <td>0.079979</td>\n",
       "      <td>-0.165694</td>\n",
       "      <td>0.105364</td>\n",
       "      <td>0.314384</td>\n",
       "      <td>0.118440</td>\n",
       "    </tr>\n",
       "    <tr>\n",
       "      <th>3</th>\n",
       "      <td>-0.193487</td>\n",
       "      <td>-0.087682</td>\n",
       "      <td>-0.101784</td>\n",
       "      <td>0.144094</td>\n",
       "      <td>-0.219583</td>\n",
       "      <td>-0.063452</td>\n",
       "      <td>-0.002532</td>\n",
       "      <td>-0.056295</td>\n",
       "      <td>-0.245091</td>\n",
       "      <td>-0.218480</td>\n",
       "      <td>...</td>\n",
       "      <td>-0.051455</td>\n",
       "      <td>0.020150</td>\n",
       "      <td>-0.073568</td>\n",
       "      <td>0.343153</td>\n",
       "      <td>0.258331</td>\n",
       "      <td>0.246874</td>\n",
       "      <td>-0.016653</td>\n",
       "      <td>0.158458</td>\n",
       "      <td>0.133428</td>\n",
       "      <td>0.105987</td>\n",
       "    </tr>\n",
       "    <tr>\n",
       "      <th>4</th>\n",
       "      <td>0.030284</td>\n",
       "      <td>-0.195019</td>\n",
       "      <td>-0.061709</td>\n",
       "      <td>0.004915</td>\n",
       "      <td>-0.098922</td>\n",
       "      <td>-0.128137</td>\n",
       "      <td>-0.058516</td>\n",
       "      <td>-0.095405</td>\n",
       "      <td>-0.190178</td>\n",
       "      <td>-0.147233</td>\n",
       "      <td>...</td>\n",
       "      <td>-0.179383</td>\n",
       "      <td>0.158299</td>\n",
       "      <td>-0.097633</td>\n",
       "      <td>0.092266</td>\n",
       "      <td>0.095512</td>\n",
       "      <td>0.130884</td>\n",
       "      <td>-0.039362</td>\n",
       "      <td>0.080870</td>\n",
       "      <td>0.225688</td>\n",
       "      <td>0.169993</td>\n",
       "    </tr>\n",
       "    <tr>\n",
       "      <th>...</th>\n",
       "      <td>...</td>\n",
       "      <td>...</td>\n",
       "      <td>...</td>\n",
       "      <td>...</td>\n",
       "      <td>...</td>\n",
       "      <td>...</td>\n",
       "      <td>...</td>\n",
       "      <td>...</td>\n",
       "      <td>...</td>\n",
       "      <td>...</td>\n",
       "      <td>...</td>\n",
       "      <td>...</td>\n",
       "      <td>...</td>\n",
       "      <td>...</td>\n",
       "      <td>...</td>\n",
       "      <td>...</td>\n",
       "      <td>...</td>\n",
       "      <td>...</td>\n",
       "      <td>...</td>\n",
       "      <td>...</td>\n",
       "      <td>...</td>\n",
       "    </tr>\n",
       "    <tr>\n",
       "      <th>21582</th>\n",
       "      <td>-0.018193</td>\n",
       "      <td>-0.183459</td>\n",
       "      <td>-0.021244</td>\n",
       "      <td>0.051140</td>\n",
       "      <td>-0.116421</td>\n",
       "      <td>-0.131396</td>\n",
       "      <td>0.043906</td>\n",
       "      <td>-0.058672</td>\n",
       "      <td>-0.237357</td>\n",
       "      <td>-0.259427</td>\n",
       "      <td>...</td>\n",
       "      <td>-0.087380</td>\n",
       "      <td>0.180822</td>\n",
       "      <td>-0.091415</td>\n",
       "      <td>0.093610</td>\n",
       "      <td>0.085881</td>\n",
       "      <td>0.134376</td>\n",
       "      <td>-0.136256</td>\n",
       "      <td>0.114941</td>\n",
       "      <td>0.086217</td>\n",
       "      <td>0.114949</td>\n",
       "    </tr>\n",
       "    <tr>\n",
       "      <th>21583</th>\n",
       "      <td>-0.011796</td>\n",
       "      <td>-0.231376</td>\n",
       "      <td>-0.018073</td>\n",
       "      <td>0.042466</td>\n",
       "      <td>-0.086801</td>\n",
       "      <td>-0.058015</td>\n",
       "      <td>-0.066308</td>\n",
       "      <td>-0.086597</td>\n",
       "      <td>-0.132022</td>\n",
       "      <td>-0.065993</td>\n",
       "      <td>...</td>\n",
       "      <td>-0.095967</td>\n",
       "      <td>0.147775</td>\n",
       "      <td>-0.108850</td>\n",
       "      <td>0.159752</td>\n",
       "      <td>0.103106</td>\n",
       "      <td>0.166150</td>\n",
       "      <td>-0.158565</td>\n",
       "      <td>0.209097</td>\n",
       "      <td>0.172259</td>\n",
       "      <td>0.031050</td>\n",
       "    </tr>\n",
       "    <tr>\n",
       "      <th>21584</th>\n",
       "      <td>0.090069</td>\n",
       "      <td>-0.142702</td>\n",
       "      <td>0.014944</td>\n",
       "      <td>-0.069143</td>\n",
       "      <td>-0.054553</td>\n",
       "      <td>-0.193201</td>\n",
       "      <td>0.050302</td>\n",
       "      <td>0.094423</td>\n",
       "      <td>-0.233922</td>\n",
       "      <td>-0.242887</td>\n",
       "      <td>...</td>\n",
       "      <td>-0.083197</td>\n",
       "      <td>0.235958</td>\n",
       "      <td>-0.067154</td>\n",
       "      <td>0.069837</td>\n",
       "      <td>0.179463</td>\n",
       "      <td>0.112109</td>\n",
       "      <td>-0.186623</td>\n",
       "      <td>0.223913</td>\n",
       "      <td>0.138100</td>\n",
       "      <td>0.103012</td>\n",
       "    </tr>\n",
       "    <tr>\n",
       "      <th>21585</th>\n",
       "      <td>-0.084705</td>\n",
       "      <td>-0.183849</td>\n",
       "      <td>-0.095647</td>\n",
       "      <td>0.003566</td>\n",
       "      <td>-0.171866</td>\n",
       "      <td>-0.028044</td>\n",
       "      <td>-0.035338</td>\n",
       "      <td>-0.066382</td>\n",
       "      <td>-0.156098</td>\n",
       "      <td>-0.093578</td>\n",
       "      <td>...</td>\n",
       "      <td>-0.041586</td>\n",
       "      <td>0.228185</td>\n",
       "      <td>-0.060137</td>\n",
       "      <td>0.210461</td>\n",
       "      <td>0.191180</td>\n",
       "      <td>0.128997</td>\n",
       "      <td>-0.136482</td>\n",
       "      <td>0.187943</td>\n",
       "      <td>0.338590</td>\n",
       "      <td>-0.023360</td>\n",
       "    </tr>\n",
       "    <tr>\n",
       "      <th>21586</th>\n",
       "      <td>0.042889</td>\n",
       "      <td>-0.280288</td>\n",
       "      <td>0.073309</td>\n",
       "      <td>0.006138</td>\n",
       "      <td>-0.008843</td>\n",
       "      <td>-0.329702</td>\n",
       "      <td>0.050468</td>\n",
       "      <td>-0.303589</td>\n",
       "      <td>-0.282146</td>\n",
       "      <td>-0.226690</td>\n",
       "      <td>...</td>\n",
       "      <td>-0.142646</td>\n",
       "      <td>0.078074</td>\n",
       "      <td>0.077272</td>\n",
       "      <td>-0.008187</td>\n",
       "      <td>0.155854</td>\n",
       "      <td>0.034956</td>\n",
       "      <td>-0.118188</td>\n",
       "      <td>0.009388</td>\n",
       "      <td>0.233682</td>\n",
       "      <td>0.255791</td>\n",
       "    </tr>\n",
       "  </tbody>\n",
       "</table>\n",
       "<p>21587 rows × 100 columns</p>\n",
       "</div>"
      ],
      "text/plain": [
       "             0         1         2         3         4         5         6   \\\n",
       "0      0.120581 -0.168126 -0.093358  0.130806 -0.115939 -0.310098  0.031862   \n",
       "1      0.016066 -0.175732 -0.060114  0.039251 -0.101751 -0.212600 -0.026284   \n",
       "2     -0.123167 -0.187222 -0.063106  0.032984 -0.149452 -0.086457 -0.035880   \n",
       "3     -0.193487 -0.087682 -0.101784  0.144094 -0.219583 -0.063452 -0.002532   \n",
       "4      0.030284 -0.195019 -0.061709  0.004915 -0.098922 -0.128137 -0.058516   \n",
       "...         ...       ...       ...       ...       ...       ...       ...   \n",
       "21582 -0.018193 -0.183459 -0.021244  0.051140 -0.116421 -0.131396  0.043906   \n",
       "21583 -0.011796 -0.231376 -0.018073  0.042466 -0.086801 -0.058015 -0.066308   \n",
       "21584  0.090069 -0.142702  0.014944 -0.069143 -0.054553 -0.193201  0.050302   \n",
       "21585 -0.084705 -0.183849 -0.095647  0.003566 -0.171866 -0.028044 -0.035338   \n",
       "21586  0.042889 -0.280288  0.073309  0.006138 -0.008843 -0.329702  0.050468   \n",
       "\n",
       "             7         8         9   ...        90        91        92  \\\n",
       "0     -0.007990 -0.103392 -0.266050  ... -0.165226  0.226791  0.023077   \n",
       "1     -0.178640 -0.092970 -0.138123  ... -0.212440  0.137763 -0.042228   \n",
       "2     -0.056020 -0.162613 -0.107509  ... -0.185209  0.162313 -0.024075   \n",
       "3     -0.056295 -0.245091 -0.218480  ... -0.051455  0.020150 -0.073568   \n",
       "4     -0.095405 -0.190178 -0.147233  ... -0.179383  0.158299 -0.097633   \n",
       "...         ...       ...       ...  ...       ...       ...       ...   \n",
       "21582 -0.058672 -0.237357 -0.259427  ... -0.087380  0.180822 -0.091415   \n",
       "21583 -0.086597 -0.132022 -0.065993  ... -0.095967  0.147775 -0.108850   \n",
       "21584  0.094423 -0.233922 -0.242887  ... -0.083197  0.235958 -0.067154   \n",
       "21585 -0.066382 -0.156098 -0.093578  ... -0.041586  0.228185 -0.060137   \n",
       "21586 -0.303589 -0.282146 -0.226690  ... -0.142646  0.078074  0.077272   \n",
       "\n",
       "             93        94        95        96        97        98        99  \n",
       "0      0.197462  0.159934  0.134166 -0.084717  0.058027  0.233149  0.146704  \n",
       "1      0.076557  0.097435  0.117673 -0.081022  0.041562  0.235905  0.100596  \n",
       "2      0.080504  0.102624  0.079979 -0.165694  0.105364  0.314384  0.118440  \n",
       "3      0.343153  0.258331  0.246874 -0.016653  0.158458  0.133428  0.105987  \n",
       "4      0.092266  0.095512  0.130884 -0.039362  0.080870  0.225688  0.169993  \n",
       "...         ...       ...       ...       ...       ...       ...       ...  \n",
       "21582  0.093610  0.085881  0.134376 -0.136256  0.114941  0.086217  0.114949  \n",
       "21583  0.159752  0.103106  0.166150 -0.158565  0.209097  0.172259  0.031050  \n",
       "21584  0.069837  0.179463  0.112109 -0.186623  0.223913  0.138100  0.103012  \n",
       "21585  0.210461  0.191180  0.128997 -0.136482  0.187943  0.338590 -0.023360  \n",
       "21586 -0.008187  0.155854  0.034956 -0.118188  0.009388  0.233682  0.255791  \n",
       "\n",
       "[21587 rows x 100 columns]"
      ]
     },
     "execution_count": 54,
     "metadata": {},
     "output_type": "execute_result"
    }
   ],
   "source": [
    "train_mean_vector_2 = pd.DataFrame(train_mean_vector_2)\n",
    "train_mean_vector_2"
   ]
  },
  {
   "cell_type": "code",
   "execution_count": 55,
   "metadata": {},
   "outputs": [],
   "source": [
    "# income_occyp_type, income_age_type, edu_occyp_type, edu_income_type, family_income_type\n",
    "\n",
    "import random\n",
    "\n",
    "tst2=tst.reset_index().drop('index',axis=1).copy()\n",
    "tst2=tst2.reset_index()\n",
    "test_data=list(tst2.groupby('custid')['brd_nm'].unique())"
   ]
  },
  {
   "cell_type": "code",
   "execution_count": 56,
   "metadata": {},
   "outputs": [
    {
     "name": "stderr",
     "output_type": "stream",
     "text": [
      "100%|█████████████████████████████████████████████████████████████████████████| 14380/14380 [00:00<00:00, 17795.38it/s]\n"
     ]
    }
   ],
   "source": [
    "test_mean_vector_2 = []\n",
    "for words in tqdm(test_data):\n",
    "    tmp = np.zeros(100)\n",
    "    cnt = 0\n",
    "    for word in words:\n",
    "        try:\n",
    "            tmp += w2v.wv[word]\n",
    "            cnt += 1\n",
    "        except:\n",
    "            pass\n",
    "    tmp /= cnt\n",
    "    test_mean_vector_2.append(tmp)\n",
    "test_mean_vector_2 = np.array(test_mean_vector_2)"
   ]
  },
  {
   "cell_type": "code",
   "execution_count": 57,
   "metadata": {},
   "outputs": [
    {
     "data": {
      "text/html": [
       "<div>\n",
       "<style scoped>\n",
       "    .dataframe tbody tr th:only-of-type {\n",
       "        vertical-align: middle;\n",
       "    }\n",
       "\n",
       "    .dataframe tbody tr th {\n",
       "        vertical-align: top;\n",
       "    }\n",
       "\n",
       "    .dataframe thead th {\n",
       "        text-align: right;\n",
       "    }\n",
       "</style>\n",
       "<table border=\"1\" class=\"dataframe\">\n",
       "  <thead>\n",
       "    <tr style=\"text-align: right;\">\n",
       "      <th></th>\n",
       "      <th>0</th>\n",
       "      <th>1</th>\n",
       "      <th>2</th>\n",
       "      <th>3</th>\n",
       "      <th>4</th>\n",
       "      <th>5</th>\n",
       "      <th>6</th>\n",
       "      <th>7</th>\n",
       "      <th>8</th>\n",
       "      <th>9</th>\n",
       "      <th>...</th>\n",
       "      <th>90</th>\n",
       "      <th>91</th>\n",
       "      <th>92</th>\n",
       "      <th>93</th>\n",
       "      <th>94</th>\n",
       "      <th>95</th>\n",
       "      <th>96</th>\n",
       "      <th>97</th>\n",
       "      <th>98</th>\n",
       "      <th>99</th>\n",
       "    </tr>\n",
       "  </thead>\n",
       "  <tbody>\n",
       "    <tr>\n",
       "      <th>0</th>\n",
       "      <td>0.017443</td>\n",
       "      <td>-0.174621</td>\n",
       "      <td>-0.105194</td>\n",
       "      <td>0.011899</td>\n",
       "      <td>0.015266</td>\n",
       "      <td>-0.155299</td>\n",
       "      <td>0.077563</td>\n",
       "      <td>-0.047686</td>\n",
       "      <td>-0.140162</td>\n",
       "      <td>-0.238857</td>\n",
       "      <td>...</td>\n",
       "      <td>-0.204700</td>\n",
       "      <td>0.160036</td>\n",
       "      <td>-0.023996</td>\n",
       "      <td>0.117331</td>\n",
       "      <td>0.129160</td>\n",
       "      <td>0.090782</td>\n",
       "      <td>-0.019356</td>\n",
       "      <td>0.105623</td>\n",
       "      <td>0.229560</td>\n",
       "      <td>0.123024</td>\n",
       "    </tr>\n",
       "    <tr>\n",
       "      <th>1</th>\n",
       "      <td>-0.001908</td>\n",
       "      <td>-0.132507</td>\n",
       "      <td>-0.050017</td>\n",
       "      <td>0.088914</td>\n",
       "      <td>-0.058232</td>\n",
       "      <td>-0.131739</td>\n",
       "      <td>0.002461</td>\n",
       "      <td>-0.048332</td>\n",
       "      <td>-0.209193</td>\n",
       "      <td>-0.121247</td>\n",
       "      <td>...</td>\n",
       "      <td>-0.122746</td>\n",
       "      <td>0.163274</td>\n",
       "      <td>-0.042743</td>\n",
       "      <td>0.061766</td>\n",
       "      <td>0.139213</td>\n",
       "      <td>0.074474</td>\n",
       "      <td>-0.141511</td>\n",
       "      <td>0.083415</td>\n",
       "      <td>0.215886</td>\n",
       "      <td>0.169451</td>\n",
       "    </tr>\n",
       "    <tr>\n",
       "      <th>2</th>\n",
       "      <td>0.077198</td>\n",
       "      <td>-0.252317</td>\n",
       "      <td>-0.003949</td>\n",
       "      <td>0.045440</td>\n",
       "      <td>-0.070676</td>\n",
       "      <td>-0.147768</td>\n",
       "      <td>-0.033464</td>\n",
       "      <td>-0.082746</td>\n",
       "      <td>-0.148074</td>\n",
       "      <td>-0.085137</td>\n",
       "      <td>...</td>\n",
       "      <td>-0.123839</td>\n",
       "      <td>0.167545</td>\n",
       "      <td>-0.121078</td>\n",
       "      <td>0.056365</td>\n",
       "      <td>0.037585</td>\n",
       "      <td>0.137053</td>\n",
       "      <td>-0.181564</td>\n",
       "      <td>0.106795</td>\n",
       "      <td>0.273853</td>\n",
       "      <td>0.106458</td>\n",
       "    </tr>\n",
       "    <tr>\n",
       "      <th>3</th>\n",
       "      <td>0.086740</td>\n",
       "      <td>-0.139128</td>\n",
       "      <td>-0.047973</td>\n",
       "      <td>0.097944</td>\n",
       "      <td>-0.192437</td>\n",
       "      <td>-0.067731</td>\n",
       "      <td>-0.034565</td>\n",
       "      <td>-0.023757</td>\n",
       "      <td>-0.231951</td>\n",
       "      <td>-0.124877</td>\n",
       "      <td>...</td>\n",
       "      <td>-0.046731</td>\n",
       "      <td>0.147687</td>\n",
       "      <td>-0.066205</td>\n",
       "      <td>0.127491</td>\n",
       "      <td>0.094139</td>\n",
       "      <td>0.247584</td>\n",
       "      <td>-0.109124</td>\n",
       "      <td>0.215378</td>\n",
       "      <td>0.163965</td>\n",
       "      <td>-0.084136</td>\n",
       "    </tr>\n",
       "    <tr>\n",
       "      <th>4</th>\n",
       "      <td>0.028153</td>\n",
       "      <td>-0.261091</td>\n",
       "      <td>0.026309</td>\n",
       "      <td>0.011200</td>\n",
       "      <td>-0.137154</td>\n",
       "      <td>-0.117949</td>\n",
       "      <td>-0.057408</td>\n",
       "      <td>-0.006317</td>\n",
       "      <td>-0.227226</td>\n",
       "      <td>-0.186583</td>\n",
       "      <td>...</td>\n",
       "      <td>-0.125063</td>\n",
       "      <td>0.093647</td>\n",
       "      <td>-0.038744</td>\n",
       "      <td>-0.011845</td>\n",
       "      <td>0.186116</td>\n",
       "      <td>0.169659</td>\n",
       "      <td>-0.120947</td>\n",
       "      <td>0.032807</td>\n",
       "      <td>0.301125</td>\n",
       "      <td>0.076763</td>\n",
       "    </tr>\n",
       "    <tr>\n",
       "      <th>...</th>\n",
       "      <td>...</td>\n",
       "      <td>...</td>\n",
       "      <td>...</td>\n",
       "      <td>...</td>\n",
       "      <td>...</td>\n",
       "      <td>...</td>\n",
       "      <td>...</td>\n",
       "      <td>...</td>\n",
       "      <td>...</td>\n",
       "      <td>...</td>\n",
       "      <td>...</td>\n",
       "      <td>...</td>\n",
       "      <td>...</td>\n",
       "      <td>...</td>\n",
       "      <td>...</td>\n",
       "      <td>...</td>\n",
       "      <td>...</td>\n",
       "      <td>...</td>\n",
       "      <td>...</td>\n",
       "      <td>...</td>\n",
       "      <td>...</td>\n",
       "    </tr>\n",
       "    <tr>\n",
       "      <th>14375</th>\n",
       "      <td>0.134864</td>\n",
       "      <td>-0.288073</td>\n",
       "      <td>-0.002128</td>\n",
       "      <td>0.104435</td>\n",
       "      <td>0.069870</td>\n",
       "      <td>-0.147911</td>\n",
       "      <td>0.061783</td>\n",
       "      <td>-0.278469</td>\n",
       "      <td>-0.124548</td>\n",
       "      <td>-0.146876</td>\n",
       "      <td>...</td>\n",
       "      <td>-0.129445</td>\n",
       "      <td>0.028837</td>\n",
       "      <td>-0.095100</td>\n",
       "      <td>-0.056888</td>\n",
       "      <td>0.088281</td>\n",
       "      <td>0.120404</td>\n",
       "      <td>-0.018461</td>\n",
       "      <td>0.112555</td>\n",
       "      <td>0.110769</td>\n",
       "      <td>0.399279</td>\n",
       "    </tr>\n",
       "    <tr>\n",
       "      <th>14376</th>\n",
       "      <td>0.050831</td>\n",
       "      <td>-0.238909</td>\n",
       "      <td>-0.061822</td>\n",
       "      <td>0.110594</td>\n",
       "      <td>-0.069637</td>\n",
       "      <td>-0.186823</td>\n",
       "      <td>-0.132783</td>\n",
       "      <td>0.046306</td>\n",
       "      <td>-0.215126</td>\n",
       "      <td>-0.028745</td>\n",
       "      <td>...</td>\n",
       "      <td>-0.170372</td>\n",
       "      <td>0.140821</td>\n",
       "      <td>-0.138006</td>\n",
       "      <td>0.058354</td>\n",
       "      <td>0.165498</td>\n",
       "      <td>0.221782</td>\n",
       "      <td>-0.135942</td>\n",
       "      <td>0.078361</td>\n",
       "      <td>0.424393</td>\n",
       "      <td>0.120720</td>\n",
       "    </tr>\n",
       "    <tr>\n",
       "      <th>14377</th>\n",
       "      <td>-0.128984</td>\n",
       "      <td>-0.219644</td>\n",
       "      <td>-0.163106</td>\n",
       "      <td>0.272883</td>\n",
       "      <td>-0.012682</td>\n",
       "      <td>-0.212286</td>\n",
       "      <td>-0.145577</td>\n",
       "      <td>-0.077054</td>\n",
       "      <td>-0.408790</td>\n",
       "      <td>-0.232035</td>\n",
       "      <td>...</td>\n",
       "      <td>-0.076609</td>\n",
       "      <td>0.184695</td>\n",
       "      <td>-0.107765</td>\n",
       "      <td>0.018057</td>\n",
       "      <td>0.328900</td>\n",
       "      <td>0.078679</td>\n",
       "      <td>0.170413</td>\n",
       "      <td>0.189459</td>\n",
       "      <td>0.134358</td>\n",
       "      <td>0.458461</td>\n",
       "    </tr>\n",
       "    <tr>\n",
       "      <th>14378</th>\n",
       "      <td>-0.018579</td>\n",
       "      <td>-0.217616</td>\n",
       "      <td>0.077768</td>\n",
       "      <td>-0.010903</td>\n",
       "      <td>-0.074095</td>\n",
       "      <td>-0.099657</td>\n",
       "      <td>0.018693</td>\n",
       "      <td>-0.167801</td>\n",
       "      <td>-0.219371</td>\n",
       "      <td>-0.117369</td>\n",
       "      <td>...</td>\n",
       "      <td>-0.186932</td>\n",
       "      <td>0.034624</td>\n",
       "      <td>0.025919</td>\n",
       "      <td>-0.010157</td>\n",
       "      <td>0.110671</td>\n",
       "      <td>0.070488</td>\n",
       "      <td>-0.110652</td>\n",
       "      <td>0.078641</td>\n",
       "      <td>0.344327</td>\n",
       "      <td>0.141736</td>\n",
       "    </tr>\n",
       "    <tr>\n",
       "      <th>14379</th>\n",
       "      <td>-0.049038</td>\n",
       "      <td>-0.160628</td>\n",
       "      <td>0.039705</td>\n",
       "      <td>-0.002760</td>\n",
       "      <td>-0.099553</td>\n",
       "      <td>-0.297729</td>\n",
       "      <td>0.121413</td>\n",
       "      <td>0.036112</td>\n",
       "      <td>-0.070952</td>\n",
       "      <td>-0.329358</td>\n",
       "      <td>...</td>\n",
       "      <td>-0.112970</td>\n",
       "      <td>0.151054</td>\n",
       "      <td>-0.036756</td>\n",
       "      <td>0.024561</td>\n",
       "      <td>0.119461</td>\n",
       "      <td>0.164540</td>\n",
       "      <td>-0.179339</td>\n",
       "      <td>0.067205</td>\n",
       "      <td>0.341047</td>\n",
       "      <td>0.187127</td>\n",
       "    </tr>\n",
       "  </tbody>\n",
       "</table>\n",
       "<p>14380 rows × 100 columns</p>\n",
       "</div>"
      ],
      "text/plain": [
       "             0         1         2         3         4         5         6   \\\n",
       "0      0.017443 -0.174621 -0.105194  0.011899  0.015266 -0.155299  0.077563   \n",
       "1     -0.001908 -0.132507 -0.050017  0.088914 -0.058232 -0.131739  0.002461   \n",
       "2      0.077198 -0.252317 -0.003949  0.045440 -0.070676 -0.147768 -0.033464   \n",
       "3      0.086740 -0.139128 -0.047973  0.097944 -0.192437 -0.067731 -0.034565   \n",
       "4      0.028153 -0.261091  0.026309  0.011200 -0.137154 -0.117949 -0.057408   \n",
       "...         ...       ...       ...       ...       ...       ...       ...   \n",
       "14375  0.134864 -0.288073 -0.002128  0.104435  0.069870 -0.147911  0.061783   \n",
       "14376  0.050831 -0.238909 -0.061822  0.110594 -0.069637 -0.186823 -0.132783   \n",
       "14377 -0.128984 -0.219644 -0.163106  0.272883 -0.012682 -0.212286 -0.145577   \n",
       "14378 -0.018579 -0.217616  0.077768 -0.010903 -0.074095 -0.099657  0.018693   \n",
       "14379 -0.049038 -0.160628  0.039705 -0.002760 -0.099553 -0.297729  0.121413   \n",
       "\n",
       "             7         8         9   ...        90        91        92  \\\n",
       "0     -0.047686 -0.140162 -0.238857  ... -0.204700  0.160036 -0.023996   \n",
       "1     -0.048332 -0.209193 -0.121247  ... -0.122746  0.163274 -0.042743   \n",
       "2     -0.082746 -0.148074 -0.085137  ... -0.123839  0.167545 -0.121078   \n",
       "3     -0.023757 -0.231951 -0.124877  ... -0.046731  0.147687 -0.066205   \n",
       "4     -0.006317 -0.227226 -0.186583  ... -0.125063  0.093647 -0.038744   \n",
       "...         ...       ...       ...  ...       ...       ...       ...   \n",
       "14375 -0.278469 -0.124548 -0.146876  ... -0.129445  0.028837 -0.095100   \n",
       "14376  0.046306 -0.215126 -0.028745  ... -0.170372  0.140821 -0.138006   \n",
       "14377 -0.077054 -0.408790 -0.232035  ... -0.076609  0.184695 -0.107765   \n",
       "14378 -0.167801 -0.219371 -0.117369  ... -0.186932  0.034624  0.025919   \n",
       "14379  0.036112 -0.070952 -0.329358  ... -0.112970  0.151054 -0.036756   \n",
       "\n",
       "             93        94        95        96        97        98        99  \n",
       "0      0.117331  0.129160  0.090782 -0.019356  0.105623  0.229560  0.123024  \n",
       "1      0.061766  0.139213  0.074474 -0.141511  0.083415  0.215886  0.169451  \n",
       "2      0.056365  0.037585  0.137053 -0.181564  0.106795  0.273853  0.106458  \n",
       "3      0.127491  0.094139  0.247584 -0.109124  0.215378  0.163965 -0.084136  \n",
       "4     -0.011845  0.186116  0.169659 -0.120947  0.032807  0.301125  0.076763  \n",
       "...         ...       ...       ...       ...       ...       ...       ...  \n",
       "14375 -0.056888  0.088281  0.120404 -0.018461  0.112555  0.110769  0.399279  \n",
       "14376  0.058354  0.165498  0.221782 -0.135942  0.078361  0.424393  0.120720  \n",
       "14377  0.018057  0.328900  0.078679  0.170413  0.189459  0.134358  0.458461  \n",
       "14378 -0.010157  0.110671  0.070488 -0.110652  0.078641  0.344327  0.141736  \n",
       "14379  0.024561  0.119461  0.164540 -0.179339  0.067205  0.341047  0.187127  \n",
       "\n",
       "[14380 rows x 100 columns]"
      ]
     },
     "execution_count": 57,
     "metadata": {},
     "output_type": "execute_result"
    }
   ],
   "source": [
    "test_mean_vector_2 = pd.DataFrame(test_mean_vector_2)\n",
    "test_mean_vector_2"
   ]
  },
  {
   "cell_type": "code",
   "execution_count": null,
   "metadata": {},
   "outputs": [],
   "source": []
  },
  {
   "cell_type": "code",
   "execution_count": 58,
   "metadata": {},
   "outputs": [],
   "source": [
    "# sales time - 아침/ 낮/ 밤 구매 나누기\n",
    "data['sales_time'] = data['sales_time'].apply(lambda x: int(str(x)[:2]) if len(str(x)) == 4 else int(str(x)[:1]))\n",
    "data['sales_time_cat'] = data['sales_time'].apply(lambda x: 'mo_sales' if (9 <= x <= 12) else ('af_sales' if (13 <= x <= 18) else 'knt_sales'))"
   ]
  },
  {
   "cell_type": "code",
   "execution_count": 59,
   "metadata": {},
   "outputs": [],
   "source": [
    "# dis_amt - 할인율 특성 추가\n",
    "data['dis_rate'] = data['dis_amt']/data['tot_amt']"
   ]
  },
  {
   "cell_type": "code",
   "execution_count": 60,
   "metadata": {},
   "outputs": [],
   "source": [
    "# 퇴근전/후 구매 빈도, 비율\n",
    "def get_off_work(x):\n",
    "    if 9<=x<=17:\n",
    "        return('bf_work')\n",
    "    else:\n",
    "        return('af_work')"
   ]
  },
  {
   "cell_type": "code",
   "execution_count": 61,
   "metadata": {},
   "outputs": [],
   "source": [
    "data['sales_type'] = data['sales_time'].map(get_off_work)"
   ]
  },
  {
   "cell_type": "markdown",
   "metadata": {},
   "source": [
    "시간별 구매 횟수"
   ]
  },
  {
   "cell_type": "code",
   "execution_count": 62,
   "metadata": {},
   "outputs": [],
   "source": [
    "freq_per_time = pd.pivot_table(index='custid',columns='sales_time',values='tot_amt',aggfunc=np.size, fill_value=0, data=data.query(\"tot_amt>0\")[['custid','sales_time','tot_amt']]).reset_index()"
   ]
  },
  {
   "cell_type": "code",
   "execution_count": 63,
   "metadata": {},
   "outputs": [],
   "source": [
    "sales_type = pd.pivot_table(index='custid',columns='sales_type',values='tot_amt',aggfunc=np.size, fill_value=0,data = data.query('tot_amt>0')[['custid','sales_type','tot_amt']]).reset_index()"
   ]
  },
  {
   "cell_type": "code",
   "execution_count": 64,
   "metadata": {},
   "outputs": [],
   "source": [
    "freq_per_time.columns=['custid', '1_stf', '9_stf', \"10_stf\", '11_stf', '12_stf', '13_stf', '14_stf', '15_stf', '16_stf', '17_stf', '18_stf', '19_stf', '20_stf', '21_stf', '22_stf']"
   ]
  },
  {
   "cell_type": "code",
   "execution_count": 65,
   "metadata": {},
   "outputs": [],
   "source": [
    "features = pd.merge(freq_per_time, sales_type, on = 'custid')"
   ]
  },
  {
   "cell_type": "code",
   "execution_count": 66,
   "metadata": {},
   "outputs": [],
   "source": [
    "features = pd.merge(features, shop_time, on = 'custid')"
   ]
  },
  {
   "cell_type": "code",
   "execution_count": 67,
   "metadata": {},
   "outputs": [],
   "source": [
    "features = pd.merge(features, dtdt_mean, on = 'custid')"
   ]
  },
  {
   "cell_type": "code",
   "execution_count": 68,
   "metadata": {},
   "outputs": [],
   "source": [
    "def floor_transfer_a(x) :\n",
    "    return  {\n",
    "        \"무역점\" : 0,\n",
    "        \"본점\" : 1,\n",
    "        \"신촌점\" : 0,\n",
    "        \"천호점\" : 1\n",
    "    }.get(x)\n",
    "\n",
    "def floor_transfer_m(x) :  \n",
    "    return  {\n",
    "        \"무역점\" : 1/10*13,\n",
    "        \"본점\" : 1/6*13,\n",
    "        \"신촌점\" : 1/11*13,\n",
    "        \"천호점\" : 1\n",
    "    }.get(x)\n",
    "data['floor'] = (data.str_nm.apply(floor_transfer_a))*data.str_nm.apply(floor_transfer_m).astype(int)"
   ]
  },
  {
   "cell_type": "code",
   "execution_count": 69,
   "metadata": {},
   "outputs": [],
   "source": [
    "features = pd.merge(features, data.groupby('custid')['floor'].mean().reset_index(), on = 'custid')"
   ]
  },
  {
   "cell_type": "code",
   "execution_count": null,
   "metadata": {},
   "outputs": [],
   "source": []
  },
  {
   "cell_type": "code",
   "execution_count": 70,
   "metadata": {},
   "outputs": [],
   "source": [
    "features['af_work_rate'] = features['af_work']/(features['af_work'] + features['bf_work'])\n",
    "features['bf_work_rate'] = features['bf_work']/(features['af_work'] + features['bf_work'])"
   ]
  },
  {
   "cell_type": "code",
   "execution_count": 71,
   "metadata": {},
   "outputs": [],
   "source": [
    "# 아침구매/ 낮구매/ 밤구매\n",
    "freq_sales_cat = pd.pivot_table(index='custid',columns='sales_time_cat',values='tot_amt',aggfunc=np.size, fill_value=0, data=data.query(\"tot_amt>0\")[['custid','sales_time_cat','tot_amt']]).reset_index()\n",
    "features = pd.merge(features, freq_sales_cat,on='custid')"
   ]
  },
  {
   "cell_type": "code",
   "execution_count": null,
   "metadata": {},
   "outputs": [],
   "source": []
  },
  {
   "cell_type": "code",
   "execution_count": 72,
   "metadata": {},
   "outputs": [],
   "source": [
    "refund_freq=data.query('tot_amt<0').groupby('custid')['sales_day'].count().reset_index()\n",
    "features = pd.merge(features, refund_freq, left_on = 'custid',right_on='custid',how='left')\n",
    "features.rename(columns = {'sales_day': 'refund_freq'},inplace=True)\n",
    "features.fillna(0,inplace=True)"
   ]
  },
  {
   "cell_type": "code",
   "execution_count": 73,
   "metadata": {},
   "outputs": [],
   "source": [
    "sales_freq=data.query('tot_amt>0').groupby('custid')['sales_day'].count().reset_index()\n",
    "features = pd.merge(features, sales_freq, left_on = 'custid',right_on='custid',how='left')\n",
    "features.rename(columns = {'sales_day': 'sales_freq'},inplace=True)"
   ]
  },
  {
   "cell_type": "code",
   "execution_count": 74,
   "metadata": {},
   "outputs": [],
   "source": [
    "# 구매 빈도 특성 추가\n",
    "all_freq=data.groupby('custid')['sales_day'].count().reset_index()\n",
    "features = pd.merge(features, all_freq,  left_on = 'custid',right_on='custid',how='left')\n",
    "features.rename(columns = {'sales_day': 'all_freq'},inplace=True)"
   ]
  },
  {
   "cell_type": "code",
   "execution_count": 75,
   "metadata": {},
   "outputs": [],
   "source": [
    "features['refund_sales_rate']=features['refund_freq']/features['sales_freq']\n",
    "features['refund_all_rate'] = features['refund_freq']/features['all_freq']"
   ]
  },
  {
   "cell_type": "markdown",
   "metadata": {},
   "source": [
    "방문한 날짜의 갯수"
   ]
  },
  {
   "cell_type": "code",
   "execution_count": 76,
   "metadata": {},
   "outputs": [],
   "source": [
    "data_aaa=data.groupby(['custid','sales_month','sales_day'])['sales_dayofweek'].count().reset_index()"
   ]
  },
  {
   "cell_type": "code",
   "execution_count": 77,
   "metadata": {},
   "outputs": [],
   "source": [
    "data_aaa.sales_dayofweek=1"
   ]
  },
  {
   "cell_type": "code",
   "execution_count": 78,
   "metadata": {},
   "outputs": [],
   "source": [
    "data_aaa=data_aaa.groupby('custid')['sales_dayofweek'].sum().reset_index()"
   ]
  },
  {
   "cell_type": "code",
   "execution_count": 79,
   "metadata": {},
   "outputs": [],
   "source": [
    "features = pd.merge(features, data_aaa, on = 'custid')"
   ]
  },
  {
   "cell_type": "code",
   "execution_count": 80,
   "metadata": {},
   "outputs": [],
   "source": [
    "features['sales_freq_mean']=features['sales_freq']/features['sales_dayofweek']"
   ]
  },
  {
   "cell_type": "markdown",
   "metadata": {},
   "source": [
    "평일에 방문하는 평균 시간"
   ]
  },
  {
   "cell_type": "code",
   "execution_count": 81,
   "metadata": {},
   "outputs": [],
   "source": [
    "vuddlf=data[data.weekend==0].groupby('custid')['sales_time'].mean().reset_index()"
   ]
  },
  {
   "cell_type": "code",
   "execution_count": 82,
   "metadata": {},
   "outputs": [],
   "source": [
    "features = pd.merge(features, vuddlf, how='left',on = 'custid')"
   ]
  },
  {
   "cell_type": "code",
   "execution_count": 83,
   "metadata": {},
   "outputs": [],
   "source": [
    "wkdtjdgus=data[data.weekend==0].groupby('custid')['sales_time'].agg([('sales_time_mod', lambda x: x.value_counts().index[0])]).reset_index()"
   ]
  },
  {
   "cell_type": "code",
   "execution_count": 84,
   "metadata": {},
   "outputs": [],
   "source": [
    "features = pd.merge(features, wkdtjdgus, how='left',on = 'custid')"
   ]
  },
  {
   "cell_type": "markdown",
   "metadata": {},
   "source": [
    "주말에 방문하는 평균 시간"
   ]
  },
  {
   "cell_type": "code",
   "execution_count": 85,
   "metadata": {},
   "outputs": [],
   "source": [
    "wnakf=data[data.weekend==1].groupby('custid')['sales_time'].mean().reset_index()"
   ]
  },
  {
   "cell_type": "code",
   "execution_count": 86,
   "metadata": {},
   "outputs": [],
   "source": [
    "features = pd.merge(features, wnakf, how='left',on = 'custid')"
   ]
  },
  {
   "cell_type": "code",
   "execution_count": 87,
   "metadata": {},
   "outputs": [],
   "source": [
    "wkdtjdgus=data[data.weekend==1].groupby('custid')['sales_time'].agg([('sales_time_mod', lambda x: x.value_counts().index[0])]).reset_index()"
   ]
  },
  {
   "cell_type": "code",
   "execution_count": 88,
   "metadata": {},
   "outputs": [],
   "source": [
    "features = pd.merge(features, wkdtjdgus, how='left',on = 'custid')"
   ]
  },
  {
   "cell_type": "code",
   "execution_count": 89,
   "metadata": {},
   "outputs": [],
   "source": [
    "# 수입상품 관련 열\n",
    "sales_import=data.groupby('custid')['import_flg'].agg('sum').reset_index()\n",
    "features = pd.merge(features, sales_import, on = 'custid')\n",
    "\n",
    "features.rename(columns = {'import_flg': 'sales_import'},inplace=True)"
   ]
  },
  {
   "cell_type": "code",
   "execution_count": 90,
   "metadata": {},
   "outputs": [],
   "source": [
    "# 수입상품 구매 빈도 추가\n",
    "features['import_rate']=features['sales_import']/features['sales_freq']"
   ]
  },
  {
   "cell_type": "code",
   "execution_count": 91,
   "metadata": {},
   "outputs": [],
   "source": [
    "# 수입상품 환불 빈도 추가\n",
    "features['import_refund_rate']=features['sales_import']/(features['refund_freq']+1)"
   ]
  },
  {
   "cell_type": "code",
   "execution_count": 92,
   "metadata": {},
   "outputs": [],
   "source": [
    "# 계절별 구매 빈도 추가\n",
    "def f1(x):\n",
    "    if 3 <= x <= 5 :\n",
    "        return('spring_sales')\n",
    "    elif 6 <= x <= 8 :\n",
    "        return('summer_sales')\n",
    "    elif 9 <= x <= 11 :\n",
    "        return('fall_sales')\n",
    "    else :\n",
    "        return('winter_sales')    "
   ]
  },
  {
   "cell_type": "code",
   "execution_count": 93,
   "metadata": {},
   "outputs": [],
   "source": [
    "data['season_sales']=data['sales_month'].apply(f1)"
   ]
  },
  {
   "cell_type": "code",
   "execution_count": 94,
   "metadata": {},
   "outputs": [],
   "source": [
    "season = pd.pivot_table(data, index='custid', columns='season_sales', values='tot_amt', \n",
    "                   aggfunc=np.size, fill_value=0).reset_index()\n",
    "features = pd.merge(features, season, how='left',on = 'custid')"
   ]
  },
  {
   "cell_type": "code",
   "execution_count": 95,
   "metadata": {},
   "outputs": [],
   "source": [
    "#계절별 구매만 빈도\n",
    "season_sales_freq = pd.pivot_table(index='custid',columns='season_sales',values='tot_amt',aggfunc=np.size, fill_value=0, data=data.query(\"tot_amt>0\")[['custid','season_sales','tot_amt']]).reset_index()\n",
    "features = pd.merge(features, season_sales_freq, how='left',on = 'custid')"
   ]
  },
  {
   "cell_type": "code",
   "execution_count": 96,
   "metadata": {},
   "outputs": [],
   "source": [
    "#계절별 환불만 빈도\n",
    "season_refund_freq = pd.pivot_table(index='custid',columns='season_sales',values='tot_amt',aggfunc=np.size, fill_value=0, data=data.query(\"tot_amt<0\")[['custid','season_sales','tot_amt']]).reset_index()\n",
    "features = pd.merge(features, season_refund_freq, how='left',on = 'custid')\n",
    "features.fillna(0,inplace=True)"
   ]
  },
  {
   "cell_type": "code",
   "execution_count": 97,
   "metadata": {},
   "outputs": [],
   "source": [
    "features['sales_fall_rate']=features.fall_sales_x/(features.fall_sales_x+features.spring_sales_x+features.summer_sales_x+features.winter_sales_x)"
   ]
  },
  {
   "cell_type": "code",
   "execution_count": 98,
   "metadata": {},
   "outputs": [],
   "source": [
    "features['sales_spring_rate']=features.spring_sales_x/(features.fall_sales_x+features.spring_sales_x+features.summer_sales_x+features.winter_sales_x)"
   ]
  },
  {
   "cell_type": "code",
   "execution_count": 99,
   "metadata": {},
   "outputs": [],
   "source": [
    "features['sales_summer_rate']=features.summer_sales_x/(features.fall_sales_x+features.spring_sales_x+features.summer_sales_x+features.winter_sales_x)"
   ]
  },
  {
   "cell_type": "code",
   "execution_count": 100,
   "metadata": {},
   "outputs": [],
   "source": [
    "features['sales_winter_rate']=features.winter_sales_x/(features.fall_sales_x+features.spring_sales_x+features.summer_sales_x+features.winter_sales_x)"
   ]
  },
  {
   "cell_type": "code",
   "execution_count": 101,
   "metadata": {},
   "outputs": [],
   "source": [
    "features['refund_fall_rate']=features.fall_sales_y/(features.fall_sales_y+features.spring_sales_y+features.summer_sales_y+features.winter_sales_y)"
   ]
  },
  {
   "cell_type": "code",
   "execution_count": 102,
   "metadata": {},
   "outputs": [],
   "source": [
    "features['refund_fall_rate']=features.fall_sales_y/(features.fall_sales_y+features.spring_sales_y+features.summer_sales_y+features.winter_sales_y)"
   ]
  },
  {
   "cell_type": "code",
   "execution_count": 103,
   "metadata": {},
   "outputs": [],
   "source": [
    "features['refund_spring_rate']=features.spring_sales_y/(features.fall_sales_y+features.spring_sales_y+features.summer_sales_y+features.winter_sales_y)"
   ]
  },
  {
   "cell_type": "code",
   "execution_count": 104,
   "metadata": {},
   "outputs": [],
   "source": [
    "features['refund_summer_rate']=features.summer_sales_y/(features.fall_sales_y+features.spring_sales_y+features.summer_sales_y+features.winter_sales_y)"
   ]
  },
  {
   "cell_type": "code",
   "execution_count": 105,
   "metadata": {},
   "outputs": [],
   "source": [
    "features['refund_winter_rate']=features.winter_sales_y/(features.fall_sales_y+features.spring_sales_y+features.summer_sales_y+features.winter_sales_y)"
   ]
  },
  {
   "cell_type": "code",
   "execution_count": 106,
   "metadata": {},
   "outputs": [],
   "source": [
    "features['all_fall_rate']=features.fall_sales/(features.fall_sales+features.spring_sales+features.summer_sales+features.winter_sales)"
   ]
  },
  {
   "cell_type": "code",
   "execution_count": 107,
   "metadata": {},
   "outputs": [],
   "source": [
    "features['all_spring_rate']=features.spring_sales/(features.fall_sales+features.spring_sales+features.summer_sales+features.winter_sales)"
   ]
  },
  {
   "cell_type": "code",
   "execution_count": 108,
   "metadata": {},
   "outputs": [],
   "source": [
    "features['all_summer_rate']=features.summer_sales/(features.fall_sales+features.spring_sales+features.summer_sales+features.winter_sales)"
   ]
  },
  {
   "cell_type": "code",
   "execution_count": 109,
   "metadata": {},
   "outputs": [],
   "source": [
    "features['all_winter_rate']=features.winter_sales/(features.fall_sales+features.spring_sales+features.summer_sales+features.winter_sales)"
   ]
  },
  {
   "cell_type": "code",
   "execution_count": 110,
   "metadata": {},
   "outputs": [],
   "source": [
    "# 주말 구매 비율\n",
    "features['wd_sales_rate'] = (data.groupby('custid')['weekend'].sum().reset_index()['weekend']/features['sales_freq'])*100"
   ]
  },
  {
   "cell_type": "markdown",
   "metadata": {},
   "source": [
    "월별 구매액의 합, 평균"
   ]
  },
  {
   "cell_type": "code",
   "execution_count": 111,
   "metadata": {},
   "outputs": [],
   "source": [
    "month_sales_mn=data.groupby(['custid','sales_month'])['net_amt'].mean().unstack().fillna(0)"
   ]
  },
  {
   "cell_type": "code",
   "execution_count": 112,
   "metadata": {},
   "outputs": [],
   "source": [
    "month_sales_mn.columns = ['mon_sale_mn'+ str(column) for column in month_sales_mn.columns]\n",
    "month_sales_mn = month_sales_mn.reset_index()"
   ]
  },
  {
   "cell_type": "code",
   "execution_count": 113,
   "metadata": {},
   "outputs": [],
   "source": [
    "month_sales_sm=data.groupby(['custid','sales_month'])['net_amt'].sum().unstack().fillna(0)"
   ]
  },
  {
   "cell_type": "code",
   "execution_count": 114,
   "metadata": {},
   "outputs": [],
   "source": [
    "month_sales_sm.columns = ['mon_sale_sm'+ str(column) for column in month_sales_sm.columns]\n",
    "month_sales_sm = month_sales_sm.reset_index()"
   ]
  },
  {
   "cell_type": "code",
   "execution_count": 115,
   "metadata": {},
   "outputs": [],
   "source": [
    "features = pd.merge(features, month_sales_sm, how='left',on = 'custid')"
   ]
  },
  {
   "cell_type": "code",
   "execution_count": 116,
   "metadata": {},
   "outputs": [],
   "source": [
    "features = pd.merge(features, month_sales_mn, how='left',on = 'custid')"
   ]
  },
  {
   "cell_type": "code",
   "execution_count": null,
   "metadata": {},
   "outputs": [],
   "source": []
  },
  {
   "cell_type": "code",
   "execution_count": 117,
   "metadata": {},
   "outputs": [],
   "source": [
    "# 구매 월 평균\n",
    "features['month_mean'] = data.groupby('custid')['sales_month'].mean().reset_index()['sales_month']"
   ]
  },
  {
   "cell_type": "code",
   "execution_count": 118,
   "metadata": {},
   "outputs": [],
   "source": [
    "# 자주 가는 월 - 원래 자주가는 \n",
    "#f = pd.pivot_table(data, index='custid', columns='sales_month', values='tot_amt', \n",
    "#                   aggfunc=np.size, fill_value=0).reset_index()\n",
    "f=pd.pivot_table(data[data.tot_amt>0], index='custid', columns='sales_month', values='tot_amt', \n",
    "                   aggfunc=np.size, fill_value=0).reset_index()"
   ]
  },
  {
   "cell_type": "code",
   "execution_count": 119,
   "metadata": {},
   "outputs": [],
   "source": [
    "f.columns=['custid', '1_mmff', '2_mmff', '3_mmff', '4_mmff', '5_mmff', '6_mmff', '7_mmff', '8_mmff', '9_mmff', '10_mmff', '11_mmff', '12_mmff']"
   ]
  },
  {
   "cell_type": "code",
   "execution_count": 120,
   "metadata": {},
   "outputs": [],
   "source": [
    "features = pd.merge(features, f, how='left',on = 'custid')"
   ]
  },
  {
   "cell_type": "markdown",
   "metadata": {},
   "source": [
    "금액 관리"
   ]
  },
  {
   "cell_type": "code",
   "execution_count": 121,
   "metadata": {},
   "outputs": [],
   "source": [
    "refund_net_sum=data[data.net_amt<0].groupby('custid')['net_amt'].sum().reset_index()\n",
    "features = pd.merge(features, refund_net_sum, how='left',on = 'custid')"
   ]
  },
  {
   "cell_type": "code",
   "execution_count": 122,
   "metadata": {},
   "outputs": [],
   "source": [
    "net_saels_all=data.groupby('custid')['net_amt'].agg([('tot_sales_all','sum'),('mean_amt_all','mean')])\n",
    "features = pd.merge(features, net_saels_all, how='left',on = 'custid').fillna(0)"
   ]
  },
  {
   "cell_type": "code",
   "execution_count": 123,
   "metadata": {},
   "outputs": [],
   "source": [
    "net_sales_0_all=data[data.net_amt>0].groupby('custid')['net_amt'].agg([('tot_sales','sum'),('max_sales_amt','max'),('min_sales_amt','min'),('mean_sales_amt','mean')])\n",
    "features = pd.merge(features, net_sales_0_all, how='left',on = 'custid').fillna(0)"
   ]
  },
  {
   "cell_type": "code",
   "execution_count": 124,
   "metadata": {},
   "outputs": [],
   "source": [
    "net_refund_all=data[data.net_amt<0].groupby('custid')['net_amt'].agg([('tot_refund','sum'),('max_refund_amt','max'),('min_refund_amt','min'),('mean_refund_amt','mean')])\n",
    "features = pd.merge(features, net_refund_all, how='left',on = 'custid').fillna(0)"
   ]
  },
  {
   "cell_type": "code",
   "execution_count": 125,
   "metadata": {},
   "outputs": [],
   "source": [
    "features[['mean_amt_all','mean_sales_amt','mean_refund_amt']] =round(features[['mean_amt_all','mean_sales_amt','mean_refund_amt']],2)"
   ]
  },
  {
   "cell_type": "code",
   "execution_count": 126,
   "metadata": {},
   "outputs": [],
   "source": [
    "features['tot_sales_freq_mean']=features['tot_sales']/features['sales_dayofweek']"
   ]
  },
  {
   "cell_type": "code",
   "execution_count": null,
   "metadata": {},
   "outputs": [],
   "source": []
  },
  {
   "cell_type": "code",
   "execution_count": 127,
   "metadata": {},
   "outputs": [],
   "source": [
    "# 총 할인금액\n",
    "features['tot_dis_amt'] = data.groupby('custid')['dis_amt'].sum().reset_index()['dis_amt']"
   ]
  },
  {
   "cell_type": "code",
   "execution_count": 128,
   "metadata": {},
   "outputs": [],
   "source": [
    "# 최대, 평균 할인율\n",
    "features['max_dis'] = data.groupby('custid')['dis_rate'].max().reset_index()['dis_rate']\n",
    "features['mean_dis'] = data.groupby('custid')['dis_rate'].mean().reset_index()['dis_rate']"
   ]
  },
  {
   "cell_type": "code",
   "execution_count": 129,
   "metadata": {},
   "outputs": [],
   "source": [
    "# 할인 받은 빈도, 비율\n",
    "dis_rate=data.query(\"dis_rate>0\").groupby('custid')['dis_rate'].count().reset_index()\n",
    "features = pd.merge(features, dis_rate, how='left',on='custid').fillna(0)\n",
    "features.rename(columns = {'dis_rate': 'dis_freq'},inplace=True)"
   ]
  },
  {
   "cell_type": "code",
   "execution_count": 130,
   "metadata": {},
   "outputs": [],
   "source": [
    "features['dis_freq_rate'] = features['dis_freq']/features['sales_freq']"
   ]
  },
  {
   "cell_type": "code",
   "execution_count": 131,
   "metadata": {},
   "outputs": [],
   "source": [
    "# 할부 빈도, 비율/ 평균 할부개월\n",
    "inst_ft = data.query(\"inst_mon != 1\").groupby('custid')['inst_mon'].agg([('inst_freq','count'),('inst_avg','mean'),('inst_max','max')])\n",
    "features = pd.merge(features, inst_ft, how='left',on = 'custid').fillna(0)\n",
    "features['inst_freq_rate'] = features['inst_freq']/features['sales_freq']\n",
    "features['inst_freq_all_rate'] = features['inst_freq']/features['all_freq']"
   ]
  },
  {
   "cell_type": "code",
   "execution_count": 132,
   "metadata": {},
   "outputs": [],
   "source": [
    "# 할부 총 달\n",
    "inst_ft_sum = data.groupby('custid')['inst_mon'].agg([('inst_sum','sum')])\n",
    "features = pd.merge(features, inst_ft_sum, how='left',on = 'custid').fillna(0)"
   ]
  },
  {
   "cell_type": "code",
   "execution_count": null,
   "metadata": {},
   "outputs": [],
   "source": []
  },
  {
   "cell_type": "code",
   "execution_count": 133,
   "metadata": {},
   "outputs": [],
   "source": [
    "features['tot_inst_amt']=features['tot_sales']/features['inst_sum']"
   ]
  },
  {
   "cell_type": "code",
   "execution_count": null,
   "metadata": {},
   "outputs": [],
   "source": []
  },
  {
   "cell_type": "code",
   "execution_count": 134,
   "metadata": {},
   "outputs": [],
   "source": [
    "# 할부 총 달\n",
    "sales_noinst = data.groupby('custid')['inst_fee'].agg([('inst_fee_sum','sum')])\n",
    "features = pd.merge(features, sales_noinst, how='left',on = 'custid').fillna(0)"
   ]
  },
  {
   "cell_type": "code",
   "execution_count": 135,
   "metadata": {},
   "outputs": [],
   "source": [
    "#def inst_avg(x):\n",
    "#    if x >=3:\n",
    "#        return 1\n",
    "#    else:\n",
    "#        return 0\n",
    "#\n",
    "#features['inst_quan'] = features.inst_avg.apply(inst_avg)"
   ]
  },
  {
   "cell_type": "code",
   "execution_count": null,
   "metadata": {},
   "outputs": [],
   "source": []
  },
  {
   "cell_type": "code",
   "execution_count": null,
   "metadata": {},
   "outputs": [],
   "source": []
  },
  {
   "cell_type": "code",
   "execution_count": 136,
   "metadata": {},
   "outputs": [],
   "source": [
    "# 자주가는 지점이 어딘지 원핫인코딩 한 것\n",
    "data['str_nm'] = data['str_nm'].apply(lambda x: 'mu' if x=='무역점' else('bon' if x=='본점' else('cheon' if x=='천호점' else 'sin')))"
   ]
  },
  {
   "cell_type": "code",
   "execution_count": 137,
   "metadata": {},
   "outputs": [],
   "source": [
    "f = data.groupby(['custid','str_nm'])['str_nm'].agg([('str_freq','count')]).reset_index()"
   ]
  },
  {
   "cell_type": "code",
   "execution_count": 138,
   "metadata": {
    "scrolled": false
   },
   "outputs": [
    {
     "data": {
      "application/vnd.jupyter.widget-view+json": {
       "model_id": "061b179140454b64bc45f8ccd8ba0b3d",
       "version_major": 2,
       "version_minor": 0
      },
      "text/plain": [
       "  0%|          | 0/35967 [00:00<?, ?it/s]"
      ]
     },
     "metadata": {},
     "output_type": "display_data"
    }
   ],
   "source": [
    "lst = []\n",
    "for i in tqdm_notebook(f['custid'].unique()) : \n",
    "    f2 = f.query(\"custid == @i\")\n",
    "    lst.append(f2.sort_values(by='str_freq',ascending=False)['str_nm'].iloc[0])\n",
    "\n",
    "features['str_freq'] = lst"
   ]
  },
  {
   "cell_type": "code",
   "execution_count": 139,
   "metadata": {},
   "outputs": [],
   "source": [
    "features = pd.get_dummies(features, 'str_freq')"
   ]
  },
  {
   "cell_type": "markdown",
   "metadata": {},
   "source": [
    "아이디 별 매장별 몇번씩 갔는지"
   ]
  },
  {
   "cell_type": "code",
   "execution_count": 140,
   "metadata": {},
   "outputs": [],
   "source": [
    "str_freq_all=data.groupby(['custid','str_nm'])['str_nm'].count().unstack().fillna(0)"
   ]
  },
  {
   "cell_type": "code",
   "execution_count": 141,
   "metadata": {},
   "outputs": [],
   "source": [
    "str_freq_all.columns = ['store_'+ str(column) for column in str_freq_all.columns]\n",
    "str_freq_all = str_freq_all.reset_index()"
   ]
  },
  {
   "cell_type": "code",
   "execution_count": 142,
   "metadata": {
    "scrolled": false
   },
   "outputs": [],
   "source": [
    "features = pd.merge(features, str_freq_all, how='left',on = 'custid')"
   ]
  },
  {
   "cell_type": "markdown",
   "metadata": {},
   "source": [
    "매장 별로 얼마나 구매를 하였는지 총구매액"
   ]
  },
  {
   "cell_type": "code",
   "execution_count": 143,
   "metadata": {},
   "outputs": [],
   "source": [
    "str_sale_sum=data[data.net_amt>0].groupby(['custid','str_nm'])['net_amt'].sum().unstack().fillna(0)"
   ]
  },
  {
   "cell_type": "code",
   "execution_count": 144,
   "metadata": {},
   "outputs": [],
   "source": [
    "str_sale_sum.columns = ['str_sales'+ str(column) for column in str_sale_sum.columns]\n",
    "str_sale_sum = str_sale_sum.reset_index()"
   ]
  },
  {
   "cell_type": "code",
   "execution_count": 145,
   "metadata": {},
   "outputs": [],
   "source": [
    "features = pd.merge(features, str_sale_sum, how='left',on = 'custid')"
   ]
  },
  {
   "cell_type": "code",
   "execution_count": null,
   "metadata": {},
   "outputs": [],
   "source": []
  },
  {
   "cell_type": "code",
   "execution_count": 146,
   "metadata": {},
   "outputs": [],
   "source": [
    "str_refund_sum=data[data.net_amt<0].groupby(['custid','str_nm'])['net_amt'].sum().unstack().fillna(0)"
   ]
  },
  {
   "cell_type": "code",
   "execution_count": 147,
   "metadata": {},
   "outputs": [],
   "source": [
    "str_refund_sum.columns = ['str_refund'+ str(column) for column in str_refund_sum.columns]\n",
    "str_refund_sum = str_refund_sum.reset_index()"
   ]
  },
  {
   "cell_type": "code",
   "execution_count": 148,
   "metadata": {},
   "outputs": [],
   "source": [
    "features = pd.merge(features, str_refund_sum, how='left',on = 'custid')"
   ]
  },
  {
   "cell_type": "code",
   "execution_count": null,
   "metadata": {},
   "outputs": [],
   "source": []
  },
  {
   "cell_type": "code",
   "execution_count": 149,
   "metadata": {},
   "outputs": [],
   "source": [
    "y['age'] = y['group'].str[1:].astype(int)"
   ]
  },
  {
   "cell_type": "code",
   "execution_count": 150,
   "metadata": {},
   "outputs": [
    {
     "data": {
      "text/html": [
       "<div>\n",
       "<style scoped>\n",
       "    .dataframe tbody tr th:only-of-type {\n",
       "        vertical-align: middle;\n",
       "    }\n",
       "\n",
       "    .dataframe tbody tr th {\n",
       "        vertical-align: top;\n",
       "    }\n",
       "\n",
       "    .dataframe thead th {\n",
       "        text-align: right;\n",
       "    }\n",
       "</style>\n",
       "<table border=\"1\" class=\"dataframe\">\n",
       "  <thead>\n",
       "    <tr style=\"text-align: right;\">\n",
       "      <th></th>\n",
       "      <th>custid</th>\n",
       "      <th>group</th>\n",
       "      <th>age</th>\n",
       "    </tr>\n",
       "  </thead>\n",
       "  <tbody>\n",
       "    <tr>\n",
       "      <th>0</th>\n",
       "      <td>0</td>\n",
       "      <td>M30</td>\n",
       "      <td>30</td>\n",
       "    </tr>\n",
       "    <tr>\n",
       "      <th>1</th>\n",
       "      <td>2</td>\n",
       "      <td>M30</td>\n",
       "      <td>30</td>\n",
       "    </tr>\n",
       "    <tr>\n",
       "      <th>2</th>\n",
       "      <td>3</td>\n",
       "      <td>F20</td>\n",
       "      <td>20</td>\n",
       "    </tr>\n",
       "    <tr>\n",
       "      <th>3</th>\n",
       "      <td>4</td>\n",
       "      <td>F20</td>\n",
       "      <td>20</td>\n",
       "    </tr>\n",
       "    <tr>\n",
       "      <th>4</th>\n",
       "      <td>5</td>\n",
       "      <td>M40</td>\n",
       "      <td>40</td>\n",
       "    </tr>\n",
       "    <tr>\n",
       "      <th>...</th>\n",
       "      <td>...</td>\n",
       "      <td>...</td>\n",
       "      <td>...</td>\n",
       "    </tr>\n",
       "    <tr>\n",
       "      <th>21582</th>\n",
       "      <td>29995</td>\n",
       "      <td>M50</td>\n",
       "      <td>50</td>\n",
       "    </tr>\n",
       "    <tr>\n",
       "      <th>21583</th>\n",
       "      <td>29996</td>\n",
       "      <td>F20</td>\n",
       "      <td>20</td>\n",
       "    </tr>\n",
       "    <tr>\n",
       "      <th>21584</th>\n",
       "      <td>29997</td>\n",
       "      <td>M30</td>\n",
       "      <td>30</td>\n",
       "    </tr>\n",
       "    <tr>\n",
       "      <th>21585</th>\n",
       "      <td>29998</td>\n",
       "      <td>F20</td>\n",
       "      <td>20</td>\n",
       "    </tr>\n",
       "    <tr>\n",
       "      <th>21586</th>\n",
       "      <td>29999</td>\n",
       "      <td>F20</td>\n",
       "      <td>20</td>\n",
       "    </tr>\n",
       "  </tbody>\n",
       "</table>\n",
       "<p>21587 rows × 3 columns</p>\n",
       "</div>"
      ],
      "text/plain": [
       "       custid group  age\n",
       "0           0   M30   30\n",
       "1           2   M30   30\n",
       "2           3   F20   20\n",
       "3           4   F20   20\n",
       "4           5   M40   40\n",
       "...       ...   ...  ...\n",
       "21582   29995   M50   50\n",
       "21583   29996   F20   20\n",
       "21584   29997   M30   30\n",
       "21585   29998   F20   20\n",
       "21586   29999   F20   20\n",
       "\n",
       "[21587 rows x 3 columns]"
      ]
     },
     "execution_count": 150,
     "metadata": {},
     "output_type": "execute_result"
    }
   ],
   "source": [
    "y"
   ]
  },
  {
   "cell_type": "code",
   "execution_count": 151,
   "metadata": {},
   "outputs": [],
   "source": [
    "# 선호 브랜드\n",
    "df = pd.merge(trn, y, on='custid')"
   ]
  },
  {
   "cell_type": "code",
   "execution_count": 152,
   "metadata": {},
   "outputs": [],
   "source": [
    "twn_prefer_brd = df.query(\"age>=20 & age<30\").brd_nm.value_counts().index[1:11].tolist()\n",
    "thr_prefer_brd = df.query(\"age>=30 & age<40\").brd_nm.value_counts().index[1:11].tolist()\n",
    "for_prefer_brd = df.query(\"age>=40 & age<50\").brd_nm.value_counts().index[1:11].tolist()\n",
    "fiv_prefer_brd = df.query(\"age>=50 \").brd_nm.value_counts().index[1:11].tolist()"
   ]
  },
  {
   "cell_type": "code",
   "execution_count": 153,
   "metadata": {},
   "outputs": [],
   "source": [
    "def map_twn_brd(x):\n",
    "    if x == twn_prefer_brd[0]:\n",
    "        x=10\n",
    "    elif x == twn_prefer_brd[1]:\n",
    "        x=9\n",
    "    elif x == twn_prefer_brd[2]:\n",
    "        x=8\n",
    "    elif x == twn_prefer_brd[3]:\n",
    "        x=7\n",
    "    elif x == twn_prefer_brd[4]:\n",
    "        x=6\n",
    "    elif x == twn_prefer_brd[5]:\n",
    "        x=5\n",
    "    elif x == twn_prefer_brd[6]:\n",
    "        x=4\n",
    "    elif x == twn_prefer_brd[7]:\n",
    "        x=3\n",
    "    elif x == twn_prefer_brd[8]:\n",
    "        x=2\n",
    "    elif x == twn_prefer_brd[9]:\n",
    "        x=1\n",
    "    else:\n",
    "        x=0\n",
    "    return x"
   ]
  },
  {
   "cell_type": "code",
   "execution_count": 154,
   "metadata": {},
   "outputs": [],
   "source": [
    "def map_thr_brd(x):\n",
    "    if x == thr_prefer_brd[0]:\n",
    "        x=10\n",
    "    elif x == thr_prefer_brd[1]:\n",
    "        x=9\n",
    "    elif x == thr_prefer_brd[2]:\n",
    "        x=8\n",
    "    elif x == thr_prefer_brd[3]:\n",
    "        x=7\n",
    "    elif x == thr_prefer_brd[4]:\n",
    "        x=6\n",
    "    elif x == thr_prefer_brd[5]:\n",
    "        x=5\n",
    "    elif x == thr_prefer_brd[6]:\n",
    "        x=4\n",
    "    elif x == thr_prefer_brd[7]:\n",
    "        x=3\n",
    "    elif x == thr_prefer_brd[8]:\n",
    "        x=2\n",
    "    elif x == thr_prefer_brd[9]:\n",
    "        x=1\n",
    "    else:\n",
    "        x=0\n",
    "    return x"
   ]
  },
  {
   "cell_type": "code",
   "execution_count": 155,
   "metadata": {},
   "outputs": [],
   "source": [
    "def map_for_brd(x):\n",
    "    if x == for_prefer_brd[0]:\n",
    "        x=10\n",
    "    elif x == for_prefer_brd[1]:\n",
    "        x=9\n",
    "    elif x == for_prefer_brd[2]:\n",
    "        x=8\n",
    "    elif x == for_prefer_brd[3]:\n",
    "        x=7\n",
    "    elif x == for_prefer_brd[4]:\n",
    "        x=6\n",
    "    elif x == for_prefer_brd[5]:\n",
    "        x=5\n",
    "    elif x == for_prefer_brd[6]:\n",
    "        x=4\n",
    "    elif x == for_prefer_brd[7]:\n",
    "        x=3\n",
    "    elif x == for_prefer_brd[8]:\n",
    "        x=2\n",
    "    elif x == for_prefer_brd[9]:\n",
    "        x=1\n",
    "    else:\n",
    "        x=0\n",
    "    return x"
   ]
  },
  {
   "cell_type": "code",
   "execution_count": 156,
   "metadata": {},
   "outputs": [],
   "source": [
    "def map_fiv_brd(x):\n",
    "    if x == fiv_prefer_brd[0]:\n",
    "        x=10\n",
    "    elif x == fiv_prefer_brd[1]:\n",
    "        x=9\n",
    "    elif x == fiv_prefer_brd[2]:\n",
    "        x=8\n",
    "    elif x == fiv_prefer_brd[3]:\n",
    "        x=7\n",
    "    elif x == fiv_prefer_brd[4]:\n",
    "        x=6\n",
    "    elif x == fiv_prefer_brd[5]:\n",
    "        x=5\n",
    "    elif x == fiv_prefer_brd[6]:\n",
    "        x=4\n",
    "    elif x == fiv_prefer_brd[7]:\n",
    "        x=3\n",
    "    elif x == fiv_prefer_brd[8]:\n",
    "        x=2\n",
    "    elif x == fiv_prefer_brd[9]:\n",
    "        x=1\n",
    "    else:\n",
    "        x=0\n",
    "    return x"
   ]
  },
  {
   "cell_type": "code",
   "execution_count": null,
   "metadata": {},
   "outputs": [],
   "source": []
  },
  {
   "cell_type": "code",
   "execution_count": 157,
   "metadata": {},
   "outputs": [],
   "source": [
    "data['twn_brd_point'] = data['brd_nm'].apply(map_twn_brd)\n",
    "data['thr_brd_point'] = data['brd_nm'].apply(map_thr_brd)\n",
    "data['for_brd_point'] = data['brd_nm'].apply(map_for_brd)\n",
    "data['fiv_brd_point'] = data['brd_nm'].apply(map_fiv_brd)"
   ]
  },
  {
   "cell_type": "code",
   "execution_count": 158,
   "metadata": {},
   "outputs": [],
   "source": [
    "twn_brd_point=data.groupby('custid')['twn_brd_point'].mean().reset_index()\n",
    "thr_brd_point=data.groupby('custid')['thr_brd_point'].mean().reset_index()\n",
    "for_brd_point=data.groupby('custid')['for_brd_point'].mean().reset_index()\n",
    "fiv_brd_point=data.groupby('custid')['fiv_brd_point'].mean().reset_index()"
   ]
  },
  {
   "cell_type": "code",
   "execution_count": 159,
   "metadata": {},
   "outputs": [],
   "source": [
    "features = pd.merge(features, twn_brd_point, how='left',on='custid')\n",
    "features = pd.merge(features, thr_brd_point, how='left',on='custid')\n",
    "features = pd.merge(features, for_brd_point, how='left',on='custid')\n",
    "features = pd.merge(features, fiv_brd_point, how='left',on='custid')"
   ]
  },
  {
   "cell_type": "code",
   "execution_count": 160,
   "metadata": {},
   "outputs": [],
   "source": [
    "data['buyer_nm'] = data['buyer_nm'].str.replace('행사장.*','행사장')\n",
    "data['buyer_nm'] = data['buyer_nm'].str.replace('피혁A','피혁')\n",
    "data['buyer_nm'] = data['buyer_nm'].str.replace('피혁B','피혁')\n",
    "\n",
    "data['buyer_nm'] = data['buyer_nm'].map({'화장품':'a', '수입명품':'b', '캐릭터캐주얼':'c', '트래디셔널캐주얼':'d', '유아동복':'e', '니트단품':'f', '영캐주얼':'g',\n",
    "       '엘레강스캐주얼':'h', '가전':'i', '섬유':'j', '장신구':'k', '조리욕실':'l', '스포츠':'m', '침구수예':'n', '피혁':'o', '일반식품':'p',\n",
    "       '유니캐주얼':'q', '정장셔츠':'r', '디자이너부띠끄':'s', '문화완구':'t', '타운모피':'u', '조리식품':'v', '기타바이어':'w',\n",
    "       '도자기크리스탈':'x', '가구':'y', '생활용품':'z', '행사장':'aa', '청과곡물':'bb', '점외':'cc'})\n",
    "\n",
    "buyer = pd.pivot_table(index='custid',columns='buyer_nm',values='tot_amt',aggfunc=np.size,fill_value=0,data=data.query(\"tot_amt>0\")[['custid','buyer_nm','tot_amt']]).reset_index()\n",
    "features = pd.merge(features, buyer, on='custid')"
   ]
  },
  {
   "cell_type": "code",
   "execution_count": null,
   "metadata": {},
   "outputs": [],
   "source": []
  },
  {
   "cell_type": "code",
   "execution_count": null,
   "metadata": {},
   "outputs": [],
   "source": []
  },
  {
   "cell_type": "code",
   "execution_count": 161,
   "metadata": {},
   "outputs": [],
   "source": [
    "#구매상품군 다양성\n",
    "n = data.part_nm.nunique()\n",
    "f = data.groupby('custid')['part_nm'].agg([('part_unique', lambda x: len(x.unique()) / n)]).reset_index()\n",
    "features = pd.merge(features, f, on='custid')"
   ]
  },
  {
   "cell_type": "code",
   "execution_count": 162,
   "metadata": {},
   "outputs": [],
   "source": [
    "#브랜드 다양성\n",
    "n=data.brd_nm.nunique()\n",
    "f = data.groupby('custid')['brd_nm'].agg([('brd_unique', lambda x: len(x.unique()) / n)]).reset_index()\n",
    "features = pd.merge(features, f, on='custid')"
   ]
  },
  {
   "cell_type": "code",
   "execution_count": 163,
   "metadata": {},
   "outputs": [],
   "source": [
    "#매장 이용 다양성\n",
    "n = 4\n",
    "f = data.groupby('custid')['str_nm'].agg([('str_unique', lambda x: len(x.unique()) / n)]).reset_index()\n",
    "features = pd.merge(features, f, on='custid')"
   ]
  },
  {
   "cell_type": "code",
   "execution_count": 164,
   "metadata": {},
   "outputs": [],
   "source": [
    "#위에서는 출근 시간 9~17시 퇴근시간 이후로 했는데 좀더 세분화\n",
    "def f2(x):\n",
    "    if 9 <= x < 12 :\n",
    "        return('9_12_sale')\n",
    "    elif 12 <= x < 14 :\n",
    "        return('12_14_sale')\n",
    "    elif 14 <= x < 16 :\n",
    "        return('14_16_sale')\n",
    "    elif 16 <= x < 18 :\n",
    "        return('16_18_sale')\n",
    "    else :\n",
    "        return('18_sale')  \n",
    "\n",
    "data['timeslot2'] = data.sales_time.apply(f2)"
   ]
  },
  {
   "cell_type": "code",
   "execution_count": 165,
   "metadata": {},
   "outputs": [],
   "source": [
    "new_sales_type = pd.pivot_table(index='custid',columns='timeslot2',values='tot_amt',aggfunc=np.size, fill_value=0,data = data.query('tot_amt>0')[['custid','timeslot2','tot_amt']]).reset_index()"
   ]
  },
  {
   "cell_type": "code",
   "execution_count": 166,
   "metadata": {},
   "outputs": [],
   "source": [
    "features=pd.merge(features, new_sales_type, on='custid')"
   ]
  },
  {
   "cell_type": "code",
   "execution_count": 167,
   "metadata": {},
   "outputs": [],
   "source": [
    "features['12_14_sale_ratio']=features['12_14_sale']/(features['12_14_sale'] + features['14_16_sale']+features['16_18_sale']+features['18_sale']+features['9_12_sale'])\n",
    "features['14_16_sale_ratio']=features['14_16_sale']/(features['12_14_sale'] + features['14_16_sale']+features['16_18_sale']+features['18_sale']+features['9_12_sale'])\n",
    "features['16_18_sale_ratio']=features['16_18_sale']/(features['12_14_sale'] + features['14_16_sale']+features['16_18_sale']+features['18_sale']+features['9_12_sale'])\n",
    "features['18_sale_ratio']=features['18_sale']/(features['12_14_sale'] + features['14_16_sale']+features['16_18_sale']+features['18_sale']+features['9_12_sale'])\n",
    "features['9_12_sale_ratio']=features['9_12_sale']/(features['12_14_sale'] + features['14_16_sale']+features['16_18_sale']+features['18_sale']+features['9_12_sale'])"
   ]
  },
  {
   "cell_type": "code",
   "execution_count": null,
   "metadata": {},
   "outputs": [],
   "source": []
  },
  {
   "cell_type": "code",
   "execution_count": 168,
   "metadata": {},
   "outputs": [],
   "source": [
    "#충동지수 충동구매를 하는사람들은 누구일까? 여유가있는 나이가 많은 사람들이 충동구매를 할거같다. 곱하기대신 더하기도 생각해보기\n",
    "\n",
    "features['chungdong_sale']=(features.max_sales_amt/features.tot_sales)\n",
    "features['chungdong_sale_freq']= features.chungdong_sale*features.sales_freq"
   ]
  },
  {
   "cell_type": "code",
   "execution_count": 169,
   "metadata": {},
   "outputs": [],
   "source": [
    "features['mean_min_sales']=features.mean_sales_amt+features.min_sales_amt"
   ]
  },
  {
   "cell_type": "code",
   "execution_count": 170,
   "metadata": {},
   "outputs": [],
   "source": [
    "a=features[['custid','mean_min_sales']]"
   ]
  },
  {
   "cell_type": "code",
   "execution_count": 171,
   "metadata": {},
   "outputs": [],
   "source": [
    "df_LEFT_JOIN = pd.merge(data, a, left_on='custid', right_on='custid', how='left')"
   ]
  },
  {
   "cell_type": "code",
   "execution_count": 172,
   "metadata": {},
   "outputs": [],
   "source": [
    "df_LEFT_JOIN['chungdong']=df_LEFT_JOIN.net_amt >df_LEFT_JOIN.mean_min_sales"
   ]
  },
  {
   "cell_type": "code",
   "execution_count": 173,
   "metadata": {},
   "outputs": [],
   "source": [
    "chung=df_LEFT_JOIN.groupby('custid')['chungdong'].sum().reset_index()"
   ]
  },
  {
   "cell_type": "code",
   "execution_count": 174,
   "metadata": {},
   "outputs": [],
   "source": [
    "features = pd.merge(features, chung, left_on='custid', right_on='custid', how='left')"
   ]
  },
  {
   "cell_type": "code",
   "execution_count": null,
   "metadata": {},
   "outputs": [],
   "source": []
  },
  {
   "cell_type": "code",
   "execution_count": null,
   "metadata": {},
   "outputs": [],
   "source": []
  },
  {
   "cell_type": "code",
   "execution_count": 175,
   "metadata": {},
   "outputs": [],
   "source": [
    "a=data.groupby(['custid','sales_month','sales_day','sales_dayofweek'])['custid'].size().unstack().reset_index()"
   ]
  },
  {
   "cell_type": "code",
   "execution_count": 176,
   "metadata": {},
   "outputs": [],
   "source": [
    "a.iloc[:,3:]=a.iloc[:,3:]/a.iloc[:,3:]"
   ]
  },
  {
   "cell_type": "code",
   "execution_count": 177,
   "metadata": {},
   "outputs": [],
   "source": [
    "a=a.groupby('custid')[['금','목','수','월','일','토','화']].sum()"
   ]
  },
  {
   "cell_type": "code",
   "execution_count": 178,
   "metadata": {},
   "outputs": [],
   "source": [
    "features = pd.merge(features, a, on='custid')"
   ]
  },
  {
   "cell_type": "code",
   "execution_count": 179,
   "metadata": {},
   "outputs": [],
   "source": [
    "features = features.rename(columns={'월':'mon_opn','화':'tue_opn','수':'wen_opn','목':'thr_opn','금':'fri_opn','토':'sat_opn','일':'sun_opn'})"
   ]
  },
  {
   "cell_type": "code",
   "execution_count": 180,
   "metadata": {},
   "outputs": [],
   "source": [
    "features['mon_opn_rate']=features.mon_opn/features.sales_dayofweek\n",
    "features['tue_opn_rate']=features.tue_opn/features.sales_dayofweek\n",
    "features['wen_opn_rate']=features.wen_opn/features.sales_dayofweek\n",
    "features['thr_opn_rate']=features.thr_opn/features.sales_dayofweek\n",
    "features['fri_opn_rate']=features.fri_opn/features.sales_dayofweek\n",
    "features['sat_opn_rate']=features.sat_opn/features.sales_dayofweek\n",
    "features['sun_opn_rate']=features.sun_opn/features.sales_dayofweek"
   ]
  },
  {
   "cell_type": "code",
   "execution_count": 181,
   "metadata": {},
   "outputs": [],
   "source": [
    "a=data[data.net_amt>0].groupby(['custid','sales_month','sales_day','sales_dayofweek'])['net_amt'].sum().unstack().reset_index()"
   ]
  },
  {
   "cell_type": "code",
   "execution_count": 182,
   "metadata": {},
   "outputs": [],
   "source": [
    "a=a.groupby('custid')[['금','목','수','월','일','토','화']].sum()"
   ]
  },
  {
   "cell_type": "code",
   "execution_count": 183,
   "metadata": {},
   "outputs": [],
   "source": [
    "features = pd.merge(features, a, on='custid')"
   ]
  },
  {
   "cell_type": "code",
   "execution_count": 184,
   "metadata": {},
   "outputs": [],
   "source": [
    "features = features.rename(columns={'월':'mon_pri','화':'tue_pri','수':'wen_pri','목':'thr_pri','금':'fri_pri','토':'sat_pri','일':'sun_pri'})"
   ]
  },
  {
   "cell_type": "code",
   "execution_count": 185,
   "metadata": {},
   "outputs": [],
   "source": [
    "features['mon_pri_rate']=features.mon_pri/features.tot_sales\n",
    "features['tue_pri_rate']=features.tue_pri/features.tot_sales\n",
    "features['wen_pri_rate']=features.wen_pri/features.tot_sales\n",
    "features['thr_pri_rate']=features.thr_pri/features.tot_sales\n",
    "features['fri_pri_rate']=features.fri_pri/features.tot_sales\n",
    "features['sat_pri_rate']=features.sat_pri/features.tot_sales\n",
    "features['sun_pri_rate']=features.sun_pri/features.tot_sales"
   ]
  },
  {
   "cell_type": "markdown",
   "metadata": {},
   "source": [
    "충동구매를 하고 환불을 한 횟수"
   ]
  },
  {
   "cell_type": "code",
   "execution_count": null,
   "metadata": {},
   "outputs": [],
   "source": []
  },
  {
   "cell_type": "code",
   "execution_count": 186,
   "metadata": {},
   "outputs": [],
   "source": [
    "features['max_min_sales']=features['max_sales_amt']-features['min_sales_amt']"
   ]
  },
  {
   "cell_type": "code",
   "execution_count": 187,
   "metadata": {},
   "outputs": [],
   "source": [
    "def shopfnc(m):\n",
    "    if m < 5:\n",
    "        return 1\n",
    "    elif m < 12.94 :\n",
    "        return 2 \n",
    "    elif m < 21.538 :\n",
    "        return 3 \n",
    "    elif m < 33.909 :\n",
    "        return 4\n",
    "    else:\n",
    "        return 5"
   ]
  },
  {
   "cell_type": "code",
   "execution_count": 188,
   "metadata": {},
   "outputs": [],
   "source": [
    "features['shop_time_mean']= features.shop_time.apply(lambda x : shopfnc(x))"
   ]
  },
  {
   "cell_type": "code",
   "execution_count": 189,
   "metadata": {},
   "outputs": [
    {
     "name": "stdout",
     "output_type": "stream",
     "text": [
      "249406.0\n",
      "498646.0000000001\n",
      "795650.0\n",
      "1165370.0000000002\n",
      "1622598.0\n",
      "2254104.0\n",
      "3107333.5999999996\n",
      "4541631.800000001\n",
      "7485838.200000001\n"
     ]
    }
   ],
   "source": [
    "for i in np.arange(0.1,1,0.1):\n",
    "    print(features.tot_sales.quantile(q=i))"
   ]
  },
  {
   "cell_type": "code",
   "execution_count": 190,
   "metadata": {
    "scrolled": true
   },
   "outputs": [],
   "source": [
    "# 10분위별로 (1 ~ 10 범위)\n",
    "def fnc(m) : \n",
    "    if m < 249406.0:\n",
    "        return 1\n",
    "    elif m <498646 :\n",
    "        return 2 \n",
    "    elif m < 795650.0 :\n",
    "        return 3 \n",
    "    elif m < 1165370:\n",
    "        return 4 \n",
    "    elif m < 1622598.0 :\n",
    "        return 5 \n",
    "    elif m < 2254104 :\n",
    "        return 6 \n",
    "    elif m < 3107333:\n",
    "        return 7 \n",
    "    elif m < 4541631 :\n",
    "        return 8\n",
    "    elif m < 7485838 :\n",
    "        return 9 \n",
    "    else:\n",
    "        return 10\n",
    "\n",
    "features['tot_sales_amt_quan']= features.tot_sales.apply(lambda x : fnc(x))"
   ]
  },
  {
   "cell_type": "code",
   "execution_count": 191,
   "metadata": {
    "scrolled": false
   },
   "outputs": [
    {
     "name": "stdout",
     "output_type": "stream",
     "text": [
      "98400.0\n",
      "149000.0\n",
      "199000.0\n",
      "261250.0\n",
      "330600.0\n",
      "416000.0\n",
      "534850.0\n",
      "736250.0\n",
      "1180000.0\n"
     ]
    }
   ],
   "source": [
    "for i in np.arange(0.1,1,0.1):\n",
    "    print(features.max_sales_amt.quantile(q=i))"
   ]
  },
  {
   "cell_type": "code",
   "execution_count": 192,
   "metadata": {},
   "outputs": [],
   "source": [
    "# 10분위별로 가격선호도 조사 (1 ~ 10 범위)\n",
    "def fnc2(m) : \n",
    "    if m < 98400.0 :\n",
    "        return 1\n",
    "    elif m < 149000.0 :\n",
    "        return 2 \n",
    "    elif m < 199000.0 :\n",
    "        return 3 \n",
    "    elif m < 261250.0 :\n",
    "        return 4 \n",
    "    elif m < 330600.0 :\n",
    "        return 5 \n",
    "    elif m < 416000.0 :\n",
    "        return 6 \n",
    "    elif m < 534850.0 :\n",
    "        return 7 \n",
    "    elif m < 736250.0 :\n",
    "        return 8\n",
    "    elif m < 1180000.0 :\n",
    "        return 9 \n",
    "    else:\n",
    "        return 10\n",
    "\n",
    "features['max_amt_quan']= features.max_sales_amt.apply(lambda x : fnc2(x))"
   ]
  },
  {
   "cell_type": "code",
   "execution_count": null,
   "metadata": {},
   "outputs": [],
   "source": []
  },
  {
   "cell_type": "code",
   "execution_count": 193,
   "metadata": {},
   "outputs": [],
   "source": [
    "#아동상품 구매건수\n",
    "f = data[data.tot_amt > 0].groupby('custid')['part_nm'].agg([('baby_sales', lambda x: list(x).count('아동')+list(x).count('케주얼,구두,아동')+list(x).count('아동문화')+list(x).count('아동,스포츠'))]).reset_index()\n",
    "features = pd.merge(features, f, on='custid')"
   ]
  },
  {
   "cell_type": "code",
   "execution_count": 194,
   "metadata": {},
   "outputs": [],
   "source": [
    "features['baby_sales_freq']=features['baby_sales']/features.sales_freq"
   ]
  },
  {
   "cell_type": "code",
   "execution_count": 195,
   "metadata": {},
   "outputs": [],
   "source": [
    "#할부 총합\n",
    "sales_installment=data.groupby('custid')['inst_mon'].agg('sum').reset_index()\n",
    "features = pd.merge(features, sales_installment, on='custid')"
   ]
  },
  {
   "cell_type": "code",
   "execution_count": null,
   "metadata": {},
   "outputs": [],
   "source": []
  },
  {
   "cell_type": "code",
   "execution_count": 196,
   "metadata": {},
   "outputs": [],
   "source": [
    "data['team_nm'] = data['team_nm'].map({'잡화가용팀':'aa', '의류패션팀':'bb', '식품팀':'cb', '인터넷백화점':'dd'})"
   ]
  },
  {
   "cell_type": "code",
   "execution_count": 197,
   "metadata": {},
   "outputs": [],
   "source": [
    "f = data.groupby(['custid', 'team_nm'])['custid'].count().unstack()\n",
    "f = f.fillna(0)\n",
    "f.columns = ['Team_'+ str(column) for column in f.columns]\n",
    "f = f.reset_index()"
   ]
  },
  {
   "cell_type": "code",
   "execution_count": 198,
   "metadata": {},
   "outputs": [],
   "source": [
    "features = pd.merge(features, f, on = 'custid')"
   ]
  },
  {
   "cell_type": "code",
   "execution_count": 199,
   "metadata": {},
   "outputs": [],
   "source": [
    "features['food_rate']=features.Team_cb/(features.Team_aa+features.Team_bb+features.Team_cb+features.Team_dd)"
   ]
  },
  {
   "cell_type": "code",
   "execution_count": 200,
   "metadata": {},
   "outputs": [],
   "source": [
    "features['cloth_rate']=features.Team_bb/(features.Team_aa+features.Team_bb+features.Team_cb+features.Team_dd)"
   ]
  },
  {
   "cell_type": "code",
   "execution_count": 201,
   "metadata": {},
   "outputs": [],
   "source": [
    "features['stuff_rate']=features.Team_aa/(features.Team_aa+features.Team_bb+features.Team_cb+features.Team_dd)"
   ]
  },
  {
   "cell_type": "code",
   "execution_count": null,
   "metadata": {},
   "outputs": [],
   "source": []
  },
  {
   "cell_type": "code",
   "execution_count": 202,
   "metadata": {},
   "outputs": [],
   "source": [
    "food_list=['조리식품','축산물','농산물','수산물']\n",
    "t1 = data[data.net_amt>0].query(\"pc_nm == @food_list\").groupby('custid')['net_amt'].agg([('food_sales', np.sum)])\n",
    "features= pd.merge(features,t1, on = 'custid', how='left').fillna(0)\n",
    "features['food_sales_rate'] = features['food_sales'] / features['tot_sales']"
   ]
  },
  {
   "cell_type": "code",
   "execution_count": 203,
   "metadata": {},
   "outputs": [],
   "source": [
    "st=f\"(net_amt>0) and (pc_nm=='화장품')\""
   ]
  },
  {
   "cell_type": "code",
   "execution_count": 204,
   "metadata": {},
   "outputs": [],
   "source": [
    "t2 = data.query(st).groupby('custid')['net_amt'].agg([('face_goods_sales', np.sum)])\n",
    "features= pd.merge(features,t2, on = 'custid', how='left').fillna(0)\n",
    "features['face_sales_rate'] = features['face_goods_sales'] / features['tot_sales']"
   ]
  },
  {
   "cell_type": "code",
   "execution_count": 205,
   "metadata": {},
   "outputs": [],
   "source": [
    "t2 = data.query(st).groupby('custid')['net_amt'].agg([('face_goods_freq', np.size)])\n",
    "features= pd.merge(features,t2, on = 'custid', how='left').fillna(0)\n",
    "features['face_goods_rate'] = features['face_goods_freq'] / features['sales_freq']"
   ]
  },
  {
   "cell_type": "code",
   "execution_count": 206,
   "metadata": {},
   "outputs": [],
   "source": [
    "data['pc_nm'] = data['pc_nm'].str.replace('디자이너부띠끄','디자이너부띠크')\n",
    "data['pc_nm'] = data['pc_nm'].str.replace('디자이너부틱','디자이너부띠크')\n",
    "data['pc_nm'] = data['pc_nm'].str.replace('트래디셔널','트레디셔널')\n",
    "data['pc_nm'] = data['pc_nm'].str.replace('침구/수예','침구수예')\n",
    "data['pc_nm'] = data['pc_nm'].str.replace('침구,수예','침구수예')\n",
    "data['pc_nm'] = data['pc_nm'].str.replace('피혁A','피혁')\n",
    "data['pc_nm'] = data['pc_nm'].str.replace('피혁B','피혁')\n",
    "data['pc_nm'] = data['pc_nm'].str.replace('캐릭터케쥬얼','캐릭터캐쥬얼')\n",
    "data['pc_nm'] = data['pc_nm'].str.replace('캐릭터캐주얼','캐릭터캐쥬얼')\n",
    "data['pc_nm'] = data['pc_nm'].str.replace('진캐주얼','진캐쥬얼')\n",
    "data['pc_nm'] = data['pc_nm'].str.replace('진케주얼','진캐쥬얼')\n",
    "data['pc_nm'] = data['pc_nm'].str.replace('로얄부틱','로얄부띠크')\n",
    "data['pc_nm'] = data['pc_nm'].str.replace('로얄부띠끄','로얄부띠크')"
   ]
  },
  {
   "cell_type": "code",
   "execution_count": 207,
   "metadata": {},
   "outputs": [],
   "source": [
    "twn_trend_brd = df.query(\"age>=20 & age<30\").pc_nm.value_counts().index[1:11].tolist()\n",
    "thr_trend_brd = df.query(\"age>=30 & age<40\").pc_nm.value_counts().index[1:11].tolist()\n",
    "for_trend_brd = df.query(\"age>=40 & age<50\").pc_nm.value_counts().index[1:11].tolist()\n",
    "fiv_trend_brd = df.query(\"age>=50\").pc_nm.value_counts().index[1:11].tolist()\n",
    "\n",
    "\n",
    "def map_twn_pc(x):\n",
    "    if x == twn_trend_brd[0]:\n",
    "        x=10\n",
    "    elif x == twn_trend_brd[1]:\n",
    "        x=9\n",
    "    elif x == twn_trend_brd[2]:\n",
    "        x=8\n",
    "    elif x == twn_trend_brd[3]:\n",
    "        x=7\n",
    "    elif x == twn_trend_brd[4]:\n",
    "        x=6\n",
    "    elif x == twn_trend_brd[5]:\n",
    "        x=5\n",
    "    elif x == twn_trend_brd[6]:\n",
    "        x=4\n",
    "    elif x == twn_trend_brd[7]:\n",
    "        x=3\n",
    "    elif x == twn_trend_brd[8]:\n",
    "        x=2\n",
    "    elif x == twn_trend_brd[9]:\n",
    "        x=1\n",
    "    else:\n",
    "        x=0\n",
    "    return x\n",
    "\n",
    "def map_thr_pc(x):\n",
    "    if x == thr_trend_brd[0]:\n",
    "        x=10\n",
    "    elif x == thr_trend_brd[1]:\n",
    "        x=9\n",
    "    elif x == thr_trend_brd[2]:\n",
    "        x=8\n",
    "    elif x == thr_trend_brd[3]:\n",
    "        x=7\n",
    "    elif x == thr_trend_brd[4]:\n",
    "        x=6\n",
    "    elif x == thr_trend_brd[5]:\n",
    "        x=5\n",
    "    elif x == thr_trend_brd[6]:\n",
    "        x=4\n",
    "    elif x == thr_trend_brd[7]:\n",
    "        x=3\n",
    "    elif x == thr_trend_brd[8]:\n",
    "        x=2\n",
    "    elif x == thr_trend_brd[9]:\n",
    "        x=1\n",
    "    else:\n",
    "        x=0\n",
    "    return x\n",
    "\n",
    "def map_for_pc(x):\n",
    "    if x == for_trend_brd[0]:\n",
    "        x=10\n",
    "    elif x == for_trend_brd[1]:\n",
    "        x=9\n",
    "    elif x == for_trend_brd[2]:\n",
    "        x=8\n",
    "    elif x == for_trend_brd[3]:\n",
    "        x=7\n",
    "    elif x == for_trend_brd[4]:\n",
    "        x=6\n",
    "    elif x == for_trend_brd[5]:\n",
    "        x=5\n",
    "    elif x == for_trend_brd[6]:\n",
    "        x=4\n",
    "    elif x == for_trend_brd[7]:\n",
    "        x=3\n",
    "    elif x == for_trend_brd[8]:\n",
    "        x=2\n",
    "    elif x == for_trend_brd[9]:\n",
    "        x=1\n",
    "    else:\n",
    "        x=0\n",
    "    return x\n",
    "\n",
    "def map_fiv_pc(x):\n",
    "    if x == fiv_trend_brd[0]:\n",
    "        x=10\n",
    "    elif x == fiv_trend_brd[1]:\n",
    "        x=9\n",
    "    elif x == fiv_trend_brd[2]:\n",
    "        x=8\n",
    "    elif x == fiv_trend_brd[3]:\n",
    "        x=7\n",
    "    elif x == fiv_trend_brd[4]:\n",
    "        x=6\n",
    "    elif x == fiv_trend_brd[5]:\n",
    "        x=5\n",
    "    elif x == fiv_trend_brd[6]:\n",
    "        x=4\n",
    "    elif x == fiv_trend_brd[7]:\n",
    "        x=3\n",
    "    elif x == fiv_trend_brd[8]:\n",
    "        x=2\n",
    "    elif x == fiv_trend_brd[9]:\n",
    "        x=1\n",
    "    else:\n",
    "        x=0\n",
    "    return x\n",
    "\n",
    "\n",
    "data['twn_pc_point'] = data['pc_nm'].apply(map_twn_pc)\n",
    "data['thr_pc_point'] = data['pc_nm'].apply(map_thr_pc)\n",
    "data['for_pc_point'] = data['pc_nm'].apply(map_for_pc)\n",
    "data['fiv_pc_point'] = data['pc_nm'].apply(map_fiv_pc)\n",
    "\n",
    "\n",
    "twn_pcnm_point=data.groupby('custid')['twn_pc_point'].mean().reset_index()\n",
    "thr_pcnm_point=data.groupby('custid')['thr_pc_point'].mean().reset_index()\n",
    "for_pcnm_point=data.groupby('custid')['for_pc_point'].mean().reset_index()\n",
    "fiv_pcnm_point=data.groupby('custid')['fiv_pc_point'].mean().reset_index()\n",
    "\n",
    "\n",
    "features = pd.merge(features, twn_pcnm_point, how='left',on='custid')\n",
    "features = pd.merge(features, thr_pcnm_point, how='left',on='custid')\n",
    "features = pd.merge(features, for_pcnm_point, how='left',on='custid')\n",
    "features = pd.merge(features, fiv_pcnm_point, how='left',on='custid')\n"
   ]
  },
  {
   "cell_type": "code",
   "execution_count": 208,
   "metadata": {},
   "outputs": [],
   "source": [
    "f = data[data.tot_amt > 0].groupby('custid')['pc_nm'].agg([('young_pc', lambda x: list(x).count('캐릭터정장')+list(x).count('영트랜디')+list(x).count('영캐릭터캐쥬얼')+list(x).count('트랜디 케쥬얼')+list(x).count('캐릭터캐쥬얼')+list(x).count('장신구')+list(x).count('피혁')+list(x).count('섬유')+list(x).count('소품')+list(x).count('핸드백')+list(x).count('(주)현스포츠아쌤'))]).reset_index()\n",
    "features = pd.merge(features, f, on='custid')"
   ]
  },
  {
   "cell_type": "code",
   "execution_count": 209,
   "metadata": {},
   "outputs": [],
   "source": [
    "features['20goods_rate']=features['young_pc']/features.sales_freq"
   ]
  },
  {
   "cell_type": "code",
   "execution_count": 210,
   "metadata": {},
   "outputs": [],
   "source": [
    "#50대선호\n",
    "\n",
    "f = data[data.tot_amt > 0].groupby('custid')['pc_nm'].agg([('butique_freq', lambda x: list(x).count('로얄부띠크')+list(x).count('디자이너부띠크'))]).reset_index()\n",
    "features = pd.merge(features, f, on='custid')"
   ]
  },
  {
   "cell_type": "code",
   "execution_count": 211,
   "metadata": {},
   "outputs": [],
   "source": [
    "features['50goods_rate']=features['butique_freq']/features.sales_freq"
   ]
  },
  {
   "cell_type": "code",
   "execution_count": 212,
   "metadata": {},
   "outputs": [],
   "source": [
    "#트랜드 명품 구매비율\n",
    "f = data[data.tot_amt > 0].groupby('custid')['pc_nm'].agg([('expensive_freq', lambda x: list(x).count('명품토탈')+list(x).count('명품시즌'))]).reset_index()\n",
    "features = pd.merge(features, f, on='custid')"
   ]
  },
  {
   "cell_type": "code",
   "execution_count": 213,
   "metadata": {},
   "outputs": [],
   "source": [
    "features['20~30expensive_rate']=features['expensive_freq']/features.sales_freq"
   ]
  },
  {
   "cell_type": "code",
   "execution_count": null,
   "metadata": {},
   "outputs": [],
   "source": []
  },
  {
   "cell_type": "code",
   "execution_count": null,
   "metadata": {},
   "outputs": [],
   "source": []
  },
  {
   "cell_type": "code",
   "execution_count": 214,
   "metadata": {},
   "outputs": [],
   "source": [
    "data['pc_nm'] = data['pc_nm'].map({'화장품':'face_goods', '명품토탈':'expensive_total', '캐릭터정장':'chr_suit',  '수예':'suae', '유아/완구':'baby_wangu', '패션슈즈':'fashoin_shoes',\n",
    "       '가전':'electronic', '영트랜디':'young_trend', '조리식품':'instant_food', '스포츠':'sports', '아동':'baby', '트래디셔널캐쥬얼':'trady_ca', '가전/문화':'ele_cultur', '셔츠':'shirts',\n",
    "       '란제리':'rangeri', '식기':'food_case', '영캐릭터캐쥬얼':'young_chr', '골프':'golf', '캐릭터캐쥬얼':'chr_cha', '엘레강스캐쥬얼':'elegangs', '트레디셔널':'tradi',\n",
    "       '정장':'suit', '일반식품':'normal_food', '아동복':'baby_cloth', '축산물':'pig', '미확인pc':'unknown_pc','농산물':'vegetable','트랜디 케쥬얼':'trendi cha',\n",
    "        '영트렌디':'young_trendi','여성캐주얼':'girl_cha','문화용품':'culture_goods','생활용품':'lsang','문화':'culture','니트,단품,모피':'neat_mofi','섬유잡화':'sumyou_goods','내의란제리':'inrangeri',\n",
    "        '진캐쥬얼':'jean_ca3','여성구두':'girl_shoes','명품시즌':'expensive_season','남여구두':'man_girl','장신구':'jangsingu','수산물':'susanmul','악세사리':'accesory','섬유':'sumyou',\n",
    "        '어덜트캐주얼':'adult_cha','소품':'sopeum','캐주얼':'cha','미씨캐주얼':'messi_cha','영캐주얼':'young_cha','타운란제리':'townrangeri',\n",
    "        '핸드백':'handbag','수입명품':'suip_goods','디자이너부띠크':'designier_beatuty','쇼핑보증':'shooping_bo','미씨캐릭터':'messi_cha5',\n",
    "        '가구':'gagu','캐쥬얼':'cha2','니트/단품':'neat_one','남성잡화':'man_jobs','(주)현스포츠아쌤':'sportsam','침구수예':'chimgu4','패션시즌':'fashion_season',\n",
    "        '수입의류':'suip_cloth','용기보증':'youngi','사이버쇼핑':'cyber_shopping'})"
   ]
  },
  {
   "cell_type": "code",
   "execution_count": 215,
   "metadata": {},
   "outputs": [],
   "source": [
    "#주구매상품\n",
    "f = data.groupby('custid')['pc_nm'].agg([\n",
    "    ('main_goods', lambda x: x.value_counts().index[0])\n",
    "]).reset_index()"
   ]
  },
  {
   "cell_type": "code",
   "execution_count": 216,
   "metadata": {},
   "outputs": [],
   "source": [
    "features = features.merge(f, how='left')\n",
    "features = pd.get_dummies(features, 'main_goods')"
   ]
  },
  {
   "cell_type": "code",
   "execution_count": 217,
   "metadata": {},
   "outputs": [],
   "source": [
    "f_p = data[data.tot_amt>0].groupby('pc_nm')['tot_amt'].agg([\n",
    "    ('main_goods_price', 'mean')\n",
    "]).reset_index()"
   ]
  },
  {
   "cell_type": "code",
   "execution_count": 218,
   "metadata": {},
   "outputs": [],
   "source": [
    "f = pd.merge(f, f_p,  left_on = 'main_goods',right_on='pc_nm',how='left')"
   ]
  },
  {
   "cell_type": "code",
   "execution_count": 219,
   "metadata": {},
   "outputs": [],
   "source": [
    "features = pd.merge(features, f[['custid','main_goods_price']],  left_on = 'custid',right_on='custid',how='left')"
   ]
  },
  {
   "cell_type": "code",
   "execution_count": 220,
   "metadata": {},
   "outputs": [],
   "source": [
    "pc_count=data[data.tot_amt>0].groupby(['custid','pc_nm'])['pc_nm'].count().unstack().fillna(0)\n",
    "\n",
    "pc_count.columns = ['pc_size_'+ str(column) for column in pc_count.columns]\n",
    "pc_count = pc_count.reset_index()\n",
    "\n",
    "features = pd.merge(features, pc_count, how='left',on = 'custid')"
   ]
  },
  {
   "cell_type": "code",
   "execution_count": null,
   "metadata": {},
   "outputs": [],
   "source": []
  },
  {
   "cell_type": "code",
   "execution_count": 221,
   "metadata": {},
   "outputs": [],
   "source": [
    "\n",
    "data['part_nm'] = data['part_nm'].map({'명품잡화':'aaa', '잡화파트':'bbb', '남성의류':'ccc', '골프/유니캐쥬얼':'ddd', '가정용품':'eee', '아동':'fff', '잡화':'ggg',\n",
    "       '영어덜트캐쥬얼':'hhh', '영라이브':'iii', '공산품':'jjj', '스포츠캐쥬얼':'kkk', '여성캐주얼':'lll', '여성정장':'mmm', '케주얼,구두,아동':'nnn', '남성정장스포츠':'ooo', '아동문화':'ppp',\n",
    "       '로얄부띠끄':'qqq', '공산품파트':'rrr', '생식품파트':'sss', '여성의류파트':'ttt', '가정용품파트':'uuu', '아동,스포츠':'vvv', '패션잡화':'www',\n",
    "       '영캐릭터':'abbb', '영플라자':'abbc', '생식품':'abbd', '스포츠캐주얼':'abbe', '여성캐쥬얼':'abbf', '로얄부틱':'abbg','인터넷백화점':'abbh'})\n"
   ]
  },
  {
   "cell_type": "code",
   "execution_count": 222,
   "metadata": {},
   "outputs": [],
   "source": [
    "#주구매상품분류\n",
    "f = data.groupby('custid')['part_nm'].agg([\n",
    "    ('main_part', lambda x: x.value_counts().index[0])\n",
    "]).reset_index()"
   ]
  },
  {
   "cell_type": "code",
   "execution_count": 223,
   "metadata": {},
   "outputs": [],
   "source": [
    "features = features.merge(f, how='left')\n",
    "features = pd.get_dummies(features, 'main_part')"
   ]
  },
  {
   "cell_type": "code",
   "execution_count": 224,
   "metadata": {},
   "outputs": [],
   "source": [
    "f_p = data[data.tot_amt>0].groupby('part_nm')['tot_amt'].agg([\n",
    "    ('main_part_price', 'mean')\n",
    "]).reset_index()"
   ]
  },
  {
   "cell_type": "code",
   "execution_count": 225,
   "metadata": {},
   "outputs": [],
   "source": [
    "f = pd.merge(f, f_p,  left_on = 'main_part',right_on='part_nm',how='left')"
   ]
  },
  {
   "cell_type": "code",
   "execution_count": 226,
   "metadata": {},
   "outputs": [],
   "source": [
    "features = pd.merge(features, f[['custid','main_part_price']],  left_on = 'custid',right_on='custid',how='left')"
   ]
  },
  {
   "cell_type": "code",
   "execution_count": 227,
   "metadata": {},
   "outputs": [],
   "source": [
    "part_count=data[data.tot_amt>0].groupby(['custid','part_nm'])['part_nm'].count().unstack().fillna(0)\n",
    "\n",
    "part_count.columns = ['part_size_'+ str(column) for column in part_count.columns]\n",
    "part_count = part_count.reset_index()\n",
    "\n",
    "features = pd.merge(features, part_count, how='left',on = 'custid')"
   ]
  },
  {
   "cell_type": "code",
   "execution_count": 228,
   "metadata": {},
   "outputs": [],
   "source": [
    "#내점 당 구매건수 / 내점당 구매액\n",
    "features['one_sales_freq']=features.sales_freq/features.sales_dayofweek\n",
    "features['one_tot_amt']=features.tot_sales/features.sales_dayofweek"
   ]
  },
  {
   "cell_type": "code",
   "execution_count": null,
   "metadata": {},
   "outputs": [],
   "source": []
  },
  {
   "cell_type": "code",
   "execution_count": 229,
   "metadata": {},
   "outputs": [],
   "source": [
    "data['part_pc'] = data['part_nm'].astype(str) + \"_\" + data['pc_nm'].astype(str)"
   ]
  },
  {
   "cell_type": "code",
   "execution_count": 230,
   "metadata": {},
   "outputs": [],
   "source": [
    "#주구매상품분류\n",
    "f = data.groupby('custid')['part_pc'].agg([\n",
    "    ('main_part_pc', lambda x: x.mode()[0])\n",
    "]).reset_index()"
   ]
  },
  {
   "cell_type": "code",
   "execution_count": 231,
   "metadata": {},
   "outputs": [],
   "source": [
    "features = features.merge(f, how='left')\n",
    "features = pd.get_dummies(features, 'main_part_pc')"
   ]
  },
  {
   "cell_type": "code",
   "execution_count": 232,
   "metadata": {},
   "outputs": [],
   "source": [
    "f_p = data[data.tot_amt>0].groupby('part_pc')['tot_amt'].agg([\n",
    "    ('main_part_pc_price', 'mean')\n",
    "]).reset_index()"
   ]
  },
  {
   "cell_type": "code",
   "execution_count": 233,
   "metadata": {},
   "outputs": [],
   "source": [
    "f = pd.merge(f, f_p,  left_on = 'main_part_pc',right_on='part_pc',how='left')"
   ]
  },
  {
   "cell_type": "code",
   "execution_count": 234,
   "metadata": {},
   "outputs": [],
   "source": [
    "features = pd.merge(features, f[['custid','main_part_pc_price']],  left_on = 'custid',right_on='custid',how='left')"
   ]
  },
  {
   "cell_type": "code",
   "execution_count": 235,
   "metadata": {},
   "outputs": [],
   "source": [
    "part_count=data[data.tot_amt>0].groupby(['custid','part_pc'])['part_pc'].count().unstack().fillna(0)\n",
    "\n",
    "part_count.columns = ['part_pc_size_'+ str(column) for column in part_count.columns]\n",
    "part_count = part_count.reset_index()\n",
    "\n",
    "features = pd.merge(features, part_count, how='left',on = 'custid')"
   ]
  },
  {
   "cell_type": "code",
   "execution_count": 236,
   "metadata": {},
   "outputs": [
    {
     "data": {
      "text/html": [
       "<div>\n",
       "<style scoped>\n",
       "    .dataframe tbody tr th:only-of-type {\n",
       "        vertical-align: middle;\n",
       "    }\n",
       "\n",
       "    .dataframe tbody tr th {\n",
       "        vertical-align: top;\n",
       "    }\n",
       "\n",
       "    .dataframe thead th {\n",
       "        text-align: right;\n",
       "    }\n",
       "</style>\n",
       "<table border=\"1\" class=\"dataframe\">\n",
       "  <thead>\n",
       "    <tr style=\"text-align: right;\">\n",
       "      <th></th>\n",
       "      <th>custid</th>\n",
       "      <th>1_stf</th>\n",
       "      <th>9_stf</th>\n",
       "      <th>10_stf</th>\n",
       "      <th>11_stf</th>\n",
       "      <th>12_stf</th>\n",
       "      <th>13_stf</th>\n",
       "      <th>14_stf</th>\n",
       "      <th>15_stf</th>\n",
       "      <th>16_stf</th>\n",
       "      <th>...</th>\n",
       "      <th>part_pc_size_www_face_goods</th>\n",
       "      <th>part_pc_size_www_fashion_season</th>\n",
       "      <th>part_pc_size_www_girl_shoes</th>\n",
       "      <th>part_pc_size_www_handbag</th>\n",
       "      <th>part_pc_size_www_jangsingu</th>\n",
       "      <th>part_pc_size_www_nan</th>\n",
       "      <th>part_pc_size_www_rangeri</th>\n",
       "      <th>part_pc_size_www_shooping_bo</th>\n",
       "      <th>part_pc_size_www_sumyou</th>\n",
       "      <th>part_pc_size_www_unknown_pc</th>\n",
       "    </tr>\n",
       "  </thead>\n",
       "  <tbody>\n",
       "    <tr>\n",
       "      <th>0</th>\n",
       "      <td>0</td>\n",
       "      <td>0</td>\n",
       "      <td>0</td>\n",
       "      <td>0</td>\n",
       "      <td>0</td>\n",
       "      <td>2</td>\n",
       "      <td>0</td>\n",
       "      <td>0</td>\n",
       "      <td>0</td>\n",
       "      <td>0</td>\n",
       "      <td>...</td>\n",
       "      <td>0.0</td>\n",
       "      <td>0.0</td>\n",
       "      <td>0.0</td>\n",
       "      <td>0.0</td>\n",
       "      <td>0.0</td>\n",
       "      <td>0.0</td>\n",
       "      <td>0.0</td>\n",
       "      <td>0.0</td>\n",
       "      <td>0.0</td>\n",
       "      <td>0.0</td>\n",
       "    </tr>\n",
       "    <tr>\n",
       "      <th>1</th>\n",
       "      <td>2</td>\n",
       "      <td>0</td>\n",
       "      <td>0</td>\n",
       "      <td>1</td>\n",
       "      <td>1</td>\n",
       "      <td>0</td>\n",
       "      <td>1</td>\n",
       "      <td>1</td>\n",
       "      <td>0</td>\n",
       "      <td>1</td>\n",
       "      <td>...</td>\n",
       "      <td>0.0</td>\n",
       "      <td>0.0</td>\n",
       "      <td>0.0</td>\n",
       "      <td>0.0</td>\n",
       "      <td>0.0</td>\n",
       "      <td>0.0</td>\n",
       "      <td>0.0</td>\n",
       "      <td>0.0</td>\n",
       "      <td>0.0</td>\n",
       "      <td>0.0</td>\n",
       "    </tr>\n",
       "    <tr>\n",
       "      <th>2</th>\n",
       "      <td>3</td>\n",
       "      <td>0</td>\n",
       "      <td>0</td>\n",
       "      <td>0</td>\n",
       "      <td>2</td>\n",
       "      <td>3</td>\n",
       "      <td>2</td>\n",
       "      <td>3</td>\n",
       "      <td>0</td>\n",
       "      <td>0</td>\n",
       "      <td>...</td>\n",
       "      <td>0.0</td>\n",
       "      <td>0.0</td>\n",
       "      <td>0.0</td>\n",
       "      <td>0.0</td>\n",
       "      <td>0.0</td>\n",
       "      <td>0.0</td>\n",
       "      <td>0.0</td>\n",
       "      <td>0.0</td>\n",
       "      <td>0.0</td>\n",
       "      <td>0.0</td>\n",
       "    </tr>\n",
       "    <tr>\n",
       "      <th>3</th>\n",
       "      <td>4</td>\n",
       "      <td>0</td>\n",
       "      <td>0</td>\n",
       "      <td>0</td>\n",
       "      <td>0</td>\n",
       "      <td>0</td>\n",
       "      <td>0</td>\n",
       "      <td>4</td>\n",
       "      <td>0</td>\n",
       "      <td>0</td>\n",
       "      <td>...</td>\n",
       "      <td>0.0</td>\n",
       "      <td>0.0</td>\n",
       "      <td>0.0</td>\n",
       "      <td>0.0</td>\n",
       "      <td>0.0</td>\n",
       "      <td>0.0</td>\n",
       "      <td>0.0</td>\n",
       "      <td>0.0</td>\n",
       "      <td>0.0</td>\n",
       "      <td>0.0</td>\n",
       "    </tr>\n",
       "    <tr>\n",
       "      <th>4</th>\n",
       "      <td>5</td>\n",
       "      <td>0</td>\n",
       "      <td>0</td>\n",
       "      <td>0</td>\n",
       "      <td>8</td>\n",
       "      <td>1</td>\n",
       "      <td>2</td>\n",
       "      <td>0</td>\n",
       "      <td>1</td>\n",
       "      <td>3</td>\n",
       "      <td>...</td>\n",
       "      <td>0.0</td>\n",
       "      <td>0.0</td>\n",
       "      <td>0.0</td>\n",
       "      <td>0.0</td>\n",
       "      <td>0.0</td>\n",
       "      <td>0.0</td>\n",
       "      <td>0.0</td>\n",
       "      <td>0.0</td>\n",
       "      <td>0.0</td>\n",
       "      <td>0.0</td>\n",
       "    </tr>\n",
       "    <tr>\n",
       "      <th>...</th>\n",
       "      <td>...</td>\n",
       "      <td>...</td>\n",
       "      <td>...</td>\n",
       "      <td>...</td>\n",
       "      <td>...</td>\n",
       "      <td>...</td>\n",
       "      <td>...</td>\n",
       "      <td>...</td>\n",
       "      <td>...</td>\n",
       "      <td>...</td>\n",
       "      <td>...</td>\n",
       "      <td>...</td>\n",
       "      <td>...</td>\n",
       "      <td>...</td>\n",
       "      <td>...</td>\n",
       "      <td>...</td>\n",
       "      <td>...</td>\n",
       "      <td>...</td>\n",
       "      <td>...</td>\n",
       "      <td>...</td>\n",
       "      <td>...</td>\n",
       "    </tr>\n",
       "    <tr>\n",
       "      <th>35962</th>\n",
       "      <td>49988</td>\n",
       "      <td>0</td>\n",
       "      <td>0</td>\n",
       "      <td>0</td>\n",
       "      <td>0</td>\n",
       "      <td>3</td>\n",
       "      <td>0</td>\n",
       "      <td>0</td>\n",
       "      <td>0</td>\n",
       "      <td>0</td>\n",
       "      <td>...</td>\n",
       "      <td>0.0</td>\n",
       "      <td>0.0</td>\n",
       "      <td>0.0</td>\n",
       "      <td>0.0</td>\n",
       "      <td>0.0</td>\n",
       "      <td>0.0</td>\n",
       "      <td>0.0</td>\n",
       "      <td>0.0</td>\n",
       "      <td>0.0</td>\n",
       "      <td>0.0</td>\n",
       "    </tr>\n",
       "    <tr>\n",
       "      <th>35963</th>\n",
       "      <td>49990</td>\n",
       "      <td>0</td>\n",
       "      <td>0</td>\n",
       "      <td>0</td>\n",
       "      <td>0</td>\n",
       "      <td>0</td>\n",
       "      <td>0</td>\n",
       "      <td>0</td>\n",
       "      <td>1</td>\n",
       "      <td>0</td>\n",
       "      <td>...</td>\n",
       "      <td>0.0</td>\n",
       "      <td>0.0</td>\n",
       "      <td>0.0</td>\n",
       "      <td>0.0</td>\n",
       "      <td>0.0</td>\n",
       "      <td>0.0</td>\n",
       "      <td>0.0</td>\n",
       "      <td>0.0</td>\n",
       "      <td>0.0</td>\n",
       "      <td>0.0</td>\n",
       "    </tr>\n",
       "    <tr>\n",
       "      <th>35964</th>\n",
       "      <td>49992</td>\n",
       "      <td>0</td>\n",
       "      <td>0</td>\n",
       "      <td>0</td>\n",
       "      <td>0</td>\n",
       "      <td>0</td>\n",
       "      <td>0</td>\n",
       "      <td>0</td>\n",
       "      <td>0</td>\n",
       "      <td>0</td>\n",
       "      <td>...</td>\n",
       "      <td>0.0</td>\n",
       "      <td>0.0</td>\n",
       "      <td>0.0</td>\n",
       "      <td>0.0</td>\n",
       "      <td>0.0</td>\n",
       "      <td>0.0</td>\n",
       "      <td>0.0</td>\n",
       "      <td>0.0</td>\n",
       "      <td>0.0</td>\n",
       "      <td>0.0</td>\n",
       "    </tr>\n",
       "    <tr>\n",
       "      <th>35965</th>\n",
       "      <td>49993</td>\n",
       "      <td>0</td>\n",
       "      <td>0</td>\n",
       "      <td>0</td>\n",
       "      <td>0</td>\n",
       "      <td>0</td>\n",
       "      <td>0</td>\n",
       "      <td>0</td>\n",
       "      <td>0</td>\n",
       "      <td>1</td>\n",
       "      <td>...</td>\n",
       "      <td>1.0</td>\n",
       "      <td>0.0</td>\n",
       "      <td>0.0</td>\n",
       "      <td>0.0</td>\n",
       "      <td>0.0</td>\n",
       "      <td>0.0</td>\n",
       "      <td>0.0</td>\n",
       "      <td>0.0</td>\n",
       "      <td>0.0</td>\n",
       "      <td>0.0</td>\n",
       "    </tr>\n",
       "    <tr>\n",
       "      <th>35966</th>\n",
       "      <td>49994</td>\n",
       "      <td>0</td>\n",
       "      <td>0</td>\n",
       "      <td>0</td>\n",
       "      <td>0</td>\n",
       "      <td>0</td>\n",
       "      <td>0</td>\n",
       "      <td>0</td>\n",
       "      <td>0</td>\n",
       "      <td>1</td>\n",
       "      <td>...</td>\n",
       "      <td>0.0</td>\n",
       "      <td>0.0</td>\n",
       "      <td>0.0</td>\n",
       "      <td>0.0</td>\n",
       "      <td>0.0</td>\n",
       "      <td>0.0</td>\n",
       "      <td>0.0</td>\n",
       "      <td>0.0</td>\n",
       "      <td>0.0</td>\n",
       "      <td>0.0</td>\n",
       "    </tr>\n",
       "  </tbody>\n",
       "</table>\n",
       "<p>35967 rows × 722 columns</p>\n",
       "</div>"
      ],
      "text/plain": [
       "       custid  1_stf  9_stf  10_stf  11_stf  12_stf  13_stf  14_stf  15_stf  \\\n",
       "0           0      0      0       0       0       2       0       0       0   \n",
       "1           2      0      0       1       1       0       1       1       0   \n",
       "2           3      0      0       0       2       3       2       3       0   \n",
       "3           4      0      0       0       0       0       0       4       0   \n",
       "4           5      0      0       0       8       1       2       0       1   \n",
       "...       ...    ...    ...     ...     ...     ...     ...     ...     ...   \n",
       "35962   49988      0      0       0       0       3       0       0       0   \n",
       "35963   49990      0      0       0       0       0       0       0       1   \n",
       "35964   49992      0      0       0       0       0       0       0       0   \n",
       "35965   49993      0      0       0       0       0       0       0       0   \n",
       "35966   49994      0      0       0       0       0       0       0       0   \n",
       "\n",
       "       16_stf  ...  part_pc_size_www_face_goods  \\\n",
       "0           0  ...                          0.0   \n",
       "1           1  ...                          0.0   \n",
       "2           0  ...                          0.0   \n",
       "3           0  ...                          0.0   \n",
       "4           3  ...                          0.0   \n",
       "...       ...  ...                          ...   \n",
       "35962       0  ...                          0.0   \n",
       "35963       0  ...                          0.0   \n",
       "35964       0  ...                          0.0   \n",
       "35965       1  ...                          1.0   \n",
       "35966       1  ...                          0.0   \n",
       "\n",
       "       part_pc_size_www_fashion_season  part_pc_size_www_girl_shoes  \\\n",
       "0                                  0.0                          0.0   \n",
       "1                                  0.0                          0.0   \n",
       "2                                  0.0                          0.0   \n",
       "3                                  0.0                          0.0   \n",
       "4                                  0.0                          0.0   \n",
       "...                                ...                          ...   \n",
       "35962                              0.0                          0.0   \n",
       "35963                              0.0                          0.0   \n",
       "35964                              0.0                          0.0   \n",
       "35965                              0.0                          0.0   \n",
       "35966                              0.0                          0.0   \n",
       "\n",
       "       part_pc_size_www_handbag  part_pc_size_www_jangsingu  \\\n",
       "0                           0.0                         0.0   \n",
       "1                           0.0                         0.0   \n",
       "2                           0.0                         0.0   \n",
       "3                           0.0                         0.0   \n",
       "4                           0.0                         0.0   \n",
       "...                         ...                         ...   \n",
       "35962                       0.0                         0.0   \n",
       "35963                       0.0                         0.0   \n",
       "35964                       0.0                         0.0   \n",
       "35965                       0.0                         0.0   \n",
       "35966                       0.0                         0.0   \n",
       "\n",
       "       part_pc_size_www_nan  part_pc_size_www_rangeri  \\\n",
       "0                       0.0                       0.0   \n",
       "1                       0.0                       0.0   \n",
       "2                       0.0                       0.0   \n",
       "3                       0.0                       0.0   \n",
       "4                       0.0                       0.0   \n",
       "...                     ...                       ...   \n",
       "35962                   0.0                       0.0   \n",
       "35963                   0.0                       0.0   \n",
       "35964                   0.0                       0.0   \n",
       "35965                   0.0                       0.0   \n",
       "35966                   0.0                       0.0   \n",
       "\n",
       "       part_pc_size_www_shooping_bo  part_pc_size_www_sumyou  \\\n",
       "0                               0.0                      0.0   \n",
       "1                               0.0                      0.0   \n",
       "2                               0.0                      0.0   \n",
       "3                               0.0                      0.0   \n",
       "4                               0.0                      0.0   \n",
       "...                             ...                      ...   \n",
       "35962                           0.0                      0.0   \n",
       "35963                           0.0                      0.0   \n",
       "35964                           0.0                      0.0   \n",
       "35965                           0.0                      0.0   \n",
       "35966                           0.0                      0.0   \n",
       "\n",
       "       part_pc_size_www_unknown_pc  \n",
       "0                              0.0  \n",
       "1                              0.0  \n",
       "2                              0.0  \n",
       "3                              0.0  \n",
       "4                              0.0  \n",
       "...                            ...  \n",
       "35962                          0.0  \n",
       "35963                          0.0  \n",
       "35964                          0.0  \n",
       "35965                          0.0  \n",
       "35966                          0.0  \n",
       "\n",
       "[35967 rows x 722 columns]"
      ]
     },
     "execution_count": 236,
     "metadata": {},
     "output_type": "execute_result"
    }
   ],
   "source": [
    "features = features.loc[:,~features.T.duplicated()]; features"
   ]
  },
  {
   "cell_type": "code",
   "execution_count": 237,
   "metadata": {},
   "outputs": [],
   "source": [
    "features1=features.copy()"
   ]
  },
  {
   "cell_type": "code",
   "execution_count": 238,
   "metadata": {},
   "outputs": [],
   "source": [
    "i_max=[]\n",
    "for i in list(features.columns):\n",
    "    if features[i].max()>50000:\n",
    "        i_max.append(i)"
   ]
  },
  {
   "cell_type": "code",
   "execution_count": 239,
   "metadata": {},
   "outputs": [],
   "source": [
    "i_max_min=[]\n",
    "for i in i_max:\n",
    "    if features[i].min()>0:\n",
    "        i_max_min.append(i)"
   ]
  },
  {
   "cell_type": "code",
   "execution_count": 240,
   "metadata": {},
   "outputs": [],
   "source": [
    "features[i_max_min]=np.log1p(features[i_max_min])"
   ]
  },
  {
   "cell_type": "code",
   "execution_count": null,
   "metadata": {},
   "outputs": [],
   "source": []
  },
  {
   "cell_type": "code",
   "execution_count": 241,
   "metadata": {},
   "outputs": [],
   "source": [
    "# 데이터 분할\n",
    "X_train = pd.DataFrame({'custid':trn['custid'].unique()})\n",
    "X_train = pd.merge(X_train, features, how='left',on='custid')\n",
    "\n",
    "y_train = y['age']\n",
    "\n",
    "X_test = pd.DataFrame({'custid':tst['custid'].unique()})\n",
    "X_test = pd.merge(X_test, features, how='left',on='custid')"
   ]
  },
  {
   "cell_type": "code",
   "execution_count": 242,
   "metadata": {},
   "outputs": [],
   "source": [
    "X_train.drop('custid',axis=1,inplace=True)\n",
    "X_test.drop('custid',axis=1,inplace=True)"
   ]
  },
  {
   "cell_type": "code",
   "execution_count": 243,
   "metadata": {
    "scrolled": false
   },
   "outputs": [
    {
     "data": {
      "text/plain": [
       "((21587, 721), (14380, 721), (21587,))"
      ]
     },
     "execution_count": 243,
     "metadata": {},
     "output_type": "execute_result"
    }
   ],
   "source": [
    "X_train.shape, X_test.shape, y_train.shape"
   ]
  },
  {
   "cell_type": "code",
   "execution_count": 244,
   "metadata": {},
   "outputs": [],
   "source": [
    "X_columns=X_train.columns"
   ]
  },
  {
   "cell_type": "code",
   "execution_count": 247,
   "metadata": {},
   "outputs": [],
   "source": [
    "X = pd.concat([X_train,X_test])"
   ]
  },
  {
   "cell_type": "code",
   "execution_count": 249,
   "metadata": {},
   "outputs": [],
   "source": [
    "from sklearn.preprocessing import StandardScaler\n",
    "scaler = StandardScaler()\n",
    "\n",
    "#X_train_scaled = scaler.fit_transform(X_train)\n",
    "#X_test_scaled = scaler.transform(X_test)\n",
    "X_all = scaler.fit_transform(X)"
   ]
  },
  {
   "cell_type": "code",
   "execution_count": 252,
   "metadata": {},
   "outputs": [
    {
     "data": {
      "text/html": [
       "<div>\n",
       "<style scoped>\n",
       "    .dataframe tbody tr th:only-of-type {\n",
       "        vertical-align: middle;\n",
       "    }\n",
       "\n",
       "    .dataframe tbody tr th {\n",
       "        vertical-align: top;\n",
       "    }\n",
       "\n",
       "    .dataframe thead th {\n",
       "        text-align: right;\n",
       "    }\n",
       "</style>\n",
       "<table border=\"1\" class=\"dataframe\">\n",
       "  <thead>\n",
       "    <tr style=\"text-align: right;\">\n",
       "      <th></th>\n",
       "      <th>1_stf</th>\n",
       "      <th>9_stf</th>\n",
       "      <th>10_stf</th>\n",
       "      <th>11_stf</th>\n",
       "      <th>12_stf</th>\n",
       "      <th>13_stf</th>\n",
       "      <th>14_stf</th>\n",
       "      <th>15_stf</th>\n",
       "      <th>16_stf</th>\n",
       "      <th>17_stf</th>\n",
       "      <th>...</th>\n",
       "      <th>part_pc_size_www_face_goods</th>\n",
       "      <th>part_pc_size_www_fashion_season</th>\n",
       "      <th>part_pc_size_www_girl_shoes</th>\n",
       "      <th>part_pc_size_www_handbag</th>\n",
       "      <th>part_pc_size_www_jangsingu</th>\n",
       "      <th>part_pc_size_www_nan</th>\n",
       "      <th>part_pc_size_www_rangeri</th>\n",
       "      <th>part_pc_size_www_shooping_bo</th>\n",
       "      <th>part_pc_size_www_sumyou</th>\n",
       "      <th>part_pc_size_www_unknown_pc</th>\n",
       "    </tr>\n",
       "  </thead>\n",
       "  <tbody>\n",
       "    <tr>\n",
       "      <th>0</th>\n",
       "      <td>-0.005273</td>\n",
       "      <td>-0.088843</td>\n",
       "      <td>-0.284814</td>\n",
       "      <td>-0.411768</td>\n",
       "      <td>-0.089984</td>\n",
       "      <td>-0.620230</td>\n",
       "      <td>-0.651158</td>\n",
       "      <td>-0.678094</td>\n",
       "      <td>-0.696307</td>\n",
       "      <td>-0.697887</td>\n",
       "      <td>...</td>\n",
       "      <td>-0.404966</td>\n",
       "      <td>-0.149921</td>\n",
       "      <td>-0.173264</td>\n",
       "      <td>-0.149937</td>\n",
       "      <td>-0.19268</td>\n",
       "      <td>-0.318958</td>\n",
       "      <td>-0.158148</td>\n",
       "      <td>-0.005273</td>\n",
       "      <td>-0.285985</td>\n",
       "      <td>-0.017491</td>\n",
       "    </tr>\n",
       "    <tr>\n",
       "      <th>1</th>\n",
       "      <td>-0.005273</td>\n",
       "      <td>-0.088843</td>\n",
       "      <td>0.398751</td>\n",
       "      <td>-0.187084</td>\n",
       "      <td>-0.528885</td>\n",
       "      <td>-0.389632</td>\n",
       "      <td>-0.435693</td>\n",
       "      <td>-0.678094</td>\n",
       "      <td>-0.503130</td>\n",
       "      <td>-0.498945</td>\n",
       "      <td>...</td>\n",
       "      <td>-0.404966</td>\n",
       "      <td>-0.149921</td>\n",
       "      <td>-0.173264</td>\n",
       "      <td>-0.149937</td>\n",
       "      <td>-0.19268</td>\n",
       "      <td>-0.318958</td>\n",
       "      <td>-0.158148</td>\n",
       "      <td>-0.005273</td>\n",
       "      <td>-0.285985</td>\n",
       "      <td>-0.017491</td>\n",
       "    </tr>\n",
       "    <tr>\n",
       "      <th>2</th>\n",
       "      <td>-0.005273</td>\n",
       "      <td>-0.088843</td>\n",
       "      <td>-0.284814</td>\n",
       "      <td>0.037600</td>\n",
       "      <td>0.129466</td>\n",
       "      <td>-0.159034</td>\n",
       "      <td>-0.004763</td>\n",
       "      <td>-0.678094</td>\n",
       "      <td>-0.696307</td>\n",
       "      <td>0.296823</td>\n",
       "      <td>...</td>\n",
       "      <td>-0.404966</td>\n",
       "      <td>-0.149921</td>\n",
       "      <td>-0.173264</td>\n",
       "      <td>-0.149937</td>\n",
       "      <td>-0.19268</td>\n",
       "      <td>-0.318958</td>\n",
       "      <td>-0.158148</td>\n",
       "      <td>-0.005273</td>\n",
       "      <td>-0.285985</td>\n",
       "      <td>-0.017491</td>\n",
       "    </tr>\n",
       "    <tr>\n",
       "      <th>3</th>\n",
       "      <td>-0.005273</td>\n",
       "      <td>-0.088843</td>\n",
       "      <td>-0.284814</td>\n",
       "      <td>-0.411768</td>\n",
       "      <td>-0.528885</td>\n",
       "      <td>-0.620230</td>\n",
       "      <td>0.210703</td>\n",
       "      <td>-0.678094</td>\n",
       "      <td>-0.696307</td>\n",
       "      <td>-0.697887</td>\n",
       "      <td>...</td>\n",
       "      <td>-0.404966</td>\n",
       "      <td>-0.149921</td>\n",
       "      <td>-0.173264</td>\n",
       "      <td>-0.149937</td>\n",
       "      <td>-0.19268</td>\n",
       "      <td>-0.318958</td>\n",
       "      <td>-0.158148</td>\n",
       "      <td>-0.005273</td>\n",
       "      <td>-0.285985</td>\n",
       "      <td>-0.017491</td>\n",
       "    </tr>\n",
       "    <tr>\n",
       "      <th>4</th>\n",
       "      <td>-0.005273</td>\n",
       "      <td>-0.088843</td>\n",
       "      <td>-0.284814</td>\n",
       "      <td>1.385706</td>\n",
       "      <td>-0.309434</td>\n",
       "      <td>-0.159034</td>\n",
       "      <td>-0.651158</td>\n",
       "      <td>-0.481193</td>\n",
       "      <td>-0.116775</td>\n",
       "      <td>0.296823</td>\n",
       "      <td>...</td>\n",
       "      <td>-0.404966</td>\n",
       "      <td>-0.149921</td>\n",
       "      <td>-0.173264</td>\n",
       "      <td>-0.149937</td>\n",
       "      <td>-0.19268</td>\n",
       "      <td>-0.318958</td>\n",
       "      <td>-0.158148</td>\n",
       "      <td>-0.005273</td>\n",
       "      <td>-0.285985</td>\n",
       "      <td>-0.017491</td>\n",
       "    </tr>\n",
       "    <tr>\n",
       "      <th>...</th>\n",
       "      <td>...</td>\n",
       "      <td>...</td>\n",
       "      <td>...</td>\n",
       "      <td>...</td>\n",
       "      <td>...</td>\n",
       "      <td>...</td>\n",
       "      <td>...</td>\n",
       "      <td>...</td>\n",
       "      <td>...</td>\n",
       "      <td>...</td>\n",
       "      <td>...</td>\n",
       "      <td>...</td>\n",
       "      <td>...</td>\n",
       "      <td>...</td>\n",
       "      <td>...</td>\n",
       "      <td>...</td>\n",
       "      <td>...</td>\n",
       "      <td>...</td>\n",
       "      <td>...</td>\n",
       "      <td>...</td>\n",
       "      <td>...</td>\n",
       "    </tr>\n",
       "    <tr>\n",
       "      <th>35962</th>\n",
       "      <td>-0.005273</td>\n",
       "      <td>-0.088843</td>\n",
       "      <td>-0.284814</td>\n",
       "      <td>-0.411768</td>\n",
       "      <td>0.129466</td>\n",
       "      <td>-0.620230</td>\n",
       "      <td>-0.651158</td>\n",
       "      <td>-0.678094</td>\n",
       "      <td>-0.696307</td>\n",
       "      <td>-0.697887</td>\n",
       "      <td>...</td>\n",
       "      <td>-0.404966</td>\n",
       "      <td>-0.149921</td>\n",
       "      <td>-0.173264</td>\n",
       "      <td>-0.149937</td>\n",
       "      <td>-0.19268</td>\n",
       "      <td>-0.318958</td>\n",
       "      <td>-0.158148</td>\n",
       "      <td>-0.005273</td>\n",
       "      <td>-0.285985</td>\n",
       "      <td>-0.017491</td>\n",
       "    </tr>\n",
       "    <tr>\n",
       "      <th>35963</th>\n",
       "      <td>-0.005273</td>\n",
       "      <td>-0.088843</td>\n",
       "      <td>-0.284814</td>\n",
       "      <td>-0.411768</td>\n",
       "      <td>-0.528885</td>\n",
       "      <td>-0.620230</td>\n",
       "      <td>-0.651158</td>\n",
       "      <td>-0.481193</td>\n",
       "      <td>-0.696307</td>\n",
       "      <td>-0.697887</td>\n",
       "      <td>...</td>\n",
       "      <td>-0.404966</td>\n",
       "      <td>-0.149921</td>\n",
       "      <td>-0.173264</td>\n",
       "      <td>-0.149937</td>\n",
       "      <td>-0.19268</td>\n",
       "      <td>-0.318958</td>\n",
       "      <td>-0.158148</td>\n",
       "      <td>-0.005273</td>\n",
       "      <td>-0.285985</td>\n",
       "      <td>-0.017491</td>\n",
       "    </tr>\n",
       "    <tr>\n",
       "      <th>35964</th>\n",
       "      <td>-0.005273</td>\n",
       "      <td>-0.088843</td>\n",
       "      <td>-0.284814</td>\n",
       "      <td>-0.411768</td>\n",
       "      <td>-0.528885</td>\n",
       "      <td>-0.620230</td>\n",
       "      <td>-0.651158</td>\n",
       "      <td>-0.678094</td>\n",
       "      <td>-0.696307</td>\n",
       "      <td>-0.498945</td>\n",
       "      <td>...</td>\n",
       "      <td>-0.404966</td>\n",
       "      <td>-0.149921</td>\n",
       "      <td>-0.173264</td>\n",
       "      <td>-0.149937</td>\n",
       "      <td>-0.19268</td>\n",
       "      <td>-0.318958</td>\n",
       "      <td>-0.158148</td>\n",
       "      <td>-0.005273</td>\n",
       "      <td>-0.285985</td>\n",
       "      <td>-0.017491</td>\n",
       "    </tr>\n",
       "    <tr>\n",
       "      <th>35965</th>\n",
       "      <td>-0.005273</td>\n",
       "      <td>-0.088843</td>\n",
       "      <td>-0.284814</td>\n",
       "      <td>-0.411768</td>\n",
       "      <td>-0.528885</td>\n",
       "      <td>-0.620230</td>\n",
       "      <td>-0.651158</td>\n",
       "      <td>-0.678094</td>\n",
       "      <td>-0.503130</td>\n",
       "      <td>-0.300003</td>\n",
       "      <td>...</td>\n",
       "      <td>0.059019</td>\n",
       "      <td>-0.149921</td>\n",
       "      <td>-0.173264</td>\n",
       "      <td>-0.149937</td>\n",
       "      <td>-0.19268</td>\n",
       "      <td>-0.318958</td>\n",
       "      <td>-0.158148</td>\n",
       "      <td>-0.005273</td>\n",
       "      <td>-0.285985</td>\n",
       "      <td>-0.017491</td>\n",
       "    </tr>\n",
       "    <tr>\n",
       "      <th>35966</th>\n",
       "      <td>-0.005273</td>\n",
       "      <td>-0.088843</td>\n",
       "      <td>-0.284814</td>\n",
       "      <td>-0.411768</td>\n",
       "      <td>-0.528885</td>\n",
       "      <td>-0.620230</td>\n",
       "      <td>-0.651158</td>\n",
       "      <td>-0.678094</td>\n",
       "      <td>-0.503130</td>\n",
       "      <td>-0.498945</td>\n",
       "      <td>...</td>\n",
       "      <td>-0.404966</td>\n",
       "      <td>-0.149921</td>\n",
       "      <td>-0.173264</td>\n",
       "      <td>-0.149937</td>\n",
       "      <td>-0.19268</td>\n",
       "      <td>-0.318958</td>\n",
       "      <td>-0.158148</td>\n",
       "      <td>-0.005273</td>\n",
       "      <td>-0.285985</td>\n",
       "      <td>-0.017491</td>\n",
       "    </tr>\n",
       "  </tbody>\n",
       "</table>\n",
       "<p>35967 rows × 721 columns</p>\n",
       "</div>"
      ],
      "text/plain": [
       "          1_stf     9_stf    10_stf    11_stf    12_stf    13_stf    14_stf  \\\n",
       "0     -0.005273 -0.088843 -0.284814 -0.411768 -0.089984 -0.620230 -0.651158   \n",
       "1     -0.005273 -0.088843  0.398751 -0.187084 -0.528885 -0.389632 -0.435693   \n",
       "2     -0.005273 -0.088843 -0.284814  0.037600  0.129466 -0.159034 -0.004763   \n",
       "3     -0.005273 -0.088843 -0.284814 -0.411768 -0.528885 -0.620230  0.210703   \n",
       "4     -0.005273 -0.088843 -0.284814  1.385706 -0.309434 -0.159034 -0.651158   \n",
       "...         ...       ...       ...       ...       ...       ...       ...   \n",
       "35962 -0.005273 -0.088843 -0.284814 -0.411768  0.129466 -0.620230 -0.651158   \n",
       "35963 -0.005273 -0.088843 -0.284814 -0.411768 -0.528885 -0.620230 -0.651158   \n",
       "35964 -0.005273 -0.088843 -0.284814 -0.411768 -0.528885 -0.620230 -0.651158   \n",
       "35965 -0.005273 -0.088843 -0.284814 -0.411768 -0.528885 -0.620230 -0.651158   \n",
       "35966 -0.005273 -0.088843 -0.284814 -0.411768 -0.528885 -0.620230 -0.651158   \n",
       "\n",
       "         15_stf    16_stf    17_stf  ...  part_pc_size_www_face_goods  \\\n",
       "0     -0.678094 -0.696307 -0.697887  ...                    -0.404966   \n",
       "1     -0.678094 -0.503130 -0.498945  ...                    -0.404966   \n",
       "2     -0.678094 -0.696307  0.296823  ...                    -0.404966   \n",
       "3     -0.678094 -0.696307 -0.697887  ...                    -0.404966   \n",
       "4     -0.481193 -0.116775  0.296823  ...                    -0.404966   \n",
       "...         ...       ...       ...  ...                          ...   \n",
       "35962 -0.678094 -0.696307 -0.697887  ...                    -0.404966   \n",
       "35963 -0.481193 -0.696307 -0.697887  ...                    -0.404966   \n",
       "35964 -0.678094 -0.696307 -0.498945  ...                    -0.404966   \n",
       "35965 -0.678094 -0.503130 -0.300003  ...                     0.059019   \n",
       "35966 -0.678094 -0.503130 -0.498945  ...                    -0.404966   \n",
       "\n",
       "       part_pc_size_www_fashion_season  part_pc_size_www_girl_shoes  \\\n",
       "0                            -0.149921                    -0.173264   \n",
       "1                            -0.149921                    -0.173264   \n",
       "2                            -0.149921                    -0.173264   \n",
       "3                            -0.149921                    -0.173264   \n",
       "4                            -0.149921                    -0.173264   \n",
       "...                                ...                          ...   \n",
       "35962                        -0.149921                    -0.173264   \n",
       "35963                        -0.149921                    -0.173264   \n",
       "35964                        -0.149921                    -0.173264   \n",
       "35965                        -0.149921                    -0.173264   \n",
       "35966                        -0.149921                    -0.173264   \n",
       "\n",
       "       part_pc_size_www_handbag  part_pc_size_www_jangsingu  \\\n",
       "0                     -0.149937                    -0.19268   \n",
       "1                     -0.149937                    -0.19268   \n",
       "2                     -0.149937                    -0.19268   \n",
       "3                     -0.149937                    -0.19268   \n",
       "4                     -0.149937                    -0.19268   \n",
       "...                         ...                         ...   \n",
       "35962                 -0.149937                    -0.19268   \n",
       "35963                 -0.149937                    -0.19268   \n",
       "35964                 -0.149937                    -0.19268   \n",
       "35965                 -0.149937                    -0.19268   \n",
       "35966                 -0.149937                    -0.19268   \n",
       "\n",
       "       part_pc_size_www_nan  part_pc_size_www_rangeri  \\\n",
       "0                 -0.318958                 -0.158148   \n",
       "1                 -0.318958                 -0.158148   \n",
       "2                 -0.318958                 -0.158148   \n",
       "3                 -0.318958                 -0.158148   \n",
       "4                 -0.318958                 -0.158148   \n",
       "...                     ...                       ...   \n",
       "35962             -0.318958                 -0.158148   \n",
       "35963             -0.318958                 -0.158148   \n",
       "35964             -0.318958                 -0.158148   \n",
       "35965             -0.318958                 -0.158148   \n",
       "35966             -0.318958                 -0.158148   \n",
       "\n",
       "       part_pc_size_www_shooping_bo  part_pc_size_www_sumyou  \\\n",
       "0                         -0.005273                -0.285985   \n",
       "1                         -0.005273                -0.285985   \n",
       "2                         -0.005273                -0.285985   \n",
       "3                         -0.005273                -0.285985   \n",
       "4                         -0.005273                -0.285985   \n",
       "...                             ...                      ...   \n",
       "35962                     -0.005273                -0.285985   \n",
       "35963                     -0.005273                -0.285985   \n",
       "35964                     -0.005273                -0.285985   \n",
       "35965                     -0.005273                -0.285985   \n",
       "35966                     -0.005273                -0.285985   \n",
       "\n",
       "       part_pc_size_www_unknown_pc  \n",
       "0                        -0.017491  \n",
       "1                        -0.017491  \n",
       "2                        -0.017491  \n",
       "3                        -0.017491  \n",
       "4                        -0.017491  \n",
       "...                            ...  \n",
       "35962                    -0.017491  \n",
       "35963                    -0.017491  \n",
       "35964                    -0.017491  \n",
       "35965                    -0.017491  \n",
       "35966                    -0.017491  \n",
       "\n",
       "[35967 rows x 721 columns]"
      ]
     },
     "execution_count": 252,
     "metadata": {},
     "output_type": "execute_result"
    }
   ],
   "source": [
    "ALL = pd.DataFrame(X_all,columns=X_columns);ALL"
   ]
  },
  {
   "cell_type": "code",
   "execution_count": 260,
   "metadata": {},
   "outputs": [],
   "source": [
    "T = pd.Series(IDtrain)\n",
    "TE = pd.Series(IDtest)"
   ]
  },
  {
   "cell_type": "code",
   "execution_count": 277,
   "metadata": {},
   "outputs": [],
   "source": [
    "X_train_scaled = ALL[:21587]\n",
    "X_test_scaled = ALL[21587:].reset_index().iloc[:,1:]"
   ]
  },
  {
   "cell_type": "code",
   "execution_count": 284,
   "metadata": {},
   "outputs": [],
   "source": [
    "#X_train_scaled=pd.DataFrame(X_train_scaled,columns=X_columns)\n",
    "#X_test_scaled=pd.DataFrame(X_test_scaled,columns=X_columns)"
   ]
  },
  {
   "cell_type": "code",
   "execution_count": 281,
   "metadata": {},
   "outputs": [],
   "source": [
    "X_train_scaled = pd.concat([X_train_scaled, train_mean_vector], axis=1)\n",
    "X_test_scaled = pd.concat([X_test_scaled, test_mean_vector], axis=1)"
   ]
  },
  {
   "cell_type": "code",
   "execution_count": 283,
   "metadata": {},
   "outputs": [],
   "source": [
    "X_train_scaled = pd.concat([X_train_scaled, train_mean_vector_2], axis=1)\n",
    "X_test_scaled = pd.concat([X_test_scaled, test_mean_vector_2], axis=1)"
   ]
  },
  {
   "cell_type": "code",
   "execution_count": 284,
   "metadata": {
    "scrolled": true
   },
   "outputs": [
    {
     "data": {
      "text/plain": [
       "((21587, 921), (14380, 921), (21587,))"
      ]
     },
     "execution_count": 284,
     "metadata": {},
     "output_type": "execute_result"
    }
   ],
   "source": [
    "X_train_scaled.shape, X_test_scaled.shape, y_train.shape"
   ]
  },
  {
   "cell_type": "code",
   "execution_count": 285,
   "metadata": {},
   "outputs": [],
   "source": [
    "X_train_scaled.to_csv('2.2nd_feature_0612.csv' , index = False)"
   ]
  },
  {
   "cell_type": "code",
   "execution_count": 286,
   "metadata": {},
   "outputs": [],
   "source": [
    "X_test_scaled.to_csv('2.2nd_feature_te_0612.csv' , index = False)"
   ]
  },
  {
   "cell_type": "code",
   "execution_count": 287,
   "metadata": {},
   "outputs": [
    {
     "data": {
      "text/html": [
       "<div>\n",
       "<style scoped>\n",
       "    .dataframe tbody tr th:only-of-type {\n",
       "        vertical-align: middle;\n",
       "    }\n",
       "\n",
       "    .dataframe tbody tr th {\n",
       "        vertical-align: top;\n",
       "    }\n",
       "\n",
       "    .dataframe thead th {\n",
       "        text-align: right;\n",
       "    }\n",
       "</style>\n",
       "<table border=\"1\" class=\"dataframe\">\n",
       "  <thead>\n",
       "    <tr style=\"text-align: right;\">\n",
       "      <th></th>\n",
       "      <th>1_stf</th>\n",
       "      <th>9_stf</th>\n",
       "      <th>10_stf</th>\n",
       "      <th>11_stf</th>\n",
       "      <th>12_stf</th>\n",
       "      <th>13_stf</th>\n",
       "      <th>14_stf</th>\n",
       "      <th>15_stf</th>\n",
       "      <th>16_stf</th>\n",
       "      <th>17_stf</th>\n",
       "      <th>...</th>\n",
       "      <th>90</th>\n",
       "      <th>91</th>\n",
       "      <th>92</th>\n",
       "      <th>93</th>\n",
       "      <th>94</th>\n",
       "      <th>95</th>\n",
       "      <th>96</th>\n",
       "      <th>97</th>\n",
       "      <th>98</th>\n",
       "      <th>99</th>\n",
       "    </tr>\n",
       "  </thead>\n",
       "  <tbody>\n",
       "    <tr>\n",
       "      <th>0</th>\n",
       "      <td>-0.005273</td>\n",
       "      <td>-0.088843</td>\n",
       "      <td>-0.284814</td>\n",
       "      <td>-0.411768</td>\n",
       "      <td>-0.089984</td>\n",
       "      <td>-0.620230</td>\n",
       "      <td>-0.651158</td>\n",
       "      <td>-0.678094</td>\n",
       "      <td>-0.696307</td>\n",
       "      <td>-0.697887</td>\n",
       "      <td>...</td>\n",
       "      <td>-0.165226</td>\n",
       "      <td>0.226791</td>\n",
       "      <td>0.023077</td>\n",
       "      <td>0.197462</td>\n",
       "      <td>0.159934</td>\n",
       "      <td>0.134166</td>\n",
       "      <td>-0.084717</td>\n",
       "      <td>0.058027</td>\n",
       "      <td>0.233149</td>\n",
       "      <td>0.146704</td>\n",
       "    </tr>\n",
       "    <tr>\n",
       "      <th>1</th>\n",
       "      <td>-0.005273</td>\n",
       "      <td>-0.088843</td>\n",
       "      <td>0.398751</td>\n",
       "      <td>-0.187084</td>\n",
       "      <td>-0.528885</td>\n",
       "      <td>-0.389632</td>\n",
       "      <td>-0.435693</td>\n",
       "      <td>-0.678094</td>\n",
       "      <td>-0.503130</td>\n",
       "      <td>-0.498945</td>\n",
       "      <td>...</td>\n",
       "      <td>-0.212440</td>\n",
       "      <td>0.137763</td>\n",
       "      <td>-0.042228</td>\n",
       "      <td>0.076557</td>\n",
       "      <td>0.097435</td>\n",
       "      <td>0.117673</td>\n",
       "      <td>-0.081022</td>\n",
       "      <td>0.041562</td>\n",
       "      <td>0.235905</td>\n",
       "      <td>0.100596</td>\n",
       "    </tr>\n",
       "    <tr>\n",
       "      <th>2</th>\n",
       "      <td>-0.005273</td>\n",
       "      <td>-0.088843</td>\n",
       "      <td>-0.284814</td>\n",
       "      <td>0.037600</td>\n",
       "      <td>0.129466</td>\n",
       "      <td>-0.159034</td>\n",
       "      <td>-0.004763</td>\n",
       "      <td>-0.678094</td>\n",
       "      <td>-0.696307</td>\n",
       "      <td>0.296823</td>\n",
       "      <td>...</td>\n",
       "      <td>-0.185209</td>\n",
       "      <td>0.162313</td>\n",
       "      <td>-0.024075</td>\n",
       "      <td>0.080504</td>\n",
       "      <td>0.102624</td>\n",
       "      <td>0.079979</td>\n",
       "      <td>-0.165694</td>\n",
       "      <td>0.105364</td>\n",
       "      <td>0.314384</td>\n",
       "      <td>0.118440</td>\n",
       "    </tr>\n",
       "    <tr>\n",
       "      <th>3</th>\n",
       "      <td>-0.005273</td>\n",
       "      <td>-0.088843</td>\n",
       "      <td>-0.284814</td>\n",
       "      <td>-0.411768</td>\n",
       "      <td>-0.528885</td>\n",
       "      <td>-0.620230</td>\n",
       "      <td>0.210703</td>\n",
       "      <td>-0.678094</td>\n",
       "      <td>-0.696307</td>\n",
       "      <td>-0.697887</td>\n",
       "      <td>...</td>\n",
       "      <td>-0.051455</td>\n",
       "      <td>0.020150</td>\n",
       "      <td>-0.073568</td>\n",
       "      <td>0.343153</td>\n",
       "      <td>0.258331</td>\n",
       "      <td>0.246874</td>\n",
       "      <td>-0.016653</td>\n",
       "      <td>0.158458</td>\n",
       "      <td>0.133428</td>\n",
       "      <td>0.105987</td>\n",
       "    </tr>\n",
       "    <tr>\n",
       "      <th>4</th>\n",
       "      <td>-0.005273</td>\n",
       "      <td>-0.088843</td>\n",
       "      <td>-0.284814</td>\n",
       "      <td>1.385706</td>\n",
       "      <td>-0.309434</td>\n",
       "      <td>-0.159034</td>\n",
       "      <td>-0.651158</td>\n",
       "      <td>-0.481193</td>\n",
       "      <td>-0.116775</td>\n",
       "      <td>0.296823</td>\n",
       "      <td>...</td>\n",
       "      <td>-0.179383</td>\n",
       "      <td>0.158299</td>\n",
       "      <td>-0.097633</td>\n",
       "      <td>0.092266</td>\n",
       "      <td>0.095512</td>\n",
       "      <td>0.130884</td>\n",
       "      <td>-0.039362</td>\n",
       "      <td>0.080870</td>\n",
       "      <td>0.225688</td>\n",
       "      <td>0.169993</td>\n",
       "    </tr>\n",
       "    <tr>\n",
       "      <th>...</th>\n",
       "      <td>...</td>\n",
       "      <td>...</td>\n",
       "      <td>...</td>\n",
       "      <td>...</td>\n",
       "      <td>...</td>\n",
       "      <td>...</td>\n",
       "      <td>...</td>\n",
       "      <td>...</td>\n",
       "      <td>...</td>\n",
       "      <td>...</td>\n",
       "      <td>...</td>\n",
       "      <td>...</td>\n",
       "      <td>...</td>\n",
       "      <td>...</td>\n",
       "      <td>...</td>\n",
       "      <td>...</td>\n",
       "      <td>...</td>\n",
       "      <td>...</td>\n",
       "      <td>...</td>\n",
       "      <td>...</td>\n",
       "      <td>...</td>\n",
       "    </tr>\n",
       "    <tr>\n",
       "      <th>21582</th>\n",
       "      <td>-0.005273</td>\n",
       "      <td>-0.088843</td>\n",
       "      <td>1.082317</td>\n",
       "      <td>-0.187084</td>\n",
       "      <td>1.226718</td>\n",
       "      <td>1.224554</td>\n",
       "      <td>1.934424</td>\n",
       "      <td>-0.087390</td>\n",
       "      <td>1.235466</td>\n",
       "      <td>2.087299</td>\n",
       "      <td>...</td>\n",
       "      <td>-0.087380</td>\n",
       "      <td>0.180822</td>\n",
       "      <td>-0.091415</td>\n",
       "      <td>0.093610</td>\n",
       "      <td>0.085881</td>\n",
       "      <td>0.134376</td>\n",
       "      <td>-0.136256</td>\n",
       "      <td>0.114941</td>\n",
       "      <td>0.086217</td>\n",
       "      <td>0.114949</td>\n",
       "    </tr>\n",
       "    <tr>\n",
       "      <th>21583</th>\n",
       "      <td>-0.005273</td>\n",
       "      <td>-0.088843</td>\n",
       "      <td>-0.284814</td>\n",
       "      <td>-0.411768</td>\n",
       "      <td>0.348917</td>\n",
       "      <td>0.302162</td>\n",
       "      <td>-0.651158</td>\n",
       "      <td>-0.678094</td>\n",
       "      <td>-0.116775</td>\n",
       "      <td>-0.300003</td>\n",
       "      <td>...</td>\n",
       "      <td>-0.095967</td>\n",
       "      <td>0.147775</td>\n",
       "      <td>-0.108850</td>\n",
       "      <td>0.159752</td>\n",
       "      <td>0.103106</td>\n",
       "      <td>0.166150</td>\n",
       "      <td>-0.158565</td>\n",
       "      <td>0.209097</td>\n",
       "      <td>0.172259</td>\n",
       "      <td>0.031050</td>\n",
       "    </tr>\n",
       "    <tr>\n",
       "      <th>21584</th>\n",
       "      <td>-0.005273</td>\n",
       "      <td>-0.088843</td>\n",
       "      <td>-0.284814</td>\n",
       "      <td>-0.411768</td>\n",
       "      <td>-0.309434</td>\n",
       "      <td>0.071564</td>\n",
       "      <td>0.210703</td>\n",
       "      <td>0.700217</td>\n",
       "      <td>-0.116775</td>\n",
       "      <td>-0.300003</td>\n",
       "      <td>...</td>\n",
       "      <td>-0.083197</td>\n",
       "      <td>0.235958</td>\n",
       "      <td>-0.067154</td>\n",
       "      <td>0.069837</td>\n",
       "      <td>0.179463</td>\n",
       "      <td>0.112109</td>\n",
       "      <td>-0.186623</td>\n",
       "      <td>0.223913</td>\n",
       "      <td>0.138100</td>\n",
       "      <td>0.103012</td>\n",
       "    </tr>\n",
       "    <tr>\n",
       "      <th>21585</th>\n",
       "      <td>-0.005273</td>\n",
       "      <td>-0.088843</td>\n",
       "      <td>-0.284814</td>\n",
       "      <td>-0.411768</td>\n",
       "      <td>-0.528885</td>\n",
       "      <td>0.532760</td>\n",
       "      <td>-0.220228</td>\n",
       "      <td>-0.284291</td>\n",
       "      <td>-0.309953</td>\n",
       "      <td>-0.697887</td>\n",
       "      <td>...</td>\n",
       "      <td>-0.041586</td>\n",
       "      <td>0.228185</td>\n",
       "      <td>-0.060137</td>\n",
       "      <td>0.210461</td>\n",
       "      <td>0.191180</td>\n",
       "      <td>0.128997</td>\n",
       "      <td>-0.136482</td>\n",
       "      <td>0.187943</td>\n",
       "      <td>0.338590</td>\n",
       "      <td>-0.023360</td>\n",
       "    </tr>\n",
       "    <tr>\n",
       "      <th>21586</th>\n",
       "      <td>-0.005273</td>\n",
       "      <td>-0.088843</td>\n",
       "      <td>-0.284814</td>\n",
       "      <td>-0.411768</td>\n",
       "      <td>-0.528885</td>\n",
       "      <td>-0.389632</td>\n",
       "      <td>-0.651158</td>\n",
       "      <td>-0.678094</td>\n",
       "      <td>-0.696307</td>\n",
       "      <td>-0.697887</td>\n",
       "      <td>...</td>\n",
       "      <td>-0.142646</td>\n",
       "      <td>0.078074</td>\n",
       "      <td>0.077272</td>\n",
       "      <td>-0.008187</td>\n",
       "      <td>0.155854</td>\n",
       "      <td>0.034956</td>\n",
       "      <td>-0.118188</td>\n",
       "      <td>0.009388</td>\n",
       "      <td>0.233682</td>\n",
       "      <td>0.255791</td>\n",
       "    </tr>\n",
       "  </tbody>\n",
       "</table>\n",
       "<p>21587 rows × 921 columns</p>\n",
       "</div>"
      ],
      "text/plain": [
       "          1_stf     9_stf    10_stf    11_stf    12_stf    13_stf    14_stf  \\\n",
       "0     -0.005273 -0.088843 -0.284814 -0.411768 -0.089984 -0.620230 -0.651158   \n",
       "1     -0.005273 -0.088843  0.398751 -0.187084 -0.528885 -0.389632 -0.435693   \n",
       "2     -0.005273 -0.088843 -0.284814  0.037600  0.129466 -0.159034 -0.004763   \n",
       "3     -0.005273 -0.088843 -0.284814 -0.411768 -0.528885 -0.620230  0.210703   \n",
       "4     -0.005273 -0.088843 -0.284814  1.385706 -0.309434 -0.159034 -0.651158   \n",
       "...         ...       ...       ...       ...       ...       ...       ...   \n",
       "21582 -0.005273 -0.088843  1.082317 -0.187084  1.226718  1.224554  1.934424   \n",
       "21583 -0.005273 -0.088843 -0.284814 -0.411768  0.348917  0.302162 -0.651158   \n",
       "21584 -0.005273 -0.088843 -0.284814 -0.411768 -0.309434  0.071564  0.210703   \n",
       "21585 -0.005273 -0.088843 -0.284814 -0.411768 -0.528885  0.532760 -0.220228   \n",
       "21586 -0.005273 -0.088843 -0.284814 -0.411768 -0.528885 -0.389632 -0.651158   \n",
       "\n",
       "         15_stf    16_stf    17_stf  ...        90        91        92  \\\n",
       "0     -0.678094 -0.696307 -0.697887  ... -0.165226  0.226791  0.023077   \n",
       "1     -0.678094 -0.503130 -0.498945  ... -0.212440  0.137763 -0.042228   \n",
       "2     -0.678094 -0.696307  0.296823  ... -0.185209  0.162313 -0.024075   \n",
       "3     -0.678094 -0.696307 -0.697887  ... -0.051455  0.020150 -0.073568   \n",
       "4     -0.481193 -0.116775  0.296823  ... -0.179383  0.158299 -0.097633   \n",
       "...         ...       ...       ...  ...       ...       ...       ...   \n",
       "21582 -0.087390  1.235466  2.087299  ... -0.087380  0.180822 -0.091415   \n",
       "21583 -0.678094 -0.116775 -0.300003  ... -0.095967  0.147775 -0.108850   \n",
       "21584  0.700217 -0.116775 -0.300003  ... -0.083197  0.235958 -0.067154   \n",
       "21585 -0.284291 -0.309953 -0.697887  ... -0.041586  0.228185 -0.060137   \n",
       "21586 -0.678094 -0.696307 -0.697887  ... -0.142646  0.078074  0.077272   \n",
       "\n",
       "             93        94        95        96        97        98        99  \n",
       "0      0.197462  0.159934  0.134166 -0.084717  0.058027  0.233149  0.146704  \n",
       "1      0.076557  0.097435  0.117673 -0.081022  0.041562  0.235905  0.100596  \n",
       "2      0.080504  0.102624  0.079979 -0.165694  0.105364  0.314384  0.118440  \n",
       "3      0.343153  0.258331  0.246874 -0.016653  0.158458  0.133428  0.105987  \n",
       "4      0.092266  0.095512  0.130884 -0.039362  0.080870  0.225688  0.169993  \n",
       "...         ...       ...       ...       ...       ...       ...       ...  \n",
       "21582  0.093610  0.085881  0.134376 -0.136256  0.114941  0.086217  0.114949  \n",
       "21583  0.159752  0.103106  0.166150 -0.158565  0.209097  0.172259  0.031050  \n",
       "21584  0.069837  0.179463  0.112109 -0.186623  0.223913  0.138100  0.103012  \n",
       "21585  0.210461  0.191180  0.128997 -0.136482  0.187943  0.338590 -0.023360  \n",
       "21586 -0.008187  0.155854  0.034956 -0.118188  0.009388  0.233682  0.255791  \n",
       "\n",
       "[21587 rows x 921 columns]"
      ]
     },
     "execution_count": 287,
     "metadata": {},
     "output_type": "execute_result"
    }
   ],
   "source": [
    "X_train_scaled"
   ]
  },
  {
   "cell_type": "code",
   "execution_count": null,
   "metadata": {},
   "outputs": [],
   "source": []
  }
 ],
 "metadata": {
  "kernelspec": {
   "display_name": "Python 3 (ipykernel)",
   "language": "python",
   "name": "python3"
  },
  "language_info": {
   "codemirror_mode": {
    "name": "ipython",
    "version": 3
   },
   "file_extension": ".py",
   "mimetype": "text/x-python",
   "name": "python",
   "nbconvert_exporter": "python",
   "pygments_lexer": "ipython3",
   "version": "3.9.7"
  }
 },
 "nbformat": 4,
 "nbformat_minor": 4
}
