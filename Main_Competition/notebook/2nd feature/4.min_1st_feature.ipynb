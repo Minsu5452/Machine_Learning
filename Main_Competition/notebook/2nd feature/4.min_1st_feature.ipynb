{
 "cells": [
  {
   "cell_type": "markdown",
   "metadata": {},
   "source": [
    "### Imports"
   ]
  },
  {
   "cell_type": "code",
   "execution_count": 41,
   "metadata": {
    "_cell_guid": "79c7e3d0-c299-4dcb-8224-4455121ee9b0",
    "_uuid": "d629ff2d2480ee46fbb7e2d37f6b5fab8052498a"
   },
   "outputs": [],
   "source": [
    "import lightgbm as lgb\n",
    "import numpy as np\n",
    "import pandas as pd\n",
    "from pprint import pprint\n",
    "from sklearn.metrics import log_loss\n",
    "from sklearn.model_selection import StratifiedKFold\n",
    "import seaborn as sns\n",
    "from tensorflow import keras\n",
    "import tensorflow as tf\n",
    "import warnings\n",
    "from tqdm import tqdm, tqdm_notebook\n",
    "from sklearn.model_selection import cross_val_score\n",
    "\n",
    "from sklearn.feature_selection import RFE\n",
    "from sklearn.feature_selection import SelectPercentile\n",
    "import matplotlib.pyplot as plt\n",
    "import matplotlib.font_manager as fm\n",
    "plt.rc('font', family=fm.FontProperties(fname=\"c:/Windows/Fonts/malgun.ttf\").get_name()) # for Windows OS user\n",
    "import datetime\n",
    "import os"
   ]
  },
  {
   "cell_type": "code",
   "execution_count": 42,
   "metadata": {},
   "outputs": [],
   "source": [
    "from sklearn.model_selection import train_test_split\n",
    "from sklearn.metrics import mean_squared_error\n",
    "from xgboost import XGBRegressor\n",
    "from lightgbm import LGBMRegressor\n",
    "from sklearn.ensemble import GradientBoostingRegressor\n",
    "from catboost import CatBoostRegressor\n",
    "from sklearn.linear_model import Ridge\n",
    "from sklearn.linear_model import BayesianRidge\n",
    "from tensorflow import keras\n",
    "from scipy.stats.mstats import gmean\n",
    "from sklearn.ensemble import RandomForestRegressor\n",
    "from sklearn.model_selection import RandomizedSearchCV\n",
    "import sys, warnings\n",
    "if not sys.warnoptions: warnings.simplefilter(\"ignore\")"
   ]
  },
  {
   "cell_type": "code",
   "execution_count": 43,
   "metadata": {},
   "outputs": [],
   "source": [
    "import datetime\n",
    "from sklearn.model_selection import StratifiedKFold, KFold\n",
    "import math"
   ]
  },
  {
   "cell_type": "code",
   "execution_count": 44,
   "metadata": {},
   "outputs": [],
   "source": [
    "from sklearn.decomposition import PCA"
   ]
  },
  {
   "cell_type": "code",
   "execution_count": 45,
   "metadata": {},
   "outputs": [],
   "source": [
    "from sklearn.preprocessing import PowerTransformer, StandardScaler, MinMaxScaler, RobustScaler, QuantileTransformer"
   ]
  },
  {
   "cell_type": "markdown",
   "metadata": {
    "_uuid": "dd7e3527fd56e5b5855c6846ca226f5f860f725b"
   },
   "source": [
    "### Read Data"
   ]
  },
  {
   "cell_type": "code",
   "execution_count": 46,
   "metadata": {},
   "outputs": [],
   "source": [
    "df_y_train_c = pd.read_csv('y_train.csv')"
   ]
  },
  {
   "cell_type": "code",
   "execution_count": 47,
   "metadata": {
    "_uuid": "794123064b09797f51add356a676fb6a7aed015d"
   },
   "outputs": [],
   "source": [
    "df_x_train = pd.read_csv('X_train.csv', encoding='cp949')\n",
    "df_x_test = pd.read_csv('X_test.csv', encoding='cp949')\n",
    "df_y_train = pd.read_csv('y_train.csv')\n",
    "df_y_train['age'] = df_y_train['group'].str[1:].astype(int)\n",
    "IDtrain = pd.DataFrame({'custid': df_x_train.custid.unique()})\n",
    "IDtest = pd.DataFrame({'custid': df_x_test.custid.unique()})"
   ]
  },
  {
   "cell_type": "code",
   "execution_count": 98,
   "metadata": {},
   "outputs": [
    {
     "data": {
      "text/html": [
       "<div>\n",
       "<style scoped>\n",
       "    .dataframe tbody tr th:only-of-type {\n",
       "        vertical-align: middle;\n",
       "    }\n",
       "\n",
       "    .dataframe tbody tr th {\n",
       "        vertical-align: top;\n",
       "    }\n",
       "\n",
       "    .dataframe thead th {\n",
       "        text-align: right;\n",
       "    }\n",
       "</style>\n",
       "<table border=\"1\" class=\"dataframe\">\n",
       "  <thead>\n",
       "    <tr style=\"text-align: right;\">\n",
       "      <th></th>\n",
       "      <th>custid</th>\n",
       "      <th>sales_month</th>\n",
       "      <th>sales_day</th>\n",
       "      <th>sales_dayofweek</th>\n",
       "      <th>sales_time</th>\n",
       "      <th>str_nm</th>\n",
       "      <th>goodcd</th>\n",
       "      <th>brd_nm</th>\n",
       "      <th>corner_nm</th>\n",
       "      <th>pc_nm</th>\n",
       "      <th>part_nm</th>\n",
       "      <th>team_nm</th>\n",
       "      <th>buyer_nm</th>\n",
       "      <th>import_flg</th>\n",
       "      <th>tot_amt</th>\n",
       "      <th>dis_amt</th>\n",
       "      <th>net_amt</th>\n",
       "      <th>inst_mon</th>\n",
       "      <th>inst_fee</th>\n",
       "    </tr>\n",
       "  </thead>\n",
       "  <tbody>\n",
       "    <tr>\n",
       "      <th>0</th>\n",
       "      <td>30001</td>\n",
       "      <td>5</td>\n",
       "      <td>6</td>\n",
       "      <td>토</td>\n",
       "      <td>1703</td>\n",
       "      <td>본점</td>\n",
       "      <td>4220242014400</td>\n",
       "      <td>ELLE</td>\n",
       "      <td>내의</td>\n",
       "      <td>내의란제리</td>\n",
       "      <td>케주얼,구두,아동</td>\n",
       "      <td>의류패션팀</td>\n",
       "      <td>니트단품</td>\n",
       "      <td>0</td>\n",
       "      <td>-64700</td>\n",
       "      <td>-3240</td>\n",
       "      <td>-61460</td>\n",
       "      <td>1</td>\n",
       "      <td>0</td>\n",
       "    </tr>\n",
       "    <tr>\n",
       "      <th>1</th>\n",
       "      <td>30001</td>\n",
       "      <td>5</td>\n",
       "      <td>6</td>\n",
       "      <td>토</td>\n",
       "      <td>1703</td>\n",
       "      <td>본점</td>\n",
       "      <td>4220242014400</td>\n",
       "      <td>ELLE</td>\n",
       "      <td>내의</td>\n",
       "      <td>내의란제리</td>\n",
       "      <td>케주얼,구두,아동</td>\n",
       "      <td>의류패션팀</td>\n",
       "      <td>니트단품</td>\n",
       "      <td>0</td>\n",
       "      <td>63600</td>\n",
       "      <td>3180</td>\n",
       "      <td>60420</td>\n",
       "      <td>1</td>\n",
       "      <td>0</td>\n",
       "    </tr>\n",
       "    <tr>\n",
       "      <th>2</th>\n",
       "      <td>30001</td>\n",
       "      <td>5</td>\n",
       "      <td>21</td>\n",
       "      <td>일</td>\n",
       "      <td>1653</td>\n",
       "      <td>본점</td>\n",
       "      <td>4116900003200</td>\n",
       "      <td>사보</td>\n",
       "      <td>캐쥬얼구두</td>\n",
       "      <td>남여구두</td>\n",
       "      <td>케주얼,구두,아동</td>\n",
       "      <td>의류패션팀</td>\n",
       "      <td>피혁A</td>\n",
       "      <td>0</td>\n",
       "      <td>150000</td>\n",
       "      <td>7500</td>\n",
       "      <td>142500</td>\n",
       "      <td>3</td>\n",
       "      <td>0</td>\n",
       "    </tr>\n",
       "    <tr>\n",
       "      <th>3</th>\n",
       "      <td>30001</td>\n",
       "      <td>5</td>\n",
       "      <td>21</td>\n",
       "      <td>일</td>\n",
       "      <td>1700</td>\n",
       "      <td>본점</td>\n",
       "      <td>4109350003200</td>\n",
       "      <td>탠디</td>\n",
       "      <td>캐쥬얼구두</td>\n",
       "      <td>남여구두</td>\n",
       "      <td>케주얼,구두,아동</td>\n",
       "      <td>의류패션팀</td>\n",
       "      <td>피혁A</td>\n",
       "      <td>0</td>\n",
       "      <td>135000</td>\n",
       "      <td>6750</td>\n",
       "      <td>128250</td>\n",
       "      <td>3</td>\n",
       "      <td>0</td>\n",
       "    </tr>\n",
       "    <tr>\n",
       "      <th>4</th>\n",
       "      <td>30001</td>\n",
       "      <td>5</td>\n",
       "      <td>31</td>\n",
       "      <td>수</td>\n",
       "      <td>1710</td>\n",
       "      <td>본점</td>\n",
       "      <td>4116900003200</td>\n",
       "      <td>사보</td>\n",
       "      <td>캐쥬얼구두</td>\n",
       "      <td>남여구두</td>\n",
       "      <td>케주얼,구두,아동</td>\n",
       "      <td>의류패션팀</td>\n",
       "      <td>피혁A</td>\n",
       "      <td>0</td>\n",
       "      <td>138000</td>\n",
       "      <td>6900</td>\n",
       "      <td>131100</td>\n",
       "      <td>3</td>\n",
       "      <td>0</td>\n",
       "    </tr>\n",
       "    <tr>\n",
       "      <th>...</th>\n",
       "      <td>...</td>\n",
       "      <td>...</td>\n",
       "      <td>...</td>\n",
       "      <td>...</td>\n",
       "      <td>...</td>\n",
       "      <td>...</td>\n",
       "      <td>...</td>\n",
       "      <td>...</td>\n",
       "      <td>...</td>\n",
       "      <td>...</td>\n",
       "      <td>...</td>\n",
       "      <td>...</td>\n",
       "      <td>...</td>\n",
       "      <td>...</td>\n",
       "      <td>...</td>\n",
       "      <td>...</td>\n",
       "      <td>...</td>\n",
       "      <td>...</td>\n",
       "      <td>...</td>\n",
       "    </tr>\n",
       "    <tr>\n",
       "      <th>414950</th>\n",
       "      <td>49993</td>\n",
       "      <td>13</td>\n",
       "      <td>31</td>\n",
       "      <td>수</td>\n",
       "      <td>1750</td>\n",
       "      <td>신촌점</td>\n",
       "      <td>4405551020474</td>\n",
       "      <td>톰키드</td>\n",
       "      <td>아동</td>\n",
       "      <td>아동</td>\n",
       "      <td>아동문화</td>\n",
       "      <td>잡화가용팀</td>\n",
       "      <td>유아동복</td>\n",
       "      <td>0</td>\n",
       "      <td>20000</td>\n",
       "      <td>0</td>\n",
       "      <td>20000</td>\n",
       "      <td>1</td>\n",
       "      <td>0</td>\n",
       "    </tr>\n",
       "    <tr>\n",
       "      <th>414951</th>\n",
       "      <td>49993</td>\n",
       "      <td>13</td>\n",
       "      <td>31</td>\n",
       "      <td>수</td>\n",
       "      <td>1833</td>\n",
       "      <td>신촌점</td>\n",
       "      <td>2139140008300</td>\n",
       "      <td>폴로화장품</td>\n",
       "      <td>향수</td>\n",
       "      <td>화장품</td>\n",
       "      <td>패션잡화</td>\n",
       "      <td>잡화가용팀</td>\n",
       "      <td>화장품</td>\n",
       "      <td>0</td>\n",
       "      <td>70000</td>\n",
       "      <td>3500</td>\n",
       "      <td>66500</td>\n",
       "      <td>1</td>\n",
       "      <td>0</td>\n",
       "    </tr>\n",
       "    <tr>\n",
       "      <th>414952</th>\n",
       "      <td>49994</td>\n",
       "      <td>16</td>\n",
       "      <td>14</td>\n",
       "      <td>토</td>\n",
       "      <td>1750</td>\n",
       "      <td>본점</td>\n",
       "      <td>4230120011274</td>\n",
       "      <td>스테파넬</td>\n",
       "      <td>영트랜드</td>\n",
       "      <td>영트렌디</td>\n",
       "      <td>케주얼,구두,아동</td>\n",
       "      <td>의류패션팀</td>\n",
       "      <td>영캐주얼</td>\n",
       "      <td>0</td>\n",
       "      <td>39000</td>\n",
       "      <td>0</td>\n",
       "      <td>39000</td>\n",
       "      <td>1</td>\n",
       "      <td>0</td>\n",
       "    </tr>\n",
       "    <tr>\n",
       "      <th>414953</th>\n",
       "      <td>49994</td>\n",
       "      <td>16</td>\n",
       "      <td>14</td>\n",
       "      <td>토</td>\n",
       "      <td>1810</td>\n",
       "      <td>본점</td>\n",
       "      <td>4409271026010</td>\n",
       "      <td>써스데이아일앤드</td>\n",
       "      <td>진케주얼</td>\n",
       "      <td>진케주얼</td>\n",
       "      <td>케주얼,구두,아동</td>\n",
       "      <td>의류패션팀</td>\n",
       "      <td>유니캐주얼</td>\n",
       "      <td>0</td>\n",
       "      <td>34200</td>\n",
       "      <td>0</td>\n",
       "      <td>34200</td>\n",
       "      <td>1</td>\n",
       "      <td>0</td>\n",
       "    </tr>\n",
       "    <tr>\n",
       "      <th>414954</th>\n",
       "      <td>49994</td>\n",
       "      <td>16</td>\n",
       "      <td>15</td>\n",
       "      <td>일</td>\n",
       "      <td>1602</td>\n",
       "      <td>무역점</td>\n",
       "      <td>2116052008000</td>\n",
       "      <td>크리니크</td>\n",
       "      <td>수입종합화장품</td>\n",
       "      <td>화장품</td>\n",
       "      <td>명품잡화</td>\n",
       "      <td>잡화가용팀</td>\n",
       "      <td>화장품</td>\n",
       "      <td>1</td>\n",
       "      <td>86000</td>\n",
       "      <td>8600</td>\n",
       "      <td>77400</td>\n",
       "      <td>1</td>\n",
       "      <td>0</td>\n",
       "    </tr>\n",
       "  </tbody>\n",
       "</table>\n",
       "<p>414955 rows × 19 columns</p>\n",
       "</div>"
      ],
      "text/plain": [
       "        custid  sales_month  sales_day sales_dayofweek  sales_time str_nm  \\\n",
       "0        30001            5          6               토        1703     본점   \n",
       "1        30001            5          6               토        1703     본점   \n",
       "2        30001            5         21               일        1653     본점   \n",
       "3        30001            5         21               일        1700     본점   \n",
       "4        30001            5         31               수        1710     본점   \n",
       "...        ...          ...        ...             ...         ...    ...   \n",
       "414950   49993           13         31               수        1750    신촌점   \n",
       "414951   49993           13         31               수        1833    신촌점   \n",
       "414952   49994           16         14               토        1750     본점   \n",
       "414953   49994           16         14               토        1810     본점   \n",
       "414954   49994           16         15               일        1602    무역점   \n",
       "\n",
       "               goodcd    brd_nm corner_nm  pc_nm    part_nm team_nm buyer_nm  \\\n",
       "0       4220242014400      ELLE        내의  내의란제리  케주얼,구두,아동   의류패션팀     니트단품   \n",
       "1       4220242014400      ELLE        내의  내의란제리  케주얼,구두,아동   의류패션팀     니트단품   \n",
       "2       4116900003200        사보     캐쥬얼구두   남여구두  케주얼,구두,아동   의류패션팀      피혁A   \n",
       "3       4109350003200        탠디     캐쥬얼구두   남여구두  케주얼,구두,아동   의류패션팀      피혁A   \n",
       "4       4116900003200        사보     캐쥬얼구두   남여구두  케주얼,구두,아동   의류패션팀      피혁A   \n",
       "...               ...       ...       ...    ...        ...     ...      ...   \n",
       "414950  4405551020474       톰키드        아동     아동       아동문화   잡화가용팀     유아동복   \n",
       "414951  2139140008300     폴로화장품        향수    화장품       패션잡화   잡화가용팀      화장품   \n",
       "414952  4230120011274      스테파넬      영트랜드   영트렌디  케주얼,구두,아동   의류패션팀     영캐주얼   \n",
       "414953  4409271026010  써스데이아일앤드      진케주얼   진케주얼  케주얼,구두,아동   의류패션팀    유니캐주얼   \n",
       "414954  2116052008000      크리니크   수입종합화장품    화장품       명품잡화   잡화가용팀      화장품   \n",
       "\n",
       "        import_flg  tot_amt  dis_amt  net_amt  inst_mon  inst_fee  \n",
       "0                0   -64700    -3240   -61460         1         0  \n",
       "1                0    63600     3180    60420         1         0  \n",
       "2                0   150000     7500   142500         3         0  \n",
       "3                0   135000     6750   128250         3         0  \n",
       "4                0   138000     6900   131100         3         0  \n",
       "...            ...      ...      ...      ...       ...       ...  \n",
       "414950           0    20000        0    20000         1         0  \n",
       "414951           0    70000     3500    66500         1         0  \n",
       "414952           0    39000        0    39000         1         0  \n",
       "414953           0    34200        0    34200         1         0  \n",
       "414954           1    86000     8600    77400         1         0  \n",
       "\n",
       "[414955 rows x 19 columns]"
      ]
     },
     "execution_count": 98,
     "metadata": {},
     "output_type": "execute_result"
    }
   ],
   "source": [
    "df_x_test"
   ]
  },
  {
   "cell_type": "markdown",
   "metadata": {},
   "source": [
    "# log 데이터 전처리"
   ]
  },
  {
   "cell_type": "code",
   "execution_count": 48,
   "metadata": {},
   "outputs": [],
   "source": [
    "tr = pd.concat([df_x_train, df_x_test])\n",
    "tr['real_amt']= tr.tot_amt / tr.inst_mon\n",
    "tr['dist_rate'] = (tr['dis_amt']/tr['tot_amt'])*100"
   ]
  },
  {
   "cell_type": "code",
   "execution_count": 49,
   "metadata": {},
   "outputs": [],
   "source": [
    "id_data = pd.DataFrame({'custid': tr.custid.unique()})"
   ]
  },
  {
   "cell_type": "code",
   "execution_count": 50,
   "metadata": {},
   "outputs": [],
   "source": [
    "tr['sales_hour'] = tr['sales_time']//100\n",
    "tr['sales_min'] = tr['sales_time']%100"
   ]
  },
  {
   "cell_type": "code",
   "execution_count": 51,
   "metadata": {},
   "outputs": [],
   "source": [
    "tr[\"sales_date\"] = np.where(tr[\"sales_month\"] >9 , \n",
    "                            (tr[\"sales_month\"].astype(str)),(\"0\"+tr[\"sales_month\"].astype(str)))\n"
   ]
  },
  {
   "cell_type": "code",
   "execution_count": 52,
   "metadata": {},
   "outputs": [],
   "source": [
    "tr[\"sales_date\"] = np.where(tr[\"sales_day\"]>9,(tr[\"sales_date\"]+tr[\"sales_day\"].astype(str)),\n",
    "                            (tr[\"sales_date\"]+\"0\"+tr[\"sales_day\"].astype(str))\n",
    "                            )"
   ]
  },
  {
   "cell_type": "code",
   "execution_count": 53,
   "metadata": {},
   "outputs": [],
   "source": [
    "tr[\"sales_month\"] = np.where(tr[\"sales_month\"]>12 , tr[\"sales_month\"]-12, tr[\"sales_month\"])"
   ]
  },
  {
   "cell_type": "code",
   "execution_count": 54,
   "metadata": {},
   "outputs": [],
   "source": [
    "tr[\"time\"] = pd.to_datetime(tr.sales_time, format = \"%H%M\")"
   ]
  },
  {
   "cell_type": "code",
   "execution_count": 55,
   "metadata": {},
   "outputs": [],
   "source": [
    "tr[\"refund\"] = np.where(tr[\"net_amt\"]<0,1,0)"
   ]
  },
  {
   "cell_type": "code",
   "execution_count": 56,
   "metadata": {},
   "outputs": [],
   "source": [
    "tr['sales_month_ver1'] = tr['sales_month']\n",
    "tr['sales_month'] = tr['sales_month'].apply(lambda x : x-12 if x > 12 else x )\n",
    "tr['sales_hour'] = tr['sales_time'].apply(lambda x : x//100 )\n",
    "tr['sales_sec'] = tr['sales_time'].apply(lambda x : x%100 )\n",
    "tr['total_sec'] = tr['sales_time'].apply(lambda x : x//100*60 + x%100 )\n",
    "tr['환불여부'] = tr['tot_amt'].apply(lambda x : 1 if x < 0 else 0 )\n",
    "tr['refund'] = tr['tot_amt'].apply(lambda x : abs(x) if x < 0 else 0 )\n",
    "tr['tot_amt'] = tr['tot_amt'] .apply(lambda x : 0 if x < 0 else x )\n",
    "tr['real_amt'] = ( tr['tot_amt'] / tr['inst_mon'] ).apply(lambda x : math.trunc(x)) \n",
    "tr['sales_date'] =tr['sales_month_ver1'].astype(str).apply(lambda x : \"0\"+x if len(x) == 1  else x ) +tr['sales_day'].astype(str).apply(lambda x : \"0\"+x if len(x) == 1 else  x )\n",
    "tr['sales_date'] = tr['sales_date'].astype(int)"
   ]
  },
  {
   "cell_type": "code",
   "execution_count": 57,
   "metadata": {},
   "outputs": [],
   "source": [
    "df = pd.merge(tr, df_y_train_c, on = 'custid')\n",
    "df['age'] = df['group'].str[1:].astype(int)\n",
    "tr['age_group'] = df['age'].apply(lambda x : 'twenty' if (x>=20) & (x<30)\n",
    "                                     else 'thirty' if (x>=30) & (x<40)\n",
    "                                     else 'forty' if (x>=40) & (x<50)\n",
    "                                     else 'fifty' )"
   ]
  },
  {
   "cell_type": "code",
   "execution_count": 58,
   "metadata": {},
   "outputs": [],
   "source": [
    "twenty_prefer_brd = tr[tr['age_group'] == 'twenty'].brd_nm.value_counts().index[1:].to_list()\n",
    "thirty_prefer_brd = tr[tr['age_group'] == 'thirty'].brd_nm.value_counts().index[1:].to_list()\n",
    "forty_prefer_brd = tr[tr['age_group'] == 'forty'].brd_nm.value_counts().index[1:].to_list()\n",
    "fifty_prefer_brd = tr[tr['age_group'] == 'fifty'].brd_nm.value_counts().index[1:].to_list()\n",
    "\n",
    "def prefer_brd(x, list):\n",
    "    for i in range(len(list)):\n",
    "        if(x == list[i]):\n",
    "            return len(list)-i\n",
    "\n",
    "tr['20_weight'] = tr['brd_nm'].apply(lambda x: prefer_brd(x, twenty_prefer_brd)).fillna(0)\n",
    "tr['30_weight'] = tr['brd_nm'].apply(lambda x: prefer_brd(x, thirty_prefer_brd)).fillna(0)\n",
    "tr['40_weight'] = tr['brd_nm'].apply(lambda x: prefer_brd(x, forty_prefer_brd)).fillna(0)\n",
    "tr['50_weight'] = tr['brd_nm'].apply(lambda x: prefer_brd(x, fifty_prefer_brd)).fillna(0)\n"
   ]
  },
  {
   "cell_type": "code",
   "execution_count": 59,
   "metadata": {},
   "outputs": [],
   "source": [
    "tr[\"age_weight_sum\"] = tr['20_weight']+tr['30_weight']+tr['40_weight']+tr['50_weight']"
   ]
  },
  {
   "cell_type": "code",
   "execution_count": 60,
   "metadata": {},
   "outputs": [],
   "source": [
    "tr[\"sales_season\"] = tr['sales_month'].apply(lambda x : 'SPRING' if (x>=3) and (x<=5)\n",
    "                                                  else 'SUMMER' if (x>=6) and (x<=8)\n",
    "                                                  else 'FALL' if (x>=9) and (x<=11)\n",
    "                                                  else 'WINTER')"
   ]
  },
  {
   "cell_type": "code",
   "execution_count": 61,
   "metadata": {},
   "outputs": [],
   "source": [
    "tr['tot_amt>=0'] = tr['tot_amt'].apply(lambda x : x if x>=0 else 0)\n",
    "tr['dis_amt>=0'] = tr['dis_amt'].apply(lambda x : x if x>=0 else 0)\n",
    "tr['net_amt>=0'] = tr['net_amt'].apply(lambda x : x if x>=0 else 0)"
   ]
  },
  {
   "cell_type": "markdown",
   "metadata": {},
   "source": [
    "# features 생성"
   ]
  },
  {
   "cell_type": "code",
   "execution_count": 62,
   "metadata": {},
   "outputs": [],
   "source": [
    "features = []"
   ]
  },
  {
   "cell_type": "code",
   "execution_count": 63,
   "metadata": {},
   "outputs": [],
   "source": [
    "from gensim.models import word2vec\n",
    "import random"
   ]
  },
  {
   "cell_type": "code",
   "execution_count": 64,
   "metadata": {},
   "outputs": [],
   "source": [
    "def oversample(x, n):\n",
    "    lst = []\n",
    "    random.seed(100)\n",
    "    for i in x:\n",
    "        tmp = []\n",
    "        for j in range(n):\n",
    "            random.shuffle(i)\n",
    "            tmp += list(i)\n",
    "            lst.append(tmp)\n",
    "    return lst"
   ]
  },
  {
   "cell_type": "markdown",
   "metadata": {},
   "source": [
    "# W2V goodcd"
   ]
  },
  {
   "cell_type": "code",
   "execution_count": 65,
   "metadata": {},
   "outputs": [],
   "source": [
    "df=tr.reset_index().drop('index',axis=1).copy().reset_index()\n",
    "df['goodcd']=df['goodcd'].astype('str')\n",
    "train_data=list(df.groupby('custid')['goodcd'].unique())"
   ]
  },
  {
   "cell_type": "code",
   "execution_count": 66,
   "metadata": {},
   "outputs": [],
   "source": [
    "w2v_input = oversample(train_data, 5)"
   ]
  },
  {
   "cell_type": "code",
   "execution_count": 67,
   "metadata": {},
   "outputs": [],
   "source": [
    "import gensim"
   ]
  },
  {
   "cell_type": "code",
   "execution_count": 68,
   "metadata": {},
   "outputs": [],
   "source": [
    "w2v = word2vec.Word2Vec(sentences = w2v_input, vector_size = 100, window = 5,workers=6, min_count = 1, sg = 1)"
   ]
  },
  {
   "cell_type": "code",
   "execution_count": 69,
   "metadata": {
    "scrolled": true
   },
   "outputs": [
    {
     "name": "stderr",
     "output_type": "stream",
     "text": [
      "100%|█████████████████████████████████████████████████████████████████████████| 35967/35967 [00:02<00:00, 14379.66it/s]\n"
     ]
    }
   ],
   "source": [
    "train_mean_vector = []\n",
    "for words in tqdm(train_data):\n",
    "    tmp = np.zeros(100)\n",
    "    cnt = 0\n",
    "    for word in words:\n",
    "        tmp += w2v.wv[word]\n",
    "        cnt += 1\n",
    "    tmp /= cnt\n",
    "    train_mean_vector.append(tmp)\n",
    "train_mean_vector = np.array(train_mean_vector)"
   ]
  },
  {
   "cell_type": "code",
   "execution_count": 70,
   "metadata": {},
   "outputs": [],
   "source": [
    "w2v_good= pd.DataFrame(train_mean_vector)"
   ]
  },
  {
   "cell_type": "markdown",
   "metadata": {},
   "source": [
    "# W2V brd_nm"
   ]
  },
  {
   "cell_type": "code",
   "execution_count": 71,
   "metadata": {},
   "outputs": [],
   "source": [
    "df=tr.reset_index().drop('index',axis=1).copy().reset_index()\n",
    "train_data=list(df.groupby('custid')['brd_nm'].unique())"
   ]
  },
  {
   "cell_type": "code",
   "execution_count": 72,
   "metadata": {},
   "outputs": [],
   "source": [
    "w2v_input = oversample(train_data, 5)\n",
    "w2v = word2vec.Word2Vec(sentences = w2v_input, vector_size = 100, window = 5,workers=6, min_count = 1, sg = 1)"
   ]
  },
  {
   "cell_type": "code",
   "execution_count": 73,
   "metadata": {
    "scrolled": true
   },
   "outputs": [
    {
     "name": "stderr",
     "output_type": "stream",
     "text": [
      "100%|█████████████████████████████████████████████████████████████████████████| 35967/35967 [00:02<00:00, 15509.50it/s]\n"
     ]
    }
   ],
   "source": [
    "train_mean_vector = []\n",
    "for words in tqdm(train_data):\n",
    "    tmp = np.zeros(100)\n",
    "    cnt = 0\n",
    "    for word in words:\n",
    "        tmp += w2v.wv[word]\n",
    "        cnt += 1\n",
    "    tmp /= cnt\n",
    "    train_mean_vector.append(tmp)\n",
    "train_mean_vector = np.array(train_mean_vector)"
   ]
  },
  {
   "cell_type": "code",
   "execution_count": 74,
   "metadata": {},
   "outputs": [],
   "source": [
    "w2v_brd = pd.DataFrame(train_mean_vector)"
   ]
  },
  {
   "cell_type": "markdown",
   "metadata": {},
   "source": [
    "# W2V corner_nm"
   ]
  },
  {
   "cell_type": "code",
   "execution_count": 75,
   "metadata": {},
   "outputs": [],
   "source": [
    "df=tr.reset_index().drop('index',axis=1).copy().reset_index()\n",
    "train_data=list(df.groupby('custid')['corner_nm'].unique())"
   ]
  },
  {
   "cell_type": "code",
   "execution_count": 76,
   "metadata": {},
   "outputs": [],
   "source": [
    "w2v_input = oversample(train_data, 5)\n",
    "w2v = word2vec.Word2Vec(sentences = w2v_input, vector_size = 100, window = 5,workers=6, min_count = 1, sg = 1)"
   ]
  },
  {
   "cell_type": "code",
   "execution_count": 77,
   "metadata": {},
   "outputs": [
    {
     "name": "stderr",
     "output_type": "stream",
     "text": [
      "100%|█████████████████████████████████████████████████████████████████████████| 35967/35967 [00:01<00:00, 21174.06it/s]\n"
     ]
    }
   ],
   "source": [
    "train_mean_vector = []\n",
    "for words in tqdm(train_data):\n",
    "    tmp = np.zeros(100)\n",
    "    cnt = 0\n",
    "    for word in words:\n",
    "        tmp += w2v.wv[word]\n",
    "        cnt += 1\n",
    "    tmp /= cnt\n",
    "    train_mean_vector.append(tmp)\n",
    "train_mean_vector = np.array(train_mean_vector)"
   ]
  },
  {
   "cell_type": "code",
   "execution_count": 78,
   "metadata": {},
   "outputs": [],
   "source": [
    "w2v_coner = pd.DataFrame(train_mean_vector)"
   ]
  },
  {
   "cell_type": "markdown",
   "metadata": {},
   "source": [
    "- 환불데이터"
   ]
  },
  {
   "cell_type": "code",
   "execution_count": 79,
   "metadata": {},
   "outputs": [],
   "source": [
    "t = tr.groupby(\"custid\")[\"refund\"].agg([(\"refund_count\",\"sum\")]).reset_index()\n",
    "t[\"refund_bool\"] = np.where(t[\"refund_count\"]>0,1,0)\n",
    "features.append(t)"
   ]
  },
  {
   "cell_type": "markdown",
   "metadata": {},
   "source": [
    "- cn  구매하는 나이"
   ]
  },
  {
   "cell_type": "code",
   "execution_count": 80,
   "metadata": {},
   "outputs": [],
   "source": [
    "data = pd.concat([id_data,df_y_train],axis = 1)\n",
    "data = data.iloc[:len(df_y_train)]"
   ]
  },
  {
   "cell_type": "code",
   "execution_count": 89,
   "metadata": {},
   "outputs": [],
   "source": [
    "data = data.iloc[:,[0,2,3]]"
   ]
  },
  {
   "cell_type": "code",
   "execution_count": 100,
   "metadata": {},
   "outputs": [
    {
     "data": {
      "text/html": [
       "<div>\n",
       "<style scoped>\n",
       "    .dataframe tbody tr th:only-of-type {\n",
       "        vertical-align: middle;\n",
       "    }\n",
       "\n",
       "    .dataframe tbody tr th {\n",
       "        vertical-align: top;\n",
       "    }\n",
       "\n",
       "    .dataframe thead th {\n",
       "        text-align: right;\n",
       "    }\n",
       "</style>\n",
       "<table border=\"1\" class=\"dataframe\">\n",
       "  <thead>\n",
       "    <tr style=\"text-align: right;\">\n",
       "      <th></th>\n",
       "      <th>custid</th>\n",
       "      <th>group</th>\n",
       "      <th>age</th>\n",
       "    </tr>\n",
       "  </thead>\n",
       "  <tbody>\n",
       "    <tr>\n",
       "      <th>0</th>\n",
       "      <td>0</td>\n",
       "      <td>M30</td>\n",
       "      <td>30.0</td>\n",
       "    </tr>\n",
       "    <tr>\n",
       "      <th>1</th>\n",
       "      <td>2</td>\n",
       "      <td>M30</td>\n",
       "      <td>30.0</td>\n",
       "    </tr>\n",
       "    <tr>\n",
       "      <th>2</th>\n",
       "      <td>3</td>\n",
       "      <td>F20</td>\n",
       "      <td>20.0</td>\n",
       "    </tr>\n",
       "    <tr>\n",
       "      <th>3</th>\n",
       "      <td>4</td>\n",
       "      <td>F20</td>\n",
       "      <td>20.0</td>\n",
       "    </tr>\n",
       "    <tr>\n",
       "      <th>4</th>\n",
       "      <td>5</td>\n",
       "      <td>M40</td>\n",
       "      <td>40.0</td>\n",
       "    </tr>\n",
       "    <tr>\n",
       "      <th>...</th>\n",
       "      <td>...</td>\n",
       "      <td>...</td>\n",
       "      <td>...</td>\n",
       "    </tr>\n",
       "    <tr>\n",
       "      <th>21582</th>\n",
       "      <td>29995</td>\n",
       "      <td>M50</td>\n",
       "      <td>50.0</td>\n",
       "    </tr>\n",
       "    <tr>\n",
       "      <th>21583</th>\n",
       "      <td>29996</td>\n",
       "      <td>F20</td>\n",
       "      <td>20.0</td>\n",
       "    </tr>\n",
       "    <tr>\n",
       "      <th>21584</th>\n",
       "      <td>29997</td>\n",
       "      <td>M30</td>\n",
       "      <td>30.0</td>\n",
       "    </tr>\n",
       "    <tr>\n",
       "      <th>21585</th>\n",
       "      <td>29998</td>\n",
       "      <td>F20</td>\n",
       "      <td>20.0</td>\n",
       "    </tr>\n",
       "    <tr>\n",
       "      <th>21586</th>\n",
       "      <td>29999</td>\n",
       "      <td>F20</td>\n",
       "      <td>20.0</td>\n",
       "    </tr>\n",
       "  </tbody>\n",
       "</table>\n",
       "<p>21587 rows × 3 columns</p>\n",
       "</div>"
      ],
      "text/plain": [
       "       custid group   age\n",
       "0           0   M30  30.0\n",
       "1           2   M30  30.0\n",
       "2           3   F20  20.0\n",
       "3           4   F20  20.0\n",
       "4           5   M40  40.0\n",
       "...       ...   ...   ...\n",
       "21582   29995   M50  50.0\n",
       "21583   29996   F20  20.0\n",
       "21584   29997   M30  30.0\n",
       "21585   29998   F20  20.0\n",
       "21586   29999   F20  20.0\n",
       "\n",
       "[21587 rows x 3 columns]"
      ]
     },
     "execution_count": 100,
     "metadata": {},
     "output_type": "execute_result"
    }
   ],
   "source": [
    "data"
   ]
  },
  {
   "cell_type": "code",
   "execution_count": 91,
   "metadata": {},
   "outputs": [],
   "source": [
    "tr_data = pd.merge(tr,data,on=\"custid\")"
   ]
  },
  {
   "cell_type": "code",
   "execution_count": 103,
   "metadata": {},
   "outputs": [],
   "source": [
    "tr_cor_mean = tr_data.groupby(\"corner_nm\")[\"age\"].mean()"
   ]
  },
  {
   "cell_type": "code",
   "execution_count": 104,
   "metadata": {},
   "outputs": [
    {
     "data": {
      "text/plain": [
       "corner_nm\n",
       "DC캐주얼      32.911392\n",
       "GBR  지원    41.000000\n",
       "L/B침구      31.753555\n",
       "N/B침구      32.178030\n",
       "NB제화       31.276596\n",
       "             ...    \n",
       "홈데코        30.836820\n",
       "홈쇼핑        50.000000\n",
       "화장잡화       33.248731\n",
       "화장품        27.070234\n",
       "훼미닌부틱      42.785146\n",
       "Name: age, Length: 308, dtype: float64"
      ]
     },
     "execution_count": 104,
     "metadata": {},
     "output_type": "execute_result"
    }
   ],
   "source": [
    "tr_cor_mean # 주구매 코너를 이걸로 매핑해주자"
   ]
  },
  {
   "cell_type": "markdown",
   "metadata": {},
   "source": [
    "- brd 구매 평균나이"
   ]
  },
  {
   "cell_type": "code",
   "execution_count": 105,
   "metadata": {},
   "outputs": [],
   "source": [
    "tr_brd_mean = tr_data.groupby(\"brd_nm\")[\"age\"].mean()"
   ]
  },
  {
   "cell_type": "markdown",
   "metadata": {},
   "source": [
    "- pc 구매 평균나이"
   ]
  },
  {
   "cell_type": "code",
   "execution_count": 106,
   "metadata": {},
   "outputs": [],
   "source": [
    "tr_pc_mean = tr_data.groupby(\"pc_nm\")[\"age\"].mean()"
   ]
  },
  {
   "cell_type": "markdown",
   "metadata": {},
   "source": [
    "- 주구매 요일 나이평균"
   ]
  },
  {
   "cell_type": "code",
   "execution_count": 107,
   "metadata": {},
   "outputs": [],
   "source": [
    "tr_day_mean = tr_data.groupby(\"sales_dayofweek\")[\"age\"].mean()"
   ]
  },
  {
   "cell_type": "code",
   "execution_count": 108,
   "metadata": {},
   "outputs": [],
   "source": [
    "def refund_check(x):\n",
    "    if x<0:\n",
    "        return x\n",
    "    else:\n",
    "        return 0"
   ]
  },
  {
   "cell_type": "markdown",
   "metadata": {},
   "source": [
    "- 환불 총액, 평균 , 최대"
   ]
  },
  {
   "cell_type": "code",
   "execution_count": 109,
   "metadata": {},
   "outputs": [],
   "source": [
    "copy_df = tr.copy()\n",
    "copy_df[\"tot_amt_refund\"] = copy_df.net_amt.apply(refund_check)\n",
    "t = copy_df.groupby(\"custid\")[\"tot_amt_refund\"].agg([(\"amt_refund\",\"sum\"),\n",
    "                                                    (\"amt_refund_mean\",\"mean\"),\n",
    "                                                    (\"amt_refund_max\",\"min\")]).reset_index()\n",
    "features.append(t)"
   ]
  },
  {
   "cell_type": "markdown",
   "metadata": {},
   "source": [
    "- 최애브랜드 사용수"
   ]
  },
  {
   "cell_type": "code",
   "execution_count": 110,
   "metadata": {},
   "outputs": [],
   "source": [
    "def g(x):\n",
    "    y = x.value_counts()\n",
    "    y = y.iloc[0]\n",
    "    return y\n",
    "\n",
    "f = tr.groupby('custid')['brd_nm'].agg([('love_brd_count', g)]).reset_index()\n",
    "f = f.fillna(0)\n",
    "features.append(f)"
   ]
  },
  {
   "cell_type": "markdown",
   "metadata": {},
   "source": [
    "- 연령대별 브랜드 선호도에 따른 가중치 비율"
   ]
  },
  {
   "cell_type": "code",
   "execution_count": 111,
   "metadata": {},
   "outputs": [],
   "source": [
    "f = tr.groupby('custid')['20_weight', '30_weight', '40_weight', '50_weight', 'age_weight_sum'].sum()\n",
    "\n",
    "f['20_weight_ratio'] = f['20_weight'] / f['age_weight_sum']\n",
    "f['30_weight_ratio'] = f['30_weight'] / f['age_weight_sum']\n",
    "f['40_weight_ratio'] = f['40_weight'] / f['age_weight_sum']\n",
    "f['50_weight_ratio'] = f['50_weight'] / f['age_weight_sum']\n",
    "\n",
    "\n",
    "f = f.fillna(0)\n",
    "features.append(f)"
   ]
  },
  {
   "cell_type": "markdown",
   "metadata": {},
   "source": [
    "- 시간대별 방문횟수"
   ]
  },
  {
   "cell_type": "code",
   "execution_count": 112,
   "metadata": {},
   "outputs": [],
   "source": [
    "t = pd.pivot_table(tr, index='custid', columns='sales_hour', values='tot_amt', \n",
    "                   aggfunc=np.size).fillna(0).astype(int).reset_index()\n",
    "features.append(t)"
   ]
  },
  {
   "cell_type": "markdown",
   "metadata": {},
   "source": [
    "- 시간대별 구매금액"
   ]
  },
  {
   "cell_type": "code",
   "execution_count": 113,
   "metadata": {},
   "outputs": [],
   "source": [
    "t = pd.pivot_table(tr, index='custid', columns='sales_hour', values='tot_amt', \n",
    "                   aggfunc=\"sum\").fillna(0).astype(int).reset_index().drop([0,1,8,9],axis = 1)\n",
    "features.append(t)"
   ]
  },
  {
   "cell_type": "markdown",
   "metadata": {},
   "source": [
    "- 날짜별 방문횟수"
   ]
  },
  {
   "cell_type": "code",
   "execution_count": 114,
   "metadata": {},
   "outputs": [],
   "source": [
    "t = pd.pivot_table(tr, index='custid', columns='sales_day', values='tot_amt', \n",
    "                   aggfunc=np.size).fillna(0).astype(int).reset_index()"
   ]
  },
  {
   "cell_type": "code",
   "execution_count": 115,
   "metadata": {},
   "outputs": [],
   "source": [
    "f = id_data.copy()\n",
    "f[\"month_start\"] = 0\n",
    "f[\"month_mid\"] = 0\n",
    "f[\"month_end\"] = 0 \n",
    "for i in [x for x in range(1,11)]:\n",
    "    f[\"month_start\"] += t[i]\n",
    "    f[\"month_mid\"] += t[i+10]\n",
    "    f[\"month_end\"] += t[i+20]\n",
    "f[\"month_end\"] += t[31]\n",
    "features.append(f)"
   ]
  },
  {
   "cell_type": "markdown",
   "metadata": {},
   "source": [
    "- 날짜별 구매금액"
   ]
  },
  {
   "cell_type": "code",
   "execution_count": 116,
   "metadata": {},
   "outputs": [],
   "source": [
    "t = pd.pivot_table(tr, index='custid', columns='sales_day', values='tot_amt', \n",
    "                   aggfunc=\"sum\").fillna(0).astype(int).reset_index()"
   ]
  },
  {
   "cell_type": "code",
   "execution_count": 117,
   "metadata": {},
   "outputs": [],
   "source": [
    "f = id_data.copy()\n",
    "f[\"month_start\"] = 0\n",
    "f[\"month_mid\"] = 0\n",
    "f[\"month_end\"] = 0 \n",
    "for i in [x for x in range(1,11)]:\n",
    "    f[\"month_start\"] += t[i]\n",
    "    f[\"month_mid\"] += t[i+10]\n",
    "    f[\"month_end\"] += t[i+20]\n",
    "f[\"month_end\"] += t[31]\n",
    "features.append(f)"
   ]
  },
  {
   "cell_type": "markdown",
   "metadata": {},
   "source": [
    "- 월간별 날짜횟수"
   ]
  },
  {
   "cell_type": "code",
   "execution_count": 118,
   "metadata": {},
   "outputs": [],
   "source": [
    "t = pd.pivot_table(tr, index='custid', columns='sales_month', values='tot_amt', \n",
    "                   aggfunc=np.size).fillna(0).astype(int).reset_index()\n",
    "features.append(t)"
   ]
  },
  {
   "cell_type": "markdown",
   "metadata": {},
   "source": [
    "- 월간 구매금액"
   ]
  },
  {
   "cell_type": "code",
   "execution_count": 119,
   "metadata": {},
   "outputs": [],
   "source": [
    "t = pd.pivot_table(tr, index='custid', columns='sales_month', values='tot_amt', \n",
    "                   aggfunc=\"sum\").fillna(0).astype(int).reset_index()\n",
    "features.append(t)"
   ]
  },
  {
   "cell_type": "code",
   "execution_count": 120,
   "metadata": {},
   "outputs": [],
   "source": [
    "#쇼핑시간\n",
    "time_sum = tr.groupby(['sales_date','custid'])['time'].agg([('time', ['min','max'])]).reset_index()\n",
    "time_sum['shopping_time'] = (time_sum['time']['max'] - time_sum['time']['min']).dt.total_seconds()\n",
    "time_sum.drop(['sales_date','time'], axis=1, inplace=True,level=0)\n",
    "time_sum = time_sum.groupby(['custid'])['shopping_time'].agg([('shopping_time_mean','mean')]).reset_index()\n",
    "features.append(time_sum)"
   ]
  },
  {
   "cell_type": "code",
   "execution_count": 121,
   "metadata": {},
   "outputs": [],
   "source": [
    "#평균할인율\n",
    "f = tr.groupby('custid')['dist_rate'].agg([('dis_rate', 'mean')]).reset_index()\n",
    "features.append(f)"
   ]
  },
  {
   "cell_type": "code",
   "execution_count": 122,
   "metadata": {},
   "outputs": [],
   "source": [
    "#평균시간\n",
    "f = tr.groupby(['custid'])['sales_time'].agg([('sales_time', 'mean')]).reset_index()\n",
    "features.append(f)"
   ]
  },
  {
   "cell_type": "code",
   "execution_count": 123,
   "metadata": {},
   "outputs": [],
   "source": [
    "#남성파트\n",
    "df = tr.groupby(['custid','part_nm'])['tot_amt'].agg([('tot_amt_part', 'sum')]).reset_index()\n",
    "df['part_nm'] = np.where(df.part_nm.str.contains('남성'), '남성', '비남성')\n",
    "df = df.pivot_table(values='tot_amt_part', index=df.custid, columns='part_nm', aggfunc='first',fill_value=0).reset_index()\n",
    "df['남성part'] = (df['남성'] / (df['남성'] + df['비남성'])) * 100\n",
    "df = df.fillna(0)\n",
    "features.append(df)"
   ]
  },
  {
   "cell_type": "code",
   "execution_count": 124,
   "metadata": {},
   "outputs": [],
   "source": [
    "#화장품구매비율\n",
    "df = tr.groupby(['custid','corner_nm'])['tot_amt'].agg([('tot_amt_corner', 'sum')]).reset_index()\n",
    "df['corner_nm'] = np.where(df.corner_nm.str.contains('화장품'), '화장품', '비화장품')\n",
    "df = df.pivot_table(values='tot_amt_corner', index=df.custid, columns='corner_nm', aggfunc='first',fill_value=0).reset_index()\n",
    "df['화장품비율'] = (df['화장품'] / (df['화장품'] + df['비화장품'])) * 100\n",
    "df = df.fillna(0)\n",
    "features.append(df)"
   ]
  },
  {
   "cell_type": "code",
   "execution_count": 125,
   "metadata": {},
   "outputs": [],
   "source": [
    "#할부대비평균실구매\n",
    "f = tr.groupby('custid')['real_amt'].agg([('real_amt', 'mean')]).reset_index()\n",
    "features.append(f)"
   ]
  },
  {
   "cell_type": "code",
   "execution_count": 126,
   "metadata": {},
   "outputs": [],
   "source": [
    "#평균구매상품종류\n",
    "df =tr.groupby(['custid','goodcd'])['tot_amt'].agg([('good_count', 'count')]).reset_index()\n",
    "f = df.groupby(['custid'])['good_count'].agg([('good_count_mean', 'mean')]).reset_index()\n",
    "features.append(f)"
   ]
  },
  {
   "cell_type": "code",
   "execution_count": 127,
   "metadata": {},
   "outputs": [],
   "source": [
    "#지역\n",
    "df = tr.groupby(['custid','str_nm'])['tot_amt'].agg([('tot_amt_str', 'sum')]).reset_index()\n",
    "df =df.pivot_table(values='tot_amt_str', index=df.custid, columns='str_nm', aggfunc='first',fill_value=0).reset_index()\n",
    "features.append(df)"
   ]
  },
  {
   "cell_type": "code",
   "execution_count": 128,
   "metadata": {},
   "outputs": [],
   "source": [
    "#팀별\n",
    "df = tr.groupby(['custid','team_nm'])['tot_amt'].agg([('tot_amt_team', 'sum')]).reset_index()\n",
    "df =df.pivot_table(values='tot_amt_team', index=df.custid, columns='team_nm', aggfunc='first',fill_value=0).reset_index()\n",
    "features.append(df)"
   ]
  },
  {
   "cell_type": "code",
   "execution_count": 129,
   "metadata": {},
   "outputs": [],
   "source": [
    "#총구매수입상품\n",
    "df = tr.groupby(['custid'])['import_flg'].agg([('import_flg_sum', 'sum')]).reset_index()\n",
    "features.append(df)"
   ]
  },
  {
   "cell_type": "code",
   "execution_count": 130,
   "metadata": {},
   "outputs": [],
   "source": [
    "#파트\n",
    "df = tr.groupby(['custid','part_nm'])['tot_amt'].agg([('tot_amt_part', 'sum')]).reset_index()\n",
    "df =df.pivot_table(values='tot_amt_part', index=df.custid, columns='part_nm', aggfunc='first',fill_value=0).reset_index()\n",
    "features.append(df)"
   ]
  },
  {
   "cell_type": "code",
   "execution_count": 131,
   "metadata": {},
   "outputs": [],
   "source": [
    "#코너\n",
    "df = tr.groupby(['custid','corner_nm'])['tot_amt'].agg([('tot_amt_corner', 'sum')]).reset_index()\n",
    "df =df.pivot_table(values='tot_amt_corner', index=df.custid, columns='corner_nm', aggfunc='first',fill_value=0).reset_index()\n",
    "features.append(df)"
   ]
  },
  {
   "cell_type": "code",
   "execution_count": 132,
   "metadata": {},
   "outputs": [],
   "source": [
    "#pc\n",
    "df = tr.groupby(['custid','pc_nm'])['tot_amt'].agg([('tot_amt_pc', 'sum')]).reset_index()\n",
    "df =df.pivot_table(values='tot_amt_pc', index=df.custid, columns='pc_nm', aggfunc='first',fill_value=0).reset_index()\n",
    "features.append(df)"
   ]
  },
  {
   "cell_type": "code",
   "execution_count": 133,
   "metadata": {},
   "outputs": [],
   "source": [
    "#총구매액\n",
    "f = tr.groupby('custid')['tot_amt'].agg([('총구매액', 'sum')]).reset_index()\n",
    "features.append(f)"
   ]
  },
  {
   "cell_type": "code",
   "execution_count": 134,
   "metadata": {},
   "outputs": [],
   "source": [
    "#구매건수\n",
    "f = tr.groupby('custid')['tot_amt'].agg([('구매건수', 'size')]).reset_index()\n",
    "features.append(f)"
   ]
  },
  {
   "cell_type": "code",
   "execution_count": 135,
   "metadata": {},
   "outputs": [],
   "source": [
    "#평균구매가격\n",
    "\n",
    "f = tr.groupby('custid')['tot_amt'].agg([('평균구매가격', \"mean\")]).reset_index()\n",
    "features.append(f)"
   ]
  },
  {
   "cell_type": "code",
   "execution_count": 136,
   "metadata": {},
   "outputs": [],
   "source": [
    "#평균할부개월수\n",
    "f = tr.groupby('custid')['inst_mon'].agg([('평균할부개월수', 'mean')]).reset_index()\n",
    "f.iloc[:,1] = f.iloc[:,1].apply(round, args=(1,))\n",
    "features.append(f)"
   ]
  },
  {
   "cell_type": "code",
   "execution_count": 137,
   "metadata": {},
   "outputs": [],
   "source": [
    "#구매상품다양성\n",
    "n = tr.corner_nm.nunique()\n",
    "f = tr.groupby('custid')['brd_nm'].agg([('구매상품다양성', lambda x: len(x.unique()) / n)]).reset_index()\n",
    "features.append(f)"
   ]
  },
  {
   "cell_type": "code",
   "execution_count": 138,
   "metadata": {},
   "outputs": [],
   "source": [
    "#수입상품_구매비율\n",
    "x = tr[tr['import_flg'] == 1].groupby('custid').size() / tr.groupby('custid').size()\n",
    "f = x.reset_index().rename(columns={0: '수입상품_구매비율'}).fillna(0)\n",
    "f.iloc[:,1] = (f.iloc[:,1]*100).apply(round, args=(1,))\n",
    "features.append(f)"
   ]
  },
  {
   "cell_type": "code",
   "execution_count": 139,
   "metadata": {},
   "outputs": [],
   "source": [
    "#일평균구매액\n",
    "test2 = tr.groupby(['sales_date','custid'])['tot_amt'].agg([('day_amt', 'sum')]).reset_index()\n",
    "test2 = test2.groupby(['custid'])['day_amt'].agg([('일평균구매액', 'mean')]).reset_index()\n",
    "features.append(test2)"
   ]
  },
  {
   "cell_type": "code",
   "execution_count": 140,
   "metadata": {},
   "outputs": [],
   "source": [
    "#내점일수 \n",
    "\n",
    "f = tr.groupby(by = 'custid')['sales_time'].agg([('내점일수','nunique')]).reset_index()\n",
    "features.append(f)"
   ]
  },
  {
   "cell_type": "code",
   "execution_count": 141,
   "metadata": {},
   "outputs": [],
   "source": [
    "#일평균구매건\n",
    "df = tr.groupby(['sales_date','custid'])['custid'].agg([('day_visit', 'count')]).reset_index()\n",
    "f = df.groupby(['custid'])['day_visit'].agg([('일평균구매건', 'mean')]).reset_index()\n",
    "features.append(f)"
   ]
  },
  {
   "cell_type": "code",
   "execution_count": 142,
   "metadata": {},
   "outputs": [],
   "source": [
    "#아동상품 구매건수\n",
    "f = tr[tr.tot_amt > 0].groupby('custid')['part_nm'].agg([('baby_sales', lambda x: list(x).count('아동')+list(x).count('케주얼,구두,아동')+list(x).count('아동문화')+list(x).count('아동,스포츠'))]).reset_index()\n",
    "features.append(f)"
   ]
  },
  {
   "cell_type": "code",
   "execution_count": 143,
   "metadata": {},
   "outputs": [],
   "source": [
    "#상위 브랜드 40개의 구매빈도\n",
    "top_brd = tr[\"brd_nm\"].value_counts()[:40].index\n",
    "df = tr.groupby(['custid','brd_nm'])[\"custid\"].agg([('brd_count', 'count')]).reset_index()\n",
    "df =df.pivot_table(values='brd_count', index=df.custid, columns=\"brd_nm\", aggfunc='count',fill_value=0).reset_index()\n",
    "df = pd.concat([df[\"custid\"] ,df[top_brd]],axis= 1)\n",
    "features.append(df)"
   ]
  },
  {
   "cell_type": "code",
   "execution_count": 144,
   "metadata": {},
   "outputs": [],
   "source": [
    "#상위 브랜드 40개의 구매금액\n",
    "df = tr.groupby(['custid','brd_nm'])[\"tot_amt\"].agg([('tot_amt_brd', 'sum')]).reset_index()\n",
    "df =df.pivot_table(values='tot_amt_brd', index=df.custid, columns=\"brd_nm\", aggfunc='sum',fill_value=0).reset_index()\n",
    "df = pd.concat([df[\"custid\"] ,df[top_brd]],axis= 1)\n",
    "features.append(df)"
   ]
  },
  {
   "cell_type": "code",
   "execution_count": 145,
   "metadata": {},
   "outputs": [],
   "source": [
    "#주말방문비율\n",
    "day = {'월' : 0 , '화' : 1 , '수' : 2 , '목' : 3 , '금' : 4 , '토': 5 , '일' : 6 }\n",
    "\n",
    "tr['sales_dayofweek_num'] = tr['sales_dayofweek'].apply(lambda x : day[x] )\n",
    "\n",
    "f = tr.groupby('custid')['sales_dayofweek_num'].agg([\n",
    "    ('주말방문비율', lambda x: np.mean(x >4))]).reset_index()\n",
    "\n",
    "features.append(f)"
   ]
  },
  {
   "cell_type": "code",
   "execution_count": 146,
   "metadata": {},
   "outputs": [],
   "source": [
    "#계절별 구매 건수\n",
    "def season(k):\n",
    "    if 3 <= k <= 5 :\n",
    "        return('봄')\n",
    "    elif 6 <= k <= 8 :\n",
    "        return('여름')\n",
    "    elif 9 <= k <= 11 :    \n",
    "        return('가을')\n",
    "    else :\n",
    "        return('겨울')\n",
    "df = tr.copy()\n",
    "df[\"season\"] = df.sales_month.apply(season)\n",
    "f = pd.pivot_table(df, index='custid', columns='season', values='tot_amt', \n",
    "                   aggfunc=np.size, fill_value=0).reset_index()\n",
    "features.append(f)"
   ]
  },
  {
   "cell_type": "code",
   "execution_count": 147,
   "metadata": {},
   "outputs": [],
   "source": [
    "#계절별 구매 금액\n",
    "df = tr.copy()\n",
    "df[\"season\"] = df.sales_month.apply(season)\n",
    "f = pd.pivot_table(df, index='custid', columns='season', values='tot_amt', \n",
    "                   aggfunc=\"sum\", fill_value=0).reset_index()\n",
    "features.append(f)"
   ]
  },
  {
   "cell_type": "code",
   "execution_count": 148,
   "metadata": {},
   "outputs": [],
   "source": [
    "#아침점심저녁별 구매건수\n",
    "def f2(x):\n",
    "    if 9 <= x <= 12 :\n",
    "        return('아침')\n",
    "    elif 13 <= x <= 16 :\n",
    "        return('점심')\n",
    "    else :\n",
    "        return('저녁')  # datatime 필드가 시간 형식에 맞지 않은 값을 갖는 경우 저녁시간으로 처리\n",
    "df = tr.copy()\n",
    "df[\"goodmea\"] = df.sales_hour.apply(f2)\n",
    "f = pd.pivot_table(df, index='custid', columns='goodmea', values='tot_amt', \n",
    "                   aggfunc=np.size).reset_index()\n",
    "features.append(f)"
   ]
  },
  {
   "cell_type": "code",
   "execution_count": 149,
   "metadata": {},
   "outputs": [],
   "source": [
    "#아침점심저녁별 구매금액\n",
    "df = tr.copy()\n",
    "df[\"goodmea\"] = df.sales_hour.apply(f2)\n",
    "f = pd.pivot_table(df, index='custid', columns='goodmea', values='tot_amt', \n",
    "                   aggfunc=\"sum\").reset_index()\n",
    "features.append(f)"
   ]
  },
  {
   "cell_type": "code",
   "execution_count": 150,
   "metadata": {},
   "outputs": [],
   "source": [
    "#주방문요일\n",
    "f = tr.groupby('custid')['sales_dayofweek'].agg([('주방문요일', lambda x: x.value_counts().index[0])]).reset_index()\n",
    "f = pd.get_dummies(f, columns=['주방문요일'])\n",
    "\n",
    "features.append(f)"
   ]
  },
  {
   "cell_type": "code",
   "execution_count": 151,
   "metadata": {},
   "outputs": [],
   "source": [
    "#평균 쇼핑시간\n",
    "f = tr.groupby('custid')['total_sec'].agg([\n",
    "    ('평균쇼핑시간', lambda x: (x.max() - x.min()) / x.nunique())]).reset_index()\n",
    "\n",
    "features.append(f)"
   ]
  },
  {
   "cell_type": "code",
   "execution_count": 152,
   "metadata": {},
   "outputs": [],
   "source": [
    "#일별 구매건수\n",
    "f = pd.pivot_table(tr, index='custid', columns='sales_day', values='tot_amt', \n",
    "                   aggfunc=np.size).fillna(0).astype(int).reset_index()\n",
    "features.append(f)"
   ]
  },
  {
   "cell_type": "code",
   "execution_count": 153,
   "metadata": {},
   "outputs": [],
   "source": [
    "#일별 구매금액\n",
    "f = pd.pivot_table(tr, index='custid', columns='sales_day', values='tot_amt', \n",
    "                   aggfunc=\"sum\").fillna(0).astype(int).reset_index()\n",
    "features.append(f)"
   ]
  },
  {
   "cell_type": "code",
   "execution_count": 154,
   "metadata": {},
   "outputs": [],
   "source": [
    "#월별 구매건수\n",
    "f = pd.pivot_table(tr, index='custid', columns='sales_month', values='tot_amt', \n",
    "                   aggfunc=np.size).fillna(0).astype(int).reset_index()\n",
    "features.append(f)"
   ]
  },
  {
   "cell_type": "code",
   "execution_count": 155,
   "metadata": {},
   "outputs": [],
   "source": [
    "#월별 구매금액\n",
    "f = pd.pivot_table(tr, index='custid', columns='sales_month', values='tot_amt', \n",
    "                   aggfunc=\"sum\").fillna(0).astype(int).reset_index()\n",
    "features.append(f)"
   ]
  },
  {
   "cell_type": "code",
   "execution_count": 156,
   "metadata": {},
   "outputs": [],
   "source": [
    "data = pd.concat([id_data,df_y_train],axis = 1)\n",
    "data = data.iloc[:len(df_y_train)]"
   ]
  },
  {
   "cell_type": "code",
   "execution_count": 160,
   "metadata": {},
   "outputs": [],
   "source": [
    "data = data.iloc[:,[0,2,3]]"
   ]
  },
  {
   "cell_type": "code",
   "execution_count": 161,
   "metadata": {},
   "outputs": [
    {
     "data": {
      "text/html": [
       "<div>\n",
       "<style scoped>\n",
       "    .dataframe tbody tr th:only-of-type {\n",
       "        vertical-align: middle;\n",
       "    }\n",
       "\n",
       "    .dataframe tbody tr th {\n",
       "        vertical-align: top;\n",
       "    }\n",
       "\n",
       "    .dataframe thead th {\n",
       "        text-align: right;\n",
       "    }\n",
       "</style>\n",
       "<table border=\"1\" class=\"dataframe\">\n",
       "  <thead>\n",
       "    <tr style=\"text-align: right;\">\n",
       "      <th></th>\n",
       "      <th>custid</th>\n",
       "      <th>group</th>\n",
       "      <th>age</th>\n",
       "    </tr>\n",
       "  </thead>\n",
       "  <tbody>\n",
       "    <tr>\n",
       "      <th>0</th>\n",
       "      <td>0</td>\n",
       "      <td>M30</td>\n",
       "      <td>30.0</td>\n",
       "    </tr>\n",
       "    <tr>\n",
       "      <th>1</th>\n",
       "      <td>2</td>\n",
       "      <td>M30</td>\n",
       "      <td>30.0</td>\n",
       "    </tr>\n",
       "    <tr>\n",
       "      <th>2</th>\n",
       "      <td>3</td>\n",
       "      <td>F20</td>\n",
       "      <td>20.0</td>\n",
       "    </tr>\n",
       "    <tr>\n",
       "      <th>3</th>\n",
       "      <td>4</td>\n",
       "      <td>F20</td>\n",
       "      <td>20.0</td>\n",
       "    </tr>\n",
       "    <tr>\n",
       "      <th>4</th>\n",
       "      <td>5</td>\n",
       "      <td>M40</td>\n",
       "      <td>40.0</td>\n",
       "    </tr>\n",
       "    <tr>\n",
       "      <th>...</th>\n",
       "      <td>...</td>\n",
       "      <td>...</td>\n",
       "      <td>...</td>\n",
       "    </tr>\n",
       "    <tr>\n",
       "      <th>21582</th>\n",
       "      <td>29995</td>\n",
       "      <td>M50</td>\n",
       "      <td>50.0</td>\n",
       "    </tr>\n",
       "    <tr>\n",
       "      <th>21583</th>\n",
       "      <td>29996</td>\n",
       "      <td>F20</td>\n",
       "      <td>20.0</td>\n",
       "    </tr>\n",
       "    <tr>\n",
       "      <th>21584</th>\n",
       "      <td>29997</td>\n",
       "      <td>M30</td>\n",
       "      <td>30.0</td>\n",
       "    </tr>\n",
       "    <tr>\n",
       "      <th>21585</th>\n",
       "      <td>29998</td>\n",
       "      <td>F20</td>\n",
       "      <td>20.0</td>\n",
       "    </tr>\n",
       "    <tr>\n",
       "      <th>21586</th>\n",
       "      <td>29999</td>\n",
       "      <td>F20</td>\n",
       "      <td>20.0</td>\n",
       "    </tr>\n",
       "  </tbody>\n",
       "</table>\n",
       "<p>21587 rows × 3 columns</p>\n",
       "</div>"
      ],
      "text/plain": [
       "       custid group   age\n",
       "0           0   M30  30.0\n",
       "1           2   M30  30.0\n",
       "2           3   F20  20.0\n",
       "3           4   F20  20.0\n",
       "4           5   M40  40.0\n",
       "...       ...   ...   ...\n",
       "21582   29995   M50  50.0\n",
       "21583   29996   F20  20.0\n",
       "21584   29997   M30  30.0\n",
       "21585   29998   F20  20.0\n",
       "21586   29999   F20  20.0\n",
       "\n",
       "[21587 rows x 3 columns]"
      ]
     },
     "execution_count": 161,
     "metadata": {},
     "output_type": "execute_result"
    }
   ],
   "source": [
    "data"
   ]
  },
  {
   "cell_type": "code",
   "execution_count": 162,
   "metadata": {},
   "outputs": [],
   "source": [
    "tr_data = pd.merge(tr,data,on=\"custid\")"
   ]
  },
  {
   "cell_type": "code",
   "execution_count": 163,
   "metadata": {},
   "outputs": [],
   "source": [
    "tr_cor_mean = dict(tr_data.groupby(\"corner_nm\")[\"age\"].mean())\n",
    "tr_brd_mean = dict(tr_data.groupby(\"brd_nm\")[\"age\"].mean())\n",
    "tr_pc_mean = dict(tr_data.groupby(\"pc_nm\")[\"age\"].mean())\n",
    "tr_day_mean = dict(tr_data.groupby(\"sales_dayofweek\")[\"age\"].mean())"
   ]
  },
  {
   "cell_type": "code",
   "execution_count": 164,
   "metadata": {},
   "outputs": [],
   "source": [
    "brd_data = tr.groupby(\"custid\")[\"pc_nm\"].agg([(\"pc\",\"first\")])"
   ]
  },
  {
   "cell_type": "code",
   "execution_count": 165,
   "metadata": {},
   "outputs": [],
   "source": [
    "f = brd_data[\"pc\"].apply(lambda x: tr_pc_mean[x])\n",
    "features.append(f)"
   ]
  },
  {
   "cell_type": "code",
   "execution_count": 166,
   "metadata": {},
   "outputs": [],
   "source": [
    "d = tr.groupby(\"custid\")[\"corner_nm\"].agg([(\"cor\",\"first\")])\n",
    "f = d[\"cor\"].apply(lambda x: tr_cor_mean[x])\n",
    "features.append(f)"
   ]
  },
  {
   "cell_type": "code",
   "execution_count": 167,
   "metadata": {},
   "outputs": [],
   "source": [
    "d = tr.groupby(\"custid\")[\"sales_dayofweek\"].agg([(\"day\",\"first\")])\n",
    "f = d[\"day\"].apply(lambda x: tr_day_mean[x])\n",
    "features.append(f)"
   ]
  },
  {
   "cell_type": "code",
   "execution_count": 168,
   "metadata": {},
   "outputs": [
    {
     "data": {
      "text/plain": [
       "(21587, 713)"
      ]
     },
     "metadata": {},
     "output_type": "display_data"
    }
   ],
   "source": [
    "X_train = pd.DataFrame({'custid': df_x_train.custid.unique()})\n",
    "for f in features :\n",
    "    X_train = pd.merge(X_train, f, how='left',on='custid')\n",
    "display(X_train.shape)\n",
    "\n",
    "X_test = pd.DataFrame({'custid': df_x_test.custid.unique()})\n",
    "for f in features :\n",
    "    X_test = pd.merge(X_test, f, how='left',on='custid')"
   ]
  },
  {
   "cell_type": "code",
   "execution_count": 169,
   "metadata": {},
   "outputs": [],
   "source": [
    "X_train['평균내점구매액'] = X_train['총구매액']/X_train['내점일수']\n",
    "X_train['주중방문비율'] = (100 - X_train[\"주말방문비율\"])\n",
    "X_train['국내상품_구매비율'] = (100 - X_train['수입상품_구매비율'])\n",
    "X_train['할부구매가격'] = X_train['평균구매가격'] / X_train['평균할부개월수']\n",
    "X_train['구매상품다양성'] = X_train['총구매액'] / X_train['구매상품다양성']\n",
    "X_train['주말방문수'] = (X_train['주말방문비율'] * X_train['내점일수']) / 100\n",
    "X_train['주말방문수'] = X_train['주말방문수'].astype('int64')\n",
    "X_train['주중방문수'] = X_train['내점일수'] - X_train['주말방문수']\n",
    "X_train['주중방문수'] = X_train['주중방문수'].astype('int64')\n",
    "X_train['내점당편균구매건수'] = X_train['구매건수']/X_train['내점일수']\n",
    "X_train['주중구매액'] = X_train['총구매액']*(X_train['주중방문비율']/100)\n",
    "X_train['주말구매액'] = X_train['총구매액'] - X_train['주중구매액']"
   ]
  },
  {
   "cell_type": "code",
   "execution_count": 170,
   "metadata": {},
   "outputs": [],
   "source": [
    "X_test['평균내점구매액'] = X_test['총구매액']/X_test['내점일수']\n",
    "X_test['주중방문비율'] = (100 - X_test['주말방문비율'])\n",
    "X_test['국내상품_구매비율'] = (100 - X_test['수입상품_구매비율'])\n",
    "X_test['할부구매가격'] = X_test['평균구매가격'] / X_test['평균할부개월수']\n",
    "X_test['구매상품다양성'] = X_test['총구매액'] / X_test['구매상품다양성']\n",
    "X_test['주말방문수'] = (X_test['주말방문비율'] * X_test['내점일수']) / 100\n",
    "X_test['주말방문수'] = X_test['주말방문수'].astype('int64')\n",
    "X_test['주중방문수'] = X_test['내점일수'] - X_test['주말방문수']\n",
    "X_test['주중방문수'] = X_test['주중방문수'].astype('int64')\n",
    "X_test['내점당편균구매건수'] = X_test['구매건수']/X_test['내점일수']\n",
    "X_test['주중구매액'] = X_test['총구매액']*(X_test['주중방문비율']/100)\n",
    "X_test['주말구매액'] = X_test['총구매액'] - X_test['주중구매액']"
   ]
  },
  {
   "cell_type": "code",
   "execution_count": null,
   "metadata": {},
   "outputs": [],
   "source": []
  },
  {
   "cell_type": "code",
   "execution_count": null,
   "metadata": {},
   "outputs": [],
   "source": []
  },
  {
   "cell_type": "code",
   "execution_count": null,
   "metadata": {},
   "outputs": [],
   "source": []
  },
  {
   "cell_type": "markdown",
   "metadata": {},
   "source": [
    "# kmean 클러스터링"
   ]
  },
  {
   "cell_type": "code",
   "execution_count": 171,
   "metadata": {},
   "outputs": [],
   "source": [
    "features__ = X_train.drop(columns='custid',axis=1).fillna(0)\n",
    "features_t__= X_test.drop(columns='custid',axis=1).fillna(0)"
   ]
  },
  {
   "cell_type": "code",
   "execution_count": 174,
   "metadata": {},
   "outputs": [],
   "source": [
    "from sklearn.cluster import KMeans\n",
    "\n",
    "class KMeansFeaturizer:\n",
    "    \"\"\" 숫자 데이터를 k-평균 클러스터 멤버십으로 변환.\n",
    "\n",
    "    이 변환기는 입력 데이터에 k-평균을 수행해 각 데이터 포인트를 가장 가까운 클러스터의 id로 변환한다.\n",
    "    만약 목표 변수가 주어지면 유사한 데이터 포인트와 함께 grouping되고,\n",
    "    분류 경계에 따르는 클러스터를 생성하기 위해 스케일링되고, k-평균 입력에 포함된다.\n",
    "    \"\"\"\n",
    "\n",
    "    def __init__(self, k = 100, target_scale = 5.0, random_state = None):\n",
    "        self.k = k\n",
    "        self.target_scale = target_scale\n",
    "        self.random_state = random_state\n",
    "\n",
    "    def fit(self, X, y = None):\n",
    "        \"\"\" 입력 데이터에 k-평균을 수행하고 중심점을 찾는다.\n",
    "        \"\"\"\n",
    "        if y is None: # 목표 변수가 없으면 단순한 k-평균 수행\n",
    "            km_model = KMeans(n_clusters = self.k, n_init = 20, random_state = self.random_state)\n",
    "            km_model.fit(X)\n",
    "            \n",
    "            self.inertia_ = km_model.inertia_\n",
    "            self.km_model = km_model\n",
    "            self.cluster_centers_ = km_model.cluster_centers_\n",
    "            return self\n",
    "\n",
    "        # 목표 변수가 있으면, 적절한 스케일링을 적용하고, 이를 k-평균에 대한 입력 데이터에 포함시킨다.\n",
    "        data_with_target = np.hstack((X, y[:, np.newaxis] * self.target_scale))\n",
    "        # 데이터와 타겟에 대해 사전 학습할 k-평균 모델 구축\n",
    "        km_model_pretrain = KMeans(n_clusters = self.k, n_init = 20, random_state = self.random_state)\n",
    "        km_model_pretrain.fit(data_with_target)\n",
    "\n",
    "        # k평균을 두번째로 실행해 목표 변수 없이 원시 공간에서 클러스터를 얻는다. 사전 학습을 통해 얻은 중심점을 활용해 초기화한다.\n",
    "        # 반복을 통해 클러스터 할당과 중심점 계산을 다시 수행한다.\n",
    "\n",
    "        km_model = KMeans(n_clusters = self.k, init = km_model_pretrain.cluster_centers_[:,:data_with_target.shape[1]-1], n_init = 1, max_iter = 1)\n",
    "\n",
    "        km_model.fit(X)\n",
    "        \n",
    "        self.inertia_ = km_model.inertia_\n",
    "        self.km_model = km_model\n",
    "        self.cluster_centers_ = km_model.cluster_centers_\n",
    "        return self\n",
    "\n",
    "    def transform(self, X, y = None):\n",
    "        \"\"\" 각 입력 데이터 포인트에 대해 가장 가까운 클러스터 ID 산출\n",
    "        \"\"\"\n",
    "        clusters = self.km_model.predict(X)\n",
    "        return clusters[:, np.newaxis]\n",
    "\n",
    "    def fit_transform(self, X, y = None):\n",
    "        self.fit(X, y)\n",
    "        return self.transform(X, y)"
   ]
  },
  {
   "cell_type": "code",
   "execution_count": 175,
   "metadata": {},
   "outputs": [],
   "source": [
    "kme = KMeansFeaturizer(random_state = 100)"
   ]
  },
  {
   "cell_type": "code",
   "execution_count": 176,
   "metadata": {
    "scrolled": true
   },
   "outputs": [],
   "source": [
    "features_k = kme.fit_transform(features__)"
   ]
  },
  {
   "cell_type": "code",
   "execution_count": 177,
   "metadata": {},
   "outputs": [],
   "source": [
    "features_k_t = kme.transform(features_t__)"
   ]
  },
  {
   "cell_type": "code",
   "execution_count": 178,
   "metadata": {},
   "outputs": [],
   "source": [
    "features_kmean = pd.concat([pd.DataFrame(features_k),pd.DataFrame(features_k_t)],axis = 0).reset_index().drop(\"index\",axis= 1)"
   ]
  },
  {
   "cell_type": "code",
   "execution_count": 179,
   "metadata": {},
   "outputs": [],
   "source": [
    "features_kmean = features_kmean.astype(\"str\")"
   ]
  },
  {
   "cell_type": "code",
   "execution_count": 180,
   "metadata": {},
   "outputs": [],
   "source": [
    "features_k_dum = pd.get_dummies(features_kmean)"
   ]
  },
  {
   "cell_type": "code",
   "execution_count": 181,
   "metadata": {},
   "outputs": [],
   "source": [
    "max_col = features_k_dum.shape[1]\n",
    "pca = PCA(n_components=max_col, random_state=0).fit(features_k_dum)\n",
    "\n",
    "cumsum = np.cumsum(pca.explained_variance_ratio_)\n",
    "num_col = np.argmax(cumsum >= 0.99) + 1\n",
    "\n",
    "\n",
    "if num_col == 1:\n",
    "    num_col = max_col\n",
    "\n",
    "pca = PCA(n_components = num_col, random_state=0).fit_transform(features_k_dum)\n",
    "features_k_dum = pd.DataFrame(pca)"
   ]
  },
  {
   "cell_type": "code",
   "execution_count": 182,
   "metadata": {},
   "outputs": [],
   "source": [
    "features_k_train = features_k_dum[:len(features__)]"
   ]
  },
  {
   "cell_type": "code",
   "execution_count": 183,
   "metadata": {},
   "outputs": [],
   "source": [
    "features_k_test = features_k_dum[len(features__):].reset_index().drop(\"index\",axis = 1)"
   ]
  },
  {
   "cell_type": "code",
   "execution_count": 184,
   "metadata": {},
   "outputs": [],
   "source": [
    "features__ = pd.concat([features__,features_k_train],axis = 1)"
   ]
  },
  {
   "cell_type": "code",
   "execution_count": 185,
   "metadata": {},
   "outputs": [],
   "source": [
    "features_t__ = pd.concat([features_t__,features_k_test],axis = 1)"
   ]
  },
  {
   "cell_type": "code",
   "execution_count": 186,
   "metadata": {},
   "outputs": [],
   "source": [
    "identifier = features__.columns.to_series().groupby(level=0).transform('cumcount')\n",
    "features__.columns = identifier.astype('string')\n",
    "\n",
    "identifier_t = features_t__.columns.to_series().groupby(level=0).transform('cumcount')\n",
    "features_t__.columns = identifier_t.astype('string')"
   ]
  },
  {
   "cell_type": "code",
   "execution_count": 187,
   "metadata": {},
   "outputs": [],
   "source": [
    "identifier = features__.columns.to_series().groupby(level=0).transform('cumcount')\n",
    "features__.columns = features__.columns.astype('string') + identifier.astype('string')\n",
    "\n",
    "identifier_t = features_t__.columns.to_series().groupby(level=0).transform('cumcount')\n",
    "features_t__.columns = features_t__.columns.astype('string') + identifier_t.astype('string')"
   ]
  },
  {
   "cell_type": "markdown",
   "metadata": {},
   "source": [
    "# 1등 피쳐 스케일링"
   ]
  },
  {
   "cell_type": "code",
   "execution_count": 120,
   "metadata": {},
   "outputs": [],
   "source": [
    "#ji = pd.read_csv(os.path.abspath(\"../input\")+\"/지평오빠feature.csv\")\n",
    "#ji_t = pd.read_csv(os.path.abspath(\"../input\")+\"/지평오빠feature_te.csv\")"
   ]
  },
  {
   "cell_type": "code",
   "execution_count": 121,
   "metadata": {},
   "outputs": [],
   "source": [
    "#numeric_columns1 = ji.dtypes[ji.dtypes != 'object'].index.tolist()"
   ]
  },
  {
   "cell_type": "code",
   "execution_count": 122,
   "metadata": {},
   "outputs": [],
   "source": [
    "\"\"\"\n",
    "skewlist1 = []\n",
    "numeric_columns_ns1 = []\n",
    "\n",
    "for i in numeric_columns1:\n",
    "    if 'SKEW' in i:\n",
    "        skewlist1.append(i)\n",
    "    else:\n",
    "        numeric_columns_ns1.append(i)\n",
    "\"\"\""
   ]
  },
  {
   "cell_type": "code",
   "execution_count": 123,
   "metadata": {},
   "outputs": [],
   "source": [
    "\"\"\"\n",
    "from sklearn.preprocessing import StandardScaler\n",
    "scaler = StandardScaler()\n",
    "ji[numeric_columns1] = scaler.fit_transform(ji[numeric_columns1])\n",
    "ji_t[numeric_columns1] = scaler.transform(ji_t[numeric_columns1])\n",
    "\"\"\""
   ]
  },
  {
   "cell_type": "markdown",
   "metadata": {},
   "source": [
    "# 마이피쳐 스케일링"
   ]
  },
  {
   "cell_type": "code",
   "execution_count": 188,
   "metadata": {},
   "outputs": [],
   "source": [
    "numeric_columns2 = features__.dtypes[features__.dtypes != 'object'].index.tolist()"
   ]
  },
  {
   "cell_type": "code",
   "execution_count": 189,
   "metadata": {},
   "outputs": [],
   "source": [
    "skewlist2 = []\n",
    "numeric_columns_ns2 = []\n",
    "\n",
    "for i in numeric_columns2:\n",
    "    if 'SKEW' in i:\n",
    "        skewlist2.append(i)\n",
    "    else:\n",
    "        numeric_columns_ns2.append(i)"
   ]
  },
  {
   "cell_type": "code",
   "execution_count": 190,
   "metadata": {},
   "outputs": [],
   "source": [
    "from sklearn.preprocessing import StandardScaler"
   ]
  },
  {
   "cell_type": "code",
   "execution_count": 195,
   "metadata": {},
   "outputs": [],
   "source": [
    "scaler = StandardScaler()\n",
    "X = pd.concat([features__,features_t__])\n",
    "X[numeric_columns2] = scaler.fit_transform(X[numeric_columns2])"
   ]
  },
  {
   "cell_type": "code",
   "execution_count": 126,
   "metadata": {},
   "outputs": [],
   "source": [
    "\"\"\"\n",
    "from sklearn.preprocessing import StandardScaler\n",
    "scaler = StandardScaler()\n",
    "features__[numeric_columns2] = scaler.fit_transform(features__[numeric_columns2])\n",
    "features_t__[numeric_columns2] = scaler.transform(features_t__[numeric_columns2])\n",
    "\"\"\""
   ]
  },
  {
   "cell_type": "code",
   "execution_count": 197,
   "metadata": {},
   "outputs": [
    {
     "data": {
      "text/html": [
       "<div>\n",
       "<style scoped>\n",
       "    .dataframe tbody tr th:only-of-type {\n",
       "        vertical-align: middle;\n",
       "    }\n",
       "\n",
       "    .dataframe tbody tr th {\n",
       "        vertical-align: top;\n",
       "    }\n",
       "\n",
       "    .dataframe thead th {\n",
       "        text-align: right;\n",
       "    }\n",
       "</style>\n",
       "<table border=\"1\" class=\"dataframe\">\n",
       "  <thead>\n",
       "    <tr style=\"text-align: right;\">\n",
       "      <th></th>\n",
       "      <th>00</th>\n",
       "      <th>01</th>\n",
       "      <th>02</th>\n",
       "      <th>03</th>\n",
       "      <th>04</th>\n",
       "      <th>05</th>\n",
       "      <th>06</th>\n",
       "      <th>07</th>\n",
       "      <th>08</th>\n",
       "      <th>09</th>\n",
       "      <th>...</th>\n",
       "      <th>0687</th>\n",
       "      <th>0688</th>\n",
       "      <th>0689</th>\n",
       "      <th>0690</th>\n",
       "      <th>0691</th>\n",
       "      <th>0692</th>\n",
       "      <th>0693</th>\n",
       "      <th>0694</th>\n",
       "      <th>0695</th>\n",
       "      <th>0696</th>\n",
       "    </tr>\n",
       "  </thead>\n",
       "  <tbody>\n",
       "    <tr>\n",
       "      <th>0</th>\n",
       "      <td>-0.323552</td>\n",
       "      <td>-1.069081</td>\n",
       "      <td>0.323583</td>\n",
       "      <td>0.397445</td>\n",
       "      <td>0.316357</td>\n",
       "      <td>-0.278719</td>\n",
       "      <td>-0.436272</td>\n",
       "      <td>-0.440398</td>\n",
       "      <td>-0.441026</td>\n",
       "      <td>-0.427950</td>\n",
       "      <td>...</td>\n",
       "      <td>-0.026189</td>\n",
       "      <td>-0.039479</td>\n",
       "      <td>-2.022331e-08</td>\n",
       "      <td>-0.013704</td>\n",
       "      <td>-0.013424</td>\n",
       "      <td>-0.023435</td>\n",
       "      <td>-0.034805</td>\n",
       "      <td>-0.018872</td>\n",
       "      <td>-0.029333</td>\n",
       "      <td>-0.020232</td>\n",
       "    </tr>\n",
       "    <tr>\n",
       "      <th>1</th>\n",
       "      <td>1.095300</td>\n",
       "      <td>0.935383</td>\n",
       "      <td>-1.114245</td>\n",
       "      <td>-5.945645</td>\n",
       "      <td>-1.906480</td>\n",
       "      <td>-0.353342</td>\n",
       "      <td>-0.447218</td>\n",
       "      <td>-0.448054</td>\n",
       "      <td>-0.443736</td>\n",
       "      <td>-0.439160</td>\n",
       "      <td>...</td>\n",
       "      <td>18.978876</td>\n",
       "      <td>-8.002591</td>\n",
       "      <td>-4.722028e-06</td>\n",
       "      <td>-1.399423</td>\n",
       "      <td>-1.079595</td>\n",
       "      <td>-1.051805</td>\n",
       "      <td>-0.977831</td>\n",
       "      <td>-0.488823</td>\n",
       "      <td>-0.661692</td>\n",
       "      <td>-0.433071</td>\n",
       "    </tr>\n",
       "    <tr>\n",
       "      <th>2</th>\n",
       "      <td>0.209792</td>\n",
       "      <td>0.935383</td>\n",
       "      <td>-0.202216</td>\n",
       "      <td>-0.453076</td>\n",
       "      <td>-0.609746</td>\n",
       "      <td>-0.353342</td>\n",
       "      <td>0.151581</td>\n",
       "      <td>0.140264</td>\n",
       "      <td>0.155090</td>\n",
       "      <td>0.119534</td>\n",
       "      <td>...</td>\n",
       "      <td>-0.008668</td>\n",
       "      <td>-0.013122</td>\n",
       "      <td>-6.942517e-09</td>\n",
       "      <td>-0.004570</td>\n",
       "      <td>-0.004485</td>\n",
       "      <td>-0.007881</td>\n",
       "      <td>-0.011812</td>\n",
       "      <td>-0.006418</td>\n",
       "      <td>-0.010015</td>\n",
       "      <td>-0.006919</td>\n",
       "    </tr>\n",
       "    <tr>\n",
       "      <th>3</th>\n",
       "      <td>-0.323552</td>\n",
       "      <td>-1.069081</td>\n",
       "      <td>0.323583</td>\n",
       "      <td>0.397445</td>\n",
       "      <td>0.316357</td>\n",
       "      <td>-0.502589</td>\n",
       "      <td>-0.796968</td>\n",
       "      <td>-0.796618</td>\n",
       "      <td>-0.796793</td>\n",
       "      <td>-0.799234</td>\n",
       "      <td>...</td>\n",
       "      <td>-0.026189</td>\n",
       "      <td>-0.039479</td>\n",
       "      <td>-2.022330e-08</td>\n",
       "      <td>-0.013704</td>\n",
       "      <td>-0.013424</td>\n",
       "      <td>-0.023435</td>\n",
       "      <td>-0.034805</td>\n",
       "      <td>-0.018872</td>\n",
       "      <td>-0.029333</td>\n",
       "      <td>-0.020232</td>\n",
       "    </tr>\n",
       "    <tr>\n",
       "      <th>4</th>\n",
       "      <td>-0.323552</td>\n",
       "      <td>-1.069081</td>\n",
       "      <td>0.323583</td>\n",
       "      <td>0.397445</td>\n",
       "      <td>0.316357</td>\n",
       "      <td>-0.204095</td>\n",
       "      <td>0.204780</td>\n",
       "      <td>0.206993</td>\n",
       "      <td>0.221322</td>\n",
       "      <td>0.241479</td>\n",
       "      <td>...</td>\n",
       "      <td>-0.033832</td>\n",
       "      <td>-0.050907</td>\n",
       "      <td>-2.574278e-08</td>\n",
       "      <td>-0.017646</td>\n",
       "      <td>-0.017272</td>\n",
       "      <td>-0.030067</td>\n",
       "      <td>-0.044483</td>\n",
       "      <td>-0.024099</td>\n",
       "      <td>-0.037395</td>\n",
       "      <td>-0.025776</td>\n",
       "    </tr>\n",
       "    <tr>\n",
       "      <th>...</th>\n",
       "      <td>...</td>\n",
       "      <td>...</td>\n",
       "      <td>...</td>\n",
       "      <td>...</td>\n",
       "      <td>...</td>\n",
       "      <td>...</td>\n",
       "      <td>...</td>\n",
       "      <td>...</td>\n",
       "      <td>...</td>\n",
       "      <td>...</td>\n",
       "      <td>...</td>\n",
       "      <td>...</td>\n",
       "      <td>...</td>\n",
       "      <td>...</td>\n",
       "      <td>...</td>\n",
       "      <td>...</td>\n",
       "      <td>...</td>\n",
       "      <td>...</td>\n",
       "      <td>...</td>\n",
       "      <td>...</td>\n",
       "      <td>...</td>\n",
       "    </tr>\n",
       "    <tr>\n",
       "      <th>14375</th>\n",
       "      <td>-0.323552</td>\n",
       "      <td>-1.069081</td>\n",
       "      <td>0.323583</td>\n",
       "      <td>0.397445</td>\n",
       "      <td>0.316357</td>\n",
       "      <td>-0.502589</td>\n",
       "      <td>-0.782550</td>\n",
       "      <td>-0.768118</td>\n",
       "      <td>-0.771346</td>\n",
       "      <td>-0.781234</td>\n",
       "      <td>...</td>\n",
       "      <td>-0.010971</td>\n",
       "      <td>-0.016599</td>\n",
       "      <td>-8.742721e-09</td>\n",
       "      <td>-0.005778</td>\n",
       "      <td>-0.005669</td>\n",
       "      <td>-0.009954</td>\n",
       "      <td>-0.014900</td>\n",
       "      <td>-0.008094</td>\n",
       "      <td>-0.012623</td>\n",
       "      <td>-0.008719</td>\n",
       "    </tr>\n",
       "    <tr>\n",
       "      <th>14376</th>\n",
       "      <td>-0.323552</td>\n",
       "      <td>-1.069081</td>\n",
       "      <td>0.323583</td>\n",
       "      <td>0.397445</td>\n",
       "      <td>0.316357</td>\n",
       "      <td>-0.502589</td>\n",
       "      <td>-0.889031</td>\n",
       "      <td>-0.884454</td>\n",
       "      <td>-0.883350</td>\n",
       "      <td>-0.881957</td>\n",
       "      <td>...</td>\n",
       "      <td>-0.018774</td>\n",
       "      <td>-0.028351</td>\n",
       "      <td>-1.471581e-08</td>\n",
       "      <td>-0.009855</td>\n",
       "      <td>-0.009661</td>\n",
       "      <td>-0.016913</td>\n",
       "      <td>-0.025214</td>\n",
       "      <td>-0.013683</td>\n",
       "      <td>-0.021302</td>\n",
       "      <td>-0.014703</td>\n",
       "    </tr>\n",
       "    <tr>\n",
       "      <th>14377</th>\n",
       "      <td>-0.323552</td>\n",
       "      <td>-1.069081</td>\n",
       "      <td>0.323583</td>\n",
       "      <td>0.397445</td>\n",
       "      <td>0.316357</td>\n",
       "      <td>-0.502589</td>\n",
       "      <td>-0.854250</td>\n",
       "      <td>-0.849032</td>\n",
       "      <td>-0.848337</td>\n",
       "      <td>-0.845273</td>\n",
       "      <td>...</td>\n",
       "      <td>-0.007558</td>\n",
       "      <td>-0.011445</td>\n",
       "      <td>-6.068004e-09</td>\n",
       "      <td>-0.003986</td>\n",
       "      <td>-0.003912</td>\n",
       "      <td>-0.006879</td>\n",
       "      <td>-0.010315</td>\n",
       "      <td>-0.005606</td>\n",
       "      <td>-0.008749</td>\n",
       "      <td>-0.006045</td>\n",
       "    </tr>\n",
       "    <tr>\n",
       "      <th>14378</th>\n",
       "      <td>-0.323552</td>\n",
       "      <td>-1.069081</td>\n",
       "      <td>0.323583</td>\n",
       "      <td>0.397445</td>\n",
       "      <td>0.316357</td>\n",
       "      <td>-0.427966</td>\n",
       "      <td>-0.854639</td>\n",
       "      <td>-0.842713</td>\n",
       "      <td>-0.845437</td>\n",
       "      <td>-0.851948</td>\n",
       "      <td>...</td>\n",
       "      <td>-0.008866</td>\n",
       "      <td>-0.013421</td>\n",
       "      <td>-7.097783e-09</td>\n",
       "      <td>-0.004674</td>\n",
       "      <td>-0.004586</td>\n",
       "      <td>-0.008060</td>\n",
       "      <td>-0.012078</td>\n",
       "      <td>-0.006562</td>\n",
       "      <td>-0.010239</td>\n",
       "      <td>-0.007074</td>\n",
       "    </tr>\n",
       "    <tr>\n",
       "      <th>14379</th>\n",
       "      <td>-0.323552</td>\n",
       "      <td>-1.069081</td>\n",
       "      <td>0.323583</td>\n",
       "      <td>0.397445</td>\n",
       "      <td>0.316357</td>\n",
       "      <td>-0.502589</td>\n",
       "      <td>-0.801996</td>\n",
       "      <td>-0.798821</td>\n",
       "      <td>-0.796251</td>\n",
       "      <td>-0.795497</td>\n",
       "      <td>...</td>\n",
       "      <td>-0.008866</td>\n",
       "      <td>-0.013421</td>\n",
       "      <td>-7.097783e-09</td>\n",
       "      <td>-0.004674</td>\n",
       "      <td>-0.004586</td>\n",
       "      <td>-0.008060</td>\n",
       "      <td>-0.012078</td>\n",
       "      <td>-0.006562</td>\n",
       "      <td>-0.010239</td>\n",
       "      <td>-0.007074</td>\n",
       "    </tr>\n",
       "  </tbody>\n",
       "</table>\n",
       "<p>35967 rows × 775 columns</p>\n",
       "</div>"
      ],
      "text/plain": [
       "           00        01        02        03        04        05        06    \\\n",
       "0     -0.323552 -1.069081  0.323583  0.397445  0.316357 -0.278719 -0.436272   \n",
       "1      1.095300  0.935383 -1.114245 -5.945645 -1.906480 -0.353342 -0.447218   \n",
       "2      0.209792  0.935383 -0.202216 -0.453076 -0.609746 -0.353342  0.151581   \n",
       "3     -0.323552 -1.069081  0.323583  0.397445  0.316357 -0.502589 -0.796968   \n",
       "4     -0.323552 -1.069081  0.323583  0.397445  0.316357 -0.204095  0.204780   \n",
       "...         ...       ...       ...       ...       ...       ...       ...   \n",
       "14375 -0.323552 -1.069081  0.323583  0.397445  0.316357 -0.502589 -0.782550   \n",
       "14376 -0.323552 -1.069081  0.323583  0.397445  0.316357 -0.502589 -0.889031   \n",
       "14377 -0.323552 -1.069081  0.323583  0.397445  0.316357 -0.502589 -0.854250   \n",
       "14378 -0.323552 -1.069081  0.323583  0.397445  0.316357 -0.427966 -0.854639   \n",
       "14379 -0.323552 -1.069081  0.323583  0.397445  0.316357 -0.502589 -0.801996   \n",
       "\n",
       "           07        08        09    ...       0687      0688          0689  \\\n",
       "0     -0.440398 -0.441026 -0.427950  ...  -0.026189 -0.039479 -2.022331e-08   \n",
       "1     -0.448054 -0.443736 -0.439160  ...  18.978876 -8.002591 -4.722028e-06   \n",
       "2      0.140264  0.155090  0.119534  ...  -0.008668 -0.013122 -6.942517e-09   \n",
       "3     -0.796618 -0.796793 -0.799234  ...  -0.026189 -0.039479 -2.022330e-08   \n",
       "4      0.206993  0.221322  0.241479  ...  -0.033832 -0.050907 -2.574278e-08   \n",
       "...         ...       ...       ...  ...        ...       ...           ...   \n",
       "14375 -0.768118 -0.771346 -0.781234  ...  -0.010971 -0.016599 -8.742721e-09   \n",
       "14376 -0.884454 -0.883350 -0.881957  ...  -0.018774 -0.028351 -1.471581e-08   \n",
       "14377 -0.849032 -0.848337 -0.845273  ...  -0.007558 -0.011445 -6.068004e-09   \n",
       "14378 -0.842713 -0.845437 -0.851948  ...  -0.008866 -0.013421 -7.097783e-09   \n",
       "14379 -0.798821 -0.796251 -0.795497  ...  -0.008866 -0.013421 -7.097783e-09   \n",
       "\n",
       "           0690      0691      0692      0693      0694      0695      0696  \n",
       "0     -0.013704 -0.013424 -0.023435 -0.034805 -0.018872 -0.029333 -0.020232  \n",
       "1     -1.399423 -1.079595 -1.051805 -0.977831 -0.488823 -0.661692 -0.433071  \n",
       "2     -0.004570 -0.004485 -0.007881 -0.011812 -0.006418 -0.010015 -0.006919  \n",
       "3     -0.013704 -0.013424 -0.023435 -0.034805 -0.018872 -0.029333 -0.020232  \n",
       "4     -0.017646 -0.017272 -0.030067 -0.044483 -0.024099 -0.037395 -0.025776  \n",
       "...         ...       ...       ...       ...       ...       ...       ...  \n",
       "14375 -0.005778 -0.005669 -0.009954 -0.014900 -0.008094 -0.012623 -0.008719  \n",
       "14376 -0.009855 -0.009661 -0.016913 -0.025214 -0.013683 -0.021302 -0.014703  \n",
       "14377 -0.003986 -0.003912 -0.006879 -0.010315 -0.005606 -0.008749 -0.006045  \n",
       "14378 -0.004674 -0.004586 -0.008060 -0.012078 -0.006562 -0.010239 -0.007074  \n",
       "14379 -0.004674 -0.004586 -0.008060 -0.012078 -0.006562 -0.010239 -0.007074  \n",
       "\n",
       "[35967 rows x 775 columns]"
      ]
     },
     "execution_count": 197,
     "metadata": {},
     "output_type": "execute_result"
    }
   ],
   "source": [
    "X[numeric_columns_ns2]"
   ]
  },
  {
   "cell_type": "code",
   "execution_count": 198,
   "metadata": {},
   "outputs": [
    {
     "data": {
      "text/html": [
       "<div>\n",
       "<style scoped>\n",
       "    .dataframe tbody tr th:only-of-type {\n",
       "        vertical-align: middle;\n",
       "    }\n",
       "\n",
       "    .dataframe tbody tr th {\n",
       "        vertical-align: top;\n",
       "    }\n",
       "\n",
       "    .dataframe thead th {\n",
       "        text-align: right;\n",
       "    }\n",
       "</style>\n",
       "<table border=\"1\" class=\"dataframe\">\n",
       "  <thead>\n",
       "    <tr style=\"text-align: right;\">\n",
       "      <th></th>\n",
       "    </tr>\n",
       "  </thead>\n",
       "  <tbody>\n",
       "    <tr>\n",
       "      <th>0</th>\n",
       "    </tr>\n",
       "    <tr>\n",
       "      <th>1</th>\n",
       "    </tr>\n",
       "    <tr>\n",
       "      <th>2</th>\n",
       "    </tr>\n",
       "    <tr>\n",
       "      <th>3</th>\n",
       "    </tr>\n",
       "    <tr>\n",
       "      <th>4</th>\n",
       "    </tr>\n",
       "    <tr>\n",
       "      <th>...</th>\n",
       "    </tr>\n",
       "    <tr>\n",
       "      <th>14375</th>\n",
       "    </tr>\n",
       "    <tr>\n",
       "      <th>14376</th>\n",
       "    </tr>\n",
       "    <tr>\n",
       "      <th>14377</th>\n",
       "    </tr>\n",
       "    <tr>\n",
       "      <th>14378</th>\n",
       "    </tr>\n",
       "    <tr>\n",
       "      <th>14379</th>\n",
       "    </tr>\n",
       "  </tbody>\n",
       "</table>\n",
       "<p>35967 rows × 0 columns</p>\n",
       "</div>"
      ],
      "text/plain": [
       "Empty DataFrame\n",
       "Columns: []\n",
       "Index: [0, 1, 2, 3, 4, 5, 6, 7, 8, 9, 10, 11, 12, 13, 14, 15, 16, 17, 18, 19, 20, 21, 22, 23, 24, 25, 26, 27, 28, 29, 30, 31, 32, 33, 34, 35, 36, 37, 38, 39, 40, 41, 42, 43, 44, 45, 46, 47, 48, 49, 50, 51, 52, 53, 54, 55, 56, 57, 58, 59, 60, 61, 62, 63, 64, 65, 66, 67, 68, 69, 70, 71, 72, 73, 74, 75, 76, 77, 78, 79, 80, 81, 82, 83, 84, 85, 86, 87, 88, 89, 90, 91, 92, 93, 94, 95, 96, 97, 98, 99, ...]\n",
       "\n",
       "[35967 rows x 0 columns]"
      ]
     },
     "execution_count": 198,
     "metadata": {},
     "output_type": "execute_result"
    }
   ],
   "source": [
    "X[skewlist2]"
   ]
  },
  {
   "cell_type": "code",
   "execution_count": 193,
   "metadata": {},
   "outputs": [
    {
     "data": {
      "text/plain": [
       "array([[-0.32355188, -1.0690808 ,  0.32358271, ..., -0.01887249,\n",
       "        -0.02933255, -0.02023241],\n",
       "       [ 1.09529969,  0.935383  , -1.11424512, ..., -0.48882288,\n",
       "        -0.66169209, -0.4330707 ],\n",
       "       [ 0.20979217,  0.935383  , -0.20221646, ..., -0.00641797,\n",
       "        -0.01001452, -0.00691882],\n",
       "       ...,\n",
       "       [-0.32355188, -1.0690808 ,  0.32358271, ..., -0.00560557,\n",
       "        -0.00874913, -0.00604523],\n",
       "       [-0.32355188, -1.0690808 ,  0.32358271, ..., -0.00656232,\n",
       "        -0.0102393 , -0.00707399],\n",
       "       [-0.32355188, -1.0690808 ,  0.32358271, ..., -0.00656232,\n",
       "        -0.0102393 , -0.00707399]])"
      ]
     },
     "execution_count": 193,
     "metadata": {},
     "output_type": "execute_result"
    }
   ],
   "source": [
    "ALL = pd.DataFrame(X_all,columns=X_columns)\n",
    "X_train_scaled = ALL[:21587]\n",
    "X_test_scaled = ALL[21587:].reset_index().iloc[:,1:]"
   ]
  },
  {
   "cell_type": "markdown",
   "metadata": {},
   "source": [
    "# 마이피쳐 + 1st 피쳐 병합"
   ]
  },
  {
   "cell_type": "code",
   "execution_count": 127,
   "metadata": {},
   "outputs": [],
   "source": [
    "data = pd.concat([ji[numeric_columns_ns1],ji[skewlist1], features__[numeric_columns_ns2], features__[skewlist2] ], axis=1)\n",
    "\n",
    "features_t__.index = ji_t.index\n",
    "data_te = pd.concat([ji_t[numeric_columns_ns1],ji_t[skewlist1] , features_t__[numeric_columns_ns2], features_t__[skewlist2] ], axis=1)"
   ]
  },
  {
   "cell_type": "markdown",
   "metadata": {},
   "source": [
    "# 워드투벡 병합"
   ]
  },
  {
   "cell_type": "code",
   "execution_count": 199,
   "metadata": {},
   "outputs": [],
   "source": [
    "w2v_list = [w2v_good,w2v_coner,w2v_brd]"
   ]
  },
  {
   "cell_type": "code",
   "execution_count": 200,
   "metadata": {},
   "outputs": [],
   "source": [
    "data_all = X"
   ]
  },
  {
   "cell_type": "code",
   "execution_count": 205,
   "metadata": {},
   "outputs": [
    {
     "data": {
      "text/html": [
       "<div>\n",
       "<style scoped>\n",
       "    .dataframe tbody tr th:only-of-type {\n",
       "        vertical-align: middle;\n",
       "    }\n",
       "\n",
       "    .dataframe tbody tr th {\n",
       "        vertical-align: top;\n",
       "    }\n",
       "\n",
       "    .dataframe thead th {\n",
       "        text-align: right;\n",
       "    }\n",
       "</style>\n",
       "<table border=\"1\" class=\"dataframe\">\n",
       "  <thead>\n",
       "    <tr style=\"text-align: right;\">\n",
       "      <th></th>\n",
       "      <th>00</th>\n",
       "      <th>01</th>\n",
       "      <th>02</th>\n",
       "      <th>03</th>\n",
       "      <th>04</th>\n",
       "      <th>05</th>\n",
       "      <th>06</th>\n",
       "      <th>07</th>\n",
       "      <th>08</th>\n",
       "      <th>09</th>\n",
       "      <th>...</th>\n",
       "      <th>90</th>\n",
       "      <th>91</th>\n",
       "      <th>92</th>\n",
       "      <th>93</th>\n",
       "      <th>94</th>\n",
       "      <th>95</th>\n",
       "      <th>96</th>\n",
       "      <th>97</th>\n",
       "      <th>98</th>\n",
       "      <th>99</th>\n",
       "    </tr>\n",
       "  </thead>\n",
       "  <tbody>\n",
       "    <tr>\n",
       "      <th>0</th>\n",
       "      <td>-0.323552</td>\n",
       "      <td>-1.069081</td>\n",
       "      <td>0.323583</td>\n",
       "      <td>0.397445</td>\n",
       "      <td>0.316357</td>\n",
       "      <td>-0.278719</td>\n",
       "      <td>-0.436272</td>\n",
       "      <td>-0.440398</td>\n",
       "      <td>-0.441026</td>\n",
       "      <td>-0.427950</td>\n",
       "      <td>...</td>\n",
       "      <td>-0.000623</td>\n",
       "      <td>0.104645</td>\n",
       "      <td>-0.047911</td>\n",
       "      <td>0.122851</td>\n",
       "      <td>0.175490</td>\n",
       "      <td>0.043112</td>\n",
       "      <td>0.096471</td>\n",
       "      <td>0.003035</td>\n",
       "      <td>0.016172</td>\n",
       "      <td>-0.120978</td>\n",
       "    </tr>\n",
       "    <tr>\n",
       "      <th>1</th>\n",
       "      <td>1.095300</td>\n",
       "      <td>0.935383</td>\n",
       "      <td>-1.114245</td>\n",
       "      <td>-5.945645</td>\n",
       "      <td>-1.906480</td>\n",
       "      <td>-0.353342</td>\n",
       "      <td>-0.447218</td>\n",
       "      <td>-0.448054</td>\n",
       "      <td>-0.443736</td>\n",
       "      <td>-0.439160</td>\n",
       "      <td>...</td>\n",
       "      <td>0.032947</td>\n",
       "      <td>0.116670</td>\n",
       "      <td>-0.029773</td>\n",
       "      <td>0.096462</td>\n",
       "      <td>0.194247</td>\n",
       "      <td>-0.029726</td>\n",
       "      <td>0.146337</td>\n",
       "      <td>-0.014407</td>\n",
       "      <td>0.121401</td>\n",
       "      <td>-0.060718</td>\n",
       "    </tr>\n",
       "    <tr>\n",
       "      <th>2</th>\n",
       "      <td>0.209792</td>\n",
       "      <td>0.935383</td>\n",
       "      <td>-0.202216</td>\n",
       "      <td>-0.453076</td>\n",
       "      <td>-0.609746</td>\n",
       "      <td>-0.353342</td>\n",
       "      <td>0.151581</td>\n",
       "      <td>0.140264</td>\n",
       "      <td>0.155090</td>\n",
       "      <td>0.119534</td>\n",
       "      <td>...</td>\n",
       "      <td>0.093265</td>\n",
       "      <td>0.124819</td>\n",
       "      <td>0.098818</td>\n",
       "      <td>0.207112</td>\n",
       "      <td>0.174643</td>\n",
       "      <td>-0.020386</td>\n",
       "      <td>0.037989</td>\n",
       "      <td>0.009853</td>\n",
       "      <td>0.013006</td>\n",
       "      <td>-0.041461</td>\n",
       "    </tr>\n",
       "    <tr>\n",
       "      <th>3</th>\n",
       "      <td>-0.323552</td>\n",
       "      <td>-1.069081</td>\n",
       "      <td>0.323583</td>\n",
       "      <td>0.397445</td>\n",
       "      <td>0.316357</td>\n",
       "      <td>-0.502589</td>\n",
       "      <td>-0.796968</td>\n",
       "      <td>-0.796618</td>\n",
       "      <td>-0.796793</td>\n",
       "      <td>-0.799234</td>\n",
       "      <td>...</td>\n",
       "      <td>0.026439</td>\n",
       "      <td>0.082867</td>\n",
       "      <td>-0.015591</td>\n",
       "      <td>0.069552</td>\n",
       "      <td>0.241776</td>\n",
       "      <td>0.263612</td>\n",
       "      <td>0.173288</td>\n",
       "      <td>-0.164216</td>\n",
       "      <td>-0.058703</td>\n",
       "      <td>-0.081887</td>\n",
       "    </tr>\n",
       "    <tr>\n",
       "      <th>4</th>\n",
       "      <td>-0.323552</td>\n",
       "      <td>-1.069081</td>\n",
       "      <td>0.323583</td>\n",
       "      <td>0.397445</td>\n",
       "      <td>0.316357</td>\n",
       "      <td>-0.204095</td>\n",
       "      <td>0.204780</td>\n",
       "      <td>0.206993</td>\n",
       "      <td>0.221322</td>\n",
       "      <td>0.241479</td>\n",
       "      <td>...</td>\n",
       "      <td>0.061685</td>\n",
       "      <td>0.078684</td>\n",
       "      <td>-0.005691</td>\n",
       "      <td>0.105126</td>\n",
       "      <td>0.174752</td>\n",
       "      <td>-0.032681</td>\n",
       "      <td>0.125656</td>\n",
       "      <td>-0.038001</td>\n",
       "      <td>0.049001</td>\n",
       "      <td>-0.112666</td>\n",
       "    </tr>\n",
       "    <tr>\n",
       "      <th>...</th>\n",
       "      <td>...</td>\n",
       "      <td>...</td>\n",
       "      <td>...</td>\n",
       "      <td>...</td>\n",
       "      <td>...</td>\n",
       "      <td>...</td>\n",
       "      <td>...</td>\n",
       "      <td>...</td>\n",
       "      <td>...</td>\n",
       "      <td>...</td>\n",
       "      <td>...</td>\n",
       "      <td>...</td>\n",
       "      <td>...</td>\n",
       "      <td>...</td>\n",
       "      <td>...</td>\n",
       "      <td>...</td>\n",
       "      <td>...</td>\n",
       "      <td>...</td>\n",
       "      <td>...</td>\n",
       "      <td>...</td>\n",
       "      <td>...</td>\n",
       "    </tr>\n",
       "    <tr>\n",
       "      <th>35962</th>\n",
       "      <td>-0.323552</td>\n",
       "      <td>-1.069081</td>\n",
       "      <td>0.323583</td>\n",
       "      <td>0.397445</td>\n",
       "      <td>0.316357</td>\n",
       "      <td>-0.502589</td>\n",
       "      <td>-0.782550</td>\n",
       "      <td>-0.768118</td>\n",
       "      <td>-0.771346</td>\n",
       "      <td>-0.781234</td>\n",
       "      <td>...</td>\n",
       "      <td>0.010820</td>\n",
       "      <td>-0.136989</td>\n",
       "      <td>0.108609</td>\n",
       "      <td>0.016732</td>\n",
       "      <td>0.278335</td>\n",
       "      <td>0.001953</td>\n",
       "      <td>0.006035</td>\n",
       "      <td>0.036619</td>\n",
       "      <td>0.014452</td>\n",
       "      <td>-0.132841</td>\n",
       "    </tr>\n",
       "    <tr>\n",
       "      <th>35963</th>\n",
       "      <td>-0.323552</td>\n",
       "      <td>-1.069081</td>\n",
       "      <td>0.323583</td>\n",
       "      <td>0.397445</td>\n",
       "      <td>0.316357</td>\n",
       "      <td>-0.502589</td>\n",
       "      <td>-0.889031</td>\n",
       "      <td>-0.884454</td>\n",
       "      <td>-0.883350</td>\n",
       "      <td>-0.881957</td>\n",
       "      <td>...</td>\n",
       "      <td>0.028890</td>\n",
       "      <td>0.095177</td>\n",
       "      <td>-0.124906</td>\n",
       "      <td>0.093776</td>\n",
       "      <td>0.280154</td>\n",
       "      <td>0.028316</td>\n",
       "      <td>-0.026397</td>\n",
       "      <td>-0.010038</td>\n",
       "      <td>0.034472</td>\n",
       "      <td>-0.249929</td>\n",
       "    </tr>\n",
       "    <tr>\n",
       "      <th>35964</th>\n",
       "      <td>-0.323552</td>\n",
       "      <td>-1.069081</td>\n",
       "      <td>0.323583</td>\n",
       "      <td>0.397445</td>\n",
       "      <td>0.316357</td>\n",
       "      <td>-0.502589</td>\n",
       "      <td>-0.854250</td>\n",
       "      <td>-0.849032</td>\n",
       "      <td>-0.848337</td>\n",
       "      <td>-0.845273</td>\n",
       "      <td>...</td>\n",
       "      <td>0.008526</td>\n",
       "      <td>0.004818</td>\n",
       "      <td>-0.073347</td>\n",
       "      <td>0.165997</td>\n",
       "      <td>0.046893</td>\n",
       "      <td>-0.013805</td>\n",
       "      <td>0.002951</td>\n",
       "      <td>-0.080321</td>\n",
       "      <td>0.109302</td>\n",
       "      <td>-0.144372</td>\n",
       "    </tr>\n",
       "    <tr>\n",
       "      <th>35965</th>\n",
       "      <td>-0.323552</td>\n",
       "      <td>-1.069081</td>\n",
       "      <td>0.323583</td>\n",
       "      <td>0.397445</td>\n",
       "      <td>0.316357</td>\n",
       "      <td>-0.427966</td>\n",
       "      <td>-0.854639</td>\n",
       "      <td>-0.842713</td>\n",
       "      <td>-0.845437</td>\n",
       "      <td>-0.851948</td>\n",
       "      <td>...</td>\n",
       "      <td>0.120188</td>\n",
       "      <td>-0.151670</td>\n",
       "      <td>0.161709</td>\n",
       "      <td>0.157569</td>\n",
       "      <td>0.174731</td>\n",
       "      <td>-0.042550</td>\n",
       "      <td>0.070734</td>\n",
       "      <td>0.104473</td>\n",
       "      <td>0.027739</td>\n",
       "      <td>-0.084586</td>\n",
       "    </tr>\n",
       "    <tr>\n",
       "      <th>35966</th>\n",
       "      <td>-0.323552</td>\n",
       "      <td>-1.069081</td>\n",
       "      <td>0.323583</td>\n",
       "      <td>0.397445</td>\n",
       "      <td>0.316357</td>\n",
       "      <td>-0.502589</td>\n",
       "      <td>-0.801996</td>\n",
       "      <td>-0.798821</td>\n",
       "      <td>-0.796251</td>\n",
       "      <td>-0.795497</td>\n",
       "      <td>...</td>\n",
       "      <td>0.002860</td>\n",
       "      <td>0.088322</td>\n",
       "      <td>-0.074770</td>\n",
       "      <td>0.126610</td>\n",
       "      <td>0.233920</td>\n",
       "      <td>0.133650</td>\n",
       "      <td>0.069909</td>\n",
       "      <td>-0.028145</td>\n",
       "      <td>0.014152</td>\n",
       "      <td>-0.127838</td>\n",
       "    </tr>\n",
       "  </tbody>\n",
       "</table>\n",
       "<p>35967 rows × 1075 columns</p>\n",
       "</div>"
      ],
      "text/plain": [
       "             00        01        02        03        04        05        06  \\\n",
       "0     -0.323552 -1.069081  0.323583  0.397445  0.316357 -0.278719 -0.436272   \n",
       "1      1.095300  0.935383 -1.114245 -5.945645 -1.906480 -0.353342 -0.447218   \n",
       "2      0.209792  0.935383 -0.202216 -0.453076 -0.609746 -0.353342  0.151581   \n",
       "3     -0.323552 -1.069081  0.323583  0.397445  0.316357 -0.502589 -0.796968   \n",
       "4     -0.323552 -1.069081  0.323583  0.397445  0.316357 -0.204095  0.204780   \n",
       "...         ...       ...       ...       ...       ...       ...       ...   \n",
       "35962 -0.323552 -1.069081  0.323583  0.397445  0.316357 -0.502589 -0.782550   \n",
       "35963 -0.323552 -1.069081  0.323583  0.397445  0.316357 -0.502589 -0.889031   \n",
       "35964 -0.323552 -1.069081  0.323583  0.397445  0.316357 -0.502589 -0.854250   \n",
       "35965 -0.323552 -1.069081  0.323583  0.397445  0.316357 -0.427966 -0.854639   \n",
       "35966 -0.323552 -1.069081  0.323583  0.397445  0.316357 -0.502589 -0.801996   \n",
       "\n",
       "             07        08        09  ...        90        91        92  \\\n",
       "0     -0.440398 -0.441026 -0.427950  ... -0.000623  0.104645 -0.047911   \n",
       "1     -0.448054 -0.443736 -0.439160  ...  0.032947  0.116670 -0.029773   \n",
       "2      0.140264  0.155090  0.119534  ...  0.093265  0.124819  0.098818   \n",
       "3     -0.796618 -0.796793 -0.799234  ...  0.026439  0.082867 -0.015591   \n",
       "4      0.206993  0.221322  0.241479  ...  0.061685  0.078684 -0.005691   \n",
       "...         ...       ...       ...  ...       ...       ...       ...   \n",
       "35962 -0.768118 -0.771346 -0.781234  ...  0.010820 -0.136989  0.108609   \n",
       "35963 -0.884454 -0.883350 -0.881957  ...  0.028890  0.095177 -0.124906   \n",
       "35964 -0.849032 -0.848337 -0.845273  ...  0.008526  0.004818 -0.073347   \n",
       "35965 -0.842713 -0.845437 -0.851948  ...  0.120188 -0.151670  0.161709   \n",
       "35966 -0.798821 -0.796251 -0.795497  ...  0.002860  0.088322 -0.074770   \n",
       "\n",
       "             93        94        95        96        97        98        99  \n",
       "0      0.122851  0.175490  0.043112  0.096471  0.003035  0.016172 -0.120978  \n",
       "1      0.096462  0.194247 -0.029726  0.146337 -0.014407  0.121401 -0.060718  \n",
       "2      0.207112  0.174643 -0.020386  0.037989  0.009853  0.013006 -0.041461  \n",
       "3      0.069552  0.241776  0.263612  0.173288 -0.164216 -0.058703 -0.081887  \n",
       "4      0.105126  0.174752 -0.032681  0.125656 -0.038001  0.049001 -0.112666  \n",
       "...         ...       ...       ...       ...       ...       ...       ...  \n",
       "35962  0.016732  0.278335  0.001953  0.006035  0.036619  0.014452 -0.132841  \n",
       "35963  0.093776  0.280154  0.028316 -0.026397 -0.010038  0.034472 -0.249929  \n",
       "35964  0.165997  0.046893 -0.013805  0.002951 -0.080321  0.109302 -0.144372  \n",
       "35965  0.157569  0.174731 -0.042550  0.070734  0.104473  0.027739 -0.084586  \n",
       "35966  0.126610  0.233920  0.133650  0.069909 -0.028145  0.014152 -0.127838  \n",
       "\n",
       "[35967 rows x 1075 columns]"
      ]
     },
     "execution_count": 205,
     "metadata": {},
     "output_type": "execute_result"
    }
   ],
   "source": [
    "data_all"
   ]
  },
  {
   "cell_type": "code",
   "execution_count": 203,
   "metadata": {},
   "outputs": [],
   "source": [
    "data_all = data_all.reset_index().drop(\"index\",axis = 1)"
   ]
  },
  {
   "cell_type": "code",
   "execution_count": 204,
   "metadata": {},
   "outputs": [],
   "source": [
    "for i in w2v_list:\n",
    "    data_all = pd.concat([data_all,i],axis = 1)"
   ]
  },
  {
   "cell_type": "code",
   "execution_count": 208,
   "metadata": {},
   "outputs": [],
   "source": [
    "data = data_all[:len(features__)]\n",
    "data_te = data_all[len(features__):].reset_index().drop(\"index\",axis = 1)"
   ]
  },
  {
   "cell_type": "code",
   "execution_count": 211,
   "metadata": {},
   "outputs": [],
   "source": [
    "data.columns = data.columns.astype(str)\n",
    "data_te.columns = data_te.columns.astype(str)"
   ]
  },
  {
   "cell_type": "code",
   "execution_count": 212,
   "metadata": {},
   "outputs": [],
   "source": [
    "data2 = data.values\n",
    "data_te2 = data_te.values"
   ]
  },
  {
   "cell_type": "code",
   "execution_count": 218,
   "metadata": {},
   "outputs": [],
   "source": [
    "data.to_csv('4.min_1st_feature_0612.csv',index=False)"
   ]
  },
  {
   "cell_type": "code",
   "execution_count": 219,
   "metadata": {},
   "outputs": [],
   "source": [
    "data_te.to_csv('4.min_1st_feature_te_0612.csv',index=False)"
   ]
  },
  {
   "cell_type": "code",
   "execution_count": 213,
   "metadata": {},
   "outputs": [
    {
     "ename": "TypeError",
     "evalue": "loop of ufunc does not support argument 0 of type str which has no callable log1p method",
     "output_type": "error",
     "traceback": [
      "\u001b[1;31m---------------------------------------------------------------------------\u001b[0m",
      "\u001b[1;31mAttributeError\u001b[0m                            Traceback (most recent call last)",
      "\u001b[1;31mAttributeError\u001b[0m: 'str' object has no attribute 'log1p'",
      "\nThe above exception was the direct cause of the following exception:\n",
      "\u001b[1;31mTypeError\u001b[0m                                 Traceback (most recent call last)",
      "\u001b[1;32m~\\AppData\\Local\\Temp/ipykernel_11844/710785538.py\u001b[0m in \u001b[0;36m<module>\u001b[1;34m\u001b[0m\n\u001b[0;32m      1\u001b[0m \u001b[0mftr\u001b[0m \u001b[1;33m=\u001b[0m \u001b[0mdata2\u001b[0m\u001b[1;33m[\u001b[0m\u001b[1;33m:\u001b[0m\u001b[1;33m,\u001b[0m \u001b[1;36m1\u001b[0m\u001b[1;33m:\u001b[0m\u001b[1;33m]\u001b[0m\u001b[1;33m\u001b[0m\u001b[1;33m\u001b[0m\u001b[0m\n\u001b[0;32m      2\u001b[0m \u001b[0mtarget\u001b[0m \u001b[1;33m=\u001b[0m \u001b[0mdf_y_train\u001b[0m\u001b[1;33m\u001b[0m\u001b[1;33m\u001b[0m\u001b[0m\n\u001b[1;32m----> 3\u001b[1;33m \u001b[0mtarget_log\u001b[0m \u001b[1;33m=\u001b[0m \u001b[0mnp\u001b[0m\u001b[1;33m.\u001b[0m\u001b[0mlog1p\u001b[0m\u001b[1;33m(\u001b[0m\u001b[0mtarget\u001b[0m\u001b[1;33m)\u001b[0m\u001b[1;33m\u001b[0m\u001b[1;33m\u001b[0m\u001b[0m\n\u001b[0m",
      "\u001b[1;32m~\\anaconda3\\lib\\site-packages\\pandas\\core\\generic.py\u001b[0m in \u001b[0;36m__array_ufunc__\u001b[1;34m(self, ufunc, method, *inputs, **kwargs)\u001b[0m\n\u001b[0;32m   2099\u001b[0m         \u001b[0mself\u001b[0m\u001b[1;33m,\u001b[0m \u001b[0mufunc\u001b[0m\u001b[1;33m:\u001b[0m \u001b[0mnp\u001b[0m\u001b[1;33m.\u001b[0m\u001b[0mufunc\u001b[0m\u001b[1;33m,\u001b[0m \u001b[0mmethod\u001b[0m\u001b[1;33m:\u001b[0m \u001b[0mstr\u001b[0m\u001b[1;33m,\u001b[0m \u001b[1;33m*\u001b[0m\u001b[0minputs\u001b[0m\u001b[1;33m:\u001b[0m \u001b[0mAny\u001b[0m\u001b[1;33m,\u001b[0m \u001b[1;33m**\u001b[0m\u001b[0mkwargs\u001b[0m\u001b[1;33m:\u001b[0m \u001b[0mAny\u001b[0m\u001b[1;33m\u001b[0m\u001b[1;33m\u001b[0m\u001b[0m\n\u001b[0;32m   2100\u001b[0m     ):\n\u001b[1;32m-> 2101\u001b[1;33m         \u001b[1;32mreturn\u001b[0m \u001b[0marraylike\u001b[0m\u001b[1;33m.\u001b[0m\u001b[0marray_ufunc\u001b[0m\u001b[1;33m(\u001b[0m\u001b[0mself\u001b[0m\u001b[1;33m,\u001b[0m \u001b[0mufunc\u001b[0m\u001b[1;33m,\u001b[0m \u001b[0mmethod\u001b[0m\u001b[1;33m,\u001b[0m \u001b[1;33m*\u001b[0m\u001b[0minputs\u001b[0m\u001b[1;33m,\u001b[0m \u001b[1;33m**\u001b[0m\u001b[0mkwargs\u001b[0m\u001b[1;33m)\u001b[0m\u001b[1;33m\u001b[0m\u001b[1;33m\u001b[0m\u001b[0m\n\u001b[0m\u001b[0;32m   2102\u001b[0m \u001b[1;33m\u001b[0m\u001b[0m\n\u001b[0;32m   2103\u001b[0m     \u001b[1;31m# ----------------------------------------------------------------------\u001b[0m\u001b[1;33m\u001b[0m\u001b[1;33m\u001b[0m\u001b[0m\n",
      "\u001b[1;32m~\\anaconda3\\lib\\site-packages\\pandas\\core\\arraylike.py\u001b[0m in \u001b[0;36marray_ufunc\u001b[1;34m(self, ufunc, method, *inputs, **kwargs)\u001b[0m\n\u001b[0;32m    403\u001b[0m             \u001b[1;31m# take this path if there are no kwargs\u001b[0m\u001b[1;33m\u001b[0m\u001b[1;33m\u001b[0m\u001b[0m\n\u001b[0;32m    404\u001b[0m             \u001b[0mmgr\u001b[0m \u001b[1;33m=\u001b[0m \u001b[0minputs\u001b[0m\u001b[1;33m[\u001b[0m\u001b[1;36m0\u001b[0m\u001b[1;33m]\u001b[0m\u001b[1;33m.\u001b[0m\u001b[0m_mgr\u001b[0m\u001b[1;33m\u001b[0m\u001b[1;33m\u001b[0m\u001b[0m\n\u001b[1;32m--> 405\u001b[1;33m             \u001b[0mresult\u001b[0m \u001b[1;33m=\u001b[0m \u001b[0mmgr\u001b[0m\u001b[1;33m.\u001b[0m\u001b[0mapply\u001b[0m\u001b[1;33m(\u001b[0m\u001b[0mgetattr\u001b[0m\u001b[1;33m(\u001b[0m\u001b[0mufunc\u001b[0m\u001b[1;33m,\u001b[0m \u001b[0mmethod\u001b[0m\u001b[1;33m)\u001b[0m\u001b[1;33m)\u001b[0m\u001b[1;33m\u001b[0m\u001b[1;33m\u001b[0m\u001b[0m\n\u001b[0m\u001b[0;32m    406\u001b[0m         \u001b[1;32melse\u001b[0m\u001b[1;33m:\u001b[0m\u001b[1;33m\u001b[0m\u001b[1;33m\u001b[0m\u001b[0m\n\u001b[0;32m    407\u001b[0m             \u001b[1;31m# otherwise specific ufunc methods (eg np.<ufunc>.accumulate(..))\u001b[0m\u001b[1;33m\u001b[0m\u001b[1;33m\u001b[0m\u001b[0m\n",
      "\u001b[1;32m~\\anaconda3\\lib\\site-packages\\pandas\\core\\internals\\managers.py\u001b[0m in \u001b[0;36mapply\u001b[1;34m(self, f, align_keys, ignore_failures, **kwargs)\u001b[0m\n\u001b[0;32m    300\u001b[0m             \u001b[1;32mtry\u001b[0m\u001b[1;33m:\u001b[0m\u001b[1;33m\u001b[0m\u001b[1;33m\u001b[0m\u001b[0m\n\u001b[0;32m    301\u001b[0m                 \u001b[1;32mif\u001b[0m \u001b[0mcallable\u001b[0m\u001b[1;33m(\u001b[0m\u001b[0mf\u001b[0m\u001b[1;33m)\u001b[0m\u001b[1;33m:\u001b[0m\u001b[1;33m\u001b[0m\u001b[1;33m\u001b[0m\u001b[0m\n\u001b[1;32m--> 302\u001b[1;33m                     \u001b[0mapplied\u001b[0m \u001b[1;33m=\u001b[0m \u001b[0mb\u001b[0m\u001b[1;33m.\u001b[0m\u001b[0mapply\u001b[0m\u001b[1;33m(\u001b[0m\u001b[0mf\u001b[0m\u001b[1;33m,\u001b[0m \u001b[1;33m**\u001b[0m\u001b[0mkwargs\u001b[0m\u001b[1;33m)\u001b[0m\u001b[1;33m\u001b[0m\u001b[1;33m\u001b[0m\u001b[0m\n\u001b[0m\u001b[0;32m    303\u001b[0m                 \u001b[1;32melse\u001b[0m\u001b[1;33m:\u001b[0m\u001b[1;33m\u001b[0m\u001b[1;33m\u001b[0m\u001b[0m\n\u001b[0;32m    304\u001b[0m                     \u001b[0mapplied\u001b[0m \u001b[1;33m=\u001b[0m \u001b[0mgetattr\u001b[0m\u001b[1;33m(\u001b[0m\u001b[0mb\u001b[0m\u001b[1;33m,\u001b[0m \u001b[0mf\u001b[0m\u001b[1;33m)\u001b[0m\u001b[1;33m(\u001b[0m\u001b[1;33m**\u001b[0m\u001b[0mkwargs\u001b[0m\u001b[1;33m)\u001b[0m\u001b[1;33m\u001b[0m\u001b[1;33m\u001b[0m\u001b[0m\n",
      "\u001b[1;32m~\\anaconda3\\lib\\site-packages\\pandas\\core\\internals\\blocks.py\u001b[0m in \u001b[0;36mapply\u001b[1;34m(self, func, **kwargs)\u001b[0m\n\u001b[0;32m    400\u001b[0m         \u001b[0mone\u001b[0m\u001b[1;33m\u001b[0m\u001b[1;33m\u001b[0m\u001b[0m\n\u001b[0;32m    401\u001b[0m         \"\"\"\n\u001b[1;32m--> 402\u001b[1;33m         \u001b[0mresult\u001b[0m \u001b[1;33m=\u001b[0m \u001b[0mfunc\u001b[0m\u001b[1;33m(\u001b[0m\u001b[0mself\u001b[0m\u001b[1;33m.\u001b[0m\u001b[0mvalues\u001b[0m\u001b[1;33m,\u001b[0m \u001b[1;33m**\u001b[0m\u001b[0mkwargs\u001b[0m\u001b[1;33m)\u001b[0m\u001b[1;33m\u001b[0m\u001b[1;33m\u001b[0m\u001b[0m\n\u001b[0m\u001b[0;32m    403\u001b[0m \u001b[1;33m\u001b[0m\u001b[0m\n\u001b[0;32m    404\u001b[0m         \u001b[1;32mreturn\u001b[0m \u001b[0mself\u001b[0m\u001b[1;33m.\u001b[0m\u001b[0m_split_op_result\u001b[0m\u001b[1;33m(\u001b[0m\u001b[0mresult\u001b[0m\u001b[1;33m)\u001b[0m\u001b[1;33m\u001b[0m\u001b[1;33m\u001b[0m\u001b[0m\n",
      "\u001b[1;31mTypeError\u001b[0m: loop of ufunc does not support argument 0 of type str which has no callable log1p method"
     ]
    }
   ],
   "source": [
    "ftr = data2[:, 1:]\n",
    "target = df_y_train\n",
    "target_log = np.log1p(target)"
   ]
  },
  {
   "cell_type": "code",
   "execution_count": 137,
   "metadata": {},
   "outputs": [
    {
     "data": {
      "text/plain": [
       "((17269, 17125), (4318, 17125))"
      ]
     },
     "execution_count": 137,
     "metadata": {},
     "output_type": "execute_result"
    }
   ],
   "source": [
    "from sklearn.model_selection import train_test_split\n",
    "\n",
    "train_x, valid_x, train_y, valid_y = train_test_split(ftr, target, test_size=0.2 , stratify = target , random_state=1000)\n",
    "train_x.shape, valid_x.shape"
   ]
  },
  {
   "cell_type": "code",
   "execution_count": 138,
   "metadata": {},
   "outputs": [
    {
     "name": "stdout",
     "output_type": "stream",
     "text": [
      "Training until validation scores don't improve for 50 rounds\n",
      "[100]\ttraining's rmse: 7.7676\ttraining's l2: 60.3357\tvalid_1's rmse: 8.30134\tvalid_1's l2: 68.9122\n",
      "[200]\ttraining's rmse: 7.02968\ttraining's l2: 49.4164\tvalid_1's rmse: 8.09159\tvalid_1's l2: 65.4738\n",
      "[300]\ttraining's rmse: 6.53169\ttraining's l2: 42.663\tvalid_1's rmse: 8.05721\tvalid_1's l2: 64.9186\n",
      "[400]\ttraining's rmse: 6.12835\ttraining's l2: 37.5567\tvalid_1's rmse: 8.05002\tvalid_1's l2: 64.8028\n",
      "Early stopping, best iteration is:\n",
      "[406]\ttraining's rmse: 6.10618\ttraining's l2: 37.2855\tvalid_1's rmse: 8.04892\tvalid_1's l2: 64.7852\n"
     ]
    },
    {
     "data": {
      "text/plain": [
       "LGBMRegressor(learning_rate=0.02, max_depth=12, n_estimators=1000,\n",
       "              num_leaves=32, silent=-1, subsample=0.8, verbose=-1)"
      ]
     },
     "execution_count": 138,
     "metadata": {},
     "output_type": "execute_result"
    }
   ],
   "source": [
    "from lightgbm import LGBMRegressor\n",
    "\n",
    "clf = LGBMRegressor(\n",
    "        n_jobs=-1,\n",
    "        n_estimators=1000,\n",
    "        learning_rate=0.02,\n",
    "        num_leaves=32,\n",
    "        subsample=0.8,\n",
    "        max_depth=12,\n",
    "        silent=-1,\n",
    "        verbose=-1\n",
    "        )\n",
    "\n",
    "clf.fit(train_x, train_y, eval_set=[(train_x, train_y), (valid_x, valid_y)], eval_metric = 'RMSE', \n",
    "        verbose=100, early_stopping_rounds= 50)"
   ]
  },
  {
   "cell_type": "code",
   "execution_count": 139,
   "metadata": {},
   "outputs": [],
   "source": [
    "from sklearn.feature_selection import SelectFromModel\n",
    "smf = SelectFromModel(clf, threshold='7.0*mean')\n",
    "smf.fit(ftr, target)\n",
    "X_new = smf.transform(ftr)\n",
    "X_te_new = smf.transform(data_te2[:, 1:])\n",
    "feature_idx = smf.get_support()\n",
    "#feature_name = ftr.columns[feature_idx]"
   ]
  },
  {
   "cell_type": "code",
   "execution_count": 140,
   "metadata": {},
   "outputs": [
    {
     "name": "stdout",
     "output_type": "stream",
     "text": [
      "교차 검증별 정확도: [-63.5007 -65.8621 -65.4368 -61.9738 -62.0358]\n",
      "평균 검증 정확도: -63.7618\n",
      "RMSE: 7.985101113600758\n"
     ]
    }
   ],
   "source": [
    "from sklearn.model_selection import cross_val_score\n",
    "\n",
    "scores = cross_val_score(clf, X_new, target, scoring='neg_mean_squared_error', cv=5)\n",
    "print('교차 검증별 정확도:', np.round(scores, 4))\n",
    "print('평균 검증 정확도:', np.round(np.mean(scores), 4))\n",
    "print('RMSE:', np.sqrt(-np.mean(scores)))\n",
    "# mean - 7.0 : RMSE: 7.99449713498378\n",
    "# mean - 5.0 : RMSE: RMSE: 8.000763598952103"
   ]
  },
  {
   "cell_type": "code",
   "execution_count": 141,
   "metadata": {},
   "outputs": [],
   "source": [
    "#pd.DataFrame(X_new).to_csv(\"features__2rd_jinew.csv\")\n",
    "#pd.DataFrame(X_te_new).to_csv(\"features_t__2rd_jinew.csv\")"
   ]
  }
 ],
 "metadata": {
  "kernelspec": {
   "display_name": "Python 3 (ipykernel)",
   "language": "python",
   "name": "python3"
  },
  "language_info": {
   "codemirror_mode": {
    "name": "ipython",
    "version": 3
   },
   "file_extension": ".py",
   "mimetype": "text/x-python",
   "name": "python",
   "nbconvert_exporter": "python",
   "pygments_lexer": "ipython3",
   "version": "3.9.7"
  }
 },
 "nbformat": 4,
 "nbformat_minor": 1
}
