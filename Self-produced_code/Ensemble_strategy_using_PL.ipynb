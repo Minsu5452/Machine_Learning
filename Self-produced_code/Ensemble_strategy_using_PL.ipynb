{
 "cells": [
  {
   "cell_type": "markdown",
   "metadata": {},
   "source": [
    "# An ensemble strategy using public LBs"
   ]
  },
  {
   "cell_type": "markdown",
   "metadata": {},
   "source": [
    "1) X축은 평균상관관계, Y축은 Public LB Score로 하여 각 submission을 plot한 후  \n",
    "2) 가장 성능이 우수한 submission(산의 정상)으로부터 능선을 따라 가면서 적절하게 앙상블할 submission을 고르는 방법"
   ]
  },
  {
   "cell_type": "code",
   "execution_count": 1,
   "metadata": {},
   "outputs": [],
   "source": [
    "import pandas as pd\n",
    "import numpy as np\n",
    "import seaborn as sns\n",
    "import matplotlib.pylab as plt\n",
    "import os"
   ]
  },
  {
   "cell_type": "code",
   "execution_count": 2,
   "metadata": {},
   "outputs": [],
   "source": [
    "# 이 코드를 실행하기 전에 \n",
    "# 1) 아래 폴더에 분석하려는 모든 submission화일을 저장해야 함 !!!\n",
    "# 2) 화일명은 XXX_logloss.csv 형태(예: DNN_1.49003)로 저장되어 있어야 함.\n",
    "path = './submissions'\n",
    "\n",
    "preds = []\n",
    "losses = []\n",
    "names = []\n",
    "files = [file for file in os.listdir(path) if file.endswith(\".csv\")]\n",
    "for f in files:\n",
    "    try:    \n",
    "        preds.append(pd.read_csv(path + '/' + f).F20)\n",
    "        losses.append(float(f[f.index('.')-1:-4])*-1)\n",
    "        names.append(f[:f.find('.csv')])\n",
    "    except:\n",
    "        print(f'Read error: {f}')\n",
    "        continue\n",
    "        \n",
    "corr = pd.DataFrame(preds).T.corr().mean(axis=0).values\n",
    "df = pd.DataFrame({'model': names, 'logloss': losses, 'cor': corr})        "
   ]
  },
  {
   "cell_type": "code",
   "execution_count": 3,
   "metadata": {},
   "outputs": [
    {
     "data": {
      "text/html": [
       "<div>\n",
       "<style scoped>\n",
       "    .dataframe tbody tr th:only-of-type {\n",
       "        vertical-align: middle;\n",
       "    }\n",
       "\n",
       "    .dataframe tbody tr th {\n",
       "        vertical-align: top;\n",
       "    }\n",
       "\n",
       "    .dataframe thead th {\n",
       "        text-align: right;\n",
       "    }\n",
       "</style>\n",
       "<table border=\"1\" class=\"dataframe\">\n",
       "  <thead>\n",
       "    <tr style=\"text-align: right;\">\n",
       "      <th></th>\n",
       "      <th>model</th>\n",
       "      <th>logloss</th>\n",
       "      <th>cor</th>\n",
       "    </tr>\n",
       "  </thead>\n",
       "  <tbody>\n",
       "    <tr>\n",
       "      <th>0</th>\n",
       "      <td>1st_rnd_1st_1.46108</td>\n",
       "      <td>-1.46108</td>\n",
       "      <td>0.969690</td>\n",
       "    </tr>\n",
       "    <tr>\n",
       "      <th>1</th>\n",
       "      <td>1st_rnd_2nd_1.47846</td>\n",
       "      <td>-1.47846</td>\n",
       "      <td>0.960965</td>\n",
       "    </tr>\n",
       "    <tr>\n",
       "      <th>2</th>\n",
       "      <td>1st_rnd_3rd_1.48811</td>\n",
       "      <td>-1.48811</td>\n",
       "      <td>0.954634</td>\n",
       "    </tr>\n",
       "    <tr>\n",
       "      <th>3</th>\n",
       "      <td>ktrain_mlp_1.46573</td>\n",
       "      <td>-1.46573</td>\n",
       "      <td>0.954018</td>\n",
       "    </tr>\n",
       "  </tbody>\n",
       "</table>\n",
       "</div>"
      ],
      "text/plain": [
       "                 model  logloss       cor\n",
       "0  1st_rnd_1st_1.46108 -1.46108  0.969690\n",
       "1  1st_rnd_2nd_1.47846 -1.47846  0.960965\n",
       "2  1st_rnd_3rd_1.48811 -1.48811  0.954634\n",
       "3   ktrain_mlp_1.46573 -1.46573  0.954018"
      ]
     },
     "execution_count": 3,
     "metadata": {},
     "output_type": "execute_result"
    }
   ],
   "source": [
    "df"
   ]
  },
  {
   "cell_type": "code",
   "execution_count": 4,
   "metadata": {},
   "outputs": [
    {
     "data": {
      "image/png": "[encoded data removed]",
      "text/plain": [
       "<Figure size 720x576 with 1 Axes>"
      ]
     },
     "metadata": {
      "needs_background": "light"
     },
     "output_type": "display_data"
    }
   ],
   "source": [
    "plt.figure(figsize=(10,8))\n",
    "g = sns.scatterplot(x=\"cor\", y=\"logloss\", data=df, s=40, color='red')\n",
    "\n",
    "for line in range(0, df.shape[0]):\n",
    "     g.text(df.cor[line]+0.0004, df.logloss[line]-0.00015, \n",
    "            df.model[line], horizontalalignment='left', \n",
    "            size='medium', color='black', weight='semibold')\n",
    "        \n",
    "plt.xlim((df.cor.min()-0.001,df.cor.max()+0.001))\n",
    "plt.ylim((df.logloss.min()-0.1,df.logloss.max()+0.1))\n",
    "plt.xlabel('Mean agreement (Corr.)')\n",
    "plt.ylabel('Public score (Neg Logloss)')\n",
    "\n",
    "plt.grid()\n",
    "plt.show()"
   ]
  },
  {
   "cell_type": "markdown",
   "metadata": {},
   "source": [
    "## End"
   ]
  }
 ],
 "metadata": {
  "kernelspec": {
   "display_name": "Python 3 (ipykernel)",
   "language": "python",
   "name": "python3"
  },
  "language_info": {
   "codemirror_mode": {
    "name": "ipython",
    "version": 3
   },
   "file_extension": ".py",
   "mimetype": "text/x-python",
   "name": "python",
   "nbconvert_exporter": "python",
   "pygments_lexer": "ipython3",
   "version": "3.9.7"
  }
 },
 "nbformat": 4,
 "nbformat_minor": 2
}
