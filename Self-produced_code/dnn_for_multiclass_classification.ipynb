{
 "cells": [
  {
   "cell_type": "markdown",
   "metadata": {},
   "source": [
    "<font color='tomato'><font color=\"#CC3D3D\"><p>\n",
    "# A DNN Model for Multiclass Classification"
   ]
  },
  {
   "cell_type": "markdown",
   "metadata": {},
   "source": [
    "##### Import modules"
   ]
  },
  {
   "cell_type": "code",
   "execution_count": 1,
   "metadata": {},
   "outputs": [
    {
     "name": "stdout",
     "output_type": "stream",
     "text": [
      "2.8.0\n"
     ]
    },
    {
     "name": "stderr",
     "output_type": "stream",
     "text": [
      "/tmp/ipykernel_21949/3188710588.py:16: DeprecationWarning: `import kerastuner` is deprecated, please use `import keras_tuner`.\n",
      "  import kerastuner as kt\n"
     ]
    }
   ],
   "source": [
    "import pandas as pd\n",
    "import numpy as np\n",
    "import os\n",
    "import random\n",
    "import pickle\n",
    "from tqdm import tqdm\n",
    "from IPython.display import Image, clear_output\n",
    "import seaborn as sns\n",
    "import matplotlib.pylab as plt\n",
    "from matplotlib import font_manager, rc\n",
    "%matplotlib inline\n",
    "\n",
    "from sklearn.preprocessing import StandardScaler\n",
    "import tensorflow as tf\n",
    "from tensorflow import keras\n",
    "import kerastuner as kt\n",
    "print(tf.__version__)"
   ]
  },
  {
   "cell_type": "markdown",
   "metadata": {},
   "source": [
    "##### Set random seeds to make your results reproducible"
   ]
  },
  {
   "cell_type": "code",
   "execution_count": 2,
   "metadata": {},
   "outputs": [],
   "source": [
    "# 매번 모델링을 할 때마다 동일한 결과를 얻으려면 아래 코드를 실행해야 함.\n",
    "\n",
    "def reset_seeds(s1,s2,s3, reset_graph_with_backend=None):\n",
    "    if reset_graph_with_backend is not None:\n",
    "        K = reset_graph_with_backend\n",
    "        K.clear_session()\n",
    "        tf.compat.v1.reset_default_graph()\n",
    "        print(\"KERAS AND TENSORFLOW GRAPHS RESET\")  # optional\n",
    "\n",
    "    np.random.seed(s1)\n",
    "    random.seed(s2)\n",
    "    tf.compat.v1.set_random_seed(s3)\n",
    "#    os.environ['CUDA_VISIBLE_DEVICES'] = ''  # for GPU\n",
    "#    print(\"RANDOM SEEDS RESET\")  # optional"
   ]
  },
  {
   "cell_type": "markdown",
   "metadata": {},
   "source": [
    "### Step 1: Load and process the data"
   ]
  },
  {
   "cell_type": "markdown",
   "metadata": {},
   "source": [
    "##### Read data"
   ]
  },
  {
   "cell_type": "code",
   "execution_count": 3,
   "metadata": {},
   "outputs": [
    {
     "data": {
      "text/html": [
       "<div>\n",
       "<style scoped>\n",
       "    .dataframe tbody tr th:only-of-type {\n",
       "        vertical-align: middle;\n",
       "    }\n",
       "\n",
       "    .dataframe tbody tr th {\n",
       "        vertical-align: top;\n",
       "    }\n",
       "\n",
       "    .dataframe thead th {\n",
       "        text-align: right;\n",
       "    }\n",
       "</style>\n",
       "<table border=\"1\" class=\"dataframe\">\n",
       "  <thead>\n",
       "    <tr style=\"text-align: right;\">\n",
       "      <th></th>\n",
       "      <th>custid</th>\n",
       "      <th>sales_month</th>\n",
       "      <th>sales_day</th>\n",
       "      <th>sales_dayofweek</th>\n",
       "      <th>sales_time</th>\n",
       "      <th>str_nm</th>\n",
       "      <th>goodcd</th>\n",
       "      <th>brd_nm</th>\n",
       "      <th>corner_nm</th>\n",
       "      <th>pc_nm</th>\n",
       "      <th>part_nm</th>\n",
       "      <th>team_nm</th>\n",
       "      <th>buyer_nm</th>\n",
       "      <th>import_flg</th>\n",
       "      <th>tot_amt</th>\n",
       "      <th>dis_amt</th>\n",
       "      <th>net_amt</th>\n",
       "      <th>inst_mon</th>\n",
       "      <th>inst_fee</th>\n",
       "    </tr>\n",
       "  </thead>\n",
       "  <tbody>\n",
       "    <tr>\n",
       "      <th>0</th>\n",
       "      <td>0</td>\n",
       "      <td>6</td>\n",
       "      <td>25</td>\n",
       "      <td>일</td>\n",
       "      <td>1212</td>\n",
       "      <td>무역점</td>\n",
       "      <td>2116050008000</td>\n",
       "      <td>에스티로더</td>\n",
       "      <td>수입종합화장품</td>\n",
       "      <td>화장품</td>\n",
       "      <td>명품잡화</td>\n",
       "      <td>잡화가용팀</td>\n",
       "      <td>화장품</td>\n",
       "      <td>1</td>\n",
       "      <td>90000</td>\n",
       "      <td>9000</td>\n",
       "      <td>81000</td>\n",
       "      <td>3</td>\n",
       "      <td>0</td>\n",
       "    </tr>\n",
       "    <tr>\n",
       "      <th>1</th>\n",
       "      <td>0</td>\n",
       "      <td>6</td>\n",
       "      <td>25</td>\n",
       "      <td>일</td>\n",
       "      <td>1242</td>\n",
       "      <td>무역점</td>\n",
       "      <td>4125440008000</td>\n",
       "      <td>시슬리</td>\n",
       "      <td>수입종합화장품</td>\n",
       "      <td>화장품</td>\n",
       "      <td>명품잡화</td>\n",
       "      <td>잡화가용팀</td>\n",
       "      <td>화장품</td>\n",
       "      <td>1</td>\n",
       "      <td>39000</td>\n",
       "      <td>3900</td>\n",
       "      <td>35100</td>\n",
       "      <td>1</td>\n",
       "      <td>0</td>\n",
       "    </tr>\n",
       "    <tr>\n",
       "      <th>2</th>\n",
       "      <td>0</td>\n",
       "      <td>8</td>\n",
       "      <td>26</td>\n",
       "      <td>토</td>\n",
       "      <td>1810</td>\n",
       "      <td>본점</td>\n",
       "      <td>2116052008000</td>\n",
       "      <td>크리니크</td>\n",
       "      <td>수입종합화장품</td>\n",
       "      <td>화장품</td>\n",
       "      <td>잡화파트</td>\n",
       "      <td>잡화가용팀</td>\n",
       "      <td>화장품</td>\n",
       "      <td>1</td>\n",
       "      <td>175000</td>\n",
       "      <td>17500</td>\n",
       "      <td>157500</td>\n",
       "      <td>3</td>\n",
       "      <td>0</td>\n",
       "    </tr>\n",
       "    <tr>\n",
       "      <th>3</th>\n",
       "      <td>0</td>\n",
       "      <td>8</td>\n",
       "      <td>26</td>\n",
       "      <td>토</td>\n",
       "      <td>1830</td>\n",
       "      <td>본점</td>\n",
       "      <td>4106430119900</td>\n",
       "      <td>듀퐁</td>\n",
       "      <td>수입의류</td>\n",
       "      <td>명품토탈</td>\n",
       "      <td>잡화파트</td>\n",
       "      <td>잡화가용팀</td>\n",
       "      <td>수입명품</td>\n",
       "      <td>1</td>\n",
       "      <td>455000</td>\n",
       "      <td>45500</td>\n",
       "      <td>409500</td>\n",
       "      <td>3</td>\n",
       "      <td>0</td>\n",
       "    </tr>\n",
       "    <tr>\n",
       "      <th>4</th>\n",
       "      <td>0</td>\n",
       "      <td>9</td>\n",
       "      <td>3</td>\n",
       "      <td>일</td>\n",
       "      <td>1802</td>\n",
       "      <td>무역점</td>\n",
       "      <td>2139141008000</td>\n",
       "      <td>랑콤</td>\n",
       "      <td>수입종합화장품</td>\n",
       "      <td>화장품</td>\n",
       "      <td>명품잡화</td>\n",
       "      <td>잡화가용팀</td>\n",
       "      <td>화장품</td>\n",
       "      <td>0</td>\n",
       "      <td>100000</td>\n",
       "      <td>10000</td>\n",
       "      <td>90000</td>\n",
       "      <td>3</td>\n",
       "      <td>0</td>\n",
       "    </tr>\n",
       "  </tbody>\n",
       "</table>\n",
       "</div>"
      ],
      "text/plain": [
       "   custid  sales_month  sales_day sales_dayofweek  sales_time str_nm  \\\n",
       "0       0            6         25               일        1212    무역점   \n",
       "1       0            6         25               일        1242    무역점   \n",
       "2       0            8         26               토        1810     본점   \n",
       "3       0            8         26               토        1830     본점   \n",
       "4       0            9          3               일        1802    무역점   \n",
       "\n",
       "          goodcd brd_nm corner_nm pc_nm part_nm team_nm buyer_nm  import_flg  \\\n",
       "0  2116050008000  에스티로더   수입종합화장품   화장품    명품잡화   잡화가용팀      화장품           1   \n",
       "1  4125440008000    시슬리   수입종합화장품   화장품    명품잡화   잡화가용팀      화장품           1   \n",
       "2  2116052008000   크리니크   수입종합화장품   화장품    잡화파트   잡화가용팀      화장품           1   \n",
       "3  4106430119900     듀퐁      수입의류  명품토탈    잡화파트   잡화가용팀     수입명품           1   \n",
       "4  2139141008000     랑콤   수입종합화장품   화장품    명품잡화   잡화가용팀      화장품           0   \n",
       "\n",
       "   tot_amt  dis_amt  net_amt  inst_mon  inst_fee  \n",
       "0    90000     9000    81000         3         0  \n",
       "1    39000     3900    35100         1         0  \n",
       "2   175000    17500   157500         3         0  \n",
       "3   455000    45500   409500         3         0  \n",
       "4   100000    10000    90000         3         0  "
      ]
     },
     "execution_count": 3,
     "metadata": {},
     "output_type": "execute_result"
    }
   ],
   "source": [
    "df_train = pd.read_csv('X_train.csv', encoding='cp949')\n",
    "df_test = pd.read_csv('X_test.csv', encoding='cp949')\n",
    "y_train = pd.read_csv('y_train.csv').group\n",
    "IDtest = df_test.custid.unique()\n",
    "\n",
    "df_train.head()"
   ]
  },
  {
   "cell_type": "markdown",
   "metadata": {},
   "source": [
    "##### Transform Data with Item Frequency"
   ]
  },
  {
   "cell_type": "code",
   "execution_count": 4,
   "metadata": {},
   "outputs": [
    {
     "data": {
      "text/plain": [
       "308"
      ]
     },
     "execution_count": 4,
     "metadata": {},
     "output_type": "execute_result"
    }
   ],
   "source": [
    "level = 'corner_nm'\n",
    "df_train[level].nunique()"
   ]
  },
  {
   "cell_type": "code",
   "execution_count": 5,
   "metadata": {},
   "outputs": [],
   "source": [
    "df_all = pd.concat([df_train, df_test])\n",
    "X_train = pd.pivot_table(df_all, index='custid', columns=level, values='tot_amt',\n",
    "                         aggfunc=np.size, fill_value=0). \\\n",
    "                         reset_index(). \\\n",
    "                         query('custid not in @IDtest'). \\\n",
    "                         drop(columns=['custid']).values\n",
    "X_test = pd.pivot_table(df_all, index='custid', columns=level, values='tot_amt',\n",
    "                         aggfunc=np.size, fill_value=0). \\\n",
    "                         reset_index(). \\\n",
    "                         query('custid in @IDtest'). \\\n",
    "                         drop(columns=['custid']).values"
   ]
  },
  {
   "cell_type": "markdown",
   "metadata": {},
   "source": [
    "##### One-hot-encode Target variable "
   ]
  },
  {
   "cell_type": "code",
   "execution_count": 6,
   "metadata": {},
   "outputs": [],
   "source": [
    "# 8개의 범주형 타겟 값을 one-hot-encoding을 통해 8개의 컬럼으로 만들어야 함.\n",
    "y_train = keras.utils.to_categorical(y_train.astype('category').cat.codes)"
   ]
  },
  {
   "cell_type": "markdown",
   "metadata": {},
   "source": [
    "##### Split data into train & validation set "
   ]
  },
  {
   "cell_type": "code",
   "execution_count": 7,
   "metadata": {},
   "outputs": [],
   "source": [
    "i = int(round(X_train.shape[0] * 0.8,0))\n",
    "X_valid, y_valid = X_train[i:], y_train[i:]\n",
    "X_train, y_train = X_train[:i], y_train[:i]"
   ]
  },
  {
   "cell_type": "markdown",
   "metadata": {},
   "source": [
    "##### Feature scaling"
   ]
  },
  {
   "cell_type": "code",
   "execution_count": 8,
   "metadata": {},
   "outputs": [],
   "source": [
    "# DNN은 scale된 값을 입력값으로 사용해야 함.\n",
    "scaler = StandardScaler()\n",
    "X_train = scaler.fit_transform(X_train)\n",
    "X_valid = scaler.transform(X_valid)\n",
    "X_test = scaler.transform(X_test)"
   ]
  },
  {
   "cell_type": "markdown",
   "metadata": {},
   "source": [
    "### Step 2: Define the hyper-model"
   ]
  },
  {
   "cell_type": "code",
   "execution_count": 9,
   "metadata": {},
   "outputs": [],
   "source": [
    "def model_fn(hp):\n",
    "    inputs = keras.Input(shape=(X_train.shape[1],))\n",
    "    x = inputs\n",
    "    for i in range(hp.Int('num_layers', 2, 3)):\n",
    "        x = keras.layers.Dense(hp.Int('unit_'+str(i), 16, 64, step=16), activation='relu')(x)\n",
    "        x = keras.layers.Dropout(hp.Float('dropout_'+str(i), 0, 0.5, step=0.25, default=0.5))(x)\n",
    "    outputs = keras.layers.Dense(8, activation='softmax')(x) # 예측값이 8종류이므로 8개 출력 뉴런 필요\n",
    "    model = keras.Model(inputs, outputs)\n",
    "    model.compile(loss='categorical_crossentropy', # Multiclass Classification에서 사용하는 loss function\n",
    "                  optimizer=tf.keras.optimizers.Adam(hp.Choice('learning_rate', [1e-2, 1e-3, 1e-4])), \n",
    "                  metrics=[keras.metrics.CategoricalCrossentropy()]) # Multiclass Classification에서 사용하는 평가지표\n",
    "    return model"
   ]
  },
  {
   "cell_type": "markdown",
   "metadata": {},
   "source": [
    "### Step 3: Build multiple hyper-tuned models"
   ]
  },
  {
   "cell_type": "code",
   "execution_count": 10,
   "metadata": {},
   "outputs": [
    {
     "name": "stdout",
     "output_type": "stream",
     "text": [
      "Trial 60 Complete [00h 00m 07s]\n",
      "val_categorical_crossentropy: 1.775173544883728\n",
      "\n",
      "Best val_categorical_crossentropy So Far: 1.642884612083435\n",
      "Total elapsed time: 00h 13m 42s\n",
      "INFO:tensorflow:Oracle triggered exit\n",
      "Results summary\n",
      "Results in dnn_tuning/untitled_project\n",
      "Showing 1 best trials\n",
      "Objective(name='val_categorical_crossentropy', direction='min')\n",
      "Trial summary\n",
      "Hyperparameters:\n",
      "num_layers: 3\n",
      "unit_0: 48\n",
      "dropout_0: 0.25\n",
      "unit_1: 48\n",
      "dropout_1: 0.25\n",
      "learning_rate: 0.001\n",
      "unit_2: 48\n",
      "dropout_2: 0.25\n",
      "tuner/epochs: 10\n",
      "tuner/initial_epoch: 4\n",
      "tuner/bracket: 2\n",
      "tuner/round: 2\n",
      "tuner/trial_id: 6abada107017dc352f974d9f09f85fa9\n",
      "Score: 1.642884612083435\n"
     ]
    }
   ],
   "source": [
    "tuner = kt.Hyperband(model_fn,\n",
    "                     objective=kt.Objective('val_categorical_crossentropy', direction=\"min\"), \n",
    "                     max_epochs=10,\n",
    "                     hyperband_iterations=2,\n",
    "                     overwrite=True,\n",
    "                     directory='dnn_tuning')\n",
    "tuner.search(X_train, y_train, validation_data=(X_valid, y_valid), \n",
    "             callbacks=[tf.keras.callbacks.EarlyStopping(patience=1)])\n",
    "model = tuner.get_best_models(1)[0]  \n",
    "tuner.results_summary(1)"
   ]
  },
  {
   "cell_type": "markdown",
   "metadata": {},
   "source": [
    "### Step 4: Make submissions"
   ]
  },
  {
   "cell_type": "code",
   "execution_count": 11,
   "metadata": {},
   "outputs": [
    {
     "name": "stdout",
     "output_type": "stream",
     "text": [
      "'dnn_submission_06071334.csv' is ready to submit.\n"
     ]
    }
   ],
   "source": [
    "t = pd.Timestamp.now()\n",
    "fname = f\"dnn_submission_{t.month:02}{t.day:02}{t.hour:02}{t.minute:02}.csv\"\n",
    "pred = pd.DataFrame(model.predict(X_test))\n",
    "pred.columns = ['F20','F30','F40','F50','M20','M30','M40','M50']\n",
    "pd.concat([pd.Series(IDtest, name=\"ID\"), pred] ,axis=1).to_csv(fname, index=False)\n",
    "print(f\"'{fname}' is ready to submit.\")"
   ]
  },
  {
   "cell_type": "markdown",
   "metadata": {},
   "source": [
    "<font color=\"#CC3D3D\"><p>\n",
    "# End"
   ]
  }
 ],
 "metadata": {
  "kernelspec": {
   "display_name": "TensorFlow 2.8 on Python 3.8 (CUDA 11.2)",
   "language": "python",
   "name": "python3"
  },
  "language_info": {
   "codemirror_mode": {
    "name": "ipython",
    "version": 3
   },
   "file_extension": ".py",
   "mimetype": "text/x-python",
   "name": "python",
   "nbconvert_exporter": "python",
   "pygments_lexer": "ipython3",
   "version": "3.8.10"
  }
 },
 "nbformat": 4,
 "nbformat_minor": 4
}
